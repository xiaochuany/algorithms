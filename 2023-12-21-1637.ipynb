{
 "cells": [
  {
   "cell_type": "code",
   "execution_count": null,
   "id": "7ea1efda-289b-4d8c-8838-8f19718b99db",
   "metadata": {},
   "outputs": [],
   "source": [
    "from typing import List\n",
    "from collections import Counter"
   ]
  },
  {
   "cell_type": "code",
   "execution_count": null,
   "id": "ce6515cf-ea0e-41b9-a426-ba228639e6a2",
   "metadata": {},
   "outputs": [],
   "source": [
    "def maxWidthOfVerticalArea(points: List[List[int]]) -> int:\n",
    "        xs = [p[0] for p in points]\n",
    "        ks = [k for k in Counter(xs)]\n",
    "        ks.sort()\n",
    "        m = 0\n",
    "        for i,k in enumerate(ks[:-1]):\n",
    "            if (diff:= ks[i+1]-k) > m : m = diff\n",
    "        return m"
   ]
  },
  {
   "cell_type": "code",
   "execution_count": null,
   "id": "5703381c-69cf-457e-83c9-da8b76be6ad6",
   "metadata": {},
   "outputs": [],
   "source": [
    "def test_max_width():\n",
    "    assert maxWidthOfVerticalArea([[1,2],[1,1], [1,3]])==0\n",
    "    assert maxWidthOfVerticalArea([[3,1],[9,0],[1,0],[1,4],[5,3],[8,8]])==3"
   ]
  },
  {
   "cell_type": "code",
   "execution_count": null,
   "id": "7332ca4d-3937-4a41-bfc0-7f4aa76f4674",
   "metadata": {},
   "outputs": [],
   "source": [
    "test_max_width()"
   ]
  },
  {
   "cell_type": "code",
   "execution_count": null,
   "id": "4c212cde-1bb3-4e17-8a45-d45582c5212c",
   "metadata": {},
   "outputs": [],
   "source": []
  }
 ],
 "metadata": {
  "kernelspec": {
   "display_name": "python3",
   "language": "python",
   "name": "python3"
  }
 },
 "nbformat": 4,
 "nbformat_minor": 5
}
