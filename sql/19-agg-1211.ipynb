{
 "cells": [
  {
   "cell_type": "code",
   "execution_count": null,
   "id": "be2a43ad-50fd-48e2-87e2-0c6304e64219",
   "metadata": {},
   "outputs": [],
   "source": [
    "%load tutorial.db [rw]"
   ]
  },
  {
   "cell_type": "code",
   "execution_count": null,
   "id": "8041c5c8-b2be-4aef-a766-4b124c646eea",
   "metadata": {},
   "outputs": [],
   "source": [
    "Create table If Not Exists Queries (query_name varchar(30), result varchar(50), position int, rating int)"
   ]
  },
  {
   "cell_type": "code",
   "execution_count": null,
   "id": "2663d6b6-ca81-4279-b0e9-d661ecc7276f",
   "metadata": {},
   "outputs": [],
   "source": [
    "insert into Queries (query_name, result, position, rating) values ('Dog', 'Golden Retriever', '1', '5')"
   ]
  },
  {
   "cell_type": "code",
   "execution_count": null,
   "id": "8e5ca591-6e16-4d1a-bd99-129436ec9d81",
   "metadata": {},
   "outputs": [],
   "source": [
    "insert into Queries (query_name, result, position, rating) values ('Dog', 'German Shepherd', '2', '5')"
   ]
  },
  {
   "cell_type": "code",
   "execution_count": null,
   "id": "e91f4b23-5cfb-47e2-a982-8789eb66f2ef",
   "metadata": {},
   "outputs": [],
   "source": [
    "insert into Queries (query_name, result, position, rating) values ('Dog', 'Mule', '200', '1')"
   ]
  },
  {
   "cell_type": "code",
   "execution_count": null,
   "id": "977aaee9-aed7-4bc2-8e68-874bf2c6caa5",
   "metadata": {},
   "outputs": [],
   "source": [
    "insert into Queries (query_name, result, position, rating) values ('Cat', 'Shirazi', '5', '2')"
   ]
  },
  {
   "cell_type": "code",
   "execution_count": null,
   "id": "fc4d6ecf-ec9e-423a-9c56-7ec3dc4015c3",
   "metadata": {},
   "outputs": [],
   "source": [
    "insert into Queries (query_name, result, position, rating) values ('Cat', 'Siamese', '3', '3')"
   ]
  },
  {
   "cell_type": "code",
   "execution_count": null,
   "id": "277973f6-b062-41ff-bdd3-e929e8b05bba",
   "metadata": {},
   "outputs": [],
   "source": [
    "insert into Queries (query_name, result, position, rating) values ('Cat', 'Sphynx', '7', '4')"
   ]
  },
  {
   "cell_type": "code",
   "execution_count": null,
   "id": "1233a109-3dfa-4ad3-9ce8-c9ea2a56df10",
   "metadata": {},
   "outputs": [
    {
     "data": {
      "text/html": [
       "<table>\n",
       "<tr>\n",
       "<th>query_name</th>\n",
       "<th>result</th>\n",
       "<th>position</th>\n",
       "<th>rating</th>\n",
       "</tr>\n",
       "<tr>\n",
       "<td>Dog</td>\n",
       "<td>Golden Retriever</td>\n",
       "<td>1</td>\n",
       "<td>5</td>\n",
       "</tr>\n",
       "<tr>\n",
       "<td>Dog</td>\n",
       "<td>German Shepherd</td>\n",
       "<td>2</td>\n",
       "<td>5</td>\n",
       "</tr>\n",
       "<tr>\n",
       "<td>Dog</td>\n",
       "<td>Mule</td>\n",
       "<td>200</td>\n",
       "<td>1</td>\n",
       "</tr>\n",
       "<tr>\n",
       "<td>Cat</td>\n",
       "<td>Shirazi</td>\n",
       "<td>5</td>\n",
       "<td>2</td>\n",
       "</tr>\n",
       "<tr>\n",
       "<td>Cat</td>\n",
       "<td>Siamese</td>\n",
       "<td>3</td>\n",
       "<td>3</td>\n",
       "</tr>\n",
       "<tr>\n",
       "<td>Cat</td>\n",
       "<td>Sphynx</td>\n",
       "<td>7</td>\n",
       "<td>4</td>\n",
       "</tr>\n",
       "</table>"
      ],
      "text/plain": [
       "+------------+------------------+----------+--------+\n",
       "| query_name | result           | position | rating |\n",
       "+------------+------------------+----------+--------+\n",
       "| Dog        | Golden Retriever | 1        | 5      |\n",
       "+------------+------------------+----------+--------+\n",
       "| Dog        | German Shepherd  | 2        | 5      |\n",
       "+------------+------------------+----------+--------+\n",
       "| Dog        | Mule             | 200      | 1      |\n",
       "+------------+------------------+----------+--------+\n",
       "| Cat        | Shirazi          | 5        | 2      |\n",
       "+------------+------------------+----------+--------+\n",
       "| Cat        | Siamese          | 3        | 3      |\n",
       "+------------+------------------+----------+--------+\n",
       "| Cat        | Sphynx           | 7        | 4      |\n",
       "+------------+------------------+----------+--------+"
      ]
     },
     "execution_count": null,
     "metadata": {},
     "output_type": "execute_result"
    }
   ],
   "source": [
    "select * from queries"
   ]
  },
  {
   "cell_type": "markdown",
   "id": "4bc6948c-03a5-4f56-9cc8-2393ad2b5b51",
   "metadata": {},
   "source": [
    "## Write a solution to find each query_name, the quality and poor_query_percentage\n",
    "\n",
    "`quality`: average ratio rating/position  \n",
    "`poor_query_percentage`: % of those rating less than 3"
   ]
  },
  {
   "cell_type": "code",
   "execution_count": null,
   "id": "25c23edd-7066-4edf-ac8f-701f1131d0e0",
   "metadata": {},
   "outputs": [
    {
     "data": {
      "text/html": [
       "<table>\n",
       "<tr>\n",
       "<th>query_name</th>\n",
       "<th>quality</th>\n",
       "<th>poor_query_percentage</th>\n",
       "</tr>\n",
       "<tr>\n",
       "<td>Dog</td>\n",
       "<td>5.0</td>\n",
       "<td>0</td>\n",
       "</tr>\n",
       "<tr>\n",
       "<td>Dog</td>\n",
       "<td>2.5</td>\n",
       "<td>0</td>\n",
       "</tr>\n",
       "<tr>\n",
       "<td>Dog</td>\n",
       "<td>0.005</td>\n",
       "<td>1</td>\n",
       "</tr>\n",
       "<tr>\n",
       "<td>Cat</td>\n",
       "<td>0.4</td>\n",
       "<td>1</td>\n",
       "</tr>\n",
       "<tr>\n",
       "<td>Cat</td>\n",
       "<td>1.0</td>\n",
       "<td>0</td>\n",
       "</tr>\n",
       "<tr>\n",
       "<td>Cat</td>\n",
       "<td>0.571428571428571</td>\n",
       "<td>0</td>\n",
       "</tr>\n",
       "</table>"
      ],
      "text/plain": [
       "+------------+-------------------+-----------------------+\n",
       "| query_name | quality           | poor_query_percentage |\n",
       "+------------+-------------------+-----------------------+\n",
       "| Dog        | 5.0               | 0                     |\n",
       "+------------+-------------------+-----------------------+\n",
       "| Dog        | 2.5               | 0                     |\n",
       "+------------+-------------------+-----------------------+\n",
       "| Dog        | 0.005             | 1                     |\n",
       "+------------+-------------------+-----------------------+\n",
       "| Cat        | 0.4               | 1                     |\n",
       "+------------+-------------------+-----------------------+\n",
       "| Cat        | 1.0               | 0                     |\n",
       "+------------+-------------------+-----------------------+\n",
       "| Cat        | 0.571428571428571 | 0                     |\n",
       "+------------+-------------------+-----------------------+"
      ]
     },
     "execution_count": null,
     "metadata": {},
     "output_type": "execute_result"
    }
   ],
   "source": [
    "select query_name, 1.0*rating/position quality, rating<3 poor_query_percentage\n",
    "from queries "
   ]
  },
  {
   "cell_type": "code",
   "execution_count": null,
   "id": "dd704bc5-9be7-4c36-bcfa-c9b5d91cc9d4",
   "metadata": {},
   "outputs": [
    {
     "data": {
      "text/html": [
       "<table>\n",
       "<tr>\n",
       "<th>query_name</th>\n",
       "<th>quality</th>\n",
       "<th>poor_query_percentage</th>\n",
       "</tr>\n",
       "<tr>\n",
       "<td>Cat</td>\n",
       "<td>0.66</td>\n",
       "<td>33.33</td>\n",
       "</tr>\n",
       "<tr>\n",
       "<td>Dog</td>\n",
       "<td>2.5</td>\n",
       "<td>33.33</td>\n",
       "</tr>\n",
       "</table>"
      ],
      "text/plain": [
       "+------------+---------+-----------------------+\n",
       "| query_name | quality | poor_query_percentage |\n",
       "+------------+---------+-----------------------+\n",
       "| Cat        | 0.66    | 33.33                 |\n",
       "+------------+---------+-----------------------+\n",
       "| Dog        | 2.5     | 33.33                 |\n",
       "+------------+---------+-----------------------+"
      ]
     },
     "execution_count": null,
     "metadata": {},
     "output_type": "execute_result"
    }
   ],
   "source": [
    "select query_name, round(avg(1.0*rating/position),2) quality, round(avg(rating<3)*100,2) poor_query_percentage\n",
    "from queries \n",
    "group by query_name"
   ]
  },
  {
   "cell_type": "code",
   "execution_count": null,
   "id": "b0bbe0d1-d43d-4b3d-afc7-fcd75e8f191d",
   "metadata": {},
   "outputs": [],
   "source": []
  }
 ],
 "metadata": {
  "kernelspec": {
   "display_name": "xsqlite",
   "language": "sqlite",
   "name": "xsqlite"
  }
 },
 "nbformat": 4,
 "nbformat_minor": 5
}
