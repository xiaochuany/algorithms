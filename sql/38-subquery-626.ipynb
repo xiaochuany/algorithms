{
 "cells": [
  {
   "cell_type": "code",
   "execution_count": null,
   "id": "5e4e51c5-a8d3-451e-b354-9e24d95b1ae4",
   "metadata": {},
   "outputs": [],
   "source": [
    "%load tutorial.db [rw]"
   ]
  },
  {
   "cell_type": "code",
   "execution_count": null,
   "id": "2621653b-6d56-4391-82c9-deb2d57deda7",
   "metadata": {},
   "outputs": [],
   "source": [
    "Create table If Not Exists Seat (id int, student varchar(255))"
   ]
  },
  {
   "cell_type": "code",
   "execution_count": null,
   "id": "0d8e5ae5-856f-4c68-b1bf-73cc85fd9fee",
   "metadata": {},
   "outputs": [],
   "source": [
    "insert into Seat (id, student) values ('1', 'Abbot')"
   ]
  },
  {
   "cell_type": "code",
   "execution_count": null,
   "id": "ceaa6004-53cd-48ab-9c74-0bbfb209fa22",
   "metadata": {},
   "outputs": [],
   "source": [
    "insert into Seat (id, student) values ('2', 'Doris')"
   ]
  },
  {
   "cell_type": "code",
   "execution_count": null,
   "id": "205ead11-cb6a-4b68-9c51-621c112a2335",
   "metadata": {},
   "outputs": [],
   "source": [
    "insert into Seat (id, student) values ('3', 'Emerson')"
   ]
  },
  {
   "cell_type": "code",
   "execution_count": null,
   "id": "4059d88e-e04f-4755-98f3-e01b17425f92",
   "metadata": {},
   "outputs": [],
   "source": [
    "insert into Seat (id, student) values ('4', 'Green')"
   ]
  },
  {
   "cell_type": "code",
   "execution_count": null,
   "id": "f47fa623-5420-4fd2-896d-4fc751a5db98",
   "metadata": {},
   "outputs": [],
   "source": [
    "insert into Seat (id, student) values ('5', 'Jeames')"
   ]
  },
  {
   "cell_type": "code",
   "execution_count": null,
   "id": "350d6402-67c2-4c7f-bb6b-f6e4fea3814a",
   "metadata": {},
   "outputs": [
    {
     "data": {
      "text/html": [
       "<table>\n",
       "<tr>\n",
       "<th>id</th>\n",
       "<th>student</th>\n",
       "</tr>\n",
       "<tr>\n",
       "<td>1</td>\n",
       "<td>Abbot</td>\n",
       "</tr>\n",
       "<tr>\n",
       "<td>2</td>\n",
       "<td>Doris</td>\n",
       "</tr>\n",
       "<tr>\n",
       "<td>3</td>\n",
       "<td>Emerson</td>\n",
       "</tr>\n",
       "<tr>\n",
       "<td>4</td>\n",
       "<td>Green</td>\n",
       "</tr>\n",
       "<tr>\n",
       "<td>5</td>\n",
       "<td>Jeames</td>\n",
       "</tr>\n",
       "</table>"
      ],
      "text/plain": [
       "+----+---------+\n",
       "| id | student |\n",
       "+----+---------+\n",
       "| 1  | Abbot   |\n",
       "+----+---------+\n",
       "| 2  | Doris   |\n",
       "+----+---------+\n",
       "| 3  | Emerson |\n",
       "+----+---------+\n",
       "| 4  | Green   |\n",
       "+----+---------+\n",
       "| 5  | Jeames  |\n",
       "+----+---------+"
      ]
     },
     "execution_count": null,
     "metadata": {},
     "output_type": "execute_result"
    }
   ],
   "source": [
    "select * from seat"
   ]
  },
  {
   "cell_type": "markdown",
   "id": "d81926b6-1ecb-4baa-bd72-4f9da1c82331",
   "metadata": {},
   "source": [
    "## Write a solution to swap the seat id of every two consecutive students. If the number of students is odd, the id of the last student is not swapped."
   ]
  },
  {
   "cell_type": "code",
   "execution_count": null,
   "id": "918fb0d4-1f4b-4978-bb52-56de25d1510d",
   "metadata": {},
   "outputs": [
    {
     "data": {
      "text/html": [
       "<table>\n",
       "<tr>\n",
       "<th>(case when id%2=0 then id-1 else id+1 end)</th>\n",
       "<th>student</th>\n",
       "</tr>\n",
       "<tr>\n",
       "<td>2</td>\n",
       "<td>Abbot</td>\n",
       "</tr>\n",
       "<tr>\n",
       "<td>1</td>\n",
       "<td>Doris</td>\n",
       "</tr>\n",
       "<tr>\n",
       "<td>4</td>\n",
       "<td>Emerson</td>\n",
       "</tr>\n",
       "<tr>\n",
       "<td>3</td>\n",
       "<td>Green</td>\n",
       "</tr>\n",
       "<tr>\n",
       "<td>6</td>\n",
       "<td>Jeames</td>\n",
       "</tr>\n",
       "</table>"
      ],
      "text/plain": [
       "+--------------------------------------------+---------+\n",
       "| (case when id%2=0 then id-1 else id+1 end) | student |\n",
       "+--------------------------------------------+---------+\n",
       "| 2                                          | Abbot   |\n",
       "+--------------------------------------------+---------+\n",
       "| 1                                          | Doris   |\n",
       "+--------------------------------------------+---------+\n",
       "| 4                                          | Emerson |\n",
       "+--------------------------------------------+---------+\n",
       "| 3                                          | Green   |\n",
       "+--------------------------------------------+---------+\n",
       "| 6                                          | Jeames  |\n",
       "+--------------------------------------------+---------+"
      ]
     },
     "execution_count": null,
     "metadata": {},
     "output_type": "execute_result"
    }
   ],
   "source": [
    "select (case when id%2=0 then id-1 else id+1 end), student from seat"
   ]
  },
  {
   "cell_type": "code",
   "execution_count": null,
   "id": "c211863c-9f9a-4622-8d57-f58ffe9b3825",
   "metadata": {},
   "outputs": [
    {
     "data": {
      "text/html": [
       "<table>\n",
       "<tr>\n",
       "<th>(case when id%2=0 then id-1 else id+1 end)</th>\n",
       "<th>student</th>\n",
       "</tr>\n",
       "<tr>\n",
       "<td>2</td>\n",
       "<td>Abbot</td>\n",
       "</tr>\n",
       "<tr>\n",
       "<td>1</td>\n",
       "<td>Doris</td>\n",
       "</tr>\n",
       "<tr>\n",
       "<td>4</td>\n",
       "<td>Emerson</td>\n",
       "</tr>\n",
       "<tr>\n",
       "<td>3</td>\n",
       "<td>Green</td>\n",
       "</tr>\n",
       "</table>"
      ],
      "text/plain": [
       "+--------------------------------------------+---------+\n",
       "| (case when id%2=0 then id-1 else id+1 end) | student |\n",
       "+--------------------------------------------+---------+\n",
       "| 2                                          | Abbot   |\n",
       "+--------------------------------------------+---------+\n",
       "| 1                                          | Doris   |\n",
       "+--------------------------------------------+---------+\n",
       "| 4                                          | Emerson |\n",
       "+--------------------------------------------+---------+\n",
       "| 3                                          | Green   |\n",
       "+--------------------------------------------+---------+"
      ]
     },
     "execution_count": null,
     "metadata": {},
     "output_type": "execute_result"
    }
   ],
   "source": [
    "select (case when id%2=0 then id-1 else id+1 end), student from seat where id<=4"
   ]
  },
  {
   "cell_type": "code",
   "execution_count": null,
   "id": "3be85741-bf2d-42e3-9b8a-4cc12e09f0c9",
   "metadata": {},
   "outputs": [
    {
     "data": {
      "text/html": [
       "<table>\n",
       "<tr>\n",
       "<th>(count(*)/2)*2</th>\n",
       "</tr>\n",
       "<tr>\n",
       "<td>4</td>\n",
       "</tr>\n",
       "</table>"
      ],
      "text/plain": [
       "+----------------+\n",
       "| (count(*)/2)*2 |\n",
       "+----------------+\n",
       "| 4              |\n",
       "+----------------+"
      ]
     },
     "execution_count": null,
     "metadata": {},
     "output_type": "execute_result"
    }
   ],
   "source": [
    "select (count(*)/2)*2 from seat"
   ]
  },
  {
   "cell_type": "code",
   "execution_count": null,
   "id": "fa281416-7f78-4ef2-a8e3-6f94196e8f59",
   "metadata": {},
   "outputs": [
    {
     "data": {
      "text/html": [
       "<table>\n",
       "<tr>\n",
       "<th>(case when id%2=0 then id-1 else id+1 end)</th>\n",
       "<th>student</th>\n",
       "</tr>\n",
       "<tr>\n",
       "<td>2</td>\n",
       "<td>Abbot</td>\n",
       "</tr>\n",
       "<tr>\n",
       "<td>1</td>\n",
       "<td>Doris</td>\n",
       "</tr>\n",
       "<tr>\n",
       "<td>4</td>\n",
       "<td>Emerson</td>\n",
       "</tr>\n",
       "<tr>\n",
       "<td>3</td>\n",
       "<td>Green</td>\n",
       "</tr>\n",
       "</table>"
      ],
      "text/plain": [
       "+--------------------------------------------+---------+\n",
       "| (case when id%2=0 then id-1 else id+1 end) | student |\n",
       "+--------------------------------------------+---------+\n",
       "| 2                                          | Abbot   |\n",
       "+--------------------------------------------+---------+\n",
       "| 1                                          | Doris   |\n",
       "+--------------------------------------------+---------+\n",
       "| 4                                          | Emerson |\n",
       "+--------------------------------------------+---------+\n",
       "| 3                                          | Green   |\n",
       "+--------------------------------------------+---------+"
      ]
     },
     "execution_count": null,
     "metadata": {},
     "output_type": "execute_result"
    }
   ],
   "source": [
    "select (case when id%2=0 then id-1 else id+1 end), student from seat where id<= (select (count(*)/2)*2 from seat)"
   ]
  },
  {
   "cell_type": "code",
   "execution_count": null,
   "id": "91928574-339f-4e82-9cc3-6aa78a6a4e22",
   "metadata": {},
   "outputs": [
    {
     "data": {
      "text/html": [
       "<table>\n",
       "<tr>\n",
       "<th>id</th>\n",
       "<th>student</th>\n",
       "</tr>\n",
       "<tr>\n",
       "<td>5</td>\n",
       "<td>Jeames</td>\n",
       "</tr>\n",
       "</table>"
      ],
      "text/plain": [
       "+----+---------+\n",
       "| id | student |\n",
       "+----+---------+\n",
       "| 5  | Jeames  |\n",
       "+----+---------+"
      ]
     },
     "execution_count": null,
     "metadata": {},
     "output_type": "execute_result"
    }
   ],
   "source": [
    "select * from seat where id> (select (count(*)/2)*2 from seat)"
   ]
  },
  {
   "cell_type": "code",
   "execution_count": null,
   "id": "f774535a-d55f-4d0a-b0d1-1bd65bc9b961",
   "metadata": {},
   "outputs": [
    {
     "data": {
      "text/html": [
       "<table>\n",
       "<tr>\n",
       "<th>(case when id%2=0 then id-1 else id+1 end)</th>\n",
       "<th>student</th>\n",
       "</tr>\n",
       "<tr>\n",
       "<td>1</td>\n",
       "<td>Doris</td>\n",
       "</tr>\n",
       "<tr>\n",
       "<td>2</td>\n",
       "<td>Abbot</td>\n",
       "</tr>\n",
       "<tr>\n",
       "<td>3</td>\n",
       "<td>Green</td>\n",
       "</tr>\n",
       "<tr>\n",
       "<td>4</td>\n",
       "<td>Emerson</td>\n",
       "</tr>\n",
       "<tr>\n",
       "<td>5</td>\n",
       "<td>Jeames</td>\n",
       "</tr>\n",
       "</table>"
      ],
      "text/plain": [
       "+--------------------------------------------+---------+\n",
       "| (case when id%2=0 then id-1 else id+1 end) | student |\n",
       "+--------------------------------------------+---------+\n",
       "| 1                                          | Doris   |\n",
       "+--------------------------------------------+---------+\n",
       "| 2                                          | Abbot   |\n",
       "+--------------------------------------------+---------+\n",
       "| 3                                          | Green   |\n",
       "+--------------------------------------------+---------+\n",
       "| 4                                          | Emerson |\n",
       "+--------------------------------------------+---------+\n",
       "| 5                                          | Jeames  |\n",
       "+--------------------------------------------+---------+"
      ]
     },
     "execution_count": null,
     "metadata": {},
     "output_type": "execute_result"
    }
   ],
   "source": [
    "select (case when id%2=0 then id-1 else id+1 end), student from seat where id<= (select (count(*)/2)*2 from seat)\n",
    "union\n",
    "select * from seat where id> (select (count(*)/2)*2 from seat)"
   ]
  },
  {
   "cell_type": "code",
   "execution_count": null,
   "id": "7036a4bd-aa60-4281-a9bd-83e06a9e1f0e",
   "metadata": {},
   "outputs": [],
   "source": []
  }
 ],
 "metadata": {
  "kernelspec": {
   "display_name": "xsqlite",
   "language": "sqlite",
   "name": "xsqlite"
  }
 },
 "nbformat": 4,
 "nbformat_minor": 5
}
