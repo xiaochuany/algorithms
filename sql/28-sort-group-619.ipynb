{
 "cells": [
  {
   "cell_type": "code",
   "execution_count": null,
   "id": "33677900-49ec-43f6-bc2f-7f29dea5a724",
   "metadata": {},
   "outputs": [],
   "source": [
    "%load tutorial.db [rw]"
   ]
  },
  {
   "cell_type": "code",
   "execution_count": null,
   "id": "c6db92f6-3d60-40f6-a383-f6789a30f283",
   "metadata": {},
   "outputs": [],
   "source": [
    "Create table If Not Exists MyNumbers (num int)"
   ]
  },
  {
   "cell_type": "code",
   "execution_count": null,
   "id": "c6a0201b-3173-450e-b518-ed68c0d92e66",
   "metadata": {},
   "outputs": [],
   "source": [
    "insert into MyNumbers (num) values ('8')"
   ]
  },
  {
   "cell_type": "code",
   "execution_count": null,
   "id": "48d626d0-b1a1-4425-b0f7-d9ff39fe33d6",
   "metadata": {},
   "outputs": [],
   "source": [
    "insert into MyNumbers (num) values ('8')"
   ]
  },
  {
   "cell_type": "code",
   "execution_count": null,
   "id": "6888d618-9e71-49aa-bb4b-bfe42d623cc9",
   "metadata": {},
   "outputs": [],
   "source": [
    "insert into MyNumbers (num) values ('3')"
   ]
  },
  {
   "cell_type": "code",
   "execution_count": null,
   "id": "72f53f89-0e4a-4c04-911e-3b54e867ee8b",
   "metadata": {},
   "outputs": [],
   "source": [
    "insert into MyNumbers (num) values ('3')"
   ]
  },
  {
   "cell_type": "code",
   "execution_count": null,
   "id": "3f98ac5e-7326-46b5-937c-89c9ea1556d9",
   "metadata": {},
   "outputs": [],
   "source": [
    "insert into MyNumbers (num) values ('1')"
   ]
  },
  {
   "cell_type": "code",
   "execution_count": null,
   "id": "23cdd0f9-bcd9-4032-a61c-dd1ccad29253",
   "metadata": {},
   "outputs": [],
   "source": [
    "insert into MyNumbers (num) values ('4')"
   ]
  },
  {
   "cell_type": "code",
   "execution_count": null,
   "id": "ed17e38d-a5a5-49d4-9a3a-f86f1fdd4138",
   "metadata": {},
   "outputs": [],
   "source": [
    "insert into MyNumbers (num) values ('5')"
   ]
  },
  {
   "cell_type": "code",
   "execution_count": null,
   "id": "3ad8db91-676d-4019-a25e-3920e0fa5925",
   "metadata": {},
   "outputs": [],
   "source": [
    "insert into MyNumbers (num) values ('6')"
   ]
  },
  {
   "cell_type": "code",
   "execution_count": null,
   "id": "8f428ce7-d07e-4fc9-b061-7b7cb1478d52",
   "metadata": {},
   "outputs": [
    {
     "data": {
      "text/html": [
       "<table>\n",
       "<tr>\n",
       "<th>num</th>\n",
       "</tr>\n",
       "<tr>\n",
       "<td>8</td>\n",
       "</tr>\n",
       "<tr>\n",
       "<td>8</td>\n",
       "</tr>\n",
       "<tr>\n",
       "<td>3</td>\n",
       "</tr>\n",
       "<tr>\n",
       "<td>3</td>\n",
       "</tr>\n",
       "<tr>\n",
       "<td>1</td>\n",
       "</tr>\n",
       "<tr>\n",
       "<td>4</td>\n",
       "</tr>\n",
       "<tr>\n",
       "<td>5</td>\n",
       "</tr>\n",
       "<tr>\n",
       "<td>6</td>\n",
       "</tr>\n",
       "</table>"
      ],
      "text/plain": [
       "+-----+\n",
       "| num |\n",
       "+-----+\n",
       "| 8   |\n",
       "+-----+\n",
       "| 8   |\n",
       "+-----+\n",
       "| 3   |\n",
       "+-----+\n",
       "| 3   |\n",
       "+-----+\n",
       "| 1   |\n",
       "+-----+\n",
       "| 4   |\n",
       "+-----+\n",
       "| 5   |\n",
       "+-----+\n",
       "| 6   |\n",
       "+-----+"
      ]
     },
     "execution_count": null,
     "metadata": {},
     "output_type": "execute_result"
    }
   ],
   "source": [
    "select * from mynumbers"
   ]
  },
  {
   "cell_type": "markdown",
   "id": "a2948d49-4dff-4750-9116-cf1308eb0fe1",
   "metadata": {},
   "source": [
    "## A single number is a number that appeared only once in the MyNumbers table.\r\n",
    "\r\n",
    "Find the largest single number. If there is no single number, report null."
   ]
  },
  {
   "cell_type": "code",
   "execution_count": null,
   "id": "817ec1a2-ef83-416b-a4f1-7e325bbaf64d",
   "metadata": {},
   "outputs": [
    {
     "data": {
      "text/html": [
       "<table>\n",
       "<tr>\n",
       "<th>num</th>\n",
       "<th>n</th>\n",
       "</tr>\n",
       "<tr>\n",
       "<td>1</td>\n",
       "<td>1</td>\n",
       "</tr>\n",
       "<tr>\n",
       "<td>3</td>\n",
       "<td>2</td>\n",
       "</tr>\n",
       "<tr>\n",
       "<td>4</td>\n",
       "<td>1</td>\n",
       "</tr>\n",
       "<tr>\n",
       "<td>5</td>\n",
       "<td>1</td>\n",
       "</tr>\n",
       "<tr>\n",
       "<td>6</td>\n",
       "<td>1</td>\n",
       "</tr>\n",
       "<tr>\n",
       "<td>8</td>\n",
       "<td>2</td>\n",
       "</tr>\n",
       "</table>"
      ],
      "text/plain": [
       "+-----+---+\n",
       "| num | n |\n",
       "+-----+---+\n",
       "| 1   | 1 |\n",
       "+-----+---+\n",
       "| 3   | 2 |\n",
       "+-----+---+\n",
       "| 4   | 1 |\n",
       "+-----+---+\n",
       "| 5   | 1 |\n",
       "+-----+---+\n",
       "| 6   | 1 |\n",
       "+-----+---+\n",
       "| 8   | 2 |\n",
       "+-----+---+"
      ]
     },
     "execution_count": null,
     "metadata": {},
     "output_type": "execute_result"
    }
   ],
   "source": [
    "select num, count(num) n from mynumbers group by num "
   ]
  },
  {
   "cell_type": "code",
   "execution_count": null,
   "id": "d27c8af1-b94b-4d18-a274-db636fcc52c9",
   "metadata": {},
   "outputs": [
    {
     "data": {
      "text/html": [
       "<table>\n",
       "<tr>\n",
       "<th>num</th>\n",
       "</tr>\n",
       "<tr>\n",
       "<td>1</td>\n",
       "</tr>\n",
       "<tr>\n",
       "<td>4</td>\n",
       "</tr>\n",
       "<tr>\n",
       "<td>5</td>\n",
       "</tr>\n",
       "<tr>\n",
       "<td>6</td>\n",
       "</tr>\n",
       "</table>"
      ],
      "text/plain": [
       "+-----+\n",
       "| num |\n",
       "+-----+\n",
       "| 1   |\n",
       "+-----+\n",
       "| 4   |\n",
       "+-----+\n",
       "| 5   |\n",
       "+-----+\n",
       "| 6   |\n",
       "+-----+"
      ]
     },
     "execution_count": null,
     "metadata": {},
     "output_type": "execute_result"
    }
   ],
   "source": [
    "select num from (select num, count(num) n from mynumbers group by num ) where n=1"
   ]
  },
  {
   "cell_type": "code",
   "execution_count": null,
   "id": "e0f39b2a-a6a8-49ae-a9cc-978513def77f",
   "metadata": {},
   "outputs": [
    {
     "data": {
      "text/html": [
       "<table>\n",
       "<tr>\n",
       "<th>max(num)</th>\n",
       "</tr>\n",
       "<tr>\n",
       "<td></td>\n",
       "</tr>\n",
       "</table>"
      ],
      "text/plain": [
       "+----------+\n",
       "| max(num) |\n",
       "+----------+\n",
       "\n",
       "+----------+"
      ]
     },
     "execution_count": null,
     "metadata": {},
     "output_type": "execute_result"
    }
   ],
   "source": [
    "select max(num) from (select num, count(num) n from mynumbers group by num ) where n=3"
   ]
  },
  {
   "cell_type": "code",
   "execution_count": null,
   "id": "293a2546-eb40-46e7-ae2b-a4cf19d7bae2",
   "metadata": {},
   "outputs": [
    {
     "data": {
      "text/html": [
       "<table>\n",
       "<tr>\n",
       "<th>max(num)</th>\n",
       "</tr>\n",
       "<tr>\n",
       "<td>6</td>\n",
       "</tr>\n",
       "</table>"
      ],
      "text/plain": [
       "+----------+\n",
       "| max(num) |\n",
       "+----------+\n",
       "| 6        |\n",
       "+----------+"
      ]
     },
     "execution_count": null,
     "metadata": {},
     "output_type": "execute_result"
    }
   ],
   "source": [
    "select max(num) from (select num, count(num) n from mynumbers group by num ) where n=1"
   ]
  },
  {
   "cell_type": "code",
   "execution_count": null,
   "id": "8176dd7d-0b56-4c7a-8a48-09ee93d47efb",
   "metadata": {},
   "outputs": [],
   "source": []
  }
 ],
 "metadata": {
  "kernelspec": {
   "display_name": "xsqlite",
   "language": "sqlite",
   "name": "xsqlite"
  }
 },
 "nbformat": 4,
 "nbformat_minor": 5
}
