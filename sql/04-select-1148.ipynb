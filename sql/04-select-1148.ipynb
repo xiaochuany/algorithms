{
 "cells": [
  {
   "cell_type": "code",
   "execution_count": 1,
   "id": "e32cde42-cac3-4e4c-add4-48b691a67c9c",
   "metadata": {},
   "outputs": [],
   "source": [
    "%load tutorial.db [rw]"
   ]
  },
  {
   "cell_type": "code",
   "execution_count": 2,
   "id": "209b2308-9e00-478f-bcf7-4853d24240df",
   "metadata": {},
   "outputs": [],
   "source": [
    "Create table If Not Exists Views (article_id int, author_id int, viewer_id int, view_date date)"
   ]
  },
  {
   "cell_type": "code",
   "execution_count": 3,
   "id": "8d97731f-5b05-4f23-b68c-fe84bbd5f107",
   "metadata": {},
   "outputs": [],
   "source": [
    "insert into Views (article_id, author_id, viewer_id, view_date) values ('1', '3', '5', '2019-08-01')"
   ]
  },
  {
   "cell_type": "code",
   "execution_count": 4,
   "id": "0c6bfb66-baaf-4a19-83e8-f9627a3045c2",
   "metadata": {},
   "outputs": [],
   "source": [
    "insert into Views (article_id, author_id, viewer_id, view_date) values ('1', '3', '6', '2019-08-02')"
   ]
  },
  {
   "cell_type": "code",
   "execution_count": 5,
   "id": "d81d6006-ef9f-4aae-8a1b-b3c043943262",
   "metadata": {},
   "outputs": [],
   "source": [
    "insert into Views (article_id, author_id, viewer_id, view_date) values ('2', '7', '7', '2019-08-01')"
   ]
  },
  {
   "cell_type": "code",
   "execution_count": 6,
   "id": "089b0098-80e6-4f7f-96ea-8a030b120ae0",
   "metadata": {},
   "outputs": [],
   "source": [
    "insert into Views (article_id, author_id, viewer_id, view_date) values ('2', '7', '6', '2019-08-02')"
   ]
  },
  {
   "cell_type": "code",
   "execution_count": 7,
   "id": "c56e2ad9-e2bc-4a3f-b3a5-cc37b4419b56",
   "metadata": {},
   "outputs": [],
   "source": [
    "insert into Views (article_id, author_id, viewer_id, view_date) values ('4', '7', '1', '2019-07-22')"
   ]
  },
  {
   "cell_type": "code",
   "execution_count": 8,
   "id": "e547a83e-93c2-4a41-84d4-23baa758f9be",
   "metadata": {},
   "outputs": [],
   "source": [
    "insert into Views (article_id, author_id, viewer_id, view_date) values ('3', '4', '4', '2019-07-21')"
   ]
  },
  {
   "cell_type": "code",
   "execution_count": 9,
   "id": "ecb4cd51-0a3b-4bca-9675-3027176fdf88",
   "metadata": {},
   "outputs": [],
   "source": [
    "insert into Views (article_id, author_id, viewer_id, view_date) values ('3', '4', '4', '2019-07-21')"
   ]
  },
  {
   "cell_type": "code",
   "execution_count": 10,
   "id": "2640f386-bcb7-4110-8430-11c2b9cbf5df",
   "metadata": {},
   "outputs": [
    {
     "data": {
      "text/html": [
       "<table>\n",
       "<tr>\n",
       "<th>article_id</th>\n",
       "<th>author_id</th>\n",
       "<th>viewer_id</th>\n",
       "<th>view_date</th>\n",
       "</tr>\n",
       "<tr>\n",
       "<td>1</td>\n",
       "<td>3</td>\n",
       "<td>5</td>\n",
       "<td>2019-08-01</td>\n",
       "</tr>\n",
       "<tr>\n",
       "<td>1</td>\n",
       "<td>3</td>\n",
       "<td>6</td>\n",
       "<td>2019-08-02</td>\n",
       "</tr>\n",
       "<tr>\n",
       "<td>2</td>\n",
       "<td>7</td>\n",
       "<td>7</td>\n",
       "<td>2019-08-01</td>\n",
       "</tr>\n",
       "<tr>\n",
       "<td>2</td>\n",
       "<td>7</td>\n",
       "<td>6</td>\n",
       "<td>2019-08-02</td>\n",
       "</tr>\n",
       "<tr>\n",
       "<td>4</td>\n",
       "<td>7</td>\n",
       "<td>1</td>\n",
       "<td>2019-07-22</td>\n",
       "</tr>\n",
       "<tr>\n",
       "<td>3</td>\n",
       "<td>4</td>\n",
       "<td>4</td>\n",
       "<td>2019-07-21</td>\n",
       "</tr>\n",
       "<tr>\n",
       "<td>3</td>\n",
       "<td>4</td>\n",
       "<td>4</td>\n",
       "<td>2019-07-21</td>\n",
       "</tr>\n",
       "</table>"
      ],
      "text/plain": [
       "+------------+-----------+-----------+------------+\n",
       "| article_id | author_id | viewer_id | view_date  |\n",
       "+------------+-----------+-----------+------------+\n",
       "| 1          | 3         | 5         | 2019-08-01 |\n",
       "+------------+-----------+-----------+------------+\n",
       "| 1          | 3         | 6         | 2019-08-02 |\n",
       "+------------+-----------+-----------+------------+\n",
       "| 2          | 7         | 7         | 2019-08-01 |\n",
       "+------------+-----------+-----------+------------+\n",
       "| 2          | 7         | 6         | 2019-08-02 |\n",
       "+------------+-----------+-----------+------------+\n",
       "| 4          | 7         | 1         | 2019-07-22 |\n",
       "+------------+-----------+-----------+------------+\n",
       "| 3          | 4         | 4         | 2019-07-21 |\n",
       "+------------+-----------+-----------+------------+\n",
       "| 3          | 4         | 4         | 2019-07-21 |\n",
       "+------------+-----------+-----------+------------+"
      ]
     },
     "execution_count": 10,
     "metadata": {},
     "output_type": "execute_result"
    }
   ],
   "source": [
    "select * from Views"
   ]
  },
  {
   "cell_type": "markdown",
   "id": "c1abeab7-2f32-4308-9608-1f1921fe474b",
   "metadata": {},
   "source": [
    "## Write a solution to find all the authors that viewed at least one of their own articles.\n",
    "\n",
    "Return the result table sorted by id in ascending order.\n",
    "\n",
    "The result format is in the following example."
   ]
  },
  {
   "cell_type": "code",
   "execution_count": 11,
   "id": "6f3caab7-1b61-4b03-a749-30796fd2ffd1",
   "metadata": {},
   "outputs": [
    {
     "data": {
      "text/html": [
       "<table>\n",
       "<tr>\n",
       "<th>author_id</th>\n",
       "</tr>\n",
       "<tr>\n",
       "<td>7</td>\n",
       "</tr>\n",
       "<tr>\n",
       "<td>4</td>\n",
       "</tr>\n",
       "</table>"
      ],
      "text/plain": [
       "+-----------+\n",
       "| author_id |\n",
       "+-----------+\n",
       "| 7         |\n",
       "+-----------+\n",
       "| 4         |\n",
       "+-----------+"
      ]
     },
     "execution_count": 11,
     "metadata": {},
     "output_type": "execute_result"
    }
   ],
   "source": [
    "select distinct author_id from Views where author_id = viewer_id"
   ]
  },
  {
   "cell_type": "code",
   "execution_count": null,
   "id": "d11dbe75-4e3d-419a-928b-77c9ef4585ea",
   "metadata": {},
   "outputs": [],
   "source": []
  }
 ],
 "metadata": {
  "kernelspec": {
   "display_name": "xsqlite",
   "language": "sqlite",
   "name": "xsqlite"
  },
  "language_info": {
   "codemirror_mode": "sql",
   "file_extension": "",
   "mimetype": "",
   "name": "sql",
   "version": "3.42.0"
  }
 },
 "nbformat": 4,
 "nbformat_minor": 5
}
