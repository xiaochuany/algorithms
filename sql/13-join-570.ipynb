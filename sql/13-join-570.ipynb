{
 "cells": [
  {
   "cell_type": "code",
   "execution_count": null,
   "id": "ce0c499f-cece-492c-b03d-a017a660348f",
   "metadata": {},
   "outputs": [],
   "source": [
    "%load tutorial.db [rw]"
   ]
  },
  {
   "cell_type": "code",
   "execution_count": null,
   "id": "b0382224-37d8-4c03-afe6-4aa913540c57",
   "metadata": {},
   "outputs": [],
   "source": [
    "Create table If Not Exists Employeem (id int, name varchar(255), department varchar(255), managerId int)"
   ]
  },
  {
   "cell_type": "code",
   "execution_count": null,
   "id": "56e80ed6-80d3-4d73-a5c2-17ff83858339",
   "metadata": {},
   "outputs": [],
   "source": [
    "insert into Employeem (id, name, department, managerId) values ('101', 'John', 'A', 'None')"
   ]
  },
  {
   "cell_type": "code",
   "execution_count": null,
   "id": "113676ac-5b54-4e95-9980-340ee986e8c7",
   "metadata": {},
   "outputs": [],
   "source": [
    "insert into Employeem (id, name, department, managerId) values ('102', 'Dan', 'A', '101')"
   ]
  },
  {
   "cell_type": "code",
   "execution_count": null,
   "id": "ae645d8e-73b5-412d-bf54-af4c4560afeb",
   "metadata": {},
   "outputs": [],
   "source": [
    "insert into Employeem (id, name, department, managerId) values ('103', 'James', 'A', '101')"
   ]
  },
  {
   "cell_type": "code",
   "execution_count": null,
   "id": "fba70311-4a51-4b38-8c11-415f13c6cbaa",
   "metadata": {},
   "outputs": [],
   "source": [
    "insert into Employeem (id, name, department, managerId) values ('104', 'Amy', 'A', '101')"
   ]
  },
  {
   "cell_type": "code",
   "execution_count": null,
   "id": "72f7f7b5-900b-4d70-96bb-81a955085915",
   "metadata": {},
   "outputs": [],
   "source": [
    "insert into Employeem (id, name, department, managerId) values ('105', 'Anne', 'A', '101')"
   ]
  },
  {
   "cell_type": "code",
   "execution_count": null,
   "id": "decb1268-b42c-4d7a-90b1-8c26490c0a11",
   "metadata": {},
   "outputs": [],
   "source": [
    "insert into Employeem (id, name, department, managerId) values ('106', 'Ron', 'B', '101')"
   ]
  },
  {
   "cell_type": "code",
   "execution_count": null,
   "id": "8899bbbe-f8b7-4ec1-83da-2031db3ba5f1",
   "metadata": {},
   "outputs": [
    {
     "data": {
      "text/html": [
       "<table>\n",
       "<tr>\n",
       "<th>id</th>\n",
       "<th>name</th>\n",
       "<th>department</th>\n",
       "<th>managerId</th>\n",
       "</tr>\n",
       "<tr>\n",
       "<td>101</td>\n",
       "<td>John</td>\n",
       "<td>A</td>\n",
       "<td>None</td>\n",
       "</tr>\n",
       "<tr>\n",
       "<td>102</td>\n",
       "<td>Dan</td>\n",
       "<td>A</td>\n",
       "<td>101</td>\n",
       "</tr>\n",
       "<tr>\n",
       "<td>103</td>\n",
       "<td>James</td>\n",
       "<td>A</td>\n",
       "<td>101</td>\n",
       "</tr>\n",
       "<tr>\n",
       "<td>104</td>\n",
       "<td>Amy</td>\n",
       "<td>A</td>\n",
       "<td>101</td>\n",
       "</tr>\n",
       "<tr>\n",
       "<td>105</td>\n",
       "<td>Anne</td>\n",
       "<td>A</td>\n",
       "<td>101</td>\n",
       "</tr>\n",
       "<tr>\n",
       "<td>106</td>\n",
       "<td>Ron</td>\n",
       "<td>B</td>\n",
       "<td>101</td>\n",
       "</tr>\n",
       "</table>"
      ],
      "text/plain": [
       "+-----+-------+------------+-----------+\n",
       "| id  | name  | department | managerId |\n",
       "+-----+-------+------------+-----------+\n",
       "| 101 | John  | A          | None      |\n",
       "+-----+-------+------------+-----------+\n",
       "| 102 | Dan   | A          | 101       |\n",
       "+-----+-------+------------+-----------+\n",
       "| 103 | James | A          | 101       |\n",
       "+-----+-------+------------+-----------+\n",
       "| 104 | Amy   | A          | 101       |\n",
       "+-----+-------+------------+-----------+\n",
       "| 105 | Anne  | A          | 101       |\n",
       "+-----+-------+------------+-----------+\n",
       "| 106 | Ron   | B          | 101       |\n",
       "+-----+-------+------------+-----------+"
      ]
     },
     "execution_count": null,
     "metadata": {},
     "output_type": "execute_result"
    }
   ],
   "source": [
    "select * from employeem"
   ]
  },
  {
   "cell_type": "markdown",
   "id": "78d4a1fb-778b-4e65-a9aa-7740032b59a5",
   "metadata": {},
   "source": [
    "## Write a solution to find managers with at least five direct reports.\r\n",
    "\r\n",
    "Return the result table in any order."
   ]
  },
  {
   "cell_type": "markdown",
   "id": "c21424a2-b87d-4f68-bf83-f2c9c052baf1",
   "metadata": {},
   "source": [
    "## method 1"
   ]
  },
  {
   "cell_type": "code",
   "execution_count": null,
   "id": "8e5d0387-e330-47fb-912b-d70a43f1e097",
   "metadata": {},
   "outputs": [
    {
     "data": {
      "text/html": [
       "<table>\n",
       "<tr>\n",
       "<th>managerId</th>\n",
       "</tr>\n",
       "<tr>\n",
       "<td>101</td>\n",
       "</tr>\n",
       "</table>"
      ],
      "text/plain": [
       "+-----------+\n",
       "| managerId |\n",
       "+-----------+\n",
       "| 101       |\n",
       "+-----------+"
      ]
     },
     "execution_count": null,
     "metadata": {},
     "output_type": "execute_result"
    }
   ],
   "source": [
    "select managerid from employeem group by managerid having count(*)>=5"
   ]
  },
  {
   "cell_type": "code",
   "execution_count": null,
   "id": "b1ca3a9a-9223-4a07-b44a-69c9da574c33",
   "metadata": {},
   "outputs": [
    {
     "data": {
      "text/html": [
       "<table>\n",
       "<tr>\n",
       "<th>name</th>\n",
       "</tr>\n",
       "<tr>\n",
       "<td>John</td>\n",
       "</tr>\n",
       "</table>"
      ],
      "text/plain": [
       "+------+\n",
       "| name |\n",
       "+------+\n",
       "| John |\n",
       "+------+"
      ]
     },
     "execution_count": null,
     "metadata": {},
     "output_type": "execute_result"
    }
   ],
   "source": [
    "select name from employeem where id in (\n",
    "    select managerid from employeem group by managerid having count(*)>=5\n",
    ")"
   ]
  },
  {
   "cell_type": "markdown",
   "id": "60812664-2f73-4c60-9de5-32f69d29bd86",
   "metadata": {},
   "source": [
    "## method 2"
   ]
  },
  {
   "cell_type": "code",
   "execution_count": null,
   "id": "f430c076-d0a4-4d5c-bf31-0f1380a42650",
   "metadata": {},
   "outputs": [
    {
     "data": {
      "text/html": [
       "<table>\n",
       "<tr>\n",
       "<th>name</th>\n",
       "</tr>\n",
       "<tr>\n",
       "<td>John</td>\n",
       "</tr>\n",
       "</table>"
      ],
      "text/plain": [
       "+------+\n",
       "| name |\n",
       "+------+\n",
       "| John |\n",
       "+------+"
      ]
     },
     "execution_count": null,
     "metadata": {},
     "output_type": "execute_result"
    }
   ],
   "source": [
    "select name from employeem as t1 join (\n",
    "    select managerid from employeem group by managerid having count(*)>=5\n",
    ") as t2\n",
    "on t1.id=t2.managerid"
   ]
  },
  {
   "cell_type": "code",
   "execution_count": null,
   "id": "64ef42cd-67bd-4ff3-afc3-e5e0020eba15",
   "metadata": {},
   "outputs": [],
   "source": []
  }
 ],
 "metadata": {
  "kernelspec": {
   "display_name": "xsqlite",
   "language": "sqlite",
   "name": "xsqlite"
  }
 },
 "nbformat": 4,
 "nbformat_minor": 5
}
