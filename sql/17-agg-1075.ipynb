{
 "cells": [
  {
   "cell_type": "code",
   "execution_count": null,
   "id": "f179fee5-5df6-440a-902f-8041c403299d",
   "metadata": {},
   "outputs": [],
   "source": [
    "%load tutorial.db [rw]"
   ]
  },
  {
   "cell_type": "code",
   "execution_count": null,
   "id": "32dc2250-c7af-4a3d-91f9-ec766b812a7e",
   "metadata": {},
   "outputs": [],
   "source": [
    "Create table If Not Exists Project (project_id int, employee_id int)"
   ]
  },
  {
   "cell_type": "code",
   "execution_count": null,
   "id": "e24c497e-1628-4501-9ec8-533940579425",
   "metadata": {},
   "outputs": [],
   "source": [
    "Create table If Not Exists Employee_years (employee_id int, name varchar(10), experience_years int)"
   ]
  },
  {
   "cell_type": "code",
   "execution_count": null,
   "id": "52fee8e6-d139-491c-a3e9-28717a58f0f8",
   "metadata": {},
   "outputs": [],
   "source": [
    "insert into Project (project_id, employee_id) values ('1', '1')"
   ]
  },
  {
   "cell_type": "code",
   "execution_count": null,
   "id": "d2cf2724-df9d-4947-b08b-bc4126add983",
   "metadata": {},
   "outputs": [],
   "source": [
    "insert into Project (project_id, employee_id) values ('1', '2')"
   ]
  },
  {
   "cell_type": "code",
   "execution_count": null,
   "id": "f04beeb8-c534-4835-a78d-54808fcfd211",
   "metadata": {},
   "outputs": [],
   "source": [
    "insert into Project (project_id, employee_id) values ('1', '3')"
   ]
  },
  {
   "cell_type": "code",
   "execution_count": null,
   "id": "e9225372-617e-4ca4-9fa1-3d3cd5d32cca",
   "metadata": {},
   "outputs": [],
   "source": [
    "insert into Project (project_id, employee_id) values ('2', '1')"
   ]
  },
  {
   "cell_type": "code",
   "execution_count": null,
   "id": "5d23c9a6-bf47-457d-80a0-65ad8b703f58",
   "metadata": {},
   "outputs": [],
   "source": [
    "insert into Project (project_id, employee_id) values ('2', '4')"
   ]
  },
  {
   "cell_type": "code",
   "execution_count": null,
   "id": "bb391150-320b-4e75-a22c-9608a8ab1485",
   "metadata": {},
   "outputs": [],
   "source": [
    "insert into Employee_years (employee_id, name, experience_years) values ('1', 'Khaled', '3')"
   ]
  },
  {
   "cell_type": "code",
   "execution_count": null,
   "id": "e8730034-a991-4539-9e10-8c9104a35e99",
   "metadata": {},
   "outputs": [],
   "source": [
    "insert into Employee_years (employee_id, name, experience_years) values ('2', 'Ali', '2')"
   ]
  },
  {
   "cell_type": "code",
   "execution_count": null,
   "id": "4704fa23-7dbb-4c46-9c09-dfcf1a9158e2",
   "metadata": {},
   "outputs": [],
   "source": [
    "insert into Employee_years (employee_id, name, experience_years) values ('3', 'John', '1')"
   ]
  },
  {
   "cell_type": "code",
   "execution_count": null,
   "id": "27bdaf94-fbae-4d5b-b878-a999169b0ea3",
   "metadata": {},
   "outputs": [],
   "source": [
    "insert into Employee_years (employee_id, name, experience_years) values ('4', 'Doe', '2')"
   ]
  },
  {
   "cell_type": "code",
   "execution_count": null,
   "id": "855abf1b-2fec-4bbb-95ec-4f26969b50ba",
   "metadata": {},
   "outputs": [
    {
     "data": {
      "text/html": [
       "<table>\n",
       "<tr>\n",
       "<th>employee_id</th>\n",
       "<th>name</th>\n",
       "<th>experience_years</th>\n",
       "</tr>\n",
       "<tr>\n",
       "<td>1</td>\n",
       "<td>Khaled</td>\n",
       "<td>3</td>\n",
       "</tr>\n",
       "<tr>\n",
       "<td>2</td>\n",
       "<td>Ali</td>\n",
       "<td>2</td>\n",
       "</tr>\n",
       "<tr>\n",
       "<td>3</td>\n",
       "<td>John</td>\n",
       "<td>1</td>\n",
       "</tr>\n",
       "<tr>\n",
       "<td>4</td>\n",
       "<td>Doe</td>\n",
       "<td>2</td>\n",
       "</tr>\n",
       "</table>"
      ],
      "text/plain": [
       "+-------------+--------+------------------+\n",
       "| employee_id | name   | experience_years |\n",
       "+-------------+--------+------------------+\n",
       "| 1           | Khaled | 3                |\n",
       "+-------------+--------+------------------+\n",
       "| 2           | Ali    | 2                |\n",
       "+-------------+--------+------------------+\n",
       "| 3           | John   | 1                |\n",
       "+-------------+--------+------------------+\n",
       "| 4           | Doe    | 2                |\n",
       "+-------------+--------+------------------+"
      ]
     },
     "execution_count": null,
     "metadata": {},
     "output_type": "execute_result"
    }
   ],
   "source": [
    "select * from employee_years"
   ]
  },
  {
   "cell_type": "code",
   "execution_count": null,
   "id": "c909c040-7899-4989-9a8e-73fd930e10a0",
   "metadata": {},
   "outputs": [
    {
     "data": {
      "text/html": [
       "<table>\n",
       "<tr>\n",
       "<th>project_id</th>\n",
       "<th>employee_id</th>\n",
       "</tr>\n",
       "<tr>\n",
       "<td>1</td>\n",
       "<td>1</td>\n",
       "</tr>\n",
       "<tr>\n",
       "<td>1</td>\n",
       "<td>2</td>\n",
       "</tr>\n",
       "<tr>\n",
       "<td>1</td>\n",
       "<td>3</td>\n",
       "</tr>\n",
       "<tr>\n",
       "<td>2</td>\n",
       "<td>1</td>\n",
       "</tr>\n",
       "<tr>\n",
       "<td>2</td>\n",
       "<td>4</td>\n",
       "</tr>\n",
       "</table>"
      ],
      "text/plain": [
       "+------------+-------------+\n",
       "| project_id | employee_id |\n",
       "+------------+-------------+\n",
       "| 1          | 1           |\n",
       "+------------+-------------+\n",
       "| 1          | 2           |\n",
       "+------------+-------------+\n",
       "| 1          | 3           |\n",
       "+------------+-------------+\n",
       "| 2          | 1           |\n",
       "+------------+-------------+\n",
       "| 2          | 4           |\n",
       "+------------+-------------+"
      ]
     },
     "execution_count": null,
     "metadata": {},
     "output_type": "execute_result"
    }
   ],
   "source": [
    "select * from project"
   ]
  },
  {
   "cell_type": "markdown",
   "id": "1fd2e2c1-bfbd-49e5-85d3-97045bb80c1c",
   "metadata": {},
   "source": [
    "## Write an SQL query that reports the average experience years of all the employees for each project, rounded to 2 digits."
   ]
  },
  {
   "cell_type": "code",
   "execution_count": null,
   "id": "5e39f1bc-76e0-48ff-9349-9a40b0faa8c0",
   "metadata": {},
   "outputs": [
    {
     "data": {
      "text/html": [
       "<table>\n",
       "<tr>\n",
       "<th>employee_id</th>\n",
       "<th>name</th>\n",
       "<th>experience_years</th>\n",
       "<th>project_id</th>\n",
       "</tr>\n",
       "<tr>\n",
       "<td>1</td>\n",
       "<td>Khaled</td>\n",
       "<td>3</td>\n",
       "<td>1</td>\n",
       "</tr>\n",
       "<tr>\n",
       "<td>1</td>\n",
       "<td>Khaled</td>\n",
       "<td>3</td>\n",
       "<td>2</td>\n",
       "</tr>\n",
       "<tr>\n",
       "<td>2</td>\n",
       "<td>Ali</td>\n",
       "<td>2</td>\n",
       "<td>1</td>\n",
       "</tr>\n",
       "<tr>\n",
       "<td>3</td>\n",
       "<td>John</td>\n",
       "<td>1</td>\n",
       "<td>1</td>\n",
       "</tr>\n",
       "<tr>\n",
       "<td>4</td>\n",
       "<td>Doe</td>\n",
       "<td>2</td>\n",
       "<td>2</td>\n",
       "</tr>\n",
       "</table>"
      ],
      "text/plain": [
       "+-------------+--------+------------------+------------+\n",
       "| employee_id | name   | experience_years | project_id |\n",
       "+-------------+--------+------------------+------------+\n",
       "| 1           | Khaled | 3                | 1          |\n",
       "+-------------+--------+------------------+------------+\n",
       "| 1           | Khaled | 3                | 2          |\n",
       "+-------------+--------+------------------+------------+\n",
       "| 2           | Ali    | 2                | 1          |\n",
       "+-------------+--------+------------------+------------+\n",
       "| 3           | John   | 1                | 1          |\n",
       "+-------------+--------+------------------+------------+\n",
       "| 4           | Doe    | 2                | 2          |\n",
       "+-------------+--------+------------------+------------+"
      ]
     },
     "execution_count": null,
     "metadata": {},
     "output_type": "execute_result"
    }
   ],
   "source": [
    "select * from employee_years left join project using (employee_id)"
   ]
  },
  {
   "cell_type": "code",
   "execution_count": null,
   "id": "5c5b1369-1c44-41f8-8c07-a1ea06850d7d",
   "metadata": {},
   "outputs": [
    {
     "data": {
      "text/html": [
       "<table>\n",
       "<tr>\n",
       "<th>employee_id</th>\n",
       "<th>name</th>\n",
       "<th>experience_years</th>\n",
       "<th>project_id</th>\n",
       "<th>employee_id</th>\n",
       "</tr>\n",
       "<tr>\n",
       "<td>1</td>\n",
       "<td>Khaled</td>\n",
       "<td>3</td>\n",
       "<td>1</td>\n",
       "<td>1</td>\n",
       "</tr>\n",
       "<tr>\n",
       "<td>1</td>\n",
       "<td>Khaled</td>\n",
       "<td>3</td>\n",
       "<td>2</td>\n",
       "<td>1</td>\n",
       "</tr>\n",
       "<tr>\n",
       "<td>2</td>\n",
       "<td>Ali</td>\n",
       "<td>2</td>\n",
       "<td>1</td>\n",
       "<td>2</td>\n",
       "</tr>\n",
       "<tr>\n",
       "<td>3</td>\n",
       "<td>John</td>\n",
       "<td>1</td>\n",
       "<td>1</td>\n",
       "<td>3</td>\n",
       "</tr>\n",
       "<tr>\n",
       "<td>4</td>\n",
       "<td>Doe</td>\n",
       "<td>2</td>\n",
       "<td>2</td>\n",
       "<td>4</td>\n",
       "</tr>\n",
       "</table>"
      ],
      "text/plain": [
       "+-------------+--------+------------------+------------+-------------+\n",
       "| employee_id | name   | experience_years | project_id | employee_id |\n",
       "+-------------+--------+------------------+------------+-------------+\n",
       "| 1           | Khaled | 3                | 1          | 1           |\n",
       "+-------------+--------+------------------+------------+-------------+\n",
       "| 1           | Khaled | 3                | 2          | 1           |\n",
       "+-------------+--------+------------------+------------+-------------+\n",
       "| 2           | Ali    | 2                | 1          | 2           |\n",
       "+-------------+--------+------------------+------------+-------------+\n",
       "| 3           | John   | 1                | 1          | 3           |\n",
       "+-------------+--------+------------------+------------+-------------+\n",
       "| 4           | Doe    | 2                | 2          | 4           |\n",
       "+-------------+--------+------------------+------------+-------------+"
      ]
     },
     "execution_count": null,
     "metadata": {},
     "output_type": "execute_result"
    }
   ],
   "source": [
    "select * from employee_years e, project p where e.employee_id = p.employee_id"
   ]
  },
  {
   "cell_type": "code",
   "execution_count": null,
   "id": "5cf3c5d9-29cf-48e4-99a7-c4ef8bcd7966",
   "metadata": {},
   "outputs": [
    {
     "data": {
      "text/html": [
       "<table>\n",
       "<tr>\n",
       "<th>project_id</th>\n",
       "<th>average_years</th>\n",
       "</tr>\n",
       "<tr>\n",
       "<td>1</td>\n",
       "<td>2.0</td>\n",
       "</tr>\n",
       "<tr>\n",
       "<td>2</td>\n",
       "<td>2.5</td>\n",
       "</tr>\n",
       "</table>"
      ],
      "text/plain": [
       "+------------+---------------+\n",
       "| project_id | average_years |\n",
       "+------------+---------------+\n",
       "| 1          | 2.0           |\n",
       "+------------+---------------+\n",
       "| 2          | 2.5           |\n",
       "+------------+---------------+"
      ]
     },
     "execution_count": null,
     "metadata": {},
     "output_type": "execute_result"
    }
   ],
   "source": [
    "select project_id, avg(experience_years) as average_years\n",
    "from employee_years left join project \n",
    "using (employee_id)\n",
    "group by project_id"
   ]
  },
  {
   "cell_type": "code",
   "execution_count": null,
   "id": "9eacdf82-ea68-43c4-905c-cfb71e052754",
   "metadata": {},
   "outputs": [
    {
     "data": {
      "text/html": [
       "<table>\n",
       "<tr>\n",
       "<th>project_id</th>\n",
       "<th>average_years</th>\n",
       "</tr>\n",
       "<tr>\n",
       "<td>1</td>\n",
       "<td>2.0</td>\n",
       "</tr>\n",
       "<tr>\n",
       "<td>2</td>\n",
       "<td>2.5</td>\n",
       "</tr>\n",
       "</table>"
      ],
      "text/plain": [
       "+------------+---------------+\n",
       "| project_id | average_years |\n",
       "+------------+---------------+\n",
       "| 1          | 2.0           |\n",
       "+------------+---------------+\n",
       "| 2          | 2.5           |\n",
       "+------------+---------------+"
      ]
     },
     "execution_count": null,
     "metadata": {},
     "output_type": "execute_result"
    }
   ],
   "source": [
    "select project_id, avg(experience_years) as average_years\n",
    "from employee_years e, project p where e.employee_id = p.employee_id\n",
    "group by project_id"
   ]
  },
  {
   "cell_type": "code",
   "execution_count": null,
   "id": "58feea25-36fa-4d46-a04d-9377a883c038",
   "metadata": {},
   "outputs": [],
   "source": []
  }
 ],
 "metadata": {
  "kernelspec": {
   "display_name": "xsqlite",
   "language": "sqlite",
   "name": "xsqlite"
  }
 },
 "nbformat": 4,
 "nbformat_minor": 5
}
