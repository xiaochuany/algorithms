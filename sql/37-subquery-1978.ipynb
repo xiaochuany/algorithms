{
 "cells": [
  {
   "cell_type": "code",
   "execution_count": null,
   "id": "718bdda9-727c-4758-85bd-44a4104a58ac",
   "metadata": {},
   "outputs": [],
   "source": [
    "%load tutorial.db [rw]"
   ]
  },
  {
   "cell_type": "code",
   "execution_count": null,
   "id": "29fa672b-6239-4fda-8775-73550b00e23b",
   "metadata": {},
   "outputs": [],
   "source": [
    "Create table If Not Exists Employeesss (employee_id int, name varchar(20), manager_id int, salary int)"
   ]
  },
  {
   "cell_type": "code",
   "execution_count": null,
   "id": "b0f8a212-cf4b-4b04-8e41-77a29e70bba2",
   "metadata": {},
   "outputs": [],
   "source": [
    "insert into Employeesss (employee_id, name, manager_id, salary) values ('3', 'Mila', '9', '60301')"
   ]
  },
  {
   "cell_type": "code",
   "execution_count": null,
   "id": "58c5abce-2caf-4dbc-8eed-92832ef53ead",
   "metadata": {},
   "outputs": [],
   "source": [
    "insert into Employeesss (employee_id, name, manager_id, salary) values ('12', 'Antonella', 'None', '31000')"
   ]
  },
  {
   "cell_type": "code",
   "execution_count": null,
   "id": "5cf747a3-ea42-4afa-94d6-09f6cffa011c",
   "metadata": {},
   "outputs": [],
   "source": [
    "insert into Employeesss (employee_id, name, manager_id, salary) values ('13', 'Emery', 'None', '67084')"
   ]
  },
  {
   "cell_type": "code",
   "execution_count": null,
   "id": "a2aba722-05e1-4e47-8cf4-a65e5b65e742",
   "metadata": {},
   "outputs": [],
   "source": [
    "insert into Employeesss (employee_id, name, manager_id, salary) values ('1', 'Kalel', '11', '21241')"
   ]
  },
  {
   "cell_type": "code",
   "execution_count": null,
   "id": "1c5dfb91-4889-4f29-8081-a3bc2348a6ef",
   "metadata": {},
   "outputs": [],
   "source": [
    "insert into Employeesss (employee_id, name, manager_id, salary) values ('9', 'Mikaela', 'None', '50937')"
   ]
  },
  {
   "cell_type": "code",
   "execution_count": null,
   "id": "2c84600b-7b14-401b-af28-46e8d6b455fb",
   "metadata": {},
   "outputs": [],
   "source": [
    "insert into Employeesss (employee_id, name, manager_id, salary) values ('11', 'Joziah', '6', '28485')"
   ]
  },
  {
   "cell_type": "code",
   "execution_count": null,
   "id": "b91c7cbf-9fe3-4f5e-af49-49dcef1926ae",
   "metadata": {},
   "outputs": [
    {
     "data": {
      "text/html": [
       "<table>\n",
       "<tr>\n",
       "<th>employee_id</th>\n",
       "<th>name</th>\n",
       "<th>manager_id</th>\n",
       "<th>salary</th>\n",
       "</tr>\n",
       "<tr>\n",
       "<td>3</td>\n",
       "<td>Mila</td>\n",
       "<td>9</td>\n",
       "<td>60301</td>\n",
       "</tr>\n",
       "<tr>\n",
       "<td>12</td>\n",
       "<td>Antonella</td>\n",
       "<td>None</td>\n",
       "<td>31000</td>\n",
       "</tr>\n",
       "<tr>\n",
       "<td>13</td>\n",
       "<td>Emery</td>\n",
       "<td>None</td>\n",
       "<td>67084</td>\n",
       "</tr>\n",
       "<tr>\n",
       "<td>1</td>\n",
       "<td>Kalel</td>\n",
       "<td>11</td>\n",
       "<td>21241</td>\n",
       "</tr>\n",
       "<tr>\n",
       "<td>9</td>\n",
       "<td>Mikaela</td>\n",
       "<td>None</td>\n",
       "<td>50937</td>\n",
       "</tr>\n",
       "<tr>\n",
       "<td>11</td>\n",
       "<td>Joziah</td>\n",
       "<td>6</td>\n",
       "<td>28485</td>\n",
       "</tr>\n",
       "</table>"
      ],
      "text/plain": [
       "+-------------+-----------+------------+--------+\n",
       "| employee_id | name      | manager_id | salary |\n",
       "+-------------+-----------+------------+--------+\n",
       "| 3           | Mila      | 9          | 60301  |\n",
       "+-------------+-----------+------------+--------+\n",
       "| 12          | Antonella | None       | 31000  |\n",
       "+-------------+-----------+------------+--------+\n",
       "| 13          | Emery     | None       | 67084  |\n",
       "+-------------+-----------+------------+--------+\n",
       "| 1           | Kalel     | 11         | 21241  |\n",
       "+-------------+-----------+------------+--------+\n",
       "| 9           | Mikaela   | None       | 50937  |\n",
       "+-------------+-----------+------------+--------+\n",
       "| 11          | Joziah    | 6          | 28485  |\n",
       "+-------------+-----------+------------+--------+"
      ]
     },
     "execution_count": null,
     "metadata": {},
     "output_type": "execute_result"
    }
   ],
   "source": [
    "select * from employeesss"
   ]
  },
  {
   "cell_type": "markdown",
   "id": "c2c376d6-8f3e-46ed-af30-15bc84f99a60",
   "metadata": {},
   "source": [
    "## Find the IDs of the employees whose salary is strictly less than $30000 and whose manager left the company. When a manager leaves the company, their information is deleted from the Employees table, but the reports still have their manager_id set to the manager that left."
   ]
  },
  {
   "cell_type": "code",
   "execution_count": null,
   "id": "45cec632-52fa-4fc1-b955-96df74c34fe9",
   "metadata": {},
   "outputs": [
    {
     "data": {
      "text/html": [
       "<table>\n",
       "<tr>\n",
       "<th>employee_id</th>\n",
       "<th>manager_id</th>\n",
       "</tr>\n",
       "<tr>\n",
       "<td>1</td>\n",
       "<td>11</td>\n",
       "</tr>\n",
       "<tr>\n",
       "<td>11</td>\n",
       "<td>6</td>\n",
       "</tr>\n",
       "</table>"
      ],
      "text/plain": [
       "+-------------+------------+\n",
       "| employee_id | manager_id |\n",
       "+-------------+------------+\n",
       "| 1           | 11         |\n",
       "+-------------+------------+\n",
       "| 11          | 6          |\n",
       "+-------------+------------+"
      ]
     },
     "execution_count": null,
     "metadata": {},
     "output_type": "execute_result"
    }
   ],
   "source": [
    "select employee_id, manager_id from employeesss where salary<30000"
   ]
  },
  {
   "cell_type": "code",
   "execution_count": null,
   "id": "952b3b15-56ed-41be-8072-fb42323a39cb",
   "metadata": {},
   "outputs": [
    {
     "data": {
      "text/html": [
       "<table>\n",
       "<tr>\n",
       "<th>employee_id</th>\n",
       "</tr>\n",
       "<tr>\n",
       "<td>3</td>\n",
       "</tr>\n",
       "<tr>\n",
       "<td>12</td>\n",
       "</tr>\n",
       "<tr>\n",
       "<td>13</td>\n",
       "</tr>\n",
       "<tr>\n",
       "<td>1</td>\n",
       "</tr>\n",
       "<tr>\n",
       "<td>9</td>\n",
       "</tr>\n",
       "<tr>\n",
       "<td>11</td>\n",
       "</tr>\n",
       "</table>"
      ],
      "text/plain": [
       "+-------------+\n",
       "| employee_id |\n",
       "+-------------+\n",
       "| 3           |\n",
       "+-------------+\n",
       "| 12          |\n",
       "+-------------+\n",
       "| 13          |\n",
       "+-------------+\n",
       "| 1           |\n",
       "+-------------+\n",
       "| 9           |\n",
       "+-------------+\n",
       "| 11          |\n",
       "+-------------+"
      ]
     },
     "execution_count": null,
     "metadata": {},
     "output_type": "execute_result"
    }
   ],
   "source": [
    "select employee_id from employeesss"
   ]
  },
  {
   "cell_type": "code",
   "execution_count": null,
   "id": "1847d70b-4cf1-4086-8e07-3cef63a2e5cd",
   "metadata": {},
   "outputs": [
    {
     "data": {
      "text/html": [
       "<table>\n",
       "<tr>\n",
       "<th>employee_id</th>\n",
       "</tr>\n",
       "<tr>\n",
       "<td>11</td>\n",
       "</tr>\n",
       "</table>"
      ],
      "text/plain": [
       "+-------------+\n",
       "| employee_id |\n",
       "+-------------+\n",
       "| 11          |\n",
       "+-------------+"
      ]
     },
     "execution_count": null,
     "metadata": {},
     "output_type": "execute_result"
    }
   ],
   "source": [
    "select employee_id from employeesss where salary<30000 and manager_id not in (select employee_id from employeesss)"
   ]
  },
  {
   "cell_type": "code",
   "execution_count": null,
   "id": "bf3b8764-90ac-45c1-8f46-a6e6ceeee978",
   "metadata": {},
   "outputs": [],
   "source": []
  }
 ],
 "metadata": {
  "kernelspec": {
   "display_name": "xsqlite",
   "language": "sqlite",
   "name": "xsqlite"
  }
 },
 "nbformat": 4,
 "nbformat_minor": 5
}
