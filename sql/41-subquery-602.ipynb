{
 "cells": [
  {
   "cell_type": "code",
   "execution_count": null,
   "id": "f1dbca86-73f9-45e0-9673-983bf25bf88e",
   "metadata": {},
   "outputs": [],
   "source": [
    "%load tutorial.db [rw]"
   ]
  },
  {
   "cell_type": "code",
   "execution_count": null,
   "id": "b38add45-8f87-4863-9798-232613e29717",
   "metadata": {},
   "outputs": [],
   "source": [
    "Create table If Not Exists RequestAccepted (requester_id int not null, accepter_id int null, accept_date date null)"
   ]
  },
  {
   "cell_type": "code",
   "execution_count": null,
   "id": "7bc3e2a8-ada1-4736-a793-bf82e1b8c40a",
   "metadata": {},
   "outputs": [],
   "source": [
    "insert into RequestAccepted (requester_id, accepter_id, accept_date) values ('1', '2', '2016/06/03')"
   ]
  },
  {
   "cell_type": "code",
   "execution_count": null,
   "id": "c764f624-fc4c-46bc-b316-44be099c0dc2",
   "metadata": {},
   "outputs": [],
   "source": [
    "insert into RequestAccepted (requester_id, accepter_id, accept_date) values ('1', '3', '2016/06/08')"
   ]
  },
  {
   "cell_type": "code",
   "execution_count": null,
   "id": "8b02325f-37d2-4f3e-8c0d-438891bad7c1",
   "metadata": {},
   "outputs": [],
   "source": [
    "insert into RequestAccepted (requester_id, accepter_id, accept_date) values ('2', '3', '2016/06/08')"
   ]
  },
  {
   "cell_type": "code",
   "execution_count": null,
   "id": "f93fdc3e-98bd-47d6-b0c5-d14e139bef51",
   "metadata": {},
   "outputs": [],
   "source": [
    "insert into RequestAccepted (requester_id, accepter_id, accept_date) values ('3', '4', '2016/06/09')"
   ]
  },
  {
   "cell_type": "code",
   "execution_count": null,
   "id": "f49d7ce9-a20d-49c7-9983-a020f7bb83b0",
   "metadata": {},
   "outputs": [
    {
     "data": {
      "text/html": [
       "<table>\n",
       "<tr>\n",
       "<th>requester_id</th>\n",
       "<th>accepter_id</th>\n",
       "<th>accept_date</th>\n",
       "</tr>\n",
       "<tr>\n",
       "<td>1</td>\n",
       "<td>2</td>\n",
       "<td>2016/06/03</td>\n",
       "</tr>\n",
       "<tr>\n",
       "<td>1</td>\n",
       "<td>3</td>\n",
       "<td>2016/06/08</td>\n",
       "</tr>\n",
       "<tr>\n",
       "<td>2</td>\n",
       "<td>3</td>\n",
       "<td>2016/06/08</td>\n",
       "</tr>\n",
       "<tr>\n",
       "<td>3</td>\n",
       "<td>4</td>\n",
       "<td>2016/06/09</td>\n",
       "</tr>\n",
       "</table>"
      ],
      "text/plain": [
       "+--------------+-------------+-------------+\n",
       "| requester_id | accepter_id | accept_date |\n",
       "+--------------+-------------+-------------+\n",
       "| 1            | 2           | 2016/06/03  |\n",
       "+--------------+-------------+-------------+\n",
       "| 1            | 3           | 2016/06/08  |\n",
       "+--------------+-------------+-------------+\n",
       "| 2            | 3           | 2016/06/08  |\n",
       "+--------------+-------------+-------------+\n",
       "| 3            | 4           | 2016/06/09  |\n",
       "+--------------+-------------+-------------+"
      ]
     },
     "execution_count": null,
     "metadata": {},
     "output_type": "execute_result"
    }
   ],
   "source": [
    "select * from requestaccepted"
   ]
  },
  {
   "cell_type": "markdown",
   "id": "b499c1c6-6ce1-46ac-8367-29e0cd8b8e7b",
   "metadata": {},
   "source": [
    "## Write a solution to find the people who have the most friends and the most friends number.\r\n",
    "\r\n",
    "The test cases are generated so that only one person has the most friends."
   ]
  },
  {
   "cell_type": "code",
   "execution_count": null,
   "id": "93075cd2-9ba3-48fa-9d54-7d93511c474d",
   "metadata": {},
   "outputs": [
    {
     "data": {
      "text/html": [
       "<table>\n",
       "<tr>\n",
       "<th>accepter_id</th>\n",
       "<th>num_accepted</th>\n",
       "</tr>\n",
       "<tr>\n",
       "<td>2</td>\n",
       "<td>1</td>\n",
       "</tr>\n",
       "<tr>\n",
       "<td>3</td>\n",
       "<td>2</td>\n",
       "</tr>\n",
       "<tr>\n",
       "<td>4</td>\n",
       "<td>1</td>\n",
       "</tr>\n",
       "</table>"
      ],
      "text/plain": [
       "+-------------+--------------+\n",
       "| accepter_id | num_accepted |\n",
       "+-------------+--------------+\n",
       "| 2           | 1            |\n",
       "+-------------+--------------+\n",
       "| 3           | 2            |\n",
       "+-------------+--------------+\n",
       "| 4           | 1            |\n",
       "+-------------+--------------+"
      ]
     },
     "execution_count": null,
     "metadata": {},
     "output_type": "execute_result"
    }
   ],
   "source": [
    "select accepter_id, count(distinct requester_id) num_accepted from requestaccepted group by accepter_id"
   ]
  },
  {
   "cell_type": "code",
   "execution_count": null,
   "id": "2b854be6-6b2e-46bd-a42f-98177b2f590e",
   "metadata": {},
   "outputs": [
    {
     "data": {
      "text/html": [
       "<table>\n",
       "<tr>\n",
       "<th>requester_id</th>\n",
       "<th>num_requested</th>\n",
       "</tr>\n",
       "<tr>\n",
       "<td>1</td>\n",
       "<td>2</td>\n",
       "</tr>\n",
       "<tr>\n",
       "<td>2</td>\n",
       "<td>1</td>\n",
       "</tr>\n",
       "<tr>\n",
       "<td>3</td>\n",
       "<td>1</td>\n",
       "</tr>\n",
       "</table>"
      ],
      "text/plain": [
       "+--------------+---------------+\n",
       "| requester_id | num_requested |\n",
       "+--------------+---------------+\n",
       "| 1            | 2             |\n",
       "+--------------+---------------+\n",
       "| 2            | 1             |\n",
       "+--------------+---------------+\n",
       "| 3            | 1             |\n",
       "+--------------+---------------+"
      ]
     },
     "execution_count": null,
     "metadata": {},
     "output_type": "execute_result"
    }
   ],
   "source": [
    "select requester_id, count(distinct accepter_id) num_requested from requestaccepted group by requester_id"
   ]
  },
  {
   "cell_type": "code",
   "execution_count": null,
   "id": "9affa144-e156-488f-b3c7-6e3da7b46419",
   "metadata": {},
   "outputs": [
    {
     "data": {
      "text/html": [
       "<table>\n",
       "<tr>\n",
       "<th>id</th>\n",
       "<th>num</th>\n",
       "</tr>\n",
       "<tr>\n",
       "<td>1</td>\n",
       "<td>2</td>\n",
       "</tr>\n",
       "<tr>\n",
       "<td>2</td>\n",
       "<td>1</td>\n",
       "</tr>\n",
       "<tr>\n",
       "<td>3</td>\n",
       "<td>1</td>\n",
       "</tr>\n",
       "<tr>\n",
       "<td>3</td>\n",
       "<td>2</td>\n",
       "</tr>\n",
       "<tr>\n",
       "<td>4</td>\n",
       "<td>1</td>\n",
       "</tr>\n",
       "</table>"
      ],
      "text/plain": [
       "+----+-----+\n",
       "| id | num |\n",
       "+----+-----+\n",
       "| 1  | 2   |\n",
       "+----+-----+\n",
       "| 2  | 1   |\n",
       "+----+-----+\n",
       "| 3  | 1   |\n",
       "+----+-----+\n",
       "| 3  | 2   |\n",
       "+----+-----+\n",
       "| 4  | 1   |\n",
       "+----+-----+"
      ]
     },
     "execution_count": null,
     "metadata": {},
     "output_type": "execute_result"
    }
   ],
   "source": [
    "select accepter_id id, count(distinct requester_id) num from requestaccepted group by accepter_id\n",
    "union \n",
    "select requester_id, count(distinct accepter_id) from requestaccepted group by requester_id"
   ]
  },
  {
   "cell_type": "code",
   "execution_count": null,
   "id": "39684577-f027-4cc5-b4aa-559fec31d336",
   "metadata": {},
   "outputs": [
    {
     "data": {
      "text/html": [
       "<table>\n",
       "<tr>\n",
       "<th>id</th>\n",
       "<th>num</th>\n",
       "</tr>\n",
       "<tr>\n",
       "<td>3</td>\n",
       "<td>3</td>\n",
       "</tr>\n",
       "</table>"
      ],
      "text/plain": [
       "+----+-----+\n",
       "| id | num |\n",
       "+----+-----+\n",
       "| 3  | 3   |\n",
       "+----+-----+"
      ]
     },
     "execution_count": null,
     "metadata": {},
     "output_type": "execute_result"
    }
   ],
   "source": [
    "with t as ( \n",
    "    select accepter_id id, count(distinct requester_id) num from requestaccepted group by accepter_id\n",
    "    union all\n",
    "    select requester_id, count(distinct accepter_id) from requestaccepted group by requester_id\n",
    ")\n",
    "select id,sum(num) num from t group by id order by num desc limit 1"
   ]
  },
  {
   "cell_type": "code",
   "execution_count": null,
   "id": "4b9a1dc8-8280-46cd-8894-ff3e62434577",
   "metadata": {},
   "outputs": [],
   "source": []
  }
 ],
 "metadata": {
  "kernelspec": {
   "display_name": "xsqlite",
   "language": "sqlite",
   "name": "xsqlite"
  }
 },
 "nbformat": 4,
 "nbformat_minor": 5
}
