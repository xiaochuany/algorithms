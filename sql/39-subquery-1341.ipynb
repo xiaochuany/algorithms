{
 "cells": [
  {
   "cell_type": "code",
   "execution_count": null,
   "id": "0885bb6e-a863-49d3-86b9-342cb0e0d444",
   "metadata": {},
   "outputs": [],
   "source": [
    "%load tutorial.db [rw]"
   ]
  },
  {
   "cell_type": "code",
   "execution_count": null,
   "id": "dda4f827-a631-4e48-af04-98d78775493e",
   "metadata": {},
   "outputs": [],
   "source": [
    "Create table If Not Exists Movies (movie_id int, title varchar(30))"
   ]
  },
  {
   "cell_type": "code",
   "execution_count": null,
   "id": "44c100fc-e611-4f5e-9cae-03af014c4606",
   "metadata": {},
   "outputs": [],
   "source": [
    "Create table If Not Exists Userss (user_id int, name varchar(30))"
   ]
  },
  {
   "cell_type": "code",
   "execution_count": null,
   "id": "fe818377-f8a3-46f0-b593-3ff416947138",
   "metadata": {},
   "outputs": [],
   "source": [
    "Create table If Not Exists MovieRating (movie_id int, user_id int, rating int, created_at date)"
   ]
  },
  {
   "cell_type": "code",
   "execution_count": null,
   "id": "c30374cb-44ee-4853-8fdc-d519f8818794",
   "metadata": {},
   "outputs": [],
   "source": [
    "insert into Movies (movie_id, title) values ('1', 'Avengers')"
   ]
  },
  {
   "cell_type": "code",
   "execution_count": null,
   "id": "6dbfc800-3353-41d9-b5a5-cd4b6d5e674e",
   "metadata": {},
   "outputs": [],
   "source": [
    "insert into Movies (movie_id, title) values ('2', 'Frozen 2')"
   ]
  },
  {
   "cell_type": "code",
   "execution_count": null,
   "id": "0ed66370-9d9b-4330-b39d-55396b9f87fa",
   "metadata": {},
   "outputs": [],
   "source": [
    "insert into Movies (movie_id, title) values ('3', 'Joker')"
   ]
  },
  {
   "cell_type": "code",
   "execution_count": null,
   "id": "a9fd6113-5cb7-4581-8a58-4c183040983a",
   "metadata": {},
   "outputs": [],
   "source": [
    "insert into Userss (user_id, name) values ('1', 'Daniel')"
   ]
  },
  {
   "cell_type": "code",
   "execution_count": null,
   "id": "ae00ecfd-f7f7-4636-96dd-350067c9b783",
   "metadata": {},
   "outputs": [],
   "source": [
    "insert into Userss (user_id, name) values ('2', 'Monica')"
   ]
  },
  {
   "cell_type": "code",
   "execution_count": null,
   "id": "da67961c-cac0-4a21-bb25-ae6a1dd4c28d",
   "metadata": {},
   "outputs": [],
   "source": [
    "insert into Userss (user_id, name) values ('3', 'Maria')"
   ]
  },
  {
   "cell_type": "code",
   "execution_count": null,
   "id": "d417e837-6e54-4778-a2a9-a613b1d04727",
   "metadata": {},
   "outputs": [],
   "source": [
    "insert into Userss (user_id, name) values ('4', 'James')"
   ]
  },
  {
   "cell_type": "code",
   "execution_count": null,
   "id": "12a68a38-db43-480a-be64-628b26afc72a",
   "metadata": {},
   "outputs": [],
   "source": [
    "insert into MovieRating (movie_id, user_id, rating, created_at) values ('1', '1', '3', '2020-01-12')"
   ]
  },
  {
   "cell_type": "code",
   "execution_count": null,
   "id": "4e402110-1d94-4e2b-a7c4-399c1f97731c",
   "metadata": {},
   "outputs": [],
   "source": [
    "insert into MovieRating (movie_id, user_id, rating, created_at) values ('1', '2', '4', '2020-02-11')"
   ]
  },
  {
   "cell_type": "code",
   "execution_count": null,
   "id": "3ed19a96-57e4-470f-a134-a9ba08c121e1",
   "metadata": {},
   "outputs": [],
   "source": [
    "insert into MovieRating (movie_id, user_id, rating, created_at) values ('1', '3', '2', '2020-02-12')"
   ]
  },
  {
   "cell_type": "code",
   "execution_count": null,
   "id": "3f17afc7-0323-473a-83c7-6e71ebfa2ae8",
   "metadata": {},
   "outputs": [],
   "source": [
    "insert into MovieRating (movie_id, user_id, rating, created_at) values ('1', '4', '1', '2020-01-01')"
   ]
  },
  {
   "cell_type": "code",
   "execution_count": null,
   "id": "53a17410-e4d5-4dcb-be23-90e6f7610118",
   "metadata": {},
   "outputs": [],
   "source": [
    "insert into MovieRating (movie_id, user_id, rating, created_at) values ('2', '1', '5', '2020-02-17')"
   ]
  },
  {
   "cell_type": "code",
   "execution_count": null,
   "id": "e487d76a-e952-43db-89af-7b5757b42b6a",
   "metadata": {},
   "outputs": [],
   "source": [
    "insert into MovieRating (movie_id, user_id, rating, created_at) values ('2', '2', '2', '2020-02-01')"
   ]
  },
  {
   "cell_type": "code",
   "execution_count": null,
   "id": "e4d3a428-58d4-47ba-b73e-d62f8c289486",
   "metadata": {},
   "outputs": [],
   "source": [
    "insert into MovieRating (movie_id, user_id, rating, created_at) values ('2', '3', '2', '2020-03-01')"
   ]
  },
  {
   "cell_type": "code",
   "execution_count": null,
   "id": "09146fca-514e-4b52-8cac-c10b5ee87049",
   "metadata": {},
   "outputs": [],
   "source": [
    "insert into MovieRating (movie_id, user_id, rating, created_at) values ('3', '1', '3', '2020-02-22')"
   ]
  },
  {
   "cell_type": "code",
   "execution_count": null,
   "id": "6b13fa1e-7c8f-47e9-a8c4-569cb0dea9b4",
   "metadata": {},
   "outputs": [],
   "source": [
    "insert into MovieRating (movie_id, user_id, rating, created_at) values ('3', '2', '4', '2020-02-25')"
   ]
  },
  {
   "cell_type": "code",
   "execution_count": null,
   "id": "dc9907a7-bb21-4c53-9ce2-d5dc2a3caab5",
   "metadata": {},
   "outputs": [
    {
     "data": {
      "text/html": [
       "<table>\n",
       "<tr>\n",
       "<th>user_id</th>\n",
       "<th>name</th>\n",
       "</tr>\n",
       "<tr>\n",
       "<td>1</td>\n",
       "<td>Daniel</td>\n",
       "</tr>\n",
       "<tr>\n",
       "<td>2</td>\n",
       "<td>Monica</td>\n",
       "</tr>\n",
       "<tr>\n",
       "<td>3</td>\n",
       "<td>Maria</td>\n",
       "</tr>\n",
       "<tr>\n",
       "<td>4</td>\n",
       "<td>James</td>\n",
       "</tr>\n",
       "</table>"
      ],
      "text/plain": [
       "+---------+--------+\n",
       "| user_id | name   |\n",
       "+---------+--------+\n",
       "| 1       | Daniel |\n",
       "+---------+--------+\n",
       "| 2       | Monica |\n",
       "+---------+--------+\n",
       "| 3       | Maria  |\n",
       "+---------+--------+\n",
       "| 4       | James  |\n",
       "+---------+--------+"
      ]
     },
     "execution_count": null,
     "metadata": {},
     "output_type": "execute_result"
    }
   ],
   "source": [
    "select * from userss"
   ]
  },
  {
   "cell_type": "code",
   "execution_count": null,
   "id": "c7c2eddc-7514-4e63-b629-2fa995c04338",
   "metadata": {},
   "outputs": [
    {
     "data": {
      "text/html": [
       "<table>\n",
       "<tr>\n",
       "<th>movie_id</th>\n",
       "<th>title</th>\n",
       "</tr>\n",
       "<tr>\n",
       "<td>1</td>\n",
       "<td>Avengers</td>\n",
       "</tr>\n",
       "<tr>\n",
       "<td>2</td>\n",
       "<td>Frozen 2</td>\n",
       "</tr>\n",
       "<tr>\n",
       "<td>3</td>\n",
       "<td>Joker</td>\n",
       "</tr>\n",
       "</table>"
      ],
      "text/plain": [
       "+----------+----------+\n",
       "| movie_id | title    |\n",
       "+----------+----------+\n",
       "| 1        | Avengers |\n",
       "+----------+----------+\n",
       "| 2        | Frozen 2 |\n",
       "+----------+----------+\n",
       "| 3        | Joker    |\n",
       "+----------+----------+"
      ]
     },
     "execution_count": null,
     "metadata": {},
     "output_type": "execute_result"
    }
   ],
   "source": [
    "select * from movies"
   ]
  },
  {
   "cell_type": "code",
   "execution_count": null,
   "id": "8cef7534-05ef-4172-b331-799d47e7f304",
   "metadata": {},
   "outputs": [
    {
     "data": {
      "text/html": [
       "<table>\n",
       "<tr>\n",
       "<th>movie_id</th>\n",
       "<th>user_id</th>\n",
       "<th>rating</th>\n",
       "<th>created_at</th>\n",
       "</tr>\n",
       "<tr>\n",
       "<td>1</td>\n",
       "<td>1</td>\n",
       "<td>3</td>\n",
       "<td>2020-01-12</td>\n",
       "</tr>\n",
       "<tr>\n",
       "<td>1</td>\n",
       "<td>2</td>\n",
       "<td>4</td>\n",
       "<td>2020-02-11</td>\n",
       "</tr>\n",
       "<tr>\n",
       "<td>1</td>\n",
       "<td>3</td>\n",
       "<td>2</td>\n",
       "<td>2020-02-12</td>\n",
       "</tr>\n",
       "<tr>\n",
       "<td>1</td>\n",
       "<td>4</td>\n",
       "<td>1</td>\n",
       "<td>2020-01-01</td>\n",
       "</tr>\n",
       "<tr>\n",
       "<td>2</td>\n",
       "<td>1</td>\n",
       "<td>5</td>\n",
       "<td>2020-02-17</td>\n",
       "</tr>\n",
       "<tr>\n",
       "<td>2</td>\n",
       "<td>2</td>\n",
       "<td>2</td>\n",
       "<td>2020-02-01</td>\n",
       "</tr>\n",
       "<tr>\n",
       "<td>2</td>\n",
       "<td>3</td>\n",
       "<td>2</td>\n",
       "<td>2020-03-01</td>\n",
       "</tr>\n",
       "<tr>\n",
       "<td>3</td>\n",
       "<td>1</td>\n",
       "<td>3</td>\n",
       "<td>2020-02-22</td>\n",
       "</tr>\n",
       "<tr>\n",
       "<td>3</td>\n",
       "<td>2</td>\n",
       "<td>4</td>\n",
       "<td>2020-02-25</td>\n",
       "</tr>\n",
       "</table>"
      ],
      "text/plain": [
       "+----------+---------+--------+------------+\n",
       "| movie_id | user_id | rating | created_at |\n",
       "+----------+---------+--------+------------+\n",
       "| 1        | 1       | 3      | 2020-01-12 |\n",
       "+----------+---------+--------+------------+\n",
       "| 1        | 2       | 4      | 2020-02-11 |\n",
       "+----------+---------+--------+------------+\n",
       "| 1        | 3       | 2      | 2020-02-12 |\n",
       "+----------+---------+--------+------------+\n",
       "| 1        | 4       | 1      | 2020-01-01 |\n",
       "+----------+---------+--------+------------+\n",
       "| 2        | 1       | 5      | 2020-02-17 |\n",
       "+----------+---------+--------+------------+\n",
       "| 2        | 2       | 2      | 2020-02-01 |\n",
       "+----------+---------+--------+------------+\n",
       "| 2        | 3       | 2      | 2020-03-01 |\n",
       "+----------+---------+--------+------------+\n",
       "| 3        | 1       | 3      | 2020-02-22 |\n",
       "+----------+---------+--------+------------+\n",
       "| 3        | 2       | 4      | 2020-02-25 |\n",
       "+----------+---------+--------+------------+"
      ]
     },
     "execution_count": null,
     "metadata": {},
     "output_type": "execute_result"
    }
   ],
   "source": [
    "select * from movierating"
   ]
  },
  {
   "cell_type": "markdown",
   "id": "bb9c350b-8e3d-4ff0-adc6-9a61b897880c",
   "metadata": {},
   "source": [
    "## Write a solution to:\n",
    "\n",
    "- Find the name of the user who has rated the greatest number of movies. In case of a tie, return the lexicographically smaller user name.\n",
    "- Find the movie name with the highest average rating in February 2020. In case of a tie, return the lexicographically smaller movie name."
   ]
  },
  {
   "cell_type": "code",
   "execution_count": null,
   "id": "2bc427b9-e95d-443e-a782-7b7d2abb31ce",
   "metadata": {},
   "outputs": [
    {
     "data": {
      "text/html": [
       "<table>\n",
       "<tr>\n",
       "<th>cat</th>\n",
       "<th>dog</th>\n",
       "</tr>\n",
       "<tr>\n",
       "<td>1</td>\n",
       "<td>3</td>\n",
       "</tr>\n",
       "<tr>\n",
       "<td>4</td>\n",
       "<td>2</td>\n",
       "</tr>\n",
       "</table>"
      ],
      "text/plain": [
       "+-----+-----+\n",
       "| cat | dog |\n",
       "+-----+-----+\n",
       "| 1   | 3   |\n",
       "+-----+-----+\n",
       "| 4   | 2   |\n",
       "+-----+-----+"
      ]
     },
     "execution_count": null,
     "metadata": {},
     "output_type": "execute_result"
    }
   ],
   "source": [
    "with t(cat, dog) as (select 4,2 union select 1,3)\n",
    "select * from t"
   ]
  },
  {
   "cell_type": "code",
   "execution_count": null,
   "id": "45029f7e-7c42-47c3-a858-acd46969d0a7",
   "metadata": {},
   "outputs": [
    {
     "data": {
      "text/html": [
       "<table>\n",
       "<tr>\n",
       "<th>movie_id</th>\n",
       "<th>user_id</th>\n",
       "<th>rating</th>\n",
       "<th>created_at</th>\n",
       "<th>name</th>\n",
       "<th>title</th>\n",
       "</tr>\n",
       "<tr>\n",
       "<td>1</td>\n",
       "<td>1</td>\n",
       "<td>3</td>\n",
       "<td>2020-01-12</td>\n",
       "<td>Daniel</td>\n",
       "<td>Avengers</td>\n",
       "</tr>\n",
       "<tr>\n",
       "<td>1</td>\n",
       "<td>2</td>\n",
       "<td>4</td>\n",
       "<td>2020-02-11</td>\n",
       "<td>Monica</td>\n",
       "<td>Avengers</td>\n",
       "</tr>\n",
       "<tr>\n",
       "<td>1</td>\n",
       "<td>3</td>\n",
       "<td>2</td>\n",
       "<td>2020-02-12</td>\n",
       "<td>Maria</td>\n",
       "<td>Avengers</td>\n",
       "</tr>\n",
       "<tr>\n",
       "<td>1</td>\n",
       "<td>4</td>\n",
       "<td>1</td>\n",
       "<td>2020-01-01</td>\n",
       "<td>James</td>\n",
       "<td>Avengers</td>\n",
       "</tr>\n",
       "<tr>\n",
       "<td>2</td>\n",
       "<td>1</td>\n",
       "<td>5</td>\n",
       "<td>2020-02-17</td>\n",
       "<td>Daniel</td>\n",
       "<td>Frozen 2</td>\n",
       "</tr>\n",
       "<tr>\n",
       "<td>2</td>\n",
       "<td>2</td>\n",
       "<td>2</td>\n",
       "<td>2020-02-01</td>\n",
       "<td>Monica</td>\n",
       "<td>Frozen 2</td>\n",
       "</tr>\n",
       "<tr>\n",
       "<td>2</td>\n",
       "<td>3</td>\n",
       "<td>2</td>\n",
       "<td>2020-03-01</td>\n",
       "<td>Maria</td>\n",
       "<td>Frozen 2</td>\n",
       "</tr>\n",
       "<tr>\n",
       "<td>3</td>\n",
       "<td>1</td>\n",
       "<td>3</td>\n",
       "<td>2020-02-22</td>\n",
       "<td>Daniel</td>\n",
       "<td>Joker</td>\n",
       "</tr>\n",
       "<tr>\n",
       "<td>3</td>\n",
       "<td>2</td>\n",
       "<td>4</td>\n",
       "<td>2020-02-25</td>\n",
       "<td>Monica</td>\n",
       "<td>Joker</td>\n",
       "</tr>\n",
       "</table>"
      ],
      "text/plain": [
       "+----------+---------+--------+------------+--------+----------+\n",
       "| movie_id | user_id | rating | created_at | name   | title    |\n",
       "+----------+---------+--------+------------+--------+----------+\n",
       "| 1        | 1       | 3      | 2020-01-12 | Daniel | Avengers |\n",
       "+----------+---------+--------+------------+--------+----------+\n",
       "| 1        | 2       | 4      | 2020-02-11 | Monica | Avengers |\n",
       "+----------+---------+--------+------------+--------+----------+\n",
       "| 1        | 3       | 2      | 2020-02-12 | Maria  | Avengers |\n",
       "+----------+---------+--------+------------+--------+----------+\n",
       "| 1        | 4       | 1      | 2020-01-01 | James  | Avengers |\n",
       "+----------+---------+--------+------------+--------+----------+\n",
       "| 2        | 1       | 5      | 2020-02-17 | Daniel | Frozen 2 |\n",
       "+----------+---------+--------+------------+--------+----------+\n",
       "| 2        | 2       | 2      | 2020-02-01 | Monica | Frozen 2 |\n",
       "+----------+---------+--------+------------+--------+----------+\n",
       "| 2        | 3       | 2      | 2020-03-01 | Maria  | Frozen 2 |\n",
       "+----------+---------+--------+------------+--------+----------+\n",
       "| 3        | 1       | 3      | 2020-02-22 | Daniel | Joker    |\n",
       "+----------+---------+--------+------------+--------+----------+\n",
       "| 3        | 2       | 4      | 2020-02-25 | Monica | Joker    |\n",
       "+----------+---------+--------+------------+--------+----------+"
      ]
     },
     "execution_count": null,
     "metadata": {},
     "output_type": "execute_result"
    }
   ],
   "source": [
    "select * from movierating left join userss using (user_id) left join movies using (movie_id)"
   ]
  },
  {
   "cell_type": "code",
   "execution_count": null,
   "id": "01b1a55e-3683-4659-94c1-a466712aabcd",
   "metadata": {},
   "outputs": [
    {
     "data": {
      "text/html": [
       "<table>\n",
       "<tr>\n",
       "<th>name</th>\n",
       "</tr>\n",
       "<tr>\n",
       "<td>Daniel</td>\n",
       "</tr>\n",
       "</table>"
      ],
      "text/plain": [
       "+--------+\n",
       "| name   |\n",
       "+--------+\n",
       "| Daniel |\n",
       "+--------+"
      ]
     },
     "execution_count": null,
     "metadata": {},
     "output_type": "execute_result"
    }
   ],
   "source": [
    "with t as (\n",
    "    select * from movierating left join userss using (user_id) left join movies using (movie_id)\n",
    ")\n",
    "\n",
    "select name from (\n",
    "    select name, count(*) cnt from t group by user_id, name order by cnt desc, name\n",
    ") limit 1"
   ]
  },
  {
   "cell_type": "code",
   "execution_count": null,
   "id": "1659f361-3057-4c59-8d39-1bf2e164834e",
   "metadata": {},
   "outputs": [
    {
     "data": {
      "text/html": [
       "<table>\n",
       "<tr>\n",
       "<th>title</th>\n",
       "</tr>\n",
       "<tr>\n",
       "<td>Frozen 2</td>\n",
       "</tr>\n",
       "</table>"
      ],
      "text/plain": [
       "+----------+\n",
       "| title    |\n",
       "+----------+\n",
       "| Frozen 2 |\n",
       "+----------+"
      ]
     },
     "execution_count": null,
     "metadata": {},
     "output_type": "execute_result"
    }
   ],
   "source": [
    "with t as (\n",
    "    select * from movierating left join userss using (user_id) left join movies using (movie_id)\n",
    ")\n",
    "\n",
    "select title from (\n",
    "    select title, avg(rating) avg from t where strftime('%Y-%m', created_at) = '2020-02' \n",
    "    group by movie_id, title \n",
    "    order by avg desc, title\n",
    "    limit 1)"
   ]
  },
  {
   "cell_type": "code",
   "execution_count": null,
   "id": "edc65c0e-7592-49da-aee5-3f3dee5e1ca5",
   "metadata": {},
   "outputs": [
    {
     "data": {
      "text/html": [
       "<table>\n",
       "<tr>\n",
       "<th>results</th>\n",
       "</tr>\n",
       "<tr>\n",
       "<td>Daniel</td>\n",
       "</tr>\n",
       "<tr>\n",
       "<td>Frozen 2</td>\n",
       "</tr>\n",
       "</table>"
      ],
      "text/plain": [
       "+----------+\n",
       "| results  |\n",
       "+----------+\n",
       "| Daniel   |\n",
       "+----------+\n",
       "| Frozen 2 |\n",
       "+----------+"
      ]
     },
     "execution_count": null,
     "metadata": {},
     "output_type": "execute_result"
    }
   ],
   "source": [
    "with t as (\n",
    "    select * from movierating left join userss using (user_id) left join movies using (movie_id)\n",
    ")\n",
    "\n",
    "select name as results from (\n",
    "    select name, count(*) cnt from t \n",
    "    group by user_id, name \n",
    "    order by cnt desc, name\n",
    "    limit 1\n",
    ")\n",
    "union all\n",
    "select title from (\n",
    "    select title, avg(rating) avg from t where strftime('%Y-%m', created_at) = '2020-02' \n",
    "    group by movie_id, title \n",
    "    order by avg desc, title\n",
    "    limit 1)"
   ]
  },
  {
   "cell_type": "code",
   "execution_count": null,
   "id": "5dd97983-4b27-4e09-82ab-eabc356619df",
   "metadata": {},
   "outputs": [],
   "source": []
  }
 ],
 "metadata": {
  "kernelspec": {
   "display_name": "xsqlite",
   "language": "sqlite",
   "name": "xsqlite"
  }
 },
 "nbformat": 4,
 "nbformat_minor": 5
}
