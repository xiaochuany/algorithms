{
 "cells": [
  {
   "cell_type": "code",
   "execution_count": null,
   "id": "32eb89c1-7266-466a-aef2-8cb9e1a188f0",
   "metadata": {},
   "outputs": [],
   "source": [
    "%load tutorial.db [rw]"
   ]
  },
  {
   "cell_type": "code",
   "execution_count": null,
   "id": "30cdfb49-fdf4-406b-add6-c75f27631ecb",
   "metadata": {},
   "outputs": [],
   "source": [
    "Create table If Not Exists Signups (user_id int, time_stamp datetime)"
   ]
  },
  {
   "cell_type": "code",
   "execution_count": null,
   "id": "4c06b9d4-68f3-459b-9ebe-85c01f576ba1",
   "metadata": {},
   "outputs": [],
   "source": [
    "Create table If Not Exists Confirmations (user_id int, time_stamp datetime, action text check( action in ('confirmed','timeout')))"
   ]
  },
  {
   "cell_type": "code",
   "execution_count": null,
   "id": "37e8fb69-d617-4928-9901-5fddc607dec2",
   "metadata": {},
   "outputs": [],
   "source": [
    "insert into Signups (user_id, time_stamp) values ('3', '2020-03-21 10:16:13')"
   ]
  },
  {
   "cell_type": "code",
   "execution_count": null,
   "id": "3f7678b7-7a73-4cd8-b765-96aa37fc0496",
   "metadata": {},
   "outputs": [],
   "source": [
    "insert into Signups (user_id, time_stamp) values ('7', '2020-01-04 13:57:59')"
   ]
  },
  {
   "cell_type": "code",
   "execution_count": null,
   "id": "a9672351-f916-43c9-805b-a8c5daed718d",
   "metadata": {},
   "outputs": [],
   "source": [
    "insert into Signups (user_id, time_stamp) values ('2', '2020-07-29 23:09:44')"
   ]
  },
  {
   "cell_type": "code",
   "execution_count": null,
   "id": "5e55cf05-2626-49c7-bd0d-3a154b7c5732",
   "metadata": {},
   "outputs": [],
   "source": [
    "insert into Signups (user_id, time_stamp) values ('6', '2020-12-09 10:39:37')"
   ]
  },
  {
   "cell_type": "code",
   "execution_count": null,
   "id": "e0ed3b35-5fc4-40b8-8b2f-4992fe7f3c69",
   "metadata": {},
   "outputs": [],
   "source": [
    "insert into Confirmations (user_id, time_stamp, action) values ('3', '2021-01-06 03:30:46', 'timeout')"
   ]
  },
  {
   "cell_type": "code",
   "execution_count": null,
   "id": "bec85fa0-45cd-4f49-aa14-7ab9dbc6f3b2",
   "metadata": {},
   "outputs": [],
   "source": [
    "insert into Confirmations (user_id, time_stamp, action) values ('3', '2021-07-14 14:00:00', 'timeout')"
   ]
  },
  {
   "cell_type": "code",
   "execution_count": null,
   "id": "f633f362-f281-4cf7-ac93-ac44a8cd69eb",
   "metadata": {},
   "outputs": [],
   "source": [
    "insert into Confirmations (user_id, time_stamp, action) values ('7', '2021-06-12 11:57:29', 'confirmed')"
   ]
  },
  {
   "cell_type": "code",
   "execution_count": null,
   "id": "fb30419e-c5a3-414c-b73d-b339ac45557c",
   "metadata": {},
   "outputs": [],
   "source": [
    "insert into Confirmations (user_id, time_stamp, action) values ('7', '2021-06-13 12:58:28', 'confirmed')"
   ]
  },
  {
   "cell_type": "code",
   "execution_count": null,
   "id": "d45ea667-4891-44da-9838-ffc5dfd5ede6",
   "metadata": {},
   "outputs": [],
   "source": [
    "insert into Confirmations (user_id, time_stamp, action) values ('7', '2021-06-14 13:59:27', 'confirmed')"
   ]
  },
  {
   "cell_type": "code",
   "execution_count": null,
   "id": "d25afdad-3f6f-418e-8ce4-428d47dd2383",
   "metadata": {},
   "outputs": [],
   "source": [
    "insert into Confirmations (user_id, time_stamp, action) values ('2', '2021-01-22 00:00:00', 'confirmed')"
   ]
  },
  {
   "cell_type": "code",
   "execution_count": null,
   "id": "d1b562b1-1d5e-4d29-a168-813bd9e3a541",
   "metadata": {},
   "outputs": [],
   "source": [
    "insert into Confirmations (user_id, time_stamp, action) values ('2', '2021-02-28 23:59:59', 'timeout')"
   ]
  },
  {
   "cell_type": "code",
   "execution_count": null,
   "id": "ddac7b5f-e8e7-4ce3-80bf-0878ab628a84",
   "metadata": {},
   "outputs": [
    {
     "data": {
      "text/html": [
       "<table>\n",
       "<tr>\n",
       "<th>user_id</th>\n",
       "<th>time_stamp</th>\n",
       "</tr>\n",
       "<tr>\n",
       "<td>3</td>\n",
       "<td>2020-03-21 10:16:13</td>\n",
       "</tr>\n",
       "<tr>\n",
       "<td>7</td>\n",
       "<td>2020-01-04 13:57:59</td>\n",
       "</tr>\n",
       "<tr>\n",
       "<td>2</td>\n",
       "<td>2020-07-29 23:09:44</td>\n",
       "</tr>\n",
       "<tr>\n",
       "<td>6</td>\n",
       "<td>2020-12-09 10:39:37</td>\n",
       "</tr>\n",
       "</table>"
      ],
      "text/plain": [
       "+---------+---------------------+\n",
       "| user_id | time_stamp          |\n",
       "+---------+---------------------+\n",
       "| 3       | 2020-03-21 10:16:13 |\n",
       "+---------+---------------------+\n",
       "| 7       | 2020-01-04 13:57:59 |\n",
       "+---------+---------------------+\n",
       "| 2       | 2020-07-29 23:09:44 |\n",
       "+---------+---------------------+\n",
       "| 6       | 2020-12-09 10:39:37 |\n",
       "+---------+---------------------+"
      ]
     },
     "execution_count": null,
     "metadata": {},
     "output_type": "execute_result"
    }
   ],
   "source": [
    "select * from signups"
   ]
  },
  {
   "cell_type": "code",
   "execution_count": null,
   "id": "07bb9df6-58e9-4bc3-9a21-8be628a953fb",
   "metadata": {},
   "outputs": [
    {
     "data": {
      "text/html": [
       "<table>\n",
       "<tr>\n",
       "<th>user_id</th>\n",
       "<th>time_stamp</th>\n",
       "<th>action</th>\n",
       "</tr>\n",
       "<tr>\n",
       "<td>3</td>\n",
       "<td>2021-01-06 03:30:46</td>\n",
       "<td>timeout</td>\n",
       "</tr>\n",
       "<tr>\n",
       "<td>3</td>\n",
       "<td>2021-07-14 14:00:00</td>\n",
       "<td>timeout</td>\n",
       "</tr>\n",
       "<tr>\n",
       "<td>7</td>\n",
       "<td>2021-06-12 11:57:29</td>\n",
       "<td>confirmed</td>\n",
       "</tr>\n",
       "<tr>\n",
       "<td>7</td>\n",
       "<td>2021-06-13 12:58:28</td>\n",
       "<td>confirmed</td>\n",
       "</tr>\n",
       "<tr>\n",
       "<td>7</td>\n",
       "<td>2021-06-14 13:59:27</td>\n",
       "<td>confirmed</td>\n",
       "</tr>\n",
       "<tr>\n",
       "<td>2</td>\n",
       "<td>2021-01-22 00:00:00</td>\n",
       "<td>confirmed</td>\n",
       "</tr>\n",
       "<tr>\n",
       "<td>2</td>\n",
       "<td>2021-02-28 23:59:59</td>\n",
       "<td>timeout</td>\n",
       "</tr>\n",
       "</table>"
      ],
      "text/plain": [
       "+---------+---------------------+-----------+\n",
       "| user_id | time_stamp          | action    |\n",
       "+---------+---------------------+-----------+\n",
       "| 3       | 2021-01-06 03:30:46 | timeout   |\n",
       "+---------+---------------------+-----------+\n",
       "| 3       | 2021-07-14 14:00:00 | timeout   |\n",
       "+---------+---------------------+-----------+\n",
       "| 7       | 2021-06-12 11:57:29 | confirmed |\n",
       "+---------+---------------------+-----------+\n",
       "| 7       | 2021-06-13 12:58:28 | confirmed |\n",
       "+---------+---------------------+-----------+\n",
       "| 7       | 2021-06-14 13:59:27 | confirmed |\n",
       "+---------+---------------------+-----------+\n",
       "| 2       | 2021-01-22 00:00:00 | confirmed |\n",
       "+---------+---------------------+-----------+\n",
       "| 2       | 2021-02-28 23:59:59 | timeout   |\n",
       "+---------+---------------------+-----------+"
      ]
     },
     "execution_count": null,
     "metadata": {},
     "output_type": "execute_result"
    }
   ],
   "source": [
    "select * from confirmations"
   ]
  },
  {
   "cell_type": "markdown",
   "id": "5439f0fe-5692-40b4-91ee-714908b6834f",
   "metadata": {},
   "source": [
    "## Write a solution to find the confirmation rate of each user.\n",
    "\n",
    "The confirmation rate of a user is the number of 'confirmed' messages divided by the total number of requested confirmation messages. The confirmation rate of a user that did not request any confirmation messages is 0. Round the confirmation rate to two decimal places.\r",
    ".\r\n",
    "\r\n",
    "Return the result table in any order."
   ]
  },
  {
   "cell_type": "code",
   "execution_count": null,
   "id": "7c22fa6d-26d4-4a51-b2c6-34cbbe0948df",
   "metadata": {},
   "outputs": [
    {
     "data": {
      "text/html": [
       "<table>\n",
       "<tr>\n",
       "<th>user_id</th>\n",
       "<th>sum(case when action='confirmed' then 1.0 else 0 end)</th>\n",
       "<th>count(*)</th>\n",
       "</tr>\n",
       "<tr>\n",
       "<td>2</td>\n",
       "<td>1.0</td>\n",
       "<td>2</td>\n",
       "</tr>\n",
       "<tr>\n",
       "<td>3</td>\n",
       "<td>0</td>\n",
       "<td>2</td>\n",
       "</tr>\n",
       "<tr>\n",
       "<td>7</td>\n",
       "<td>3.0</td>\n",
       "<td>3</td>\n",
       "</tr>\n",
       "</table>"
      ],
      "text/plain": [
       "+---------+-------------------------------------------------------+----------+\n",
       "| user_id | sum(case when action='confirmed' then 1.0 else 0 end) | count(*) |\n",
       "+---------+-------------------------------------------------------+----------+\n",
       "| 2       | 1.0                                                   | 2        |\n",
       "+---------+-------------------------------------------------------+----------+\n",
       "| 3       | 0                                                     | 2        |\n",
       "+---------+-------------------------------------------------------+----------+\n",
       "| 7       | 3.0                                                   | 3        |\n",
       "+---------+-------------------------------------------------------+----------+"
      ]
     },
     "execution_count": null,
     "metadata": {},
     "output_type": "execute_result"
    }
   ],
   "source": [
    "select user_id, sum(case when action='confirmed' then 1.0 else 0 end), count(*) from confirmations group by user_id"
   ]
  },
  {
   "cell_type": "code",
   "execution_count": null,
   "id": "70f39796-e851-4f35-a19b-a82458b698e2",
   "metadata": {},
   "outputs": [
    {
     "data": {
      "text/html": [
       "<table>\n",
       "<tr>\n",
       "<th>user_id</th>\n",
       "<th>case when T.confirmation_rate is null then 0 else T.confirmation_rate end</th>\n",
       "</tr>\n",
       "<tr>\n",
       "<td>3</td>\n",
       "<td>0</td>\n",
       "</tr>\n",
       "<tr>\n",
       "<td>7</td>\n",
       "<td>1.0</td>\n",
       "</tr>\n",
       "<tr>\n",
       "<td>2</td>\n",
       "<td>0.5</td>\n",
       "</tr>\n",
       "<tr>\n",
       "<td>6</td>\n",
       "<td>0</td>\n",
       "</tr>\n",
       "</table>"
      ],
      "text/plain": [
       "+---------+---------------------------------------------------------------------------+\n",
       "| user_id | case when T.confirmation_rate is null then 0 else T.confirmation_rate end |\n",
       "+---------+---------------------------------------------------------------------------+\n",
       "| 3       | 0                                                                         |\n",
       "+---------+---------------------------------------------------------------------------+\n",
       "| 7       | 1.0                                                                       |\n",
       "+---------+---------------------------------------------------------------------------+\n",
       "| 2       | 0.5                                                                       |\n",
       "+---------+---------------------------------------------------------------------------+\n",
       "| 6       | 0                                                                         |\n",
       "+---------+---------------------------------------------------------------------------+"
      ]
     },
     "execution_count": null,
     "metadata": {},
     "output_type": "execute_result"
    }
   ],
   "source": [
    "select user_id, case when T.confirmation_rate is null then 0 else T.confirmation_rate end\n",
    "from signups left join (\n",
    "    select user_id, sum(case when action='confirmed' then 1.0 else 0 end)/count(*) confirmation_rate from confirmations group by user_id \n",
    ") T\n",
    "using (user_id)"
   ]
  },
  {
   "cell_type": "code",
   "execution_count": null,
   "id": "6c2131c9-f632-438e-8562-0ad857938b4e",
   "metadata": {},
   "outputs": [],
   "source": []
  }
 ],
 "metadata": {
  "kernelspec": {
   "display_name": "xsqlite",
   "language": "sqlite",
   "name": "xsqlite"
  }
 },
 "nbformat": 4,
 "nbformat_minor": 5
}
