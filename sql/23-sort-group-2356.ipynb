{
 "cells": [
  {
   "cell_type": "code",
   "execution_count": null,
   "id": "9cac8517-b435-4ded-8cfa-489698b47d94",
   "metadata": {},
   "outputs": [],
   "source": [
    "%load tutorial.db [rw]"
   ]
  },
  {
   "cell_type": "code",
   "execution_count": null,
   "id": "ac3a01dc-b6f9-455e-b497-a09ff290df13",
   "metadata": {},
   "outputs": [],
   "source": [
    "Create table If Not Exists Teacher (teacher_id int, subject_id int, dept_id int)"
   ]
  },
  {
   "cell_type": "code",
   "execution_count": null,
   "id": "26b5394c-a1a6-48b3-a5cf-1ef49c2c509d",
   "metadata": {},
   "outputs": [],
   "source": [
    "insert into Teacher (teacher_id, subject_id, dept_id) values ('1', '2', '3')"
   ]
  },
  {
   "cell_type": "code",
   "execution_count": null,
   "id": "a3a2c0f1-d3d9-4d62-be9e-7b1779a9a0d0",
   "metadata": {},
   "outputs": [],
   "source": [
    "insert into Teacher (teacher_id, subject_id, dept_id) values ('1', '2', '4')"
   ]
  },
  {
   "cell_type": "code",
   "execution_count": null,
   "id": "ed3ec8a3-48be-4032-9fb1-680e257df3ae",
   "metadata": {},
   "outputs": [],
   "source": [
    "insert into Teacher (teacher_id, subject_id, dept_id) values ('1', '3', '3')"
   ]
  },
  {
   "cell_type": "code",
   "execution_count": null,
   "id": "d046f8f7-a0f9-428f-851b-7c179095afba",
   "metadata": {},
   "outputs": [],
   "source": [
    "insert into Teacher (teacher_id, subject_id, dept_id) values ('2', '1', '1')"
   ]
  },
  {
   "cell_type": "code",
   "execution_count": null,
   "id": "f7a53392-afef-456e-918f-751e26bdca83",
   "metadata": {},
   "outputs": [],
   "source": [
    "insert into Teacher (teacher_id, subject_id, dept_id) values ('2', '2', '1')"
   ]
  },
  {
   "cell_type": "code",
   "execution_count": null,
   "id": "57c7ff13-7a70-4983-ab27-f067fe99f3d7",
   "metadata": {},
   "outputs": [],
   "source": [
    "insert into Teacher (teacher_id, subject_id, dept_id) values ('2', '3', '1')"
   ]
  },
  {
   "cell_type": "code",
   "execution_count": null,
   "id": "f29a8946-cb94-421a-bae5-7a7825360869",
   "metadata": {},
   "outputs": [],
   "source": [
    "insert into Teacher (teacher_id, subject_id, dept_id) values ('2', '4', '1')"
   ]
  },
  {
   "cell_type": "code",
   "execution_count": null,
   "id": "8928eb96-12a0-4817-981a-08e676386c6f",
   "metadata": {},
   "outputs": [
    {
     "data": {
      "text/html": [
       "<table>\n",
       "<tr>\n",
       "<th>teacher_id</th>\n",
       "<th>subject_id</th>\n",
       "<th>dept_id</th>\n",
       "</tr>\n",
       "<tr>\n",
       "<td>1</td>\n",
       "<td>2</td>\n",
       "<td>3</td>\n",
       "</tr>\n",
       "<tr>\n",
       "<td>1</td>\n",
       "<td>2</td>\n",
       "<td>4</td>\n",
       "</tr>\n",
       "<tr>\n",
       "<td>1</td>\n",
       "<td>3</td>\n",
       "<td>3</td>\n",
       "</tr>\n",
       "<tr>\n",
       "<td>2</td>\n",
       "<td>1</td>\n",
       "<td>1</td>\n",
       "</tr>\n",
       "<tr>\n",
       "<td>2</td>\n",
       "<td>2</td>\n",
       "<td>1</td>\n",
       "</tr>\n",
       "<tr>\n",
       "<td>2</td>\n",
       "<td>3</td>\n",
       "<td>1</td>\n",
       "</tr>\n",
       "<tr>\n",
       "<td>2</td>\n",
       "<td>4</td>\n",
       "<td>1</td>\n",
       "</tr>\n",
       "</table>"
      ],
      "text/plain": [
       "+------------+------------+---------+\n",
       "| teacher_id | subject_id | dept_id |\n",
       "+------------+------------+---------+\n",
       "| 1          | 2          | 3       |\n",
       "+------------+------------+---------+\n",
       "| 1          | 2          | 4       |\n",
       "+------------+------------+---------+\n",
       "| 1          | 3          | 3       |\n",
       "+------------+------------+---------+\n",
       "| 2          | 1          | 1       |\n",
       "+------------+------------+---------+\n",
       "| 2          | 2          | 1       |\n",
       "+------------+------------+---------+\n",
       "| 2          | 3          | 1       |\n",
       "+------------+------------+---------+\n",
       "| 2          | 4          | 1       |\n",
       "+------------+------------+---------+"
      ]
     },
     "execution_count": null,
     "metadata": {},
     "output_type": "execute_result"
    }
   ],
   "source": [
    "select * from teacher"
   ]
  },
  {
   "cell_type": "markdown",
   "id": "40dd1893-91f5-4803-b886-18d05e11a9ef",
   "metadata": {},
   "source": [
    "## Write a solution to calculate the number of unique subjects each teacher teaches in the university."
   ]
  },
  {
   "cell_type": "code",
   "execution_count": null,
   "id": "0abd5e20-e0a6-4c67-8ca3-869360ff0f9a",
   "metadata": {},
   "outputs": [
    {
     "data": {
      "text/html": [
       "<table>\n",
       "<tr>\n",
       "<th>teacher_id</th>\n",
       "<th>cnt</th>\n",
       "</tr>\n",
       "<tr>\n",
       "<td>1</td>\n",
       "<td>2</td>\n",
       "</tr>\n",
       "<tr>\n",
       "<td>2</td>\n",
       "<td>4</td>\n",
       "</tr>\n",
       "</table>"
      ],
      "text/plain": [
       "+------------+-----+\n",
       "| teacher_id | cnt |\n",
       "+------------+-----+\n",
       "| 1          | 2   |\n",
       "+------------+-----+\n",
       "| 2          | 4   |\n",
       "+------------+-----+"
      ]
     },
     "execution_count": null,
     "metadata": {},
     "output_type": "execute_result"
    }
   ],
   "source": [
    "select teacher_id, count(distinct subject_id) cnt from teacher group by teacher_id "
   ]
  },
  {
   "cell_type": "code",
   "execution_count": null,
   "id": "4bd31fe6-19e4-4060-a59d-a2443430a918",
   "metadata": {},
   "outputs": [],
   "source": []
  },
  {
   "cell_type": "code",
   "execution_count": null,
   "id": "b87fd960-12f1-409d-84a4-b98275595571",
   "metadata": {},
   "outputs": [],
   "source": []
  }
 ],
 "metadata": {
  "kernelspec": {
   "display_name": "xsqlite",
   "language": "sqlite",
   "name": "xsqlite"
  }
 },
 "nbformat": 4,
 "nbformat_minor": 5
}
