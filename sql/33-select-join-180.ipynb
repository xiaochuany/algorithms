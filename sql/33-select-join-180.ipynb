{
 "cells": [
  {
   "cell_type": "code",
   "execution_count": null,
   "id": "6395bdea-e6d5-4ef2-b411-5f96c42922ef",
   "metadata": {},
   "outputs": [],
   "source": [
    "%load tutorial.db [rw]"
   ]
  },
  {
   "cell_type": "code",
   "execution_count": null,
   "id": "3d9605dc-dc2c-45df-9aba-35e779b99d53",
   "metadata": {},
   "outputs": [],
   "source": [
    "Create table If Not Exists Logs (id int, num int)"
   ]
  },
  {
   "cell_type": "code",
   "execution_count": null,
   "id": "373adea1-72b3-4bdb-a907-e71db03b2eee",
   "metadata": {},
   "outputs": [],
   "source": [
    "insert into Logs (id, num) values ('1', '1')"
   ]
  },
  {
   "cell_type": "code",
   "execution_count": null,
   "id": "7d9cc729-3d4b-4d1f-a3dc-16703272bb0c",
   "metadata": {},
   "outputs": [],
   "source": [
    "insert into Logs (id, num) values ('2', '1')"
   ]
  },
  {
   "cell_type": "code",
   "execution_count": null,
   "id": "37a2b094-f87f-462e-9f6d-164e1e4ffb25",
   "metadata": {},
   "outputs": [],
   "source": [
    "insert into Logs (id, num) values ('3', '1')"
   ]
  },
  {
   "cell_type": "code",
   "execution_count": null,
   "id": "ee4ebc62-d47a-49f4-b48d-c3a135760594",
   "metadata": {},
   "outputs": [],
   "source": [
    "insert into Logs (id, num) values ('4', '2')"
   ]
  },
  {
   "cell_type": "code",
   "execution_count": null,
   "id": "ebf25aa2-72e6-4ce4-92b8-39c4faf8eb93",
   "metadata": {},
   "outputs": [],
   "source": [
    "insert into Logs (id, num) values ('5', '1')"
   ]
  },
  {
   "cell_type": "code",
   "execution_count": null,
   "id": "eb6eb70f-eca5-4559-83b4-35efc2ca94a5",
   "metadata": {},
   "outputs": [],
   "source": [
    "insert into Logs (id, num) values ('6', '2')"
   ]
  },
  {
   "cell_type": "code",
   "execution_count": null,
   "id": "8b2bcf8e-e796-4db9-afd7-2ba2e97f5fad",
   "metadata": {},
   "outputs": [],
   "source": [
    "insert into Logs (id, num) values ('7', '2')"
   ]
  },
  {
   "cell_type": "code",
   "execution_count": null,
   "id": "54c109d6-d524-4eea-9e1f-764d9022f120",
   "metadata": {},
   "outputs": [
    {
     "data": {
      "text/html": [
       "<table>\n",
       "<tr>\n",
       "<th>id</th>\n",
       "<th>num</th>\n",
       "</tr>\n",
       "<tr>\n",
       "<td>1</td>\n",
       "<td>1</td>\n",
       "</tr>\n",
       "<tr>\n",
       "<td>2</td>\n",
       "<td>1</td>\n",
       "</tr>\n",
       "<tr>\n",
       "<td>3</td>\n",
       "<td>1</td>\n",
       "</tr>\n",
       "<tr>\n",
       "<td>4</td>\n",
       "<td>2</td>\n",
       "</tr>\n",
       "<tr>\n",
       "<td>5</td>\n",
       "<td>1</td>\n",
       "</tr>\n",
       "<tr>\n",
       "<td>6</td>\n",
       "<td>2</td>\n",
       "</tr>\n",
       "<tr>\n",
       "<td>7</td>\n",
       "<td>2</td>\n",
       "</tr>\n",
       "</table>"
      ],
      "text/plain": [
       "+----+-----+\n",
       "| id | num |\n",
       "+----+-----+\n",
       "| 1  | 1   |\n",
       "+----+-----+\n",
       "| 2  | 1   |\n",
       "+----+-----+\n",
       "| 3  | 1   |\n",
       "+----+-----+\n",
       "| 4  | 2   |\n",
       "+----+-----+\n",
       "| 5  | 1   |\n",
       "+----+-----+\n",
       "| 6  | 2   |\n",
       "+----+-----+\n",
       "| 7  | 2   |\n",
       "+----+-----+"
      ]
     },
     "execution_count": null,
     "metadata": {},
     "output_type": "execute_result"
    }
   ],
   "source": [
    "select * from logs"
   ]
  },
  {
   "cell_type": "code",
   "execution_count": null,
   "id": "0b3a4c6a-6fe4-4b5a-9e66-6a3f8d24c8c3",
   "metadata": {},
   "outputs": [
    {
     "data": {
      "text/html": [
       "<table>\n",
       "<tr>\n",
       "<th>ConsecutiveNums</th>\n",
       "</tr>\n",
       "<tr>\n",
       "<td>1</td>\n",
       "</tr>\n",
       "</table>"
      ],
      "text/plain": [
       "+-----------------+\n",
       "| ConsecutiveNums |\n",
       "+-----------------+\n",
       "| 1               |\n",
       "+-----------------+"
      ]
     },
     "execution_count": null,
     "metadata": {},
     "output_type": "execute_result"
    }
   ],
   "source": [
    "select distinct l1.num ConsecutiveNums\n",
    "from logs l1, logs l2, logs l3\n",
    "where l1.id = l2.id+1 and l1.id = l3.id+2 and l1.num=l2.num and l1.num=l3.num"
   ]
  },
  {
   "cell_type": "code",
   "execution_count": null,
   "id": "c837791c-83e9-4e76-8f56-5fa79395b497",
   "metadata": {},
   "outputs": [],
   "source": []
  }
 ],
 "metadata": {
  "kernelspec": {
   "display_name": "xsqlite",
   "language": "sqlite",
   "name": "xsqlite"
  }
 },
 "nbformat": 4,
 "nbformat_minor": 5
}
