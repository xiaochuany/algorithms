{
 "cells": [
  {
   "cell_type": "code",
   "execution_count": null,
   "id": "fbcfa498-67f7-4b92-aa2d-4802f0bc7722",
   "metadata": {},
   "outputs": [],
   "source": [
    "%load tutorial.db [rw]"
   ]
  },
  {
   "cell_type": "code",
   "execution_count": null,
   "id": "01cec833-f8ef-425a-b82b-857a9539fdca",
   "metadata": {},
   "outputs": [],
   "source": [
    "Create table If Not Exists Triangle (x int, y int, z int)"
   ]
  },
  {
   "cell_type": "code",
   "execution_count": null,
   "id": "ab750210-0868-456f-8372-db1cf4010094",
   "metadata": {},
   "outputs": [],
   "source": [
    "insert into Triangle (x, y, z) values ('13', '15', '30')"
   ]
  },
  {
   "cell_type": "code",
   "execution_count": null,
   "id": "4b65af5d-702e-4d06-b0aa-0e3c3d4a18e6",
   "metadata": {},
   "outputs": [],
   "source": [
    "insert into Triangle (x, y, z) values ('10', '20', '15')"
   ]
  },
  {
   "cell_type": "code",
   "execution_count": null,
   "id": "58a0ef35-1934-4c82-bc39-aa6d3bea3ee1",
   "metadata": {},
   "outputs": [
    {
     "data": {
      "text/html": [
       "<table>\n",
       "<tr>\n",
       "<th>x</th>\n",
       "<th>y</th>\n",
       "<th>z</th>\n",
       "</tr>\n",
       "<tr>\n",
       "<td>13</td>\n",
       "<td>15</td>\n",
       "<td>30</td>\n",
       "</tr>\n",
       "<tr>\n",
       "<td>10</td>\n",
       "<td>20</td>\n",
       "<td>15</td>\n",
       "</tr>\n",
       "</table>"
      ],
      "text/plain": [
       "+----+----+----+\n",
       "| x  | y  | z  |\n",
       "+----+----+----+\n",
       "| 13 | 15 | 30 |\n",
       "+----+----+----+\n",
       "| 10 | 20 | 15 |\n",
       "+----+----+----+"
      ]
     },
     "execution_count": null,
     "metadata": {},
     "output_type": "execute_result"
    }
   ],
   "source": [
    "select * from triangle"
   ]
  },
  {
   "cell_type": "code",
   "execution_count": null,
   "id": "4c80c2c3-a6af-41e2-bdee-5dc9fdb133a7",
   "metadata": {},
   "outputs": [
    {
     "data": {
      "text/html": [
       "<table>\n",
       "<tr>\n",
       "<th>x</th>\n",
       "<th>y</th>\n",
       "<th>z</th>\n",
       "<th>triangle</th>\n",
       "</tr>\n",
       "<tr>\n",
       "<td>13</td>\n",
       "<td>15</td>\n",
       "<td>30</td>\n",
       "<td>Yes</td>\n",
       "</tr>\n",
       "<tr>\n",
       "<td>10</td>\n",
       "<td>20</td>\n",
       "<td>15</td>\n",
       "<td>No</td>\n",
       "</tr>\n",
       "</table>"
      ],
      "text/plain": [
       "+----+----+----+----------+\n",
       "| x  | y  | z  | triangle |\n",
       "+----+----+----+----------+\n",
       "| 13 | 15 | 30 | Yes      |\n",
       "+----+----+----+----------+\n",
       "| 10 | 20 | 15 | No       |\n",
       "+----+----+----+----------+"
      ]
     },
     "execution_count": null,
     "metadata": {},
     "output_type": "execute_result"
    }
   ],
   "source": [
    "select x,y,z, case when x+y>z and x+z>y and y+z>x then 'No' else 'Yes' end triangle from triangle"
   ]
  },
  {
   "cell_type": "code",
   "execution_count": null,
   "id": "7ccf5128-f96a-4b56-8fbe-4006e1af5f2f",
   "metadata": {},
   "outputs": [],
   "source": []
  }
 ],
 "metadata": {
  "kernelspec": {
   "display_name": "xsqlite",
   "language": "sqlite",
   "name": "xsqlite"
  }
 },
 "nbformat": 4,
 "nbformat_minor": 5
}
