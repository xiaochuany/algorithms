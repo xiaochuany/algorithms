{
 "cells": [
  {
   "cell_type": "code",
   "execution_count": null,
   "id": "882a7708-9680-4288-aec2-2f9a8dff17c0",
   "metadata": {},
   "outputs": [],
   "source": [
    "%load tutorial.db [rw]"
   ]
  },
  {
   "cell_type": "code",
   "execution_count": null,
   "id": "efd1a3ef-5eec-4497-ac8d-5f037d426a44",
   "metadata": {},
   "outputs": [],
   "source": [
    "Create Table If Not Exists Insurance (pid int, tiv_2015 float, tiv_2016 float, lat float, lon float)"
   ]
  },
  {
   "cell_type": "code",
   "execution_count": null,
   "id": "8dd0928b-6490-4f8b-b5db-5470d53a4dcc",
   "metadata": {},
   "outputs": [],
   "source": [
    "insert into Insurance (pid, tiv_2015, tiv_2016, lat, lon) values ('1', '10', '5', '10', '10')"
   ]
  },
  {
   "cell_type": "code",
   "execution_count": null,
   "id": "b8afb634-dcc7-42d5-9a7b-9c8fc67d928a",
   "metadata": {},
   "outputs": [],
   "source": [
    "insert into Insurance (pid, tiv_2015, tiv_2016, lat, lon) values ('2', '20', '20', '20', '20')"
   ]
  },
  {
   "cell_type": "code",
   "execution_count": null,
   "id": "4bb35f70-8bce-4a55-b499-743f397b0edb",
   "metadata": {},
   "outputs": [],
   "source": [
    "insert into Insurance (pid, tiv_2015, tiv_2016, lat, lon) values ('3', '10', '30', '20', '20')"
   ]
  },
  {
   "cell_type": "code",
   "execution_count": null,
   "id": "bd9ad00e-48dd-45dd-8d7c-38987ace3771",
   "metadata": {},
   "outputs": [],
   "source": [
    "insert into Insurance (pid, tiv_2015, tiv_2016, lat, lon) values ('4', '10', '40', '40', '40')"
   ]
  },
  {
   "cell_type": "code",
   "execution_count": null,
   "id": "a3260b78-8e75-4ee2-ab38-5dcc136ee36b",
   "metadata": {},
   "outputs": [
    {
     "data": {
      "text/html": [
       "<table>\n",
       "<tr>\n",
       "<th>pid</th>\n",
       "<th>tiv_2015</th>\n",
       "<th>tiv_2016</th>\n",
       "<th>lat</th>\n",
       "<th>lon</th>\n",
       "</tr>\n",
       "<tr>\n",
       "<td>1</td>\n",
       "<td>10.0</td>\n",
       "<td>5.0</td>\n",
       "<td>10.0</td>\n",
       "<td>10.0</td>\n",
       "</tr>\n",
       "<tr>\n",
       "<td>2</td>\n",
       "<td>20.0</td>\n",
       "<td>20.0</td>\n",
       "<td>20.0</td>\n",
       "<td>20.0</td>\n",
       "</tr>\n",
       "<tr>\n",
       "<td>3</td>\n",
       "<td>10.0</td>\n",
       "<td>30.0</td>\n",
       "<td>20.0</td>\n",
       "<td>20.0</td>\n",
       "</tr>\n",
       "<tr>\n",
       "<td>4</td>\n",
       "<td>10.0</td>\n",
       "<td>40.0</td>\n",
       "<td>40.0</td>\n",
       "<td>40.0</td>\n",
       "</tr>\n",
       "</table>"
      ],
      "text/plain": [
       "+-----+----------+----------+------+------+\n",
       "| pid | tiv_2015 | tiv_2016 | lat  | lon  |\n",
       "+-----+----------+----------+------+------+\n",
       "| 1   | 10.0     | 5.0      | 10.0 | 10.0 |\n",
       "+-----+----------+----------+------+------+\n",
       "| 2   | 20.0     | 20.0     | 20.0 | 20.0 |\n",
       "+-----+----------+----------+------+------+\n",
       "| 3   | 10.0     | 30.0     | 20.0 | 20.0 |\n",
       "+-----+----------+----------+------+------+\n",
       "| 4   | 10.0     | 40.0     | 40.0 | 40.0 |\n",
       "+-----+----------+----------+------+------+"
      ]
     },
     "execution_count": null,
     "metadata": {},
     "output_type": "execute_result"
    }
   ],
   "source": [
    "select * from insurance"
   ]
  },
  {
   "cell_type": "markdown",
   "id": "2ea56d6a-8f4e-44a0-b26a-08e547238258",
   "metadata": {},
   "source": [
    "## Write a solution to report the sum of all total investment values in 2016 tiv_2016, for all policyholders who:\n",
    "- have the same tiv_2015 value as one or more other policyholders, and  \n",
    "- are not located in the same city as any other policyholder (i.e., the (lat, lon) attribute pairs must be unique)."
   ]
  },
  {
   "cell_type": "code",
   "execution_count": null,
   "id": "2d0cf3bf-e6a7-4bfb-ba56-c0a9485a2afd",
   "metadata": {},
   "outputs": [
    {
     "data": {
      "text/html": [
       "<table>\n",
       "<tr>\n",
       "<th>tiv_2015</th>\n",
       "</tr>\n",
       "<tr>\n",
       "<td>10.0</td>\n",
       "</tr>\n",
       "</table>"
      ],
      "text/plain": [
       "+----------+\n",
       "| tiv_2015 |\n",
       "+----------+\n",
       "| 10.0     |\n",
       "+----------+"
      ]
     },
     "execution_count": null,
     "metadata": {},
     "output_type": "execute_result"
    }
   ],
   "source": [
    "select tiv_2015 from (select tiv_2015, count(*) cnt from insurance group by tiv_2015) where cnt>1"
   ]
  },
  {
   "cell_type": "code",
   "execution_count": null,
   "id": "1c3d8177-c392-4e33-ad3e-67d20efa8bb8",
   "metadata": {},
   "outputs": [
    {
     "data": {
      "text/html": [
       "<table>\n",
       "<tr>\n",
       "<th>lat</th>\n",
       "<th>lon</th>\n",
       "</tr>\n",
       "<tr>\n",
       "<td>10.0</td>\n",
       "<td>10.0</td>\n",
       "</tr>\n",
       "<tr>\n",
       "<td>40.0</td>\n",
       "<td>40.0</td>\n",
       "</tr>\n",
       "</table>"
      ],
      "text/plain": [
       "+------+------+\n",
       "| lat  | lon  |\n",
       "+------+------+\n",
       "| 10.0 | 10.0 |\n",
       "+------+------+\n",
       "| 40.0 | 40.0 |\n",
       "+------+------+"
      ]
     },
     "execution_count": null,
     "metadata": {},
     "output_type": "execute_result"
    }
   ],
   "source": [
    "select lat,lon from (select lat,lon, count(*) cnt from insurance group by lat,lon) where cnt=1"
   ]
  },
  {
   "cell_type": "code",
   "execution_count": null,
   "id": "e8f9cfb0-af16-4815-b8a9-098e899e6b0f",
   "metadata": {},
   "outputs": [
    {
     "data": {
      "text/html": [
       "<table>\n",
       "<tr>\n",
       "<th>pid</th>\n",
       "</tr>\n",
       "<tr>\n",
       "<td>1</td>\n",
       "</tr>\n",
       "<tr>\n",
       "<td>4</td>\n",
       "</tr>\n",
       "</table>"
      ],
      "text/plain": [
       "+-----+\n",
       "| pid |\n",
       "+-----+\n",
       "| 1   |\n",
       "+-----+\n",
       "| 4   |\n",
       "+-----+"
      ]
     },
     "execution_count": null,
     "metadata": {},
     "output_type": "execute_result"
    }
   ],
   "source": [
    "select pid from insurance where tiv_2015 in (\n",
    "    select tiv_2015 from (select tiv_2015, count(*) cnt from insurance group by tiv_2015) where cnt>1\n",
    ") and \n",
    "(lat,lon) in (\n",
    "    select lat,lon from (select lat,lon, count(*) cnt from insurance group by lat,lon) where cnt=1\n",
    ")"
   ]
  },
  {
   "cell_type": "code",
   "execution_count": null,
   "id": "2dee2411-5a01-4f7f-9b05-457900c3339e",
   "metadata": {},
   "outputs": [
    {
     "data": {
      "text/html": [
       "<table>\n",
       "<tr>\n",
       "<th>sum(tiv_2016)</th>\n",
       "</tr>\n",
       "<tr>\n",
       "<td>45.0</td>\n",
       "</tr>\n",
       "</table>"
      ],
      "text/plain": [
       "+---------------+\n",
       "| sum(tiv_2016) |\n",
       "+---------------+\n",
       "| 45.0          |\n",
       "+---------------+"
      ]
     },
     "execution_count": null,
     "metadata": {},
     "output_type": "execute_result"
    }
   ],
   "source": [
    "with good_ids as (\n",
    "    select pid from insurance where tiv_2015 in (\n",
    "    select tiv_2015 from (select tiv_2015, count(*) cnt from insurance group by tiv_2015) where cnt>1\n",
    "    ) and \n",
    "    (lat,lon) in (\n",
    "        select lat,lon from (select lat,lon, count(*) cnt from insurance group by lat,lon) where cnt=1\n",
    ")\n",
    ")\n",
    "    \n",
    "select sum(tiv_2016) from insurance where pid in good_ids"
   ]
  },
  {
   "cell_type": "code",
   "execution_count": null,
   "id": "be702473-8a92-4d9b-ae77-e5e827179d0f",
   "metadata": {},
   "outputs": [],
   "source": []
  }
 ],
 "metadata": {
  "kernelspec": {
   "display_name": "xsqlite",
   "language": "sqlite",
   "name": "xsqlite"
  }
 },
 "nbformat": 4,
 "nbformat_minor": 5
}
