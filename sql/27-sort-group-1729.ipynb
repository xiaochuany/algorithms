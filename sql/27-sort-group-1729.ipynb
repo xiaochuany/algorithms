{
 "cells": [
  {
   "cell_type": "code",
   "execution_count": null,
   "id": "5204e317-57e1-4f3e-a4ab-2e6783cf2a01",
   "metadata": {},
   "outputs": [],
   "source": [
    "%load tutorial.db [rw]"
   ]
  },
  {
   "cell_type": "code",
   "execution_count": null,
   "id": "6fb5fe17-af91-4833-8661-e98af27e0871",
   "metadata": {},
   "outputs": [],
   "source": [
    "Create table If Not Exists Followers(user_id int, follower_id int)"
   ]
  },
  {
   "cell_type": "code",
   "execution_count": null,
   "id": "c73dae67-518d-40b3-9c05-2163972670b2",
   "metadata": {},
   "outputs": [],
   "source": [
    "insert into Followers (user_id, follower_id) values ('0', '1')"
   ]
  },
  {
   "cell_type": "code",
   "execution_count": null,
   "id": "df4eeaeb-ec99-432a-9928-a54e3919237f",
   "metadata": {},
   "outputs": [],
   "source": [
    "insert into Followers (user_id, follower_id) values ('1', '0')"
   ]
  },
  {
   "cell_type": "code",
   "execution_count": null,
   "id": "6ab7755e-3b92-4ee7-9625-e26dd838e0de",
   "metadata": {},
   "outputs": [],
   "source": [
    "insert into Followers (user_id, follower_id) values ('2', '0')"
   ]
  },
  {
   "cell_type": "code",
   "execution_count": null,
   "id": "2f22fbfc-497d-4af2-9b38-9f8c67a49267",
   "metadata": {},
   "outputs": [],
   "source": [
    "insert into Followers (user_id, follower_id) values ('2', '1')"
   ]
  },
  {
   "cell_type": "code",
   "execution_count": null,
   "id": "bbb496df-fc48-49c4-af62-3f1781ddde03",
   "metadata": {},
   "outputs": [
    {
     "data": {
      "text/html": [
       "<table>\n",
       "<tr>\n",
       "<th>user_id</th>\n",
       "<th>follower_id</th>\n",
       "</tr>\n",
       "<tr>\n",
       "<td>0</td>\n",
       "<td>1</td>\n",
       "</tr>\n",
       "<tr>\n",
       "<td>1</td>\n",
       "<td>0</td>\n",
       "</tr>\n",
       "<tr>\n",
       "<td>2</td>\n",
       "<td>0</td>\n",
       "</tr>\n",
       "<tr>\n",
       "<td>2</td>\n",
       "<td>1</td>\n",
       "</tr>\n",
       "</table>"
      ],
      "text/plain": [
       "+---------+-------------+\n",
       "| user_id | follower_id |\n",
       "+---------+-------------+\n",
       "| 0       | 1           |\n",
       "+---------+-------------+\n",
       "| 1       | 0           |\n",
       "+---------+-------------+\n",
       "| 2       | 0           |\n",
       "+---------+-------------+\n",
       "| 2       | 1           |\n",
       "+---------+-------------+"
      ]
     },
     "execution_count": null,
     "metadata": {},
     "output_type": "execute_result"
    }
   ],
   "source": [
    "select * from followers"
   ]
  },
  {
   "cell_type": "markdown",
   "id": "1af10980-caf2-4d12-88b6-504c415ffe67",
   "metadata": {},
   "source": [
    "## Write a solution that will, for each user, return the number of followers."
   ]
  },
  {
   "cell_type": "code",
   "execution_count": null,
   "id": "b441d285-3f7e-4f6c-9ed8-3529e07a8889",
   "metadata": {},
   "outputs": [
    {
     "data": {
      "text/html": [
       "<table>\n",
       "<tr>\n",
       "<th>user_id</th>\n",
       "<th>followers_count</th>\n",
       "</tr>\n",
       "<tr>\n",
       "<td>0</td>\n",
       "<td>1</td>\n",
       "</tr>\n",
       "<tr>\n",
       "<td>1</td>\n",
       "<td>1</td>\n",
       "</tr>\n",
       "<tr>\n",
       "<td>2</td>\n",
       "<td>2</td>\n",
       "</tr>\n",
       "</table>"
      ],
      "text/plain": [
       "+---------+-----------------+\n",
       "| user_id | followers_count |\n",
       "+---------+-----------------+\n",
       "| 0       | 1               |\n",
       "+---------+-----------------+\n",
       "| 1       | 1               |\n",
       "+---------+-----------------+\n",
       "| 2       | 2               |\n",
       "+---------+-----------------+"
      ]
     },
     "execution_count": null,
     "metadata": {},
     "output_type": "execute_result"
    }
   ],
   "source": [
    "select user_id, count(distinct follower_id) followers_count from followers group by user_id\n",
    "order by user_id"
   ]
  },
  {
   "cell_type": "code",
   "execution_count": null,
   "id": "669d916b-2657-4219-9c7d-cc4504237519",
   "metadata": {},
   "outputs": [],
   "source": []
  }
 ],
 "metadata": {
  "kernelspec": {
   "display_name": "xsqlite",
   "language": "sqlite",
   "name": "xsqlite"
  }
 },
 "nbformat": 4,
 "nbformat_minor": 5
}
