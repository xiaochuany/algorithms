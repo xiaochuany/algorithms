{
 "cells": [
  {
   "cell_type": "code",
   "execution_count": null,
   "id": "55b5bb41-13fa-4706-88b8-dc23b4b7ab21",
   "metadata": {},
   "outputs": [],
   "source": [
    "%load tutorial.db [rw]"
   ]
  },
  {
   "cell_type": "code",
   "execution_count": null,
   "id": "a18d0232-5654-43a3-b2e0-7c0b34243631",
   "metadata": {},
   "outputs": [],
   "source": [
    "Create table If Not Exists ActivityU (user_id int, session_id int, activity_date date, activity_type text)"
   ]
  },
  {
   "cell_type": "code",
   "execution_count": null,
   "id": "a0b03235-1e2c-4b0d-a89e-8b46a9618246",
   "metadata": {},
   "outputs": [],
   "source": [
    "insert into ActivityU (user_id, session_id, activity_date, activity_type) values ('1', '1', '2019-07-20', 'open_session')"
   ]
  },
  {
   "cell_type": "code",
   "execution_count": null,
   "id": "1fb9485f-1017-43d3-96df-410ddd06a93f",
   "metadata": {},
   "outputs": [],
   "source": [
    "insert into ActivityU (user_id, session_id, activity_date, activity_type) values ('1', '1', '2019-07-20', 'scroll_down')"
   ]
  },
  {
   "cell_type": "code",
   "execution_count": null,
   "id": "b6e79568-e720-45b6-99c0-fb2df178da55",
   "metadata": {},
   "outputs": [],
   "source": [
    "insert into ActivityU (user_id, session_id, activity_date, activity_type) values ('1', '1', '2019-07-20', 'end_session')"
   ]
  },
  {
   "cell_type": "code",
   "execution_count": null,
   "id": "b92e8127-5392-40a8-b902-af7e957eea79",
   "metadata": {},
   "outputs": [],
   "source": [
    "insert into ActivityU (user_id, session_id, activity_date, activity_type) values ('2', '4', '2019-07-20', 'open_session')"
   ]
  },
  {
   "cell_type": "code",
   "execution_count": null,
   "id": "937e4abc-1d47-489b-a73a-bc00b6b63954",
   "metadata": {},
   "outputs": [],
   "source": [
    "insert into ActivityU (user_id, session_id, activity_date, activity_type) values ('2', '4', '2019-07-21', 'send_message')"
   ]
  },
  {
   "cell_type": "code",
   "execution_count": null,
   "id": "03f7f940-d003-439a-8841-48129157ecc2",
   "metadata": {},
   "outputs": [],
   "source": [
    "insert into ActivityU (user_id, session_id, activity_date, activity_type) values ('2', '4', '2019-07-21', 'end_session')"
   ]
  },
  {
   "cell_type": "code",
   "execution_count": null,
   "id": "c355cc35-6080-49a1-a8e0-10a5a71fc7a0",
   "metadata": {},
   "outputs": [],
   "source": [
    "insert into ActivityU (user_id, session_id, activity_date, activity_type) values ('3', '2', '2019-07-21', 'open_session')"
   ]
  },
  {
   "cell_type": "code",
   "execution_count": null,
   "id": "8070456c-1e52-4194-8096-4302570a15e1",
   "metadata": {},
   "outputs": [],
   "source": [
    "insert into ActivityU (user_id, session_id, activity_date, activity_type) values ('3', '2', '2019-07-21', 'send_message')"
   ]
  },
  {
   "cell_type": "code",
   "execution_count": null,
   "id": "aaef9eb2-6cf4-4db6-a02d-7fdd207d47b8",
   "metadata": {},
   "outputs": [],
   "source": [
    "insert into ActivityU (user_id, session_id, activity_date, activity_type) values ('3', '2', '2019-07-21', 'end_session')"
   ]
  },
  {
   "cell_type": "code",
   "execution_count": null,
   "id": "cad5d046-1430-4462-b684-88b24eda98b9",
   "metadata": {},
   "outputs": [],
   "source": [
    "insert into ActivityU (user_id, session_id, activity_date, activity_type) values ('4', '3', '2019-06-25', 'open_session')"
   ]
  },
  {
   "cell_type": "code",
   "execution_count": null,
   "id": "52089bcb-caa9-4e06-a0e9-a783926f9db1",
   "metadata": {},
   "outputs": [],
   "source": [
    "insert into ActivityU (user_id, session_id, activity_date, activity_type) values ('4', '3', '2019-06-25', 'end_session')"
   ]
  },
  {
   "cell_type": "code",
   "execution_count": null,
   "id": "e3346182-2330-4ce7-9738-8aad597c9009",
   "metadata": {},
   "outputs": [
    {
     "data": {
      "text/html": [
       "<table>\n",
       "<tr>\n",
       "<th>user_id</th>\n",
       "<th>session_id</th>\n",
       "<th>activity_date</th>\n",
       "<th>activity_type</th>\n",
       "</tr>\n",
       "<tr>\n",
       "<td>1</td>\n",
       "<td>1</td>\n",
       "<td>2019-07-20</td>\n",
       "<td>open_session</td>\n",
       "</tr>\n",
       "<tr>\n",
       "<td>1</td>\n",
       "<td>1</td>\n",
       "<td>2019-07-20</td>\n",
       "<td>scroll_down</td>\n",
       "</tr>\n",
       "<tr>\n",
       "<td>1</td>\n",
       "<td>1</td>\n",
       "<td>2019-07-20</td>\n",
       "<td>end_session</td>\n",
       "</tr>\n",
       "<tr>\n",
       "<td>2</td>\n",
       "<td>4</td>\n",
       "<td>2019-07-20</td>\n",
       "<td>open_session</td>\n",
       "</tr>\n",
       "<tr>\n",
       "<td>2</td>\n",
       "<td>4</td>\n",
       "<td>2019-07-21</td>\n",
       "<td>send_message</td>\n",
       "</tr>\n",
       "<tr>\n",
       "<td>2</td>\n",
       "<td>4</td>\n",
       "<td>2019-07-21</td>\n",
       "<td>end_session</td>\n",
       "</tr>\n",
       "<tr>\n",
       "<td>3</td>\n",
       "<td>2</td>\n",
       "<td>2019-07-21</td>\n",
       "<td>open_session</td>\n",
       "</tr>\n",
       "<tr>\n",
       "<td>3</td>\n",
       "<td>2</td>\n",
       "<td>2019-07-21</td>\n",
       "<td>send_message</td>\n",
       "</tr>\n",
       "<tr>\n",
       "<td>3</td>\n",
       "<td>2</td>\n",
       "<td>2019-07-21</td>\n",
       "<td>end_session</td>\n",
       "</tr>\n",
       "<tr>\n",
       "<td>4</td>\n",
       "<td>3</td>\n",
       "<td>2019-06-25</td>\n",
       "<td>open_session</td>\n",
       "</tr>\n",
       "<tr>\n",
       "<td>4</td>\n",
       "<td>3</td>\n",
       "<td>2019-06-25</td>\n",
       "<td>end_session</td>\n",
       "</tr>\n",
       "</table>"
      ],
      "text/plain": [
       "+---------+------------+---------------+---------------+\n",
       "| user_id | session_id | activity_date | activity_type |\n",
       "+---------+------------+---------------+---------------+\n",
       "| 1       | 1          | 2019-07-20    | open_session  |\n",
       "+---------+------------+---------------+---------------+\n",
       "| 1       | 1          | 2019-07-20    | scroll_down   |\n",
       "+---------+------------+---------------+---------------+\n",
       "| 1       | 1          | 2019-07-20    | end_session   |\n",
       "+---------+------------+---------------+---------------+\n",
       "| 2       | 4          | 2019-07-20    | open_session  |\n",
       "+---------+------------+---------------+---------------+\n",
       "| 2       | 4          | 2019-07-21    | send_message  |\n",
       "+---------+------------+---------------+---------------+\n",
       "| 2       | 4          | 2019-07-21    | end_session   |\n",
       "+---------+------------+---------------+---------------+\n",
       "| 3       | 2          | 2019-07-21    | open_session  |\n",
       "+---------+------------+---------------+---------------+\n",
       "| 3       | 2          | 2019-07-21    | send_message  |\n",
       "+---------+------------+---------------+---------------+\n",
       "| 3       | 2          | 2019-07-21    | end_session   |\n",
       "+---------+------------+---------------+---------------+\n",
       "| 4       | 3          | 2019-06-25    | open_session  |\n",
       "+---------+------------+---------------+---------------+\n",
       "| 4       | 3          | 2019-06-25    | end_session   |\n",
       "+---------+------------+---------------+---------------+"
      ]
     },
     "execution_count": null,
     "metadata": {},
     "output_type": "execute_result"
    }
   ],
   "source": [
    "select * from activityu"
   ]
  },
  {
   "cell_type": "markdown",
   "id": "32c13532-d66a-4e20-8a03-66f1d053ece5",
   "metadata": {},
   "source": [
    "## Write a solution to find the daily active user count for a period of 30 days ending 2019-07-27 inclusively. A user was active on someday if they made at least one activity on that day."
   ]
  },
  {
   "cell_type": "code",
   "execution_count": null,
   "id": "516ea55e-8bb6-4eb7-9482-eda51ac994f7",
   "metadata": {},
   "outputs": [
    {
     "data": {
      "text/html": [
       "<table>\n",
       "<tr>\n",
       "<th>day</th>\n",
       "<th>active_users</th>\n",
       "</tr>\n",
       "<tr>\n",
       "<td>2019-07-20</td>\n",
       "<td>2</td>\n",
       "</tr>\n",
       "<tr>\n",
       "<td>2019-07-21</td>\n",
       "<td>2</td>\n",
       "</tr>\n",
       "</table>"
      ],
      "text/plain": [
       "+------------+--------------+\n",
       "| day        | active_users |\n",
       "+------------+--------------+\n",
       "| 2019-07-20 | 2            |\n",
       "+------------+--------------+\n",
       "| 2019-07-21 | 2            |\n",
       "+------------+--------------+"
      ]
     },
     "execution_count": null,
     "metadata": {},
     "output_type": "execute_result"
    }
   ],
   "source": [
    "select activity_date day, count(distinct user_id) active_users\n",
    "from activityu \n",
    "where activity_date> Date('2019-07-27', '-30 days') and activity_date<= Date('2019-07-27')\n",
    "group by activity_date"
   ]
  },
  {
   "cell_type": "code",
   "execution_count": null,
   "id": "21b5f437-b0ee-4d72-a30d-6aff1594b42b",
   "metadata": {},
   "outputs": [],
   "source": []
  }
 ],
 "metadata": {
  "kernelspec": {
   "display_name": "xsqlite",
   "language": "sqlite",
   "name": "xsqlite"
  }
 },
 "nbformat": 4,
 "nbformat_minor": 5
}
