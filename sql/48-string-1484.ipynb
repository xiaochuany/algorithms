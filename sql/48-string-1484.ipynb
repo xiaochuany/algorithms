{
 "cells": [
  {
   "cell_type": "code",
   "execution_count": null,
   "id": "49cebe18-cfb3-4082-8d73-29ad67f8e01c",
   "metadata": {},
   "outputs": [],
   "source": [
    "%load tutorial.db [rw]"
   ]
  },
  {
   "cell_type": "code",
   "execution_count": null,
   "id": "ddfeb8e5-b6a9-4464-a3f1-c24844a6e59c",
   "metadata": {},
   "outputs": [],
   "source": [
    "Create table If Not Exists Activities (sell_date date, product varchar(20))"
   ]
  },
  {
   "cell_type": "code",
   "execution_count": null,
   "id": "c5628912-b851-410f-98ed-3c21e60cf74e",
   "metadata": {},
   "outputs": [],
   "source": [
    "insert into Activities (sell_date, product) values ('2020-05-30', 'Headphone')"
   ]
  },
  {
   "cell_type": "code",
   "execution_count": null,
   "id": "4463a5d6-54f3-417f-8f04-aaefe3004aeb",
   "metadata": {},
   "outputs": [],
   "source": [
    "insert into Activities (sell_date, product) values ('2020-06-01', 'Pencil')"
   ]
  },
  {
   "cell_type": "code",
   "execution_count": null,
   "id": "f592f615-1f46-45d2-a885-2cd8690a2c72",
   "metadata": {},
   "outputs": [],
   "source": [
    "insert into Activities (sell_date, product) values ('2020-06-02', 'Mask')"
   ]
  },
  {
   "cell_type": "code",
   "execution_count": null,
   "id": "9fd133df-5389-473b-bda2-6fd1f8755df7",
   "metadata": {},
   "outputs": [],
   "source": [
    "insert into Activities (sell_date, product) values ('2020-05-30', 'Basketball')"
   ]
  },
  {
   "cell_type": "code",
   "execution_count": null,
   "id": "621b688b-ed06-4a06-9bed-93ac787f2c5b",
   "metadata": {},
   "outputs": [],
   "source": [
    "insert into Activities (sell_date, product) values ('2020-06-01', 'Bible')"
   ]
  },
  {
   "cell_type": "code",
   "execution_count": null,
   "id": "fbac3169-c48e-4169-b872-41301b2acf47",
   "metadata": {},
   "outputs": [],
   "source": [
    "insert into Activities (sell_date, product) values ('2020-06-02', 'Mask')"
   ]
  },
  {
   "cell_type": "code",
   "execution_count": null,
   "id": "89eef496-ed6f-47e8-9460-099fd7ee9688",
   "metadata": {},
   "outputs": [],
   "source": [
    "insert into Activities (sell_date, product) values ('2020-05-30', 'T-Shirt')"
   ]
  },
  {
   "cell_type": "code",
   "execution_count": null,
   "id": "322e6f36-8848-4b72-a53e-ff0f8e1f76c3",
   "metadata": {},
   "outputs": [
    {
     "data": {
      "text/html": [
       "<table>\n",
       "<tr>\n",
       "<th>sell_date</th>\n",
       "<th>product</th>\n",
       "</tr>\n",
       "<tr>\n",
       "<td>2020-05-30</td>\n",
       "<td>Headphone</td>\n",
       "</tr>\n",
       "<tr>\n",
       "<td>2020-06-01</td>\n",
       "<td>Pencil</td>\n",
       "</tr>\n",
       "<tr>\n",
       "<td>2020-06-02</td>\n",
       "<td>Mask</td>\n",
       "</tr>\n",
       "<tr>\n",
       "<td>2020-05-30</td>\n",
       "<td>Basketball</td>\n",
       "</tr>\n",
       "<tr>\n",
       "<td>2020-06-01</td>\n",
       "<td>Bible</td>\n",
       "</tr>\n",
       "<tr>\n",
       "<td>2020-06-02</td>\n",
       "<td>Mask</td>\n",
       "</tr>\n",
       "<tr>\n",
       "<td>2020-05-30</td>\n",
       "<td>T-Shirt</td>\n",
       "</tr>\n",
       "</table>"
      ],
      "text/plain": [
       "+------------+------------+\n",
       "| sell_date  | product    |\n",
       "+------------+------------+\n",
       "| 2020-05-30 | Headphone  |\n",
       "+------------+------------+\n",
       "| 2020-06-01 | Pencil     |\n",
       "+------------+------------+\n",
       "| 2020-06-02 | Mask       |\n",
       "+------------+------------+\n",
       "| 2020-05-30 | Basketball |\n",
       "+------------+------------+\n",
       "| 2020-06-01 | Bible      |\n",
       "+------------+------------+\n",
       "| 2020-06-02 | Mask       |\n",
       "+------------+------------+\n",
       "| 2020-05-30 | T-Shirt    |\n",
       "+------------+------------+"
      ]
     },
     "execution_count": null,
     "metadata": {},
     "output_type": "execute_result"
    }
   ],
   "source": [
    "select * from activities"
   ]
  },
  {
   "cell_type": "markdown",
   "id": "47ae2d34-925a-41f3-8725-302600ab18b1",
   "metadata": {},
   "source": [
    "## Write a solution to find for each date the number of different products sold and their names.\r\n",
    "\r\n",
    "The sold products names for each date should be sorted lexicographically."
   ]
  },
  {
   "cell_type": "code",
   "execution_count": null,
   "id": "d3c6224d-f8e5-4fdb-a6fe-f2810650e054",
   "metadata": {},
   "outputs": [
    {
     "data": {
      "text/html": [
       "<table>\n",
       "<tr>\n",
       "<th>count(distinct product)</th>\n",
       "<th>group_concat(product)</th>\n",
       "</tr>\n",
       "<tr>\n",
       "<td>3</td>\n",
       "<td>Headphone,Basketball,T-Shirt</td>\n",
       "</tr>\n",
       "<tr>\n",
       "<td>2</td>\n",
       "<td>Pencil,Bible</td>\n",
       "</tr>\n",
       "<tr>\n",
       "<td>1</td>\n",
       "<td>Mask,Mask</td>\n",
       "</tr>\n",
       "</table>"
      ],
      "text/plain": [
       "+-------------------------+------------------------------+\n",
       "| count(distinct product) | group_concat(product)        |\n",
       "+-------------------------+------------------------------+\n",
       "| 3                       | Headphone,Basketball,T-Shirt |\n",
       "+-------------------------+------------------------------+\n",
       "| 2                       | Pencil,Bible                 |\n",
       "+-------------------------+------------------------------+\n",
       "| 1                       | Mask,Mask                    |\n",
       "+-------------------------+------------------------------+"
      ]
     },
     "execution_count": null,
     "metadata": {},
     "output_type": "execute_result"
    }
   ],
   "source": [
    "select count(distinct product), group_concat(product) from activities group by sell_date"
   ]
  },
  {
   "cell_type": "markdown",
   "id": "7cc0e1dd-92c1-436f-be49-1a29d1e3018b",
   "metadata": {},
   "source": [
    "notice that mask is sold twice, but we only want to list distinct products"
   ]
  },
  {
   "cell_type": "code",
   "execution_count": null,
   "id": "ba157dba-83a1-400b-97ca-ced70b0d25bc",
   "metadata": {},
   "outputs": [
    {
     "data": {
      "text/html": [
       "<table>\n",
       "<tr>\n",
       "<th>count(distinct product)</th>\n",
       "<th>group_concat(distinct product)</th>\n",
       "</tr>\n",
       "<tr>\n",
       "<td>3</td>\n",
       "<td>Headphone,Basketball,T-Shirt</td>\n",
       "</tr>\n",
       "<tr>\n",
       "<td>2</td>\n",
       "<td>Pencil,Bible</td>\n",
       "</tr>\n",
       "<tr>\n",
       "<td>1</td>\n",
       "<td>Mask</td>\n",
       "</tr>\n",
       "</table>"
      ],
      "text/plain": [
       "+-------------------------+--------------------------------+\n",
       "| count(distinct product) | group_concat(distinct product) |\n",
       "+-------------------------+--------------------------------+\n",
       "| 3                       | Headphone,Basketball,T-Shirt   |\n",
       "+-------------------------+--------------------------------+\n",
       "| 2                       | Pencil,Bible                   |\n",
       "+-------------------------+--------------------------------+\n",
       "| 1                       | Mask                           |\n",
       "+-------------------------+--------------------------------+"
      ]
     },
     "execution_count": null,
     "metadata": {},
     "output_type": "execute_result"
    }
   ],
   "source": [
    "select count(distinct product), group_concat(distinct product) from activities group by sell_date"
   ]
  },
  {
   "cell_type": "markdown",
   "id": "81e3eba4-79af-4953-bbd3-9558708a8d42",
   "metadata": {},
   "source": [
    "## adding a helper column (rownumer for items within each (date, product))"
   ]
  },
  {
   "cell_type": "code",
   "execution_count": null,
   "id": "41fcb663-6c40-43a2-a87d-0085b5d90c8e",
   "metadata": {},
   "outputs": [
    {
     "data": {
      "text/html": [
       "<table>\n",
       "<tr>\n",
       "<th>sell_date</th>\n",
       "<th>product</th>\n",
       "<th>rn</th>\n",
       "</tr>\n",
       "<tr>\n",
       "<td>2020-05-30</td>\n",
       "<td>Basketball</td>\n",
       "<td>1</td>\n",
       "</tr>\n",
       "<tr>\n",
       "<td>2020-05-30</td>\n",
       "<td>Headphone</td>\n",
       "<td>1</td>\n",
       "</tr>\n",
       "<tr>\n",
       "<td>2020-05-30</td>\n",
       "<td>T-Shirt</td>\n",
       "<td>1</td>\n",
       "</tr>\n",
       "<tr>\n",
       "<td>2020-06-01</td>\n",
       "<td>Bible</td>\n",
       "<td>1</td>\n",
       "</tr>\n",
       "<tr>\n",
       "<td>2020-06-01</td>\n",
       "<td>Pencil</td>\n",
       "<td>1</td>\n",
       "</tr>\n",
       "<tr>\n",
       "<td>2020-06-02</td>\n",
       "<td>Mask</td>\n",
       "<td>1</td>\n",
       "</tr>\n",
       "<tr>\n",
       "<td>2020-06-02</td>\n",
       "<td>Mask</td>\n",
       "<td>2</td>\n",
       "</tr>\n",
       "</table>"
      ],
      "text/plain": [
       "+------------+------------+----+\n",
       "| sell_date  | product    | rn |\n",
       "+------------+------------+----+\n",
       "| 2020-05-30 | Basketball | 1  |\n",
       "+------------+------------+----+\n",
       "| 2020-05-30 | Headphone  | 1  |\n",
       "+------------+------------+----+\n",
       "| 2020-05-30 | T-Shirt    | 1  |\n",
       "+------------+------------+----+\n",
       "| 2020-06-01 | Bible      | 1  |\n",
       "+------------+------------+----+\n",
       "| 2020-06-01 | Pencil     | 1  |\n",
       "+------------+------------+----+\n",
       "| 2020-06-02 | Mask       | 1  |\n",
       "+------------+------------+----+\n",
       "| 2020-06-02 | Mask       | 2  |\n",
       "+------------+------------+----+"
      ]
     },
     "execution_count": null,
     "metadata": {},
     "output_type": "execute_result"
    }
   ],
   "source": [
    "select *, row_number() over (partition by sell_date,product) as rn from activities "
   ]
  },
  {
   "cell_type": "raw",
   "id": "2b7125c5-91d9-4227-8193-4d65ea6e59b3",
   "metadata": {},
   "source": [
    "```{oracle}\n",
    "with t_with_rn as (\n",
    "    select to_char(sell_date,'yyyy-mm-dd') sell_date, \n",
    "            product,\n",
    "            row_number() over (partition by sell_date,product order by sell_date) as rn \n",
    "    from activities \n",
    ")\n",
    "\n",
    "select sell_date,\n",
    "        count(distinct product) num_sold,\n",
    "        listagg(product,',') within group (order by product) as products\n",
    "from t_with_rn \n",
    "where rn=1\n",
    "group by sell_date\n",
    "order by sell_date sell_date\n",
    "```"
   ]
  },
  {
   "cell_type": "code",
   "execution_count": null,
   "id": "7c315a4c-ae7d-4f0d-afb6-bab361f694fe",
   "metadata": {},
   "outputs": [],
   "source": []
  }
 ],
 "metadata": {
  "kernelspec": {
   "display_name": "xsqlite",
   "language": "sqlite",
   "name": "xsqlite"
  }
 },
 "nbformat": 4,
 "nbformat_minor": 5
}
