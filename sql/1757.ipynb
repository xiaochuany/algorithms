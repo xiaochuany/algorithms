{
 "cells": [
  {
   "cell_type": "code",
   "execution_count": 1,
   "id": "a407b26c-6115-4913-99c5-1535f8839737",
   "metadata": {},
   "outputs": [],
   "source": [
    "%create tutorial.db"
   ]
  },
  {
   "cell_type": "code",
   "execution_count": 5,
   "id": "48b8a514-e637-4a37-a146-dadee581dd0a",
   "metadata": {},
   "outputs": [],
   "source": [
    "Create table If Not Exists Products (product_id int, low_fats, recyclable)"
   ]
  },
  {
   "cell_type": "code",
   "execution_count": 7,
   "id": "9972004f-3554-4791-8e18-40ad460d9bb2",
   "metadata": {},
   "outputs": [],
   "source": [
    "insert into Products (product_id, low_fats, recyclable) values ('0', 'Y', 'N')"
   ]
  },
  {
   "cell_type": "code",
   "execution_count": 8,
   "id": "b3b39756-f522-4d04-9341-672da3186698",
   "metadata": {},
   "outputs": [],
   "source": [
    "insert into Products (product_id, low_fats, recyclable) values ('1', 'Y', 'Y')"
   ]
  },
  {
   "cell_type": "code",
   "execution_count": 9,
   "id": "ac8627d0-085d-43e6-aee7-82ef5dabb282",
   "metadata": {},
   "outputs": [],
   "source": [
    "insert into Products (product_id, low_fats, recyclable) values ('2', 'N', 'Y')"
   ]
  },
  {
   "cell_type": "code",
   "execution_count": 10,
   "id": "e91caaf5-02c4-4df1-b5fb-191ec4c3c2ca",
   "metadata": {},
   "outputs": [],
   "source": [
    "insert into Products (product_id, low_fats, recyclable) values ('3', 'Y', 'Y')"
   ]
  },
  {
   "cell_type": "code",
   "execution_count": 11,
   "id": "0710f12f-0e39-429f-b60a-45d34847e72a",
   "metadata": {},
   "outputs": [],
   "source": [
    "insert into Products (product_id, low_fats, recyclable) values ('4', 'N', 'N')"
   ]
  },
  {
   "cell_type": "code",
   "execution_count": 12,
   "id": "52490ca0-0af6-497f-b97a-5c7e045445ad",
   "metadata": {},
   "outputs": [
    {
     "data": {
      "text/html": [
       "<table>\n",
       "<tr>\n",
       "<th>product_id</th>\n",
       "<th>low_fats</th>\n",
       "<th>recyclable</th>\n",
       "</tr>\n",
       "<tr>\n",
       "<td>0</td>\n",
       "<td>Y</td>\n",
       "<td>N</td>\n",
       "</tr>\n",
       "<tr>\n",
       "<td>1</td>\n",
       "<td>Y</td>\n",
       "<td>Y</td>\n",
       "</tr>\n",
       "<tr>\n",
       "<td>2</td>\n",
       "<td>N</td>\n",
       "<td>Y</td>\n",
       "</tr>\n",
       "<tr>\n",
       "<td>3</td>\n",
       "<td>Y</td>\n",
       "<td>Y</td>\n",
       "</tr>\n",
       "<tr>\n",
       "<td>4</td>\n",
       "<td>N</td>\n",
       "<td>N</td>\n",
       "</tr>\n",
       "</table>"
      ],
      "text/plain": [
       "+------------+----------+------------+\n",
       "| product_id | low_fats | recyclable |\n",
       "+------------+----------+------------+\n",
       "| 0          | Y        | N          |\n",
       "+------------+----------+------------+\n",
       "| 1          | Y        | Y          |\n",
       "+------------+----------+------------+\n",
       "| 2          | N        | Y          |\n",
       "+------------+----------+------------+\n",
       "| 3          | Y        | Y          |\n",
       "+------------+----------+------------+\n",
       "| 4          | N        | N          |\n",
       "+------------+----------+------------+"
      ]
     },
     "execution_count": 12,
     "metadata": {},
     "output_type": "execute_result"
    }
   ],
   "source": [
    "select * from Products"
   ]
  },
  {
   "cell_type": "markdown",
   "id": "0b360ee6-3b9b-4dbd-9fc5-730b9ed7c0b3",
   "metadata": {},
   "source": [
    "find id of products with both lowfats and recyclable"
   ]
  },
  {
   "cell_type": "code",
   "execution_count": 14,
   "id": "28a329b2-6d17-44aa-92ee-294a282dade2",
   "metadata": {},
   "outputs": [
    {
     "data": {
      "text/html": [
       "<table>\n",
       "<tr>\n",
       "<th>product_id</th>\n",
       "</tr>\n",
       "<tr>\n",
       "<td>1</td>\n",
       "</tr>\n",
       "<tr>\n",
       "<td>3</td>\n",
       "</tr>\n",
       "</table>"
      ],
      "text/plain": [
       "+------------+\n",
       "| product_id |\n",
       "+------------+\n",
       "| 1          |\n",
       "+------------+\n",
       "| 3          |\n",
       "+------------+"
      ]
     },
     "execution_count": 14,
     "metadata": {},
     "output_type": "execute_result"
    }
   ],
   "source": [
    "select product_id from Products where low_fats is 'Y' and recyclable is 'Y'"
   ]
  },
  {
   "cell_type": "code",
   "execution_count": null,
   "id": "e65daf56-30ef-434a-b5cb-5034040445fa",
   "metadata": {},
   "outputs": [],
   "source": []
  }
 ],
 "metadata": {
  "kernelspec": {
   "display_name": "xsqlite",
   "language": "sqlite",
   "name": "xsqlite"
  },
  "language_info": {
   "codemirror_mode": "sql",
   "file_extension": "",
   "mimetype": "",
   "name": "sql",
   "version": "3.42.0"
  }
 },
 "nbformat": 4,
 "nbformat_minor": 5
}
