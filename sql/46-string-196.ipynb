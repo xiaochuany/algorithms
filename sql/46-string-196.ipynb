{
 "cells": [
  {
   "cell_type": "code",
   "execution_count": null,
   "id": "6c3adca8-bc21-436a-96bc-3aa98d45b8ce",
   "metadata": {},
   "outputs": [],
   "source": [
    "%load tutorial.db [rw]"
   ]
  },
  {
   "cell_type": "code",
   "execution_count": null,
   "id": "70037589-0592-4b5e-befa-e5eda6710889",
   "metadata": {},
   "outputs": [],
   "source": [
    "Create table If Not Exists Person (Id int, Email varchar(255))"
   ]
  },
  {
   "cell_type": "code",
   "execution_count": null,
   "id": "c5f84442-8a0c-41ad-8c62-7aa90967702f",
   "metadata": {},
   "outputs": [],
   "source": [
    "insert into Person (id, email) values ('1', 'john@example.com')"
   ]
  },
  {
   "cell_type": "code",
   "execution_count": null,
   "id": "8ab1a183-3ba3-4d12-a7f5-793a92f7a021",
   "metadata": {},
   "outputs": [],
   "source": [
    "insert into Person (id, email) values ('2', 'bob@example.com')"
   ]
  },
  {
   "cell_type": "code",
   "execution_count": null,
   "id": "86bc67f9-eab2-4435-9e1f-c13ffec01ff0",
   "metadata": {},
   "outputs": [],
   "source": [
    "insert into Person (id, email) values ('3', 'john@example.com')"
   ]
  },
  {
   "cell_type": "code",
   "execution_count": null,
   "id": "ad789246-4fec-42b0-8d17-ca40c76319c6",
   "metadata": {},
   "outputs": [
    {
     "data": {
      "text/html": [
       "<table>\n",
       "<tr>\n",
       "<th>Id</th>\n",
       "<th>Email</th>\n",
       "</tr>\n",
       "<tr>\n",
       "<td>1</td>\n",
       "<td>john@example.com</td>\n",
       "</tr>\n",
       "<tr>\n",
       "<td>2</td>\n",
       "<td>bob@example.com</td>\n",
       "</tr>\n",
       "<tr>\n",
       "<td>3</td>\n",
       "<td>john@example.com</td>\n",
       "</tr>\n",
       "</table>"
      ],
      "text/plain": [
       "+----+------------------+\n",
       "| Id | Email            |\n",
       "+----+------------------+\n",
       "| 1  | john@example.com |\n",
       "+----+------------------+\n",
       "| 2  | bob@example.com  |\n",
       "+----+------------------+\n",
       "| 3  | john@example.com |\n",
       "+----+------------------+"
      ]
     },
     "execution_count": null,
     "metadata": {},
     "output_type": "execute_result"
    }
   ],
   "source": [
    "select * from person"
   ]
  },
  {
   "cell_type": "markdown",
   "id": "db07b1cd-af7e-4fb2-a7b4-c8a976b96e3b",
   "metadata": {},
   "source": [
    "## Write a solution to delete all duplicate emails, keeping only one unique email with the smallest id."
   ]
  },
  {
   "cell_type": "code",
   "execution_count": null,
   "id": "3f7203c1-c232-4f80-967b-0bf0dc6a2e73",
   "metadata": {},
   "outputs": [
    {
     "data": {
      "text/html": [
       "<table>\n",
       "<tr>\n",
       "<th>id</th>\n",
       "</tr>\n",
       "<tr>\n",
       "<td>2</td>\n",
       "</tr>\n",
       "<tr>\n",
       "<td>1</td>\n",
       "</tr>\n",
       "</table>"
      ],
      "text/plain": [
       "+----+\n",
       "| id |\n",
       "+----+\n",
       "| 2  |\n",
       "+----+\n",
       "| 1  |\n",
       "+----+"
      ]
     },
     "execution_count": null,
     "metadata": {},
     "output_type": "execute_result"
    }
   ],
   "source": [
    "select min(id) id from person group by email"
   ]
  },
  {
   "cell_type": "code",
   "execution_count": null,
   "id": "3a612dc3-8213-4f99-9ed6-273ee58955a2",
   "metadata": {},
   "outputs": [],
   "source": [
    "delete from person where id not in (select min(id) id from person group by email)"
   ]
  },
  {
   "cell_type": "code",
   "execution_count": null,
   "id": "80e3b6e4-cbf7-46d7-ba76-b67339004b5b",
   "metadata": {},
   "outputs": [
    {
     "data": {
      "text/html": [
       "<table>\n",
       "<tr>\n",
       "<th>Id</th>\n",
       "<th>Email</th>\n",
       "</tr>\n",
       "<tr>\n",
       "<td>1</td>\n",
       "<td>john@example.com</td>\n",
       "</tr>\n",
       "<tr>\n",
       "<td>2</td>\n",
       "<td>bob@example.com</td>\n",
       "</tr>\n",
       "</table>"
      ],
      "text/plain": [
       "+----+------------------+\n",
       "| Id | Email            |\n",
       "+----+------------------+\n",
       "| 1  | john@example.com |\n",
       "+----+------------------+\n",
       "| 2  | bob@example.com  |\n",
       "+----+------------------+"
      ]
     },
     "execution_count": null,
     "metadata": {},
     "output_type": "execute_result"
    }
   ],
   "source": [
    "select * from person"
   ]
  },
  {
   "cell_type": "code",
   "execution_count": null,
   "id": "086a2509-718c-41ee-a91e-eb301e261789",
   "metadata": {},
   "outputs": [],
   "source": []
  }
 ],
 "metadata": {
  "kernelspec": {
   "display_name": "xsqlite",
   "language": "sqlite",
   "name": "xsqlite"
  }
 },
 "nbformat": 4,
 "nbformat_minor": 5
}
