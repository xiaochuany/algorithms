{
 "cells": [
  {
   "cell_type": "code",
   "execution_count": null,
   "id": "a60447dd-8f1a-4b7c-9ea9-8f077a72cbf2",
   "metadata": {},
   "outputs": [],
   "source": [
    "%load tutorial.db [rw]"
   ]
  },
  {
   "cell_type": "code",
   "execution_count": null,
   "id": "833089a8-c833-4136-9034-bfb22e36cad5",
   "metadata": {},
   "outputs": [],
   "source": [
    "Create table If Not Exists Patients (patient_id int, patient_name varchar(30), conditions varchar(100))"
   ]
  },
  {
   "cell_type": "code",
   "execution_count": null,
   "id": "60f9d623-f6e4-4ec8-a155-89a37d98e1ed",
   "metadata": {},
   "outputs": [],
   "source": [
    "insert into Patients (patient_id, patient_name, conditions) values ('1', 'Daniel', 'YFEV COUGH')"
   ]
  },
  {
   "cell_type": "code",
   "execution_count": null,
   "id": "d9b39978-1354-4985-8a08-dbec106b8c0a",
   "metadata": {},
   "outputs": [],
   "source": [
    "insert into Patients (patient_id, patient_name, conditions) values ('2', 'Alice', '')"
   ]
  },
  {
   "cell_type": "code",
   "execution_count": null,
   "id": "a8a7fff9-67a4-443f-b3bc-d738a107f244",
   "metadata": {},
   "outputs": [],
   "source": [
    "insert into Patients (patient_id, patient_name, conditions) values ('3', 'Bob', 'DIAB100 MYOP')"
   ]
  },
  {
   "cell_type": "code",
   "execution_count": null,
   "id": "ecb73495-54c0-44db-8e78-e462fb45085a",
   "metadata": {},
   "outputs": [],
   "source": [
    "insert into Patients (patient_id, patient_name, conditions) values ('4', 'George', 'ACNE DIAB100')"
   ]
  },
  {
   "cell_type": "code",
   "execution_count": null,
   "id": "8a6fc023-11fe-4e23-a1bd-fea2eec57d75",
   "metadata": {},
   "outputs": [],
   "source": [
    "insert into Patients (patient_id, patient_name, conditions) values ('5', 'Alain', 'DIAB201')"
   ]
  },
  {
   "cell_type": "code",
   "execution_count": null,
   "id": "79338049-d8ff-4bf4-afaf-a231971ddca2",
   "metadata": {},
   "outputs": [],
   "source": [
    "insert into patients (patient_id, patient_name, conditions) values ('6', 'Jill', 'SADIAB1')"
   ]
  },
  {
   "cell_type": "code",
   "execution_count": null,
   "id": "24929b48-fb9d-43eb-90e5-a1d7b046e6d3",
   "metadata": {},
   "outputs": [
    {
     "data": {
      "text/html": [
       "<table>\n",
       "<tr>\n",
       "<th>patient_id</th>\n",
       "<th>patient_name</th>\n",
       "<th>conditions</th>\n",
       "</tr>\n",
       "<tr>\n",
       "<td>1</td>\n",
       "<td>Daniel</td>\n",
       "<td>YFEV COUGH</td>\n",
       "</tr>\n",
       "<tr>\n",
       "<td>2</td>\n",
       "<td>Alice</td>\n",
       "<td></td>\n",
       "</tr>\n",
       "<tr>\n",
       "<td>3</td>\n",
       "<td>Bob</td>\n",
       "<td>DIAB100 MYOP</td>\n",
       "</tr>\n",
       "<tr>\n",
       "<td>4</td>\n",
       "<td>George</td>\n",
       "<td>ACNE DIAB100</td>\n",
       "</tr>\n",
       "<tr>\n",
       "<td>5</td>\n",
       "<td>Alain</td>\n",
       "<td>DIAB201</td>\n",
       "</tr>\n",
       "<tr>\n",
       "<td>6</td>\n",
       "<td>Jill</td>\n",
       "<td>SADIAB1</td>\n",
       "</tr>\n",
       "</table>"
      ],
      "text/plain": [
       "+------------+--------------+--------------+\n",
       "| patient_id | patient_name | conditions   |\n",
       "+------------+--------------+--------------+\n",
       "| 1          | Daniel       | YFEV COUGH   |\n",
       "+------------+--------------+--------------+\n",
       "| 2          | Alice        |              |\n",
       "+------------+--------------+--------------+\n",
       "| 3          | Bob          | DIAB100 MYOP |\n",
       "+------------+--------------+--------------+\n",
       "| 4          | George       | ACNE DIAB100 |\n",
       "+------------+--------------+--------------+\n",
       "| 5          | Alain        | DIAB201      |\n",
       "+------------+--------------+--------------+\n",
       "| 6          | Jill         | SADIAB1      |\n",
       "+------------+--------------+--------------+"
      ]
     },
     "execution_count": null,
     "metadata": {},
     "output_type": "execute_result"
    }
   ],
   "source": [
    "select * from patients"
   ]
  },
  {
   "cell_type": "markdown",
   "id": "f9131a00-39cb-48b8-bc36-71731ddd9992",
   "metadata": {},
   "source": [
    "## Write a solution to find the patient_id, patient_name, and conditions of the patients who have Type I Diabetes. Type I Diabetes always starts with DIAB1 prefix."
   ]
  },
  {
   "cell_type": "code",
   "execution_count": null,
   "id": "823dc63e-44cb-4aa8-bfe4-9f055a13daa8",
   "metadata": {},
   "outputs": [
    {
     "data": {
      "text/html": [
       "<table>\n",
       "<tr>\n",
       "<th>conditions</th>\n",
       "<th>instr(conditions, 'DIAB1')</th>\n",
       "</tr>\n",
       "<tr>\n",
       "<td>YFEV COUGH</td>\n",
       "<td>0</td>\n",
       "</tr>\n",
       "<tr>\n",
       "<td></td>\n",
       "<td>0</td>\n",
       "</tr>\n",
       "<tr>\n",
       "<td>DIAB100 MYOP</td>\n",
       "<td>1</td>\n",
       "</tr>\n",
       "<tr>\n",
       "<td>ACNE DIAB100</td>\n",
       "<td>6</td>\n",
       "</tr>\n",
       "<tr>\n",
       "<td>DIAB201</td>\n",
       "<td>0</td>\n",
       "</tr>\n",
       "<tr>\n",
       "<td>SADIAB1</td>\n",
       "<td>3</td>\n",
       "</tr>\n",
       "</table>"
      ],
      "text/plain": [
       "+--------------+----------------------------+\n",
       "| conditions   | instr(conditions, 'DIAB1') |\n",
       "+--------------+----------------------------+\n",
       "| YFEV COUGH   | 0                          |\n",
       "+--------------+----------------------------+\n",
       "|              | 0                          |\n",
       "+--------------+----------------------------+\n",
       "| DIAB100 MYOP | 1                          |\n",
       "+--------------+----------------------------+\n",
       "| ACNE DIAB100 | 6                          |\n",
       "+--------------+----------------------------+\n",
       "| DIAB201      | 0                          |\n",
       "+--------------+----------------------------+\n",
       "| SADIAB1      | 3                          |\n",
       "+--------------+----------------------------+"
      ]
     },
     "execution_count": null,
     "metadata": {},
     "output_type": "execute_result"
    }
   ],
   "source": [
    "select conditions, instr(conditions, 'DIAB1') from patients"
   ]
  },
  {
   "cell_type": "code",
   "execution_count": null,
   "id": "fd0456ce-f14a-498b-8c4f-3634894d77bd",
   "metadata": {},
   "outputs": [
    {
     "data": {
      "text/html": [
       "<table>\n",
       "<tr>\n",
       "<th>patient_name</th>\n",
       "</tr>\n",
       "<tr>\n",
       "<td>Bob</td>\n",
       "</tr>\n",
       "<tr>\n",
       "<td>George</td>\n",
       "</tr>\n",
       "</table>"
      ],
      "text/plain": [
       "+--------------+\n",
       "| patient_name |\n",
       "+--------------+\n",
       "| Bob          |\n",
       "+--------------+\n",
       "| George       |\n",
       "+--------------+"
      ]
     },
     "execution_count": null,
     "metadata": {},
     "output_type": "execute_result"
    }
   ],
   "source": [
    "select patient_name from patients \n",
    "where conditions like 'DIAB1%' or conditions like '% DIAB1%'"
   ]
  },
  {
   "cell_type": "code",
   "execution_count": null,
   "id": "55746319-f458-4f4d-bdd2-6f2d78773d88",
   "metadata": {},
   "outputs": [
    {
     "data": {
      "text/html": [
       "<table>\n",
       "<tr>\n",
       "<th>patient_name</th>\n",
       "</tr>\n",
       "<tr>\n",
       "<td>Bob</td>\n",
       "</tr>\n",
       "<tr>\n",
       "<td>George</td>\n",
       "</tr>\n",
       "</table>"
      ],
      "text/plain": [
       "+--------------+\n",
       "| patient_name |\n",
       "+--------------+\n",
       "| Bob          |\n",
       "+--------------+\n",
       "| George       |\n",
       "+--------------+"
      ]
     },
     "execution_count": null,
     "metadata": {},
     "output_type": "execute_result"
    }
   ],
   "source": [
    "select patient_name from patients \n",
    "where instr(conditions, ' DIAB1')>0 or instr(conditions,'DIAB1')=1"
   ]
  },
  {
   "cell_type": "code",
   "execution_count": null,
   "id": "549dbb72-d3ad-47b1-81c6-883224d3847f",
   "metadata": {},
   "outputs": [],
   "source": []
  }
 ],
 "metadata": {
  "kernelspec": {
   "display_name": "xsqlite",
   "language": "sqlite",
   "name": "xsqlite"
  }
 },
 "nbformat": 4,
 "nbformat_minor": 5
}
