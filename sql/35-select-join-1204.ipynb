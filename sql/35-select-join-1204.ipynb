{
 "cells": [
  {
   "cell_type": "code",
   "execution_count": null,
   "id": "2219c526-f190-4a1f-bcd3-a1f6209aee13",
   "metadata": {},
   "outputs": [],
   "source": [
    "%load tutorial.db [rw]"
   ]
  },
  {
   "cell_type": "code",
   "execution_count": null,
   "id": "670cb571-e798-4b2c-a41e-ed769eef20d5",
   "metadata": {},
   "outputs": [],
   "source": [
    "Create table If Not Exists Queue (person_id int, person_name varchar(30), weight int, turn int)"
   ]
  },
  {
   "cell_type": "code",
   "execution_count": null,
   "id": "d050acf0-157e-4f6f-bf1b-9813a60fe048",
   "metadata": {},
   "outputs": [],
   "source": [
    "insert into Queue (person_id, person_name, weight, turn) values ('5', 'Alice', '250', '1')"
   ]
  },
  {
   "cell_type": "code",
   "execution_count": null,
   "id": "86559580-428f-405b-b2bf-eddef67d2a8d",
   "metadata": {},
   "outputs": [],
   "source": [
    "insert into Queue (person_id, person_name, weight, turn) values ('4', 'Bob', '175', '5')"
   ]
  },
  {
   "cell_type": "code",
   "execution_count": null,
   "id": "a3644eb8-ae18-42a5-a6bf-1d53c606193b",
   "metadata": {},
   "outputs": [],
   "source": [
    "insert into Queue (person_id, person_name, weight, turn) values ('3', 'Alex', '350', '2')"
   ]
  },
  {
   "cell_type": "code",
   "execution_count": null,
   "id": "b7c3a77d-bfc3-49e5-9d3f-d7f656a40606",
   "metadata": {},
   "outputs": [],
   "source": [
    "insert into Queue (person_id, person_name, weight, turn) values ('6', 'John Cena', '400', '3')"
   ]
  },
  {
   "cell_type": "code",
   "execution_count": null,
   "id": "a16371f8-c8da-4b98-902d-169d61ac35c2",
   "metadata": {},
   "outputs": [],
   "source": [
    "insert into Queue (person_id, person_name, weight, turn) values ('1', 'Winston', '500', '6')"
   ]
  },
  {
   "cell_type": "code",
   "execution_count": null,
   "id": "11012796-9cfd-473d-bbef-75afc7a220a9",
   "metadata": {},
   "outputs": [],
   "source": [
    "insert into Queue (person_id, person_name, weight, turn) values ('2', 'Marie', '200', '4')"
   ]
  },
  {
   "cell_type": "code",
   "execution_count": null,
   "id": "2228dc17-bfac-493e-91d9-91f4673ffc49",
   "metadata": {},
   "outputs": [
    {
     "data": {
      "text/html": [
       "<table>\n",
       "<tr>\n",
       "<th>person_id</th>\n",
       "<th>person_name</th>\n",
       "<th>weight</th>\n",
       "<th>turn</th>\n",
       "</tr>\n",
       "<tr>\n",
       "<td>5</td>\n",
       "<td>Alice</td>\n",
       "<td>250</td>\n",
       "<td>1</td>\n",
       "</tr>\n",
       "<tr>\n",
       "<td>3</td>\n",
       "<td>Alex</td>\n",
       "<td>350</td>\n",
       "<td>2</td>\n",
       "</tr>\n",
       "<tr>\n",
       "<td>6</td>\n",
       "<td>John Cena</td>\n",
       "<td>400</td>\n",
       "<td>3</td>\n",
       "</tr>\n",
       "<tr>\n",
       "<td>2</td>\n",
       "<td>Marie</td>\n",
       "<td>200</td>\n",
       "<td>4</td>\n",
       "</tr>\n",
       "<tr>\n",
       "<td>4</td>\n",
       "<td>Bob</td>\n",
       "<td>175</td>\n",
       "<td>5</td>\n",
       "</tr>\n",
       "<tr>\n",
       "<td>1</td>\n",
       "<td>Winston</td>\n",
       "<td>500</td>\n",
       "<td>6</td>\n",
       "</tr>\n",
       "</table>"
      ],
      "text/plain": [
       "+-----------+-------------+--------+------+\n",
       "| person_id | person_name | weight | turn |\n",
       "+-----------+-------------+--------+------+\n",
       "| 5         | Alice       | 250    | 1    |\n",
       "+-----------+-------------+--------+------+\n",
       "| 3         | Alex        | 350    | 2    |\n",
       "+-----------+-------------+--------+------+\n",
       "| 6         | John Cena   | 400    | 3    |\n",
       "+-----------+-------------+--------+------+\n",
       "| 2         | Marie       | 200    | 4    |\n",
       "+-----------+-------------+--------+------+\n",
       "| 4         | Bob         | 175    | 5    |\n",
       "+-----------+-------------+--------+------+\n",
       "| 1         | Winston     | 500    | 6    |\n",
       "+-----------+-------------+--------+------+"
      ]
     },
     "execution_count": null,
     "metadata": {},
     "output_type": "execute_result"
    }
   ],
   "source": [
    "select * from queue order by turn"
   ]
  },
  {
   "cell_type": "markdown",
   "id": "7e5871a9-968d-4e25-9796-4b6e623074fb",
   "metadata": {},
   "source": [
    "## There is a queue of people waiting to board a bus. However, the bus has a weight limit of 1000 kilograms, so there may be some people who cannot board.\r\n",
    "\r\n",
    "Write a solution to find the person_name of the last person that can fit on the bus without exceeding the weight limit. The test cases are generated such that the first person does not exceed the weight limit."
   ]
  },
  {
   "cell_type": "code",
   "execution_count": null,
   "id": "ca6bd2db-e4a9-49c5-9ab8-df475b597eb5",
   "metadata": {},
   "outputs": [
    {
     "data": {
      "text/html": [
       "<table>\n",
       "<tr>\n",
       "<th>person_name</th>\n",
       "<th>cumsum</th>\n",
       "</tr>\n",
       "<tr>\n",
       "<td>Alice</td>\n",
       "<td>250</td>\n",
       "</tr>\n",
       "<tr>\n",
       "<td>Alex</td>\n",
       "<td>600</td>\n",
       "</tr>\n",
       "<tr>\n",
       "<td>John Cena</td>\n",
       "<td>1000</td>\n",
       "</tr>\n",
       "<tr>\n",
       "<td>Marie</td>\n",
       "<td>1200</td>\n",
       "</tr>\n",
       "<tr>\n",
       "<td>Bob</td>\n",
       "<td>1375</td>\n",
       "</tr>\n",
       "<tr>\n",
       "<td>Winston</td>\n",
       "<td>1875</td>\n",
       "</tr>\n",
       "</table>"
      ],
      "text/plain": [
       "+-------------+--------+\n",
       "| person_name | cumsum |\n",
       "+-------------+--------+\n",
       "| Alice       | 250    |\n",
       "+-------------+--------+\n",
       "| Alex        | 600    |\n",
       "+-------------+--------+\n",
       "| John Cena   | 1000   |\n",
       "+-------------+--------+\n",
       "| Marie       | 1200   |\n",
       "+-------------+--------+\n",
       "| Bob         | 1375   |\n",
       "+-------------+--------+\n",
       "| Winston     | 1875   |\n",
       "+-------------+--------+"
      ]
     },
     "execution_count": null,
     "metadata": {},
     "output_type": "execute_result"
    }
   ],
   "source": [
    "select person_name, sum(weight) over (order by turn) cumsum from queue "
   ]
  },
  {
   "cell_type": "code",
   "execution_count": null,
   "id": "ef91526b-68fc-48a3-bbf6-f4b304214f3a",
   "metadata": {},
   "outputs": [
    {
     "data": {
      "text/html": [
       "<table>\n",
       "<tr>\n",
       "<th>person_name</th>\n",
       "<th>cumsum</th>\n",
       "</tr>\n",
       "<tr>\n",
       "<td>John Cena</td>\n",
       "<td>1000</td>\n",
       "</tr>\n",
       "<tr>\n",
       "<td>Alex</td>\n",
       "<td>600</td>\n",
       "</tr>\n",
       "<tr>\n",
       "<td>Alice</td>\n",
       "<td>250</td>\n",
       "</tr>\n",
       "</table>"
      ],
      "text/plain": [
       "+-------------+--------+\n",
       "| person_name | cumsum |\n",
       "+-------------+--------+\n",
       "| John Cena   | 1000   |\n",
       "+-------------+--------+\n",
       "| Alex        | 600    |\n",
       "+-------------+--------+\n",
       "| Alice       | 250    |\n",
       "+-------------+--------+"
      ]
     },
     "execution_count": null,
     "metadata": {},
     "output_type": "execute_result"
    }
   ],
   "source": [
    "select * from (select person_name, sum(weight) over (order by turn) cumsum from queue order by cumsum desc)\n",
    "where cumsum<=1000"
   ]
  },
  {
   "cell_type": "code",
   "execution_count": null,
   "id": "c9665fba-a3b8-4fea-8c76-1154a509d539",
   "metadata": {},
   "outputs": [
    {
     "data": {
      "text/html": [
       "<table>\n",
       "<tr>\n",
       "<th>person_name</th>\n",
       "</tr>\n",
       "<tr>\n",
       "<td>John Cena</td>\n",
       "</tr>\n",
       "</table>"
      ],
      "text/plain": [
       "+-------------+\n",
       "| person_name |\n",
       "+-------------+\n",
       "| John Cena   |\n",
       "+-------------+"
      ]
     },
     "execution_count": null,
     "metadata": {},
     "output_type": "execute_result"
    }
   ],
   "source": [
    "select person_name from (select person_name, sum(weight) over (order by turn) cumsum from queue order by cumsum desc)\n",
    "where cumsum<=1000\n",
    "limit 1"
   ]
  },
  {
   "cell_type": "code",
   "execution_count": null,
   "id": "5c98f155-cc8d-40fa-bc00-6cc0145058fd",
   "metadata": {},
   "outputs": [],
   "source": []
  }
 ],
 "metadata": {
  "kernelspec": {
   "display_name": "xsqlite",
   "language": "sqlite",
   "name": "xsqlite"
  }
 },
 "nbformat": 4,
 "nbformat_minor": 5
}
