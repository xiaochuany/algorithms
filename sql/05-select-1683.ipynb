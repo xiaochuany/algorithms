{
 "cells": [
  {
   "cell_type": "code",
   "execution_count": 2,
   "id": "84f3a76f-634d-4308-8552-0f9ef94aab82",
   "metadata": {},
   "outputs": [],
   "source": [
    "%load tutorial.db [rw]"
   ]
  },
  {
   "cell_type": "code",
   "execution_count": 3,
   "id": "7eb73d3e-5fd1-4d04-a2aa-9211673f6c2c",
   "metadata": {},
   "outputs": [],
   "source": [
    "Create table If Not Exists Tweets(tweet_id int, content varchar(50))"
   ]
  },
  {
   "cell_type": "code",
   "execution_count": 4,
   "id": "9032fc75-220f-463d-9fa8-6f008f6ee54e",
   "metadata": {},
   "outputs": [],
   "source": [
    "insert into Tweets (tweet_id, content) values ('1', 'Vote for Biden')"
   ]
  },
  {
   "cell_type": "code",
   "execution_count": 5,
   "id": "d47deb9e-b929-414a-8fd3-b4f2b4b96bb9",
   "metadata": {},
   "outputs": [],
   "source": [
    "insert into Tweets (tweet_id, content) values ('2', 'Let us make America great again!')"
   ]
  },
  {
   "cell_type": "code",
   "execution_count": 6,
   "id": "74e9efc3-5f30-4ced-bf78-116dfceb8bb1",
   "metadata": {},
   "outputs": [
    {
     "data": {
      "text/html": [
       "<table>\n",
       "<tr>\n",
       "<th>tweet_id</th>\n",
       "<th>content</th>\n",
       "</tr>\n",
       "<tr>\n",
       "<td>1</td>\n",
       "<td>Vote for Biden</td>\n",
       "</tr>\n",
       "<tr>\n",
       "<td>2</td>\n",
       "<td>Let us make America great again!</td>\n",
       "</tr>\n",
       "</table>"
      ],
      "text/plain": [
       "+----------+----------------------------------+\n",
       "| tweet_id | content                          |\n",
       "+----------+----------------------------------+\n",
       "| 1        | Vote for Biden                   |\n",
       "+----------+----------------------------------+\n",
       "| 2        | Let us make America great again! |\n",
       "+----------+----------------------------------+"
      ]
     },
     "execution_count": 6,
     "metadata": {},
     "output_type": "execute_result"
    }
   ],
   "source": [
    "select * from Tweets"
   ]
  },
  {
   "cell_type": "markdown",
   "id": "d06c6ee2-ae87-4c4c-b03c-6338c9dd5eea",
   "metadata": {},
   "source": [
    "## Write a solution to find the IDs of the invalid tweets. The tweet is invalid if the number of characters used in the content of the tweet is strictly greater than 15.\r\n",
    "\r\n",
    "Return the result table in any order."
   ]
  },
  {
   "cell_type": "code",
   "execution_count": 7,
   "id": "31e193ea-94cd-4d6b-b9f4-0e3a04cb2952",
   "metadata": {},
   "outputs": [
    {
     "data": {
      "text/html": [
       "<table>\n",
       "<tr>\n",
       "<th>tweet_id</th>\n",
       "</tr>\n",
       "<tr>\n",
       "<td>2</td>\n",
       "</tr>\n",
       "</table>"
      ],
      "text/plain": [
       "+----------+\n",
       "| tweet_id |\n",
       "+----------+\n",
       "| 2        |\n",
       "+----------+"
      ]
     },
     "execution_count": 7,
     "metadata": {},
     "output_type": "execute_result"
    }
   ],
   "source": [
    "select tweet_id from Tweets where length(content)>15"
   ]
  },
  {
   "cell_type": "code",
   "execution_count": null,
   "id": "70c2b0b8-0358-4c2e-92d7-3302aa44beea",
   "metadata": {},
   "outputs": [],
   "source": []
  }
 ],
 "metadata": {
  "kernelspec": {
   "display_name": "xsqlite",
   "language": "sqlite",
   "name": "xsqlite"
  },
  "language_info": {
   "codemirror_mode": "sql",
   "file_extension": "",
   "mimetype": "",
   "name": "sql",
   "version": "3.42.0"
  }
 },
 "nbformat": 4,
 "nbformat_minor": 5
}
