{
 "cells": [
  {
   "cell_type": "code",
   "execution_count": null,
   "id": "07379eba-99e6-4b36-873a-684c92e27e66",
   "metadata": {},
   "outputs": [],
   "source": [
    "%load tutorial.db [rw]"
   ]
  },
  {
   "cell_type": "code",
   "execution_count": null,
   "id": "af625c1f-1a60-4918-809b-53ca7a6931b5",
   "metadata": {},
   "outputs": [],
   "source": [
    "Create table If Not Exists Delivery (delivery_id int, customer_id int, order_date date, customer_pref_delivery_date date)"
   ]
  },
  {
   "cell_type": "code",
   "execution_count": null,
   "id": "c4e9e1f8-9827-4a09-ab29-ab66a5f168e8",
   "metadata": {},
   "outputs": [],
   "source": [
    "insert into Delivery (delivery_id, customer_id, order_date, customer_pref_delivery_date) values ('1', '1', '2019-08-01', '2019-08-02')"
   ]
  },
  {
   "cell_type": "code",
   "execution_count": null,
   "id": "02f8d818-4d8b-48db-b309-29a752b5b6e7",
   "metadata": {},
   "outputs": [],
   "source": [
    "insert into Delivery (delivery_id, customer_id, order_date, customer_pref_delivery_date) values ('2', '2', '2019-08-02', '2019-08-02')"
   ]
  },
  {
   "cell_type": "code",
   "execution_count": null,
   "id": "81df6c7f-ef9f-4a85-81d7-25c7bf3d455a",
   "metadata": {},
   "outputs": [],
   "source": [
    "insert into Delivery (delivery_id, customer_id, order_date, customer_pref_delivery_date) values ('3', '1', '2019-08-11', '2019-08-12')"
   ]
  },
  {
   "cell_type": "code",
   "execution_count": null,
   "id": "d49ae000-2f09-48cf-937c-39c4af36d317",
   "metadata": {},
   "outputs": [],
   "source": [
    "insert into Delivery (delivery_id, customer_id, order_date, customer_pref_delivery_date) values ('4', '3', '2019-08-24', '2019-08-24')"
   ]
  },
  {
   "cell_type": "code",
   "execution_count": null,
   "id": "974006ee-90fb-430d-9663-2ec72a3de791",
   "metadata": {},
   "outputs": [],
   "source": [
    "insert into Delivery (delivery_id, customer_id, order_date, customer_pref_delivery_date) values ('5', '3', '2019-08-21', '2019-08-22')"
   ]
  },
  {
   "cell_type": "code",
   "execution_count": null,
   "id": "7dde81c1-ddcd-4529-90ce-72e0dc8ef844",
   "metadata": {},
   "outputs": [],
   "source": [
    "insert into Delivery (delivery_id, customer_id, order_date, customer_pref_delivery_date) values ('6', '2', '2019-08-11', '2019-08-13')"
   ]
  },
  {
   "cell_type": "code",
   "execution_count": null,
   "id": "5a4fa739-791f-44cc-85f3-5200eeb57380",
   "metadata": {},
   "outputs": [],
   "source": [
    "insert into Delivery (delivery_id, customer_id, order_date, customer_pref_delivery_date) values ('7', '4', '2019-08-09', '2019-08-09')"
   ]
  },
  {
   "cell_type": "code",
   "execution_count": null,
   "id": "8f6209e9-8f6d-4292-b387-f023115e1d99",
   "metadata": {},
   "outputs": [
    {
     "data": {
      "text/html": [
       "<table>\n",
       "<tr>\n",
       "<th>delivery_id</th>\n",
       "<th>customer_id</th>\n",
       "<th>order_date</th>\n",
       "<th>customer_pref_delivery_date</th>\n",
       "</tr>\n",
       "<tr>\n",
       "<td>1</td>\n",
       "<td>1</td>\n",
       "<td>2019-08-01</td>\n",
       "<td>2019-08-02</td>\n",
       "</tr>\n",
       "<tr>\n",
       "<td>2</td>\n",
       "<td>2</td>\n",
       "<td>2019-08-02</td>\n",
       "<td>2019-08-02</td>\n",
       "</tr>\n",
       "<tr>\n",
       "<td>3</td>\n",
       "<td>1</td>\n",
       "<td>2019-08-11</td>\n",
       "<td>2019-08-12</td>\n",
       "</tr>\n",
       "<tr>\n",
       "<td>4</td>\n",
       "<td>3</td>\n",
       "<td>2019-08-24</td>\n",
       "<td>2019-08-24</td>\n",
       "</tr>\n",
       "<tr>\n",
       "<td>5</td>\n",
       "<td>3</td>\n",
       "<td>2019-08-21</td>\n",
       "<td>2019-08-22</td>\n",
       "</tr>\n",
       "<tr>\n",
       "<td>6</td>\n",
       "<td>2</td>\n",
       "<td>2019-08-11</td>\n",
       "<td>2019-08-13</td>\n",
       "</tr>\n",
       "<tr>\n",
       "<td>7</td>\n",
       "<td>4</td>\n",
       "<td>2019-08-09</td>\n",
       "<td>2019-08-09</td>\n",
       "</tr>\n",
       "</table>"
      ],
      "text/plain": [
       "+-------------+-------------+------------+-----------------------------+\n",
       "| delivery_id | customer_id | order_date | customer_pref_delivery_date |\n",
       "+-------------+-------------+------------+-----------------------------+\n",
       "| 1           | 1           | 2019-08-01 | 2019-08-02                  |\n",
       "+-------------+-------------+------------+-----------------------------+\n",
       "| 2           | 2           | 2019-08-02 | 2019-08-02                  |\n",
       "+-------------+-------------+------------+-----------------------------+\n",
       "| 3           | 1           | 2019-08-11 | 2019-08-12                  |\n",
       "+-------------+-------------+------------+-----------------------------+\n",
       "| 4           | 3           | 2019-08-24 | 2019-08-24                  |\n",
       "+-------------+-------------+------------+-----------------------------+\n",
       "| 5           | 3           | 2019-08-21 | 2019-08-22                  |\n",
       "+-------------+-------------+------------+-----------------------------+\n",
       "| 6           | 2           | 2019-08-11 | 2019-08-13                  |\n",
       "+-------------+-------------+------------+-----------------------------+\n",
       "| 7           | 4           | 2019-08-09 | 2019-08-09                  |\n",
       "+-------------+-------------+------------+-----------------------------+"
      ]
     },
     "execution_count": null,
     "metadata": {},
     "output_type": "execute_result"
    }
   ],
   "source": [
    "select * from delivery"
   ]
  },
  {
   "cell_type": "markdown",
   "id": "b7e49909-c207-4a74-a62a-c3c1f7a2c8d3",
   "metadata": {},
   "source": [
    "## Write a solution to find the percentage of immediate orders in the first orders of all customers,\n",
    "\n",
    "If the customer's preferred delivery date is the same as the order date, then the order is called immediate; otherwise, it is called scheduled.\r\n",
    "\r\n",
    "The first order of a customer is the order with the earliest order date that the customer made. It is guaranteed that a customer has precisely one first order."
   ]
  },
  {
   "cell_type": "code",
   "execution_count": null,
   "id": "59d21744-4573-4db1-9d6d-a5235dc7507e",
   "metadata": {},
   "outputs": [
    {
     "data": {
      "text/html": [
       "<table>\n",
       "<tr>\n",
       "<th>customer_id</th>\n",
       "<th>min(order_date)</th>\n",
       "</tr>\n",
       "<tr>\n",
       "<td>1</td>\n",
       "<td>2019-08-01</td>\n",
       "</tr>\n",
       "<tr>\n",
       "<td>2</td>\n",
       "<td>2019-08-02</td>\n",
       "</tr>\n",
       "<tr>\n",
       "<td>3</td>\n",
       "<td>2019-08-21</td>\n",
       "</tr>\n",
       "<tr>\n",
       "<td>4</td>\n",
       "<td>2019-08-09</td>\n",
       "</tr>\n",
       "</table>"
      ],
      "text/plain": [
       "+-------------+-----------------+\n",
       "| customer_id | min(order_date) |\n",
       "+-------------+-----------------+\n",
       "| 1           | 2019-08-01      |\n",
       "+-------------+-----------------+\n",
       "| 2           | 2019-08-02      |\n",
       "+-------------+-----------------+\n",
       "| 3           | 2019-08-21      |\n",
       "+-------------+-----------------+\n",
       "| 4           | 2019-08-09      |\n",
       "+-------------+-----------------+"
      ]
     },
     "execution_count": null,
     "metadata": {},
     "output_type": "execute_result"
    }
   ],
   "source": [
    "select customer_id, min(order_date) from delivery group by customer_id"
   ]
  },
  {
   "cell_type": "code",
   "execution_count": null,
   "id": "25a66800-8b86-4e5b-8290-57c52d2576ac",
   "metadata": {},
   "outputs": [
    {
     "data": {
      "text/html": [
       "<table>\n",
       "<tr>\n",
       "<th>immediate_percentage</th>\n",
       "</tr>\n",
       "<tr>\n",
       "<td>0.5</td>\n",
       "</tr>\n",
       "</table>"
      ],
      "text/plain": [
       "+----------------------+\n",
       "| immediate_percentage |\n",
       "+----------------------+\n",
       "| 0.5                  |\n",
       "+----------------------+"
      ]
     },
     "execution_count": null,
     "metadata": {},
     "output_type": "execute_result"
    }
   ],
   "source": [
    "select 1.0*sum(d.order_date=d.customer_pref_delivery_date)/count(*) as immediate_percentage\n",
    "from delivery d,\n",
    "    (select customer_id, min(order_date) as order_date from delivery group by customer_id) e\n",
    "where d.customer_id=e.customer_id and d.order_date=e.order_date"
   ]
  },
  {
   "cell_type": "code",
   "execution_count": null,
   "id": "7de6f32c-7fd1-4dd6-9433-527d5e6cd06b",
   "metadata": {},
   "outputs": [],
   "source": []
  }
 ],
 "metadata": {
  "kernelspec": {
   "display_name": "xsqlite",
   "language": "sqlite",
   "name": "xsqlite"
  }
 },
 "nbformat": 4,
 "nbformat_minor": 5
}
