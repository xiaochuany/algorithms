{
 "cells": [
  {
   "cell_type": "code",
   "execution_count": 1,
   "id": "ff6dc1c8-1ddb-493d-a0d3-0ec54da500c5",
   "metadata": {},
   "outputs": [],
   "source": [
    "%load tutorial.db [rw]"
   ]
  },
  {
   "cell_type": "code",
   "execution_count": 6,
   "id": "05db74cb-ac45-40be-9146-703b3774a304",
   "metadata": {},
   "outputs": [],
   "source": [
    "Create table If Not Exists Employees (id int, name varchar(20))"
   ]
  },
  {
   "cell_type": "code",
   "execution_count": 8,
   "id": "55eee1cb-119e-419e-a01a-30b35bc5150d",
   "metadata": {},
   "outputs": [],
   "source": [
    "Create table If Not Exists EmployeeUNI (id int, unique_id int)"
   ]
  },
  {
   "cell_type": "code",
   "execution_count": 10,
   "id": "b6c6cea8-a468-4e5c-8f72-bf4012e43f10",
   "metadata": {},
   "outputs": [],
   "source": [
    "insert into Employees (id, name) values ('1', 'Alice')"
   ]
  },
  {
   "cell_type": "code",
   "execution_count": 11,
   "id": "b284495f-7476-4702-9972-82f300d77842",
   "metadata": {},
   "outputs": [],
   "source": [
    "insert into Employees (id, name) values ('7', 'Bob')"
   ]
  },
  {
   "cell_type": "code",
   "execution_count": 12,
   "id": "960c2c60-ca65-44c5-8af9-5142057958a3",
   "metadata": {},
   "outputs": [],
   "source": [
    "insert into Employees (id, name) values ('11', 'Meir')"
   ]
  },
  {
   "cell_type": "code",
   "execution_count": 13,
   "id": "de925f02-ff50-4215-8486-9ad3bcdedf11",
   "metadata": {},
   "outputs": [],
   "source": [
    "insert into Employees (id, name) values ('90', 'Winston')"
   ]
  },
  {
   "cell_type": "code",
   "execution_count": 14,
   "id": "a30fc07d-d434-4cc6-9e5a-89bc94ab912d",
   "metadata": {},
   "outputs": [],
   "source": [
    "insert into Employees (id, name) values ('3', 'Jonathan')"
   ]
  },
  {
   "cell_type": "code",
   "execution_count": 15,
   "id": "0cd65b7b-ebf4-4364-af03-4f1eaad11e90",
   "metadata": {},
   "outputs": [],
   "source": [
    "insert into EmployeeUNI (id, unique_id) values ('3', '1')"
   ]
  },
  {
   "cell_type": "code",
   "execution_count": 16,
   "id": "f875bcc1-8ca9-48b2-aa0c-ac15a1f11c23",
   "metadata": {},
   "outputs": [],
   "source": [
    "insert into EmployeeUNI (id, unique_id) values ('11', '2')"
   ]
  },
  {
   "cell_type": "code",
   "execution_count": 17,
   "id": "eb81663a-f8ab-4b2a-bd8e-22364bc96dd7",
   "metadata": {},
   "outputs": [],
   "source": [
    "insert into EmployeeUNI (id, unique_id) values ('90', '3')"
   ]
  },
  {
   "cell_type": "code",
   "execution_count": 18,
   "id": "88bf01f8-e3a5-4b59-9406-d83d618a396c",
   "metadata": {},
   "outputs": [
    {
     "data": {
      "text/html": [
       "<table>\n",
       "<tr>\n",
       "<th>id</th>\n",
       "<th>name</th>\n",
       "</tr>\n",
       "<tr>\n",
       "<td>1</td>\n",
       "<td>Alice</td>\n",
       "</tr>\n",
       "<tr>\n",
       "<td>7</td>\n",
       "<td>Bob</td>\n",
       "</tr>\n",
       "<tr>\n",
       "<td>11</td>\n",
       "<td>Meir</td>\n",
       "</tr>\n",
       "<tr>\n",
       "<td>90</td>\n",
       "<td>Winston</td>\n",
       "</tr>\n",
       "<tr>\n",
       "<td>3</td>\n",
       "<td>Jonathan</td>\n",
       "</tr>\n",
       "</table>"
      ],
      "text/plain": [
       "+----+----------+\n",
       "| id | name     |\n",
       "+----+----------+\n",
       "| 1  | Alice    |\n",
       "+----+----------+\n",
       "| 7  | Bob      |\n",
       "+----+----------+\n",
       "| 11 | Meir     |\n",
       "+----+----------+\n",
       "| 90 | Winston  |\n",
       "+----+----------+\n",
       "| 3  | Jonathan |\n",
       "+----+----------+"
      ]
     },
     "execution_count": 18,
     "metadata": {},
     "output_type": "execute_result"
    }
   ],
   "source": [
    "select * from Employees"
   ]
  },
  {
   "cell_type": "code",
   "execution_count": 19,
   "id": "706d566f-9e69-478c-8fc7-2e6340e5506f",
   "metadata": {},
   "outputs": [
    {
     "data": {
      "text/html": [
       "<table>\n",
       "<tr>\n",
       "<th>id</th>\n",
       "<th>unique_id</th>\n",
       "</tr>\n",
       "<tr>\n",
       "<td>3</td>\n",
       "<td>1</td>\n",
       "</tr>\n",
       "<tr>\n",
       "<td>11</td>\n",
       "<td>2</td>\n",
       "</tr>\n",
       "<tr>\n",
       "<td>90</td>\n",
       "<td>3</td>\n",
       "</tr>\n",
       "</table>"
      ],
      "text/plain": [
       "+----+-----------+\n",
       "| id | unique_id |\n",
       "+----+-----------+\n",
       "| 3  | 1         |\n",
       "+----+-----------+\n",
       "| 11 | 2         |\n",
       "+----+-----------+\n",
       "| 90 | 3         |\n",
       "+----+-----------+"
      ]
     },
     "execution_count": 19,
     "metadata": {},
     "output_type": "execute_result"
    }
   ],
   "source": [
    "select * from EmployeeUNI"
   ]
  },
  {
   "cell_type": "markdown",
   "id": "9ee47be2-82fa-41c3-b929-96f8fd3df0b4",
   "metadata": {},
   "source": [
    "## Write a solution to show the unique ID of each user, If a user does not have a unique ID replace just show null.\r\n",
    "\r\n",
    "Return the result table in any order."
   ]
  },
  {
   "cell_type": "code",
   "execution_count": 38,
   "id": "7bfe7380-a1fc-4748-b53c-607d34dc8d42",
   "metadata": {},
   "outputs": [
    {
     "data": {
      "text/html": [
       "<table>\n",
       "<tr>\n",
       "<th>unique_id</th>\n",
       "<th>name</th>\n",
       "</tr>\n",
       "<tr>\n",
       "<td></td>\n",
       "<td>Alice</td>\n",
       "</tr>\n",
       "<tr>\n",
       "<td></td>\n",
       "<td>Bob</td>\n",
       "</tr>\n",
       "<tr>\n",
       "<td>2</td>\n",
       "<td>Meir</td>\n",
       "</tr>\n",
       "<tr>\n",
       "<td>3</td>\n",
       "<td>Winston</td>\n",
       "</tr>\n",
       "<tr>\n",
       "<td>1</td>\n",
       "<td>Jonathan</td>\n",
       "</tr>\n",
       "</table>"
      ],
      "text/plain": [
       "+-----------+----------+\n",
       "| unique_id | name     |\n",
       "+-----------+----------+\n",
       "|           | Alice    |\n",
       "+-----------+----------+\n",
       "|           | Bob      |\n",
       "+-----------+----------+\n",
       "| 2         | Meir     |\n",
       "+-----------+----------+\n",
       "| 3         | Winston  |\n",
       "+-----------+----------+\n",
       "| 1         | Jonathan |\n",
       "+-----------+----------+"
      ]
     },
     "execution_count": 38,
     "metadata": {},
     "output_type": "execute_result"
    }
   ],
   "source": [
    "select U.unique_id, E.name\n",
    "from Employees E left join EmployeeUNI U\n",
    "using (id)"
   ]
  },
  {
   "cell_type": "code",
   "execution_count": null,
   "id": "d21e5125-eb6c-4461-85d3-b081d371bf9c",
   "metadata": {},
   "outputs": [],
   "source": []
  }
 ],
 "metadata": {
  "kernelspec": {
   "display_name": "xsqlite",
   "language": "sqlite",
   "name": "xsqlite"
  },
  "language_info": {
   "codemirror_mode": "sql",
   "file_extension": "",
   "mimetype": "",
   "name": "sql",
   "version": "3.42.0"
  }
 },
 "nbformat": 4,
 "nbformat_minor": 5
}
