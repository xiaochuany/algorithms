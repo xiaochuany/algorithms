{
 "cells": [
  {
   "cell_type": "code",
   "execution_count": null,
   "id": "b58d8ea1-820c-4b8a-9ae1-8765af6d05cc",
   "metadata": {},
   "outputs": [],
   "source": [
    "%load tutorial.db"
   ]
  },
  {
   "cell_type": "code",
   "execution_count": null,
   "id": "d605c897-c58a-499e-bdde-0b07c370c04c",
   "metadata": {},
   "outputs": [
    {
     "data": {
      "text/html": [
       "<table>\n",
       "<tr>\n",
       "<th>empId</th>\n",
       "<th>name</th>\n",
       "<th>supervisor</th>\n",
       "<th>salary</th>\n",
       "</tr>\n",
       "<tr>\n",
       "<td>3</td>\n",
       "<td>Brad</td>\n",
       "<td>None</td>\n",
       "<td>4000</td>\n",
       "</tr>\n",
       "<tr>\n",
       "<td>1</td>\n",
       "<td>John</td>\n",
       "<td>3</td>\n",
       "<td>1000</td>\n",
       "</tr>\n",
       "<tr>\n",
       "<td>2</td>\n",
       "<td>Dan</td>\n",
       "<td>3</td>\n",
       "<td>2000</td>\n",
       "</tr>\n",
       "<tr>\n",
       "<td>4</td>\n",
       "<td>Thomas</td>\n",
       "<td>3</td>\n",
       "<td>4000</td>\n",
       "</tr>\n",
       "</table>"
      ],
      "text/plain": [
       "+-------+--------+------------+--------+\n",
       "| empId | name   | supervisor | salary |\n",
       "+-------+--------+------------+--------+\n",
       "| 3     | Brad   | None       | 4000   |\n",
       "+-------+--------+------------+--------+\n",
       "| 1     | John   | 3          | 1000   |\n",
       "+-------+--------+------------+--------+\n",
       "| 2     | Dan    | 3          | 2000   |\n",
       "+-------+--------+------------+--------+\n",
       "| 4     | Thomas | 3          | 4000   |\n",
       "+-------+--------+------------+--------+"
      ]
     },
     "execution_count": null,
     "metadata": {},
     "output_type": "execute_result"
    }
   ],
   "source": [
    "select * from employee"
   ]
  },
  {
   "cell_type": "markdown",
   "id": "bbab56e0-3450-4052-ac60-ce7f8e5964d1",
   "metadata": {},
   "source": [
    "## Write a solution to find the second highest salary from the Employee table. If there is no second highest salary, return null"
   ]
  },
  {
   "cell_type": "code",
   "execution_count": null,
   "id": "c9893020-2ca5-4da0-9d40-47dae62679d1",
   "metadata": {},
   "outputs": [
    {
     "data": {
      "text/html": [
       "<table>\n",
       "<tr>\n",
       "<th>empId</th>\n",
       "<th>name</th>\n",
       "<th>supervisor</th>\n",
       "<th>salary</th>\n",
       "</tr>\n",
       "<tr>\n",
       "<td>1</td>\n",
       "<td>John</td>\n",
       "<td>3</td>\n",
       "<td>1000</td>\n",
       "</tr>\n",
       "<tr>\n",
       "<td>2</td>\n",
       "<td>Dan</td>\n",
       "<td>3</td>\n",
       "<td>2000</td>\n",
       "</tr>\n",
       "</table>"
      ],
      "text/plain": [
       "+-------+------+------------+--------+\n",
       "| empId | name | supervisor | salary |\n",
       "+-------+------+------------+--------+\n",
       "| 1     | John | 3          | 1000   |\n",
       "+-------+------+------------+--------+\n",
       "| 2     | Dan  | 3          | 2000   |\n",
       "+-------+------+------------+--------+"
      ]
     },
     "execution_count": null,
     "metadata": {},
     "output_type": "execute_result"
    }
   ],
   "source": [
    "select * from employee where salary< (select max(salary) from employee)"
   ]
  },
  {
   "cell_type": "code",
   "execution_count": null,
   "id": "34cc0867-d846-4ff8-8b15-0efc8f0c4924",
   "metadata": {},
   "outputs": [
    {
     "data": {
      "text/html": [
       "<table>\n",
       "<tr>\n",
       "<th>max(salary)</th>\n",
       "</tr>\n",
       "<tr>\n",
       "<td>2000</td>\n",
       "</tr>\n",
       "</table>"
      ],
      "text/plain": [
       "+-------------+\n",
       "| max(salary) |\n",
       "+-------------+\n",
       "| 2000        |\n",
       "+-------------+"
      ]
     },
     "execution_count": null,
     "metadata": {},
     "output_type": "execute_result"
    }
   ],
   "source": [
    "select max(salary) from employee where salary< (select max(salary) from employee)"
   ]
  },
  {
   "cell_type": "code",
   "execution_count": null,
   "id": "b927db62-30a9-437b-b494-0b8f8e2b0479",
   "metadata": {},
   "outputs": [],
   "source": []
  }
 ],
 "metadata": {
  "kernelspec": {
   "display_name": "xsqlite",
   "language": "sqlite",
   "name": "xsqlite"
  }
 },
 "nbformat": 4,
 "nbformat_minor": 5
}
