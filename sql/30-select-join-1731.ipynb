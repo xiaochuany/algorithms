{
 "cells": [
  {
   "cell_type": "code",
   "execution_count": null,
   "id": "394f4320-c20a-437e-975f-c09928678cca",
   "metadata": {},
   "outputs": [],
   "source": [
    "%load tutorial.db [rw]"
   ]
  },
  {
   "cell_type": "code",
   "execution_count": null,
   "id": "24313221-c93e-4dd1-94a1-f4b12a11dd9e",
   "metadata": {},
   "outputs": [],
   "source": [
    "Create table If Not Exists Employeess(employee_id int, name varchar(20), reports_to int, age int)"
   ]
  },
  {
   "cell_type": "code",
   "execution_count": null,
   "id": "ca6b3c6f-cde8-45a5-87c7-878c3f1fc17a",
   "metadata": {},
   "outputs": [],
   "source": [
    "insert into Employeess (employee_id, name, reports_to, age) values ('9', 'Hercy', 'None', '43')"
   ]
  },
  {
   "cell_type": "code",
   "execution_count": null,
   "id": "ecbac5b6-d948-4fdb-8227-dcb9fbd0e504",
   "metadata": {},
   "outputs": [],
   "source": [
    "insert into Employeess (employee_id, name, reports_to, age) values ('6', 'Alice', '9', '41')"
   ]
  },
  {
   "cell_type": "code",
   "execution_count": null,
   "id": "a609aa8b-fa3a-4f54-a96d-22fa128f6325",
   "metadata": {},
   "outputs": [],
   "source": [
    "insert into Employeess (employee_id, name, reports_to, age) values ('4', 'Bob', '9', '36')"
   ]
  },
  {
   "cell_type": "code",
   "execution_count": null,
   "id": "10721bd1-6ae2-4947-881e-8fb699d3efd3",
   "metadata": {},
   "outputs": [],
   "source": [
    "insert into Employeess (employee_id, name, reports_to, age) values ('2', 'Winston', 'None', '37')"
   ]
  },
  {
   "cell_type": "code",
   "execution_count": null,
   "id": "4608150f-c0e6-4543-a847-f146c8518ec3",
   "metadata": {},
   "outputs": [
    {
     "data": {
      "text/html": [
       "<table>\n",
       "<tr>\n",
       "<th>employee_id</th>\n",
       "<th>name</th>\n",
       "<th>reports_to</th>\n",
       "<th>age</th>\n",
       "</tr>\n",
       "<tr>\n",
       "<td>9</td>\n",
       "<td>Hercy</td>\n",
       "<td>None</td>\n",
       "<td>43</td>\n",
       "</tr>\n",
       "<tr>\n",
       "<td>6</td>\n",
       "<td>Alice</td>\n",
       "<td>9</td>\n",
       "<td>41</td>\n",
       "</tr>\n",
       "<tr>\n",
       "<td>4</td>\n",
       "<td>Bob</td>\n",
       "<td>9</td>\n",
       "<td>36</td>\n",
       "</tr>\n",
       "<tr>\n",
       "<td>2</td>\n",
       "<td>Winston</td>\n",
       "<td>None</td>\n",
       "<td>37</td>\n",
       "</tr>\n",
       "</table>"
      ],
      "text/plain": [
       "+-------------+---------+------------+-----+\n",
       "| employee_id | name    | reports_to | age |\n",
       "+-------------+---------+------------+-----+\n",
       "| 9           | Hercy   | None       | 43  |\n",
       "+-------------+---------+------------+-----+\n",
       "| 6           | Alice   | 9          | 41  |\n",
       "+-------------+---------+------------+-----+\n",
       "| 4           | Bob     | 9          | 36  |\n",
       "+-------------+---------+------------+-----+\n",
       "| 2           | Winston | None       | 37  |\n",
       "+-------------+---------+------------+-----+"
      ]
     },
     "execution_count": null,
     "metadata": {},
     "output_type": "execute_result"
    }
   ],
   "source": [
    "select * from employeess"
   ]
  },
  {
   "cell_type": "markdown",
   "id": "85b5523b-075c-45ea-8b6a-792f4670b275",
   "metadata": {},
   "source": [
    "## Write a solution to report the ids and the names of all managers, the number of employees who report directly to them, and the average age of the reports rounded to the nearest integer."
   ]
  },
  {
   "cell_type": "code",
   "execution_count": null,
   "id": "7bf84c73-e29e-4bc5-a610-4030dfb677a5",
   "metadata": {},
   "outputs": [
    {
     "data": {
      "text/html": [
       "<table>\n",
       "<tr>\n",
       "<th>manager_id</th>\n",
       "<th>average_age</th>\n",
       "<th>reports_count</th>\n",
       "</tr>\n",
       "<tr>\n",
       "<td>9</td>\n",
       "<td>39.0</td>\n",
       "<td>2</td>\n",
       "</tr>\n",
       "</table>"
      ],
      "text/plain": [
       "+------------+-------------+---------------+\n",
       "| manager_id | average_age | reports_count |\n",
       "+------------+-------------+---------------+\n",
       "| 9          | 39.0        | 2             |\n",
       "+------------+-------------+---------------+"
      ]
     },
     "execution_count": null,
     "metadata": {},
     "output_type": "execute_result"
    }
   ],
   "source": [
    "with t as (\n",
    "    select reports_to manager_id, round(avg(age)) average_age, count(*) reports_count from employeess group by reports_to\n",
    ")\n",
    "\n",
    "select * from t where manager_id "
   ]
  },
  {
   "cell_type": "code",
   "execution_count": null,
   "id": "d7fa3637-b233-4ee0-8149-37b30c85b3f2",
   "metadata": {},
   "outputs": [
    {
     "data": {
      "text/html": [
       "<table>\n",
       "<tr>\n",
       "<th>employee_id</th>\n",
       "<th>name</th>\n",
       "<th>reports_to</th>\n",
       "<th>age</th>\n",
       "<th>employee_id</th>\n",
       "<th>name</th>\n",
       "<th>reports_to</th>\n",
       "<th>age</th>\n",
       "</tr>\n",
       "<tr>\n",
       "<td>9</td>\n",
       "<td>Hercy</td>\n",
       "<td>None</td>\n",
       "<td>43</td>\n",
       "<td>4</td>\n",
       "<td>Bob</td>\n",
       "<td>9</td>\n",
       "<td>36</td>\n",
       "</tr>\n",
       "<tr>\n",
       "<td>9</td>\n",
       "<td>Hercy</td>\n",
       "<td>None</td>\n",
       "<td>43</td>\n",
       "<td>6</td>\n",
       "<td>Alice</td>\n",
       "<td>9</td>\n",
       "<td>41</td>\n",
       "</tr>\n",
       "</table>"
      ],
      "text/plain": [
       "+-------------+-------+------------+-----+-------------+-------+------------+-----+\n",
       "| employee_id | name  | reports_to | age | employee_id | name  | reports_to | age |\n",
       "+-------------+-------+------------+-----+-------------+-------+------------+-----+\n",
       "| 9           | Hercy | None       | 43  | 4           | Bob   | 9          | 36  |\n",
       "+-------------+-------+------------+-----+-------------+-------+------------+-----+\n",
       "| 9           | Hercy | None       | 43  | 6           | Alice | 9          | 41  |\n",
       "+-------------+-------+------------+-----+-------------+-------+------------+-----+"
      ]
     },
     "execution_count": null,
     "metadata": {},
     "output_type": "execute_result"
    }
   ],
   "source": [
    "select * from employeess e1, employeess e2 where e1.employee_id=e2.reports_to"
   ]
  },
  {
   "cell_type": "code",
   "execution_count": null,
   "id": "c1067b09-b427-49e8-abf5-e75b7d034671",
   "metadata": {},
   "outputs": [
    {
     "data": {
      "text/html": [
       "<table>\n",
       "<tr>\n",
       "<th>count(*)</th>\n",
       "</tr>\n",
       "<tr>\n",
       "<td>2</td>\n",
       "</tr>\n",
       "</table>"
      ],
      "text/plain": [
       "+----------+\n",
       "| count(*) |\n",
       "+----------+\n",
       "| 2        |\n",
       "+----------+"
      ]
     },
     "execution_count": null,
     "metadata": {},
     "output_type": "execute_result"
    }
   ],
   "source": [
    "select count(*) from employeess e1, employeess e2 where e1.employee_id=e2.reports_to group by e1.employee_id"
   ]
  },
  {
   "cell_type": "markdown",
   "id": "32334b93-0410-45f8-ac64-dfe46b5139fa",
   "metadata": {},
   "source": [
    "### manual where "
   ]
  },
  {
   "cell_type": "code",
   "execution_count": null,
   "id": "840b78f5-0101-4cd9-b3de-82bbf455a4eb",
   "metadata": {},
   "outputs": [
    {
     "data": {
      "text/html": [
       "<table>\n",
       "<tr>\n",
       "<th>employee_id</th>\n",
       "<th>name</th>\n",
       "<th>count(*)</th>\n",
       "<th>avg(e2.age)</th>\n",
       "</tr>\n",
       "<tr>\n",
       "<td>9</td>\n",
       "<td>Hercy</td>\n",
       "<td>2</td>\n",
       "<td>38.5</td>\n",
       "</tr>\n",
       "</table>"
      ],
      "text/plain": [
       "+-------------+-------+----------+-------------+\n",
       "| employee_id | name  | count(*) | avg(e2.age) |\n",
       "+-------------+-------+----------+-------------+\n",
       "| 9           | Hercy | 2        | 38.5        |\n",
       "+-------------+-------+----------+-------------+"
      ]
     },
     "execution_count": null,
     "metadata": {},
     "output_type": "execute_result"
    }
   ],
   "source": [
    "select e1.employee_id, e1.name, count(*), avg(e2.age) from employeess e1, employeess e2 where e1.employee_id=e2.reports_to group by e1.employee_id"
   ]
  },
  {
   "cell_type": "markdown",
   "id": "3c82a6d6-f159-4856-872a-10954fd8bd11",
   "metadata": {},
   "source": [
    "### another way : inner join"
   ]
  },
  {
   "cell_type": "code",
   "execution_count": null,
   "id": "0aaac03d-f012-476a-8e7f-e5c1fe036341",
   "metadata": {},
   "outputs": [
    {
     "data": {
      "text/html": [
       "<table>\n",
       "<tr>\n",
       "<th>count(*)</th>\n",
       "</tr>\n",
       "<tr>\n",
       "<td>2</td>\n",
       "</tr>\n",
       "</table>"
      ],
      "text/plain": [
       "+----------+\n",
       "| count(*) |\n",
       "+----------+\n",
       "| 2        |\n",
       "+----------+"
      ]
     },
     "execution_count": null,
     "metadata": {},
     "output_type": "execute_result"
    }
   ],
   "source": [
    "select count(*) from employeess e1 inner join employeess e2 on e1.employee_id=e2.reports_to group by e1.employee_id, e1.name"
   ]
  },
  {
   "cell_type": "code",
   "execution_count": null,
   "id": "0e9f88e9-0964-490d-ba31-9a25069271bb",
   "metadata": {},
   "outputs": [],
   "source": []
  }
 ],
 "metadata": {
  "kernelspec": {
   "display_name": "xsqlite",
   "language": "sqlite",
   "name": "xsqlite"
  }
 },
 "nbformat": 4,
 "nbformat_minor": 5
}
