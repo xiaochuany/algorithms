{
 "cells": [
  {
   "cell_type": "code",
   "execution_count": null,
   "id": "7fc5bf32-23ce-4bb1-a43f-1d1362cc65e1",
   "metadata": {},
   "outputs": [],
   "source": [
    "%load tutorial.db [rw]"
   ]
  },
  {
   "cell_type": "code",
   "execution_count": null,
   "id": "970dcaa6-50b7-4b75-8a8c-0b38b153ff90",
   "metadata": {},
   "outputs": [],
   "source": [
    "Create table If Not Exists fixUsers (user_id int, name varchar(40))"
   ]
  },
  {
   "cell_type": "code",
   "execution_count": null,
   "id": "3b8c234e-aac9-40c9-a77a-ad5b2defc71b",
   "metadata": {},
   "outputs": [],
   "source": [
    "insert into fixUsers (user_id, name) values ('1', 'aLice')"
   ]
  },
  {
   "cell_type": "code",
   "execution_count": null,
   "id": "e852edd3-534b-447a-88c6-3f875714e35d",
   "metadata": {},
   "outputs": [],
   "source": [
    "insert into fixUsers (user_id, name) values ('2', 'bOB')"
   ]
  },
  {
   "cell_type": "code",
   "execution_count": null,
   "id": "059fe1e4-001b-41b1-b9aa-c8b0d2c51ce1",
   "metadata": {},
   "outputs": [
    {
     "data": {
      "text/html": [
       "<table>\n",
       "<tr>\n",
       "<th>user_id</th>\n",
       "<th>name</th>\n",
       "</tr>\n",
       "<tr>\n",
       "<td>1</td>\n",
       "<td>aLice</td>\n",
       "</tr>\n",
       "<tr>\n",
       "<td>2</td>\n",
       "<td>bOB</td>\n",
       "</tr>\n",
       "</table>"
      ],
      "text/plain": [
       "+---------+-------+\n",
       "| user_id | name  |\n",
       "+---------+-------+\n",
       "| 1       | aLice |\n",
       "+---------+-------+\n",
       "| 2       | bOB   |\n",
       "+---------+-------+"
      ]
     },
     "execution_count": null,
     "metadata": {},
     "output_type": "execute_result"
    }
   ],
   "source": [
    "select * from fixusers"
   ]
  },
  {
   "cell_type": "markdown",
   "id": "60bc0b8d-ca58-43f0-a626-f3a29a7c2478",
   "metadata": {},
   "source": [
    "## Write a solution to fix the names so that only the first character is uppercase and the rest are lowercase."
   ]
  },
  {
   "cell_type": "markdown",
   "id": "ee027f9c-3775-44e2-890b-e775158cb623",
   "metadata": {},
   "source": [
    "in oracle, can use `initcap` e.g.\n",
    "`select user_id, initcap(lower(name)) from fixusers` \n",
    "\n",
    "be mindful that `initcap` capitalizes initials of all words separated by spaces"
   ]
  },
  {
   "cell_type": "code",
   "execution_count": null,
   "id": "dc0f6afd-76b2-414a-a686-18d959aaf156",
   "metadata": {},
   "outputs": [
    {
     "data": {
      "text/html": [
       "<table>\n",
       "<tr>\n",
       "<th>substr(name,1,1)</th>\n",
       "</tr>\n",
       "<tr>\n",
       "<td>a</td>\n",
       "</tr>\n",
       "<tr>\n",
       "<td>b</td>\n",
       "</tr>\n",
       "</table>"
      ],
      "text/plain": [
       "+------------------+\n",
       "| substr(name,1,1) |\n",
       "+------------------+\n",
       "| a                |\n",
       "+------------------+\n",
       "| b                |\n",
       "+------------------+"
      ]
     },
     "execution_count": null,
     "metadata": {},
     "output_type": "execute_result"
    }
   ],
   "source": [
    "select substr(name,1,1) from fixusers -- starting from 1st, length 1"
   ]
  },
  {
   "cell_type": "code",
   "execution_count": null,
   "id": "93a2adfe-c41c-40c3-8414-8634a0de952e",
   "metadata": {},
   "outputs": [
    {
     "data": {
      "text/html": [
       "<table>\n",
       "<tr>\n",
       "<th>name</th>\n",
       "</tr>\n",
       "<tr>\n",
       "<td>Alice</td>\n",
       "</tr>\n",
       "<tr>\n",
       "<td>Bob</td>\n",
       "</tr>\n",
       "</table>"
      ],
      "text/plain": [
       "+-------+\n",
       "| name  |\n",
       "+-------+\n",
       "| Alice |\n",
       "+-------+\n",
       "| Bob   |\n",
       "+-------+"
      ]
     },
     "execution_count": null,
     "metadata": {},
     "output_type": "execute_result"
    }
   ],
   "source": [
    "select upper(substr(name,1,1)) || lower(substr(name,2)) as name \n",
    "from fixusers"
   ]
  },
  {
   "cell_type": "code",
   "execution_count": null,
   "id": "e07ba2f2-0840-40ad-91fb-88095cd47894",
   "metadata": {},
   "outputs": [],
   "source": []
  }
 ],
 "metadata": {
  "kernelspec": {
   "display_name": "xsqlite",
   "language": "sqlite",
   "name": "xsqlite"
  }
 },
 "nbformat": 4,
 "nbformat_minor": 5
}
