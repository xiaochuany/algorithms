{
 "cells": [
  {
   "cell_type": "code",
   "execution_count": null,
   "id": "62c47218-fa59-4ec0-a8e4-7cdc65735507",
   "metadata": {},
   "outputs": [],
   "source": [
    "%load tutorial.db [rw]"
   ]
  },
  {
   "cell_type": "code",
   "execution_count": null,
   "id": "2ff7e0f8-5a1c-42db-9acc-0734420639bf",
   "metadata": {},
   "outputs": [],
   "source": [
    "Create table If Not Exists Employeeh (id int, name varchar(255), salary int, departmentId int)"
   ]
  },
  {
   "cell_type": "code",
   "execution_count": null,
   "id": "c926f60b-be30-4006-a617-502e7de940ee",
   "metadata": {},
   "outputs": [],
   "source": [
    "Create table If Not Exists Department (id int, name varchar(255))"
   ]
  },
  {
   "cell_type": "code",
   "execution_count": null,
   "id": "efb615e9-d6e0-4de4-84a1-4ba02671d478",
   "metadata": {},
   "outputs": [],
   "source": [
    "insert into Employeeh (id, name, salary, departmentId) values ('1', 'Joe', '85000', '1')"
   ]
  },
  {
   "cell_type": "code",
   "execution_count": null,
   "id": "9a65a83f-f31b-4133-a925-22752617750a",
   "metadata": {},
   "outputs": [],
   "source": [
    "insert into Employeeh (id, name, salary, departmentId) values ('2', 'Henry', '80000', '2')"
   ]
  },
  {
   "cell_type": "code",
   "execution_count": null,
   "id": "f4fec576-5976-4b60-9c86-bf954d154ef0",
   "metadata": {},
   "outputs": [],
   "source": [
    "insert into Employeeh (id, name, salary, departmentId) values ('3', 'Sam', '60000', '2')"
   ]
  },
  {
   "cell_type": "code",
   "execution_count": null,
   "id": "d85355e2-3521-4dca-a286-84b11180ddb4",
   "metadata": {},
   "outputs": [],
   "source": [
    "insert into Employeeh (id, name, salary, departmentId) values ('4', 'Max', '90000', '1')"
   ]
  },
  {
   "cell_type": "code",
   "execution_count": null,
   "id": "50ee8c3c-29f2-4a27-8b75-d1565345ccb4",
   "metadata": {},
   "outputs": [],
   "source": [
    "insert into Employeeh (id, name, salary, departmentId) values ('5', 'Janet', '69000', '1')"
   ]
  },
  {
   "cell_type": "code",
   "execution_count": null,
   "id": "7b1ae813-2908-4b73-a835-6cf8e9f507bb",
   "metadata": {},
   "outputs": [],
   "source": [
    "insert into Employeeh (id, name, salary, departmentId) values ('6', 'Randy', '85000', '1')"
   ]
  },
  {
   "cell_type": "code",
   "execution_count": null,
   "id": "0e73a496-1138-4e49-8120-d5a5574098ce",
   "metadata": {},
   "outputs": [],
   "source": [
    "insert into Employeeh (id, name, salary, departmentId) values ('7', 'Will', '70000', '1')"
   ]
  },
  {
   "cell_type": "code",
   "execution_count": null,
   "id": "6e6c8d86-d310-4d69-a08b-6fedc2b342f9",
   "metadata": {},
   "outputs": [],
   "source": [
    "insert into Department (id, name) values ('1', 'IT')"
   ]
  },
  {
   "cell_type": "code",
   "execution_count": null,
   "id": "87ea0be4-aac6-4cae-8c8c-55bac38b5b34",
   "metadata": {},
   "outputs": [],
   "source": [
    "insert into Department (id, name) values ('2', 'Sales')"
   ]
  },
  {
   "cell_type": "code",
   "execution_count": null,
   "id": "64a187b8-46cd-42c6-92e1-0946b2e14002",
   "metadata": {},
   "outputs": [
    {
     "data": {
      "text/html": [
       "<table>\n",
       "<tr>\n",
       "<th>id</th>\n",
       "<th>name</th>\n",
       "</tr>\n",
       "<tr>\n",
       "<td>1</td>\n",
       "<td>IT</td>\n",
       "</tr>\n",
       "<tr>\n",
       "<td>2</td>\n",
       "<td>Sales</td>\n",
       "</tr>\n",
       "</table>"
      ],
      "text/plain": [
       "+----+-------+\n",
       "| id | name  |\n",
       "+----+-------+\n",
       "| 1  | IT    |\n",
       "+----+-------+\n",
       "| 2  | Sales |\n",
       "+----+-------+"
      ]
     },
     "execution_count": null,
     "metadata": {},
     "output_type": "execute_result"
    }
   ],
   "source": [
    "select * from department"
   ]
  },
  {
   "cell_type": "code",
   "execution_count": null,
   "id": "39f94b86-bdba-44dd-8580-c7bc1339eb72",
   "metadata": {},
   "outputs": [
    {
     "data": {
      "text/html": [
       "<table>\n",
       "<tr>\n",
       "<th>id</th>\n",
       "<th>name</th>\n",
       "<th>salary</th>\n",
       "<th>departmentId</th>\n",
       "</tr>\n",
       "<tr>\n",
       "<td>1</td>\n",
       "<td>Joe</td>\n",
       "<td>85000</td>\n",
       "<td>1</td>\n",
       "</tr>\n",
       "<tr>\n",
       "<td>2</td>\n",
       "<td>Henry</td>\n",
       "<td>80000</td>\n",
       "<td>2</td>\n",
       "</tr>\n",
       "<tr>\n",
       "<td>3</td>\n",
       "<td>Sam</td>\n",
       "<td>60000</td>\n",
       "<td>2</td>\n",
       "</tr>\n",
       "<tr>\n",
       "<td>4</td>\n",
       "<td>Max</td>\n",
       "<td>90000</td>\n",
       "<td>1</td>\n",
       "</tr>\n",
       "<tr>\n",
       "<td>5</td>\n",
       "<td>Janet</td>\n",
       "<td>69000</td>\n",
       "<td>1</td>\n",
       "</tr>\n",
       "<tr>\n",
       "<td>6</td>\n",
       "<td>Randy</td>\n",
       "<td>85000</td>\n",
       "<td>1</td>\n",
       "</tr>\n",
       "<tr>\n",
       "<td>7</td>\n",
       "<td>Will</td>\n",
       "<td>70000</td>\n",
       "<td>1</td>\n",
       "</tr>\n",
       "</table>"
      ],
      "text/plain": [
       "+----+-------+--------+--------------+\n",
       "| id | name  | salary | departmentId |\n",
       "+----+-------+--------+--------------+\n",
       "| 1  | Joe   | 85000  | 1            |\n",
       "+----+-------+--------+--------------+\n",
       "| 2  | Henry | 80000  | 2            |\n",
       "+----+-------+--------+--------------+\n",
       "| 3  | Sam   | 60000  | 2            |\n",
       "+----+-------+--------+--------------+\n",
       "| 4  | Max   | 90000  | 1            |\n",
       "+----+-------+--------+--------------+\n",
       "| 5  | Janet | 69000  | 1            |\n",
       "+----+-------+--------+--------------+\n",
       "| 6  | Randy | 85000  | 1            |\n",
       "+----+-------+--------+--------------+\n",
       "| 7  | Will  | 70000  | 1            |\n",
       "+----+-------+--------+--------------+"
      ]
     },
     "execution_count": null,
     "metadata": {},
     "output_type": "execute_result"
    }
   ],
   "source": [
    "select * from employeeh"
   ]
  },
  {
   "cell_type": "markdown",
   "id": "fa4abfcd-bc96-48da-aefa-5ca4327bb2f2",
   "metadata": {},
   "source": [
    "## Write a solution to find the employees who are high earners in each of the departments."
   ]
  },
  {
   "cell_type": "code",
   "execution_count": null,
   "id": "1e858c97-6f3f-46ce-a24e-6d8131ed157d",
   "metadata": {},
   "outputs": [
    {
     "data": {
      "text/html": [
       "<table>\n",
       "<tr>\n",
       "<th>departmentId</th>\n",
       "<th>salary</th>\n",
       "</tr>\n",
       "<tr>\n",
       "<td>1</td>\n",
       "<td>69000</td>\n",
       "</tr>\n",
       "<tr>\n",
       "<td>1</td>\n",
       "<td>70000</td>\n",
       "</tr>\n",
       "<tr>\n",
       "<td>1</td>\n",
       "<td>85000</td>\n",
       "</tr>\n",
       "<tr>\n",
       "<td>1</td>\n",
       "<td>90000</td>\n",
       "</tr>\n",
       "<tr>\n",
       "<td>2</td>\n",
       "<td>60000</td>\n",
       "</tr>\n",
       "<tr>\n",
       "<td>2</td>\n",
       "<td>80000</td>\n",
       "</tr>\n",
       "</table>"
      ],
      "text/plain": [
       "+--------------+--------+\n",
       "| departmentId | salary |\n",
       "+--------------+--------+\n",
       "| 1            | 69000  |\n",
       "+--------------+--------+\n",
       "| 1            | 70000  |\n",
       "+--------------+--------+\n",
       "| 1            | 85000  |\n",
       "+--------------+--------+\n",
       "| 1            | 90000  |\n",
       "+--------------+--------+\n",
       "| 2            | 60000  |\n",
       "+--------------+--------+\n",
       "| 2            | 80000  |\n",
       "+--------------+--------+"
      ]
     },
     "execution_count": null,
     "metadata": {},
     "output_type": "execute_result"
    }
   ],
   "source": [
    "select departmentid, salary\n",
    "from employeeh group by departmentid, salary"
   ]
  },
  {
   "cell_type": "code",
   "execution_count": null,
   "id": "6899821c-912e-4384-a9fd-373d7a053502",
   "metadata": {},
   "outputs": [
    {
     "data": {
      "text/html": [
       "<table>\n",
       "<tr>\n",
       "<th>departmentId</th>\n",
       "<th>salary</th>\n",
       "<th>rn</th>\n",
       "</tr>\n",
       "<tr>\n",
       "<td>1</td>\n",
       "<td>90000</td>\n",
       "<td>1</td>\n",
       "</tr>\n",
       "<tr>\n",
       "<td>1</td>\n",
       "<td>85000</td>\n",
       "<td>2</td>\n",
       "</tr>\n",
       "<tr>\n",
       "<td>1</td>\n",
       "<td>70000</td>\n",
       "<td>3</td>\n",
       "</tr>\n",
       "<tr>\n",
       "<td>1</td>\n",
       "<td>69000</td>\n",
       "<td>4</td>\n",
       "</tr>\n",
       "<tr>\n",
       "<td>2</td>\n",
       "<td>80000</td>\n",
       "<td>1</td>\n",
       "</tr>\n",
       "<tr>\n",
       "<td>2</td>\n",
       "<td>60000</td>\n",
       "<td>2</td>\n",
       "</tr>\n",
       "</table>"
      ],
      "text/plain": [
       "+--------------+--------+----+\n",
       "| departmentId | salary | rn |\n",
       "+--------------+--------+----+\n",
       "| 1            | 90000  | 1  |\n",
       "+--------------+--------+----+\n",
       "| 1            | 85000  | 2  |\n",
       "+--------------+--------+----+\n",
       "| 1            | 70000  | 3  |\n",
       "+--------------+--------+----+\n",
       "| 1            | 69000  | 4  |\n",
       "+--------------+--------+----+\n",
       "| 2            | 80000  | 1  |\n",
       "+--------------+--------+----+\n",
       "| 2            | 60000  | 2  |\n",
       "+--------------+--------+----+"
      ]
     },
     "execution_count": null,
     "metadata": {},
     "output_type": "execute_result"
    }
   ],
   "source": [
    "select departmentid,salary, row_number() over (partition by departmentid order by departmentid, salary desc) rn\n",
    "from employeeh \n",
    "group by departmentid,salary"
   ]
  },
  {
   "cell_type": "code",
   "execution_count": null,
   "id": "a76e84eb-3546-478b-98d5-d0d1efec0c5d",
   "metadata": {},
   "outputs": [
    {
     "data": {
      "text/html": [
       "<table>\n",
       "<tr>\n",
       "<th>departmentid</th>\n",
       "<th>salary</th>\n",
       "</tr>\n",
       "<tr>\n",
       "<td>1</td>\n",
       "<td>90000</td>\n",
       "</tr>\n",
       "<tr>\n",
       "<td>1</td>\n",
       "<td>85000</td>\n",
       "</tr>\n",
       "<tr>\n",
       "<td>1</td>\n",
       "<td>70000</td>\n",
       "</tr>\n",
       "<tr>\n",
       "<td>2</td>\n",
       "<td>80000</td>\n",
       "</tr>\n",
       "<tr>\n",
       "<td>2</td>\n",
       "<td>60000</td>\n",
       "</tr>\n",
       "</table>"
      ],
      "text/plain": [
       "+--------------+--------+\n",
       "| departmentid | salary |\n",
       "+--------------+--------+\n",
       "| 1            | 90000  |\n",
       "+--------------+--------+\n",
       "| 1            | 85000  |\n",
       "+--------------+--------+\n",
       "| 1            | 70000  |\n",
       "+--------------+--------+\n",
       "| 2            | 80000  |\n",
       "+--------------+--------+\n",
       "| 2            | 60000  |\n",
       "+--------------+--------+"
      ]
     },
     "execution_count": null,
     "metadata": {},
     "output_type": "execute_result"
    }
   ],
   "source": [
    "select departmentid, salary from (\n",
    "    select departmentid,salary, row_number() over (partition by departmentid order by departmentid, salary desc) rn\n",
    "    from employeeh group by departmentid,salary\n",
    ")\n",
    "where rn<=3"
   ]
  },
  {
   "cell_type": "code",
   "execution_count": null,
   "id": "f9ff8281-d5ba-4287-be50-afbb45921a76",
   "metadata": {},
   "outputs": [
    {
     "data": {
      "text/html": [
       "<table>\n",
       "<tr>\n",
       "<th>department</th>\n",
       "<th>employee</th>\n",
       "<th>salary</th>\n",
       "</tr>\n",
       "<tr>\n",
       "<td>IT</td>\n",
       "<td>Joe</td>\n",
       "<td>85000</td>\n",
       "</tr>\n",
       "<tr>\n",
       "<td>Sales</td>\n",
       "<td>Henry</td>\n",
       "<td>80000</td>\n",
       "</tr>\n",
       "<tr>\n",
       "<td>Sales</td>\n",
       "<td>Sam</td>\n",
       "<td>60000</td>\n",
       "</tr>\n",
       "<tr>\n",
       "<td>IT</td>\n",
       "<td>Max</td>\n",
       "<td>90000</td>\n",
       "</tr>\n",
       "<tr>\n",
       "<td>IT</td>\n",
       "<td>Randy</td>\n",
       "<td>85000</td>\n",
       "</tr>\n",
       "<tr>\n",
       "<td>IT</td>\n",
       "<td>Will</td>\n",
       "<td>70000</td>\n",
       "</tr>\n",
       "</table>"
      ],
      "text/plain": [
       "+------------+----------+--------+\n",
       "| department | employee | salary |\n",
       "+------------+----------+--------+\n",
       "| IT         | Joe      | 85000  |\n",
       "+------------+----------+--------+\n",
       "| Sales      | Henry    | 80000  |\n",
       "+------------+----------+--------+\n",
       "| Sales      | Sam      | 60000  |\n",
       "+------------+----------+--------+\n",
       "| IT         | Max      | 90000  |\n",
       "+------------+----------+--------+\n",
       "| IT         | Randy    | 85000  |\n",
       "+------------+----------+--------+\n",
       "| IT         | Will     | 70000  |\n",
       "+------------+----------+--------+"
      ]
     },
     "execution_count": null,
     "metadata": {},
     "output_type": "execute_result"
    }
   ],
   "source": [
    "with t as (\n",
    "    select departmentid, salary from (\n",
    "    select departmentid,salary, row_number() over (partition by departmentid order by departmentid, salary desc) rn\n",
    "    from employeeh group by departmentid,salary\n",
    "    )\n",
    "    where rn<=3\n",
    ")\n",
    "\n",
    "-- select * from employeeh where (departmentid, salary) in t\n",
    "select d.name as department, e.name as employee, e.salary \n",
    "from t, employeeh e, department d \n",
    "where e.departmentid=t.departmentid and e.salary= t.salary and d.id=e.departmentid"
   ]
  },
  {
   "cell_type": "code",
   "execution_count": null,
   "id": "e3252cee-ccf3-40a4-bac5-cc4d6e2557d3",
   "metadata": {},
   "outputs": [],
   "source": []
  }
 ],
 "metadata": {
  "kernelspec": {
   "display_name": "xsqlite",
   "language": "sqlite",
   "name": "xsqlite"
  }
 },
 "nbformat": 4,
 "nbformat_minor": 5
}
