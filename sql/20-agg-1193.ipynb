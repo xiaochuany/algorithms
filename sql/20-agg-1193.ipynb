{
 "cells": [
  {
   "cell_type": "code",
   "execution_count": null,
   "id": "85bd3395-ca5d-4f44-bb18-698371da95dc",
   "metadata": {},
   "outputs": [],
   "source": [
    "%load tutorial.db [rw]"
   ]
  },
  {
   "cell_type": "code",
   "execution_count": null,
   "id": "8800ecbc-3aaf-42e4-931f-8cf15ccb2676",
   "metadata": {},
   "outputs": [],
   "source": [
    "Create table If Not Exists Transactionss (id int, country varchar(4), state text, amount int, trans_date date)"
   ]
  },
  {
   "cell_type": "code",
   "execution_count": null,
   "id": "65ca1039-5354-491c-91e6-bdd041685f9a",
   "metadata": {},
   "outputs": [],
   "source": [
    "insert into Transactionss (id, country, state, amount, trans_date) values ('121', 'US', 'approved', '1000', '2018-12-18')"
   ]
  },
  {
   "cell_type": "code",
   "execution_count": null,
   "id": "90658b43-2ca3-4a9b-a1b1-05ee2c1a1081",
   "metadata": {},
   "outputs": [],
   "source": [
    "insert into Transactionss (id, country, state, amount, trans_date) values ('122', 'US', 'declined', '2000', '2018-12-19')"
   ]
  },
  {
   "cell_type": "code",
   "execution_count": null,
   "id": "610be8c0-9988-4cf9-befc-b20b7ee49771",
   "metadata": {},
   "outputs": [],
   "source": [
    "insert into Transactionss (id, country, state, amount, trans_date) values ('123', 'US', 'approved', '2000', '2019-01-01')"
   ]
  },
  {
   "cell_type": "code",
   "execution_count": null,
   "id": "377fcf0e-5cdd-438e-81bb-3a25b5466c82",
   "metadata": {},
   "outputs": [],
   "source": [
    "insert into Transactionss (id, country, state, amount, trans_date) values ('124', 'DE', 'approved', '2000', '2019-01-07')"
   ]
  },
  {
   "cell_type": "code",
   "execution_count": null,
   "id": "cc0154d5-daf0-4884-8e04-2bc81756d2fb",
   "metadata": {},
   "outputs": [
    {
     "data": {
      "text/html": [
       "<table>\n",
       "<tr>\n",
       "<th>id</th>\n",
       "<th>country</th>\n",
       "<th>state</th>\n",
       "<th>amount</th>\n",
       "<th>trans_date</th>\n",
       "</tr>\n",
       "<tr>\n",
       "<td>121</td>\n",
       "<td>US</td>\n",
       "<td>approved</td>\n",
       "<td>1000</td>\n",
       "<td>2018-12-18</td>\n",
       "</tr>\n",
       "<tr>\n",
       "<td>122</td>\n",
       "<td>US</td>\n",
       "<td>declined</td>\n",
       "<td>2000</td>\n",
       "<td>2018-12-19</td>\n",
       "</tr>\n",
       "<tr>\n",
       "<td>123</td>\n",
       "<td>US</td>\n",
       "<td>approved</td>\n",
       "<td>2000</td>\n",
       "<td>2019-01-01</td>\n",
       "</tr>\n",
       "<tr>\n",
       "<td>124</td>\n",
       "<td>DE</td>\n",
       "<td>approved</td>\n",
       "<td>2000</td>\n",
       "<td>2019-01-07</td>\n",
       "</tr>\n",
       "</table>"
      ],
      "text/plain": [
       "+-----+---------+----------+--------+------------+\n",
       "| id  | country | state    | amount | trans_date |\n",
       "+-----+---------+----------+--------+------------+\n",
       "| 121 | US      | approved | 1000   | 2018-12-18 |\n",
       "+-----+---------+----------+--------+------------+\n",
       "| 122 | US      | declined | 2000   | 2018-12-19 |\n",
       "+-----+---------+----------+--------+------------+\n",
       "| 123 | US      | approved | 2000   | 2019-01-01 |\n",
       "+-----+---------+----------+--------+------------+\n",
       "| 124 | DE      | approved | 2000   | 2019-01-07 |\n",
       "+-----+---------+----------+--------+------------+"
      ]
     },
     "execution_count": null,
     "metadata": {},
     "output_type": "execute_result"
    }
   ],
   "source": [
    "select * from transactionss"
   ]
  },
  {
   "cell_type": "markdown",
   "id": "ec32c47d-68e1-45d9-87de-8033b005ca7d",
   "metadata": {},
   "source": [
    "## Write an SQL query to find for each month and country, the number of transactions and their total amount, the number of approved transactions and their total amount."
   ]
  },
  {
   "cell_type": "code",
   "execution_count": null,
   "id": "0da5d064-f5ef-4ec6-8456-a4b8b052cecf",
   "metadata": {},
   "outputs": [
    {
     "data": {
      "text/html": [
       "<table>\n",
       "<tr>\n",
       "<th>month</th>\n",
       "<th>country</th>\n",
       "</tr>\n",
       "<tr>\n",
       "<td>2018-12</td>\n",
       "<td>US</td>\n",
       "</tr>\n",
       "<tr>\n",
       "<td>2018-12</td>\n",
       "<td>US</td>\n",
       "</tr>\n",
       "<tr>\n",
       "<td>2019-01</td>\n",
       "<td>US</td>\n",
       "</tr>\n",
       "<tr>\n",
       "<td>2019-01</td>\n",
       "<td>DE</td>\n",
       "</tr>\n",
       "</table>"
      ],
      "text/plain": [
       "+---------+---------+\n",
       "| month   | country |\n",
       "+---------+---------+\n",
       "| 2018-12 | US      |\n",
       "+---------+---------+\n",
       "| 2018-12 | US      |\n",
       "+---------+---------+\n",
       "| 2019-01 | US      |\n",
       "+---------+---------+\n",
       "| 2019-01 | DE      |\n",
       "+---------+---------+"
      ]
     },
     "execution_count": null,
     "metadata": {},
     "output_type": "execute_result"
    }
   ],
   "source": [
    "select strftime('%Y-%m', trans_date) month, country  from transactionss"
   ]
  },
  {
   "cell_type": "code",
   "execution_count": null,
   "id": "1f809b2a-9a73-4ca8-84e7-f50c3f130217",
   "metadata": {},
   "outputs": [
    {
     "data": {
      "text/html": [
       "<table>\n",
       "<tr>\n",
       "<th>month</th>\n",
       "<th>country</th>\n",
       "<th>num_trans</th>\n",
       "<th>total_amount</th>\n",
       "<th>num_trans_approved</th>\n",
       "<th>total_amount_approved</th>\n",
       "</tr>\n",
       "<tr>\n",
       "<td>2018-12</td>\n",
       "<td>US</td>\n",
       "<td>2</td>\n",
       "<td>3000</td>\n",
       "<td>1</td>\n",
       "<td>1000</td>\n",
       "</tr>\n",
       "<tr>\n",
       "<td>2019-01</td>\n",
       "<td>DE</td>\n",
       "<td>1</td>\n",
       "<td>2000</td>\n",
       "<td>1</td>\n",
       "<td>2000</td>\n",
       "</tr>\n",
       "<tr>\n",
       "<td>2019-01</td>\n",
       "<td>US</td>\n",
       "<td>1</td>\n",
       "<td>2000</td>\n",
       "<td>1</td>\n",
       "<td>2000</td>\n",
       "</tr>\n",
       "</table>"
      ],
      "text/plain": [
       "+---------+---------+-----------+--------------+--------------------+-----------------------+\n",
       "| month   | country | num_trans | total_amount | num_trans_approved | total_amount_approved |\n",
       "+---------+---------+-----------+--------------+--------------------+-----------------------+\n",
       "| 2018-12 | US      | 2         | 3000         | 1                  | 1000                  |\n",
       "+---------+---------+-----------+--------------+--------------------+-----------------------+\n",
       "| 2019-01 | DE      | 1         | 2000         | 1                  | 2000                  |\n",
       "+---------+---------+-----------+--------------+--------------------+-----------------------+\n",
       "| 2019-01 | US      | 1         | 2000         | 1                  | 2000                  |\n",
       "+---------+---------+-----------+--------------+--------------------+-----------------------+"
      ]
     },
     "execution_count": null,
     "metadata": {},
     "output_type": "execute_result"
    }
   ],
   "source": [
    "select\n",
    "    strftime('%Y-%m', trans_date) month, \n",
    "    country, \n",
    "    count(*) num_trans, \n",
    "    sum(amount) total_amount,\n",
    "    sum(state='approved') num_trans_approved,\n",
    "    sum(case when state='approved' then amount*1 else amount*0 end) total_amount_approved\n",
    "from transactionss group by month, country\n",
    "-- limit 2"
   ]
  },
  {
   "cell_type": "code",
   "execution_count": null,
   "id": "0526ee3b-1b1b-4f49-9135-d95019745846",
   "metadata": {},
   "outputs": [],
   "source": []
  }
 ],
 "metadata": {
  "kernelspec": {
   "display_name": "xsqlite",
   "language": "sqlite",
   "name": "xsqlite"
  }
 },
 "nbformat": 4,
 "nbformat_minor": 5
}
