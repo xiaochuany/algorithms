{
 "cells": [
  {
   "cell_type": "code",
   "execution_count": null,
   "id": "92250f7e-48ec-44a9-a087-df595fd6de29",
   "metadata": {},
   "outputs": [],
   "source": [
    "%load tutorial.db [rw]"
   ]
  },
  {
   "cell_type": "code",
   "execution_count": null,
   "id": "b82a1dde-dacf-443a-bbfa-926c185c39af",
   "metadata": {},
   "outputs": [],
   "source": [
    "Create table If Not Exists Courses (student varchar(255), class varchar(255))"
   ]
  },
  {
   "cell_type": "code",
   "execution_count": null,
   "id": "19122c01-9663-4bc8-b66e-e9ec47b454d8",
   "metadata": {},
   "outputs": [],
   "source": [
    "insert into Courses (student, class) values ('A', 'Math')"
   ]
  },
  {
   "cell_type": "code",
   "execution_count": null,
   "id": "1c130aa5-4ce0-4ebb-be52-8962092918e3",
   "metadata": {},
   "outputs": [],
   "source": [
    "insert into Courses (student, class) values ('B', 'English')"
   ]
  },
  {
   "cell_type": "code",
   "execution_count": null,
   "id": "e631c1f9-4831-4363-b35c-b7ec874eb4d1",
   "metadata": {},
   "outputs": [],
   "source": [
    "insert into Courses (student, class) values ('C', 'Math')"
   ]
  },
  {
   "cell_type": "code",
   "execution_count": null,
   "id": "9eaa1acd-2eeb-49c4-9089-f1a1009125fc",
   "metadata": {},
   "outputs": [],
   "source": [
    "insert into Courses (student, class) values ('D', 'Biology')"
   ]
  },
  {
   "cell_type": "code",
   "execution_count": null,
   "id": "28100019-d4b5-4c41-82bf-3a8420e990c2",
   "metadata": {},
   "outputs": [],
   "source": [
    "insert into Courses (student, class) values ('E', 'Math')"
   ]
  },
  {
   "cell_type": "code",
   "execution_count": null,
   "id": "1c7599b6-bb4d-4bee-a31a-9fb2bcdc5de8",
   "metadata": {},
   "outputs": [],
   "source": [
    "insert into Courses (student, class) values ('F', 'Computer')"
   ]
  },
  {
   "cell_type": "code",
   "execution_count": null,
   "id": "b74a5192-2588-47db-8676-75b06d8c43e1",
   "metadata": {},
   "outputs": [],
   "source": [
    "insert into Courses (student, class) values ('G', 'Math')"
   ]
  },
  {
   "cell_type": "code",
   "execution_count": null,
   "id": "c0e2645c-29ef-4855-9c65-9d757539d2c3",
   "metadata": {},
   "outputs": [],
   "source": [
    "insert into Courses (student, class) values ('H', 'Math')"
   ]
  },
  {
   "cell_type": "code",
   "execution_count": null,
   "id": "77e88f7b-93f8-4276-a65f-ee9f916d100d",
   "metadata": {},
   "outputs": [],
   "source": [
    "insert into Courses (student, class) values ('I', 'Math')"
   ]
  },
  {
   "cell_type": "code",
   "execution_count": null,
   "id": "ca02e776-fa39-401f-b758-4f0405781174",
   "metadata": {},
   "outputs": [
    {
     "data": {
      "text/html": [
       "<table>\n",
       "<tr>\n",
       "<th>student</th>\n",
       "<th>class</th>\n",
       "</tr>\n",
       "<tr>\n",
       "<td>A</td>\n",
       "<td>Math</td>\n",
       "</tr>\n",
       "<tr>\n",
       "<td>B</td>\n",
       "<td>English</td>\n",
       "</tr>\n",
       "<tr>\n",
       "<td>C</td>\n",
       "<td>Math</td>\n",
       "</tr>\n",
       "<tr>\n",
       "<td>D</td>\n",
       "<td>Biology</td>\n",
       "</tr>\n",
       "<tr>\n",
       "<td>E</td>\n",
       "<td>Math</td>\n",
       "</tr>\n",
       "<tr>\n",
       "<td>F</td>\n",
       "<td>Computer</td>\n",
       "</tr>\n",
       "<tr>\n",
       "<td>G</td>\n",
       "<td>Math</td>\n",
       "</tr>\n",
       "<tr>\n",
       "<td>H</td>\n",
       "<td>Math</td>\n",
       "</tr>\n",
       "<tr>\n",
       "<td>I</td>\n",
       "<td>Math</td>\n",
       "</tr>\n",
       "</table>"
      ],
      "text/plain": [
       "+---------+----------+\n",
       "| student | class    |\n",
       "+---------+----------+\n",
       "| A       | Math     |\n",
       "+---------+----------+\n",
       "| B       | English  |\n",
       "+---------+----------+\n",
       "| C       | Math     |\n",
       "+---------+----------+\n",
       "| D       | Biology  |\n",
       "+---------+----------+\n",
       "| E       | Math     |\n",
       "+---------+----------+\n",
       "| F       | Computer |\n",
       "+---------+----------+\n",
       "| G       | Math     |\n",
       "+---------+----------+\n",
       "| H       | Math     |\n",
       "+---------+----------+\n",
       "| I       | Math     |\n",
       "+---------+----------+"
      ]
     },
     "execution_count": null,
     "metadata": {},
     "output_type": "execute_result"
    }
   ],
   "source": [
    "select * from courses"
   ]
  },
  {
   "cell_type": "markdown",
   "id": "7adda070-c027-4281-94ae-1bc78feb657c",
   "metadata": {},
   "source": [
    "## Write a solution to find all the classes that have at least five students."
   ]
  },
  {
   "cell_type": "code",
   "execution_count": null,
   "id": "bda2f497-9032-4710-8931-32fea9ff2743",
   "metadata": {},
   "outputs": [
    {
     "data": {
      "text/html": [
       "<table>\n",
       "<tr>\n",
       "<th>class</th>\n",
       "</tr>\n",
       "<tr>\n",
       "<td>Math</td>\n",
       "</tr>\n",
       "</table>"
      ],
      "text/plain": [
       "+-------+\n",
       "| class |\n",
       "+-------+\n",
       "| Math  |\n",
       "+-------+"
      ]
     },
     "execution_count": null,
     "metadata": {},
     "output_type": "execute_result"
    }
   ],
   "source": [
    "select class from (select class, count(*) cnt from courses group by class) where cnt>=5"
   ]
  },
  {
   "cell_type": "code",
   "execution_count": null,
   "id": "a0261612-d5a4-4da9-9abf-a276e86e4f1f",
   "metadata": {},
   "outputs": [],
   "source": []
  }
 ],
 "metadata": {
  "kernelspec": {
   "display_name": "xsqlite",
   "language": "sqlite",
   "name": "xsqlite"
  }
 },
 "nbformat": 4,
 "nbformat_minor": 5
}
