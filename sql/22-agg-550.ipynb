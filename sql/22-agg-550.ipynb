{
 "cells": [
  {
   "cell_type": "code",
   "execution_count": null,
   "id": "c9097051-04df-46b6-8664-84d8a510e18b",
   "metadata": {},
   "outputs": [],
   "source": [
    "%load tutorial.db [rw]"
   ]
  },
  {
   "cell_type": "code",
   "execution_count": null,
   "id": "57f925c2-0c3f-4298-9ab8-25f6ccbf0f6e",
   "metadata": {},
   "outputs": [],
   "source": [
    "Create table If Not Exists Activitys (player_id int, device_id int, event_date date, games_played int)"
   ]
  },
  {
   "cell_type": "code",
   "execution_count": null,
   "id": "d974e258-6d7c-43b6-b0bc-9a2a87e852ce",
   "metadata": {},
   "outputs": [],
   "source": [
    "insert into Activitys (player_id, device_id, event_date, games_played) values ('1', '2', '2016-03-01', '5')"
   ]
  },
  {
   "cell_type": "code",
   "execution_count": null,
   "id": "40151fc5-460c-4bff-b0dd-fe956eb5565c",
   "metadata": {},
   "outputs": [],
   "source": [
    "insert into Activitys (player_id, device_id, event_date, games_played) values ('1', '2', '2016-03-02', '6')"
   ]
  },
  {
   "cell_type": "code",
   "execution_count": null,
   "id": "2b0cdb91-88db-4925-91dc-82ffd2910a20",
   "metadata": {},
   "outputs": [],
   "source": [
    "insert into Activitys (player_id, device_id, event_date, games_played) values ('2', '3', '2017-06-25', '1')"
   ]
  },
  {
   "cell_type": "code",
   "execution_count": null,
   "id": "e5544fd9-4a6e-4bae-9b0d-bde5c29807c7",
   "metadata": {},
   "outputs": [],
   "source": [
    "insert into Activitys (player_id, device_id, event_date, games_played) values ('3', '1', '2016-03-02', '0')"
   ]
  },
  {
   "cell_type": "code",
   "execution_count": null,
   "id": "f5ce8913-31d2-42db-91bb-13f4a60b5dfb",
   "metadata": {},
   "outputs": [],
   "source": [
    "insert into Activitys (player_id, device_id, event_date, games_played) values ('3', '4', '2018-07-03', '5')"
   ]
  },
  {
   "cell_type": "code",
   "execution_count": null,
   "id": "d82dadd6-3038-4e15-aab7-1fadb9605d95",
   "metadata": {},
   "outputs": [
    {
     "data": {
      "text/html": [
       "<table>\n",
       "<tr>\n",
       "<th>player_id</th>\n",
       "<th>device_id</th>\n",
       "<th>event_date</th>\n",
       "<th>games_played</th>\n",
       "</tr>\n",
       "<tr>\n",
       "<td>1</td>\n",
       "<td>2</td>\n",
       "<td>2016-03-01</td>\n",
       "<td>5</td>\n",
       "</tr>\n",
       "<tr>\n",
       "<td>1</td>\n",
       "<td>2</td>\n",
       "<td>2016-03-02</td>\n",
       "<td>6</td>\n",
       "</tr>\n",
       "<tr>\n",
       "<td>2</td>\n",
       "<td>3</td>\n",
       "<td>2017-06-25</td>\n",
       "<td>1</td>\n",
       "</tr>\n",
       "<tr>\n",
       "<td>3</td>\n",
       "<td>1</td>\n",
       "<td>2016-03-02</td>\n",
       "<td>0</td>\n",
       "</tr>\n",
       "<tr>\n",
       "<td>3</td>\n",
       "<td>4</td>\n",
       "<td>2018-07-03</td>\n",
       "<td>5</td>\n",
       "</tr>\n",
       "</table>"
      ],
      "text/plain": [
       "+-----------+-----------+------------+--------------+\n",
       "| player_id | device_id | event_date | games_played |\n",
       "+-----------+-----------+------------+--------------+\n",
       "| 1         | 2         | 2016-03-01 | 5            |\n",
       "+-----------+-----------+------------+--------------+\n",
       "| 1         | 2         | 2016-03-02 | 6            |\n",
       "+-----------+-----------+------------+--------------+\n",
       "| 2         | 3         | 2017-06-25 | 1            |\n",
       "+-----------+-----------+------------+--------------+\n",
       "| 3         | 1         | 2016-03-02 | 0            |\n",
       "+-----------+-----------+------------+--------------+\n",
       "| 3         | 4         | 2018-07-03 | 5            |\n",
       "+-----------+-----------+------------+--------------+"
      ]
     },
     "execution_count": null,
     "metadata": {},
     "output_type": "execute_result"
    }
   ],
   "source": [
    "select * from activitys"
   ]
  },
  {
   "cell_type": "markdown",
   "id": "badd9696-d33a-4b36-8edd-576a5357b19a",
   "metadata": {},
   "source": [
    "## Write a solution to report the fraction of players that logged in again on the day after the day they first logged in, rounded to 2 decimal places. In other words, you need to count the number of players that logged in for at least two consecutive days starting from their first login date, then divide that number by the total number of players."
   ]
  },
  {
   "cell_type": "code",
   "execution_count": null,
   "id": "d668caef-7e9e-44b1-ad59-f4effa239dda",
   "metadata": {},
   "outputs": [
    {
     "data": {
      "text/html": [
       "<table>\n",
       "<tr>\n",
       "<th>date(event_date,'+1 day')</th>\n",
       "</tr>\n",
       "<tr>\n",
       "<td>2016-03-02</td>\n",
       "</tr>\n",
       "<tr>\n",
       "<td>2016-03-03</td>\n",
       "</tr>\n",
       "<tr>\n",
       "<td>2017-06-26</td>\n",
       "</tr>\n",
       "<tr>\n",
       "<td>2016-03-03</td>\n",
       "</tr>\n",
       "<tr>\n",
       "<td>2018-07-04</td>\n",
       "</tr>\n",
       "</table>"
      ],
      "text/plain": [
       "+---------------------------+\n",
       "| date(event_date,'+1 day') |\n",
       "+---------------------------+\n",
       "| 2016-03-02                |\n",
       "+---------------------------+\n",
       "| 2016-03-03                |\n",
       "+---------------------------+\n",
       "| 2017-06-26                |\n",
       "+---------------------------+\n",
       "| 2016-03-03                |\n",
       "+---------------------------+\n",
       "| 2018-07-04                |\n",
       "+---------------------------+"
      ]
     },
     "execution_count": null,
     "metadata": {},
     "output_type": "execute_result"
    }
   ],
   "source": [
    "select date(event_date,'+1 day')\n",
    "from activitys"
   ]
  },
  {
   "cell_type": "code",
   "execution_count": null,
   "id": "f06935b2-5bba-4932-accd-00f623ebaf68",
   "metadata": {},
   "outputs": [
    {
     "data": {
      "text/html": [
       "<table>\n",
       "<tr>\n",
       "<th>player_id</th>\n",
       "<th>second_day</th>\n",
       "</tr>\n",
       "<tr>\n",
       "<td>1</td>\n",
       "<td>2016-03-02</td>\n",
       "</tr>\n",
       "<tr>\n",
       "<td>2</td>\n",
       "<td>2017-06-26</td>\n",
       "</tr>\n",
       "<tr>\n",
       "<td>3</td>\n",
       "<td>2016-03-03</td>\n",
       "</tr>\n",
       "</table>"
      ],
      "text/plain": [
       "+-----------+------------+\n",
       "| player_id | second_day |\n",
       "+-----------+------------+\n",
       "| 1         | 2016-03-02 |\n",
       "+-----------+------------+\n",
       "| 2         | 2017-06-26 |\n",
       "+-----------+------------+\n",
       "| 3         | 2016-03-03 |\n",
       "+-----------+------------+"
      ]
     },
     "execution_count": null,
     "metadata": {},
     "output_type": "execute_result"
    }
   ],
   "source": [
    "select player_id, date(min(event_date),\"+1 day\") as second_day from activitys group by player_id"
   ]
  },
  {
   "cell_type": "code",
   "execution_count": null,
   "id": "06c8dce9-2309-4d3a-8431-1b74a3265ae8",
   "metadata": {},
   "outputs": [
    {
     "data": {
      "text/html": [
       "<table>\n",
       "<tr>\n",
       "<th>number_of_two_day_player</th>\n",
       "</tr>\n",
       "<tr>\n",
       "<td>1</td>\n",
       "</tr>\n",
       "</table>"
      ],
      "text/plain": [
       "+--------------------------+\n",
       "| number_of_two_day_player |\n",
       "+--------------------------+\n",
       "| 1                        |\n",
       "+--------------------------+"
      ]
     },
     "execution_count": null,
     "metadata": {},
     "output_type": "execute_result"
    }
   ],
   "source": [
    "select count(*) as number_of_two_day_player\n",
    "from \n",
    "    (select player_id, date(min(event_date),\"+1 day\") as second_day from activitys group by player_id) b, \n",
    "    activitys a\n",
    "where a.player_id = b.player_id and b.second_day = a.event_date"
   ]
  },
  {
   "cell_type": "code",
   "execution_count": null,
   "id": "f7a9c4f4-0c1a-429d-8566-3c4c77051fc9",
   "metadata": {},
   "outputs": [
    {
     "data": {
      "text/html": [
       "<table>\n",
       "<tr>\n",
       "<th>percentage</th>\n",
       "</tr>\n",
       "<tr>\n",
       "<td>0.333333333333333</td>\n",
       "</tr>\n",
       "</table>"
      ],
      "text/plain": [
       "+-------------------+\n",
       "| percentage        |\n",
       "+-------------------+\n",
       "| 0.333333333333333 |\n",
       "+-------------------+"
      ]
     },
     "execution_count": null,
     "metadata": {},
     "output_type": "execute_result"
    }
   ],
   "source": [
    "with t_two_day as (\n",
    "    select count(*) as number_of_two_day_player\n",
    "    from \n",
    "        (select player_id, date(min(event_date),\"+1 day\") as second_day from activitys group by player_id) b, \n",
    "        activitys a\n",
    "    where a.player_id = b.player_id and b.second_day = a.event_date\n",
    "),\n",
    "t_player_count as (select count(distinct(player_id)) as player_count from activitys)\n",
    "\n",
    "select 1.0*t_two_day.number_of_two_day_player/t_player_count.player_count as percentage from t_player_count, t_two_day"
   ]
  },
  {
   "cell_type": "code",
   "execution_count": null,
   "id": "0ee63cbe-5083-4bde-9aee-22ebcc5dbb10",
   "metadata": {},
   "outputs": [],
   "source": []
  }
 ],
 "metadata": {
  "kernelspec": {
   "display_name": "xsqlite",
   "language": "sqlite",
   "name": "xsqlite"
  }
 },
 "nbformat": 4,
 "nbformat_minor": 5
}
