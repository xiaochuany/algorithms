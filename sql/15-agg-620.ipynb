{
 "cells": [
  {
   "cell_type": "code",
   "execution_count": null,
   "id": "ad00ea35-4c70-4f3d-aa67-e49d702fa7b3",
   "metadata": {},
   "outputs": [],
   "source": [
    "%load tutorial.db [rw]"
   ]
  },
  {
   "cell_type": "code",
   "execution_count": null,
   "id": "8a2a164a-158b-434e-a9f5-7de1d8fb0445",
   "metadata": {},
   "outputs": [],
   "source": [
    "Create table If Not Exists cinema (id int, movie varchar(255), description varchar(255), rating float(2, 1))"
   ]
  },
  {
   "cell_type": "code",
   "execution_count": null,
   "id": "2fee2849-b9f8-46e9-a364-cc7a6c21d7e7",
   "metadata": {},
   "outputs": [],
   "source": [
    "insert into cinema (id, movie, description, rating) values ('1', 'War', 'great 3D', '8.9')"
   ]
  },
  {
   "cell_type": "code",
   "execution_count": null,
   "id": "66bdf345-f521-4f2c-963a-2549df20e1d8",
   "metadata": {},
   "outputs": [],
   "source": [
    "insert into cinema (id, movie, description, rating) values ('2', 'Science', 'fiction', '8.5')"
   ]
  },
  {
   "cell_type": "code",
   "execution_count": null,
   "id": "12f85287-c935-4018-a1c7-06d8acceb773",
   "metadata": {},
   "outputs": [],
   "source": [
    "insert into cinema (id, movie, description, rating) values ('3', 'irish', 'boring', '6.2')"
   ]
  },
  {
   "cell_type": "code",
   "execution_count": null,
   "id": "5b441a67-ca23-4ad1-8f03-b88b9604f3f1",
   "metadata": {},
   "outputs": [],
   "source": [
    "insert into cinema (id, movie, description, rating) values ('4', 'Ice song', 'Fantacy', '8.6')"
   ]
  },
  {
   "cell_type": "code",
   "execution_count": null,
   "id": "947eccd5-3d6a-4a68-82ac-1c7928c82880",
   "metadata": {},
   "outputs": [],
   "source": [
    "insert into cinema (id, movie, description, rating) values ('5', 'House card', 'Interesting', '9.1')"
   ]
  },
  {
   "cell_type": "code",
   "execution_count": null,
   "id": "4e3afa37-164b-44a8-82a0-3c0b9083f1a3",
   "metadata": {},
   "outputs": [
    {
     "data": {
      "text/html": [
       "<table>\n",
       "<tr>\n",
       "<th>id</th>\n",
       "<th>movie</th>\n",
       "<th>description</th>\n",
       "<th>rating</th>\n",
       "</tr>\n",
       "<tr>\n",
       "<td>1</td>\n",
       "<td>War</td>\n",
       "<td>great 3D</td>\n",
       "<td>8.9</td>\n",
       "</tr>\n",
       "<tr>\n",
       "<td>2</td>\n",
       "<td>Science</td>\n",
       "<td>fiction</td>\n",
       "<td>8.5</td>\n",
       "</tr>\n",
       "<tr>\n",
       "<td>3</td>\n",
       "<td>irish</td>\n",
       "<td>boring</td>\n",
       "<td>6.2</td>\n",
       "</tr>\n",
       "<tr>\n",
       "<td>4</td>\n",
       "<td>Ice song</td>\n",
       "<td>Fantacy</td>\n",
       "<td>8.6</td>\n",
       "</tr>\n",
       "<tr>\n",
       "<td>5</td>\n",
       "<td>House card</td>\n",
       "<td>Interesting</td>\n",
       "<td>9.1</td>\n",
       "</tr>\n",
       "</table>"
      ],
      "text/plain": [
       "+----+------------+-------------+--------+\n",
       "| id | movie      | description | rating |\n",
       "+----+------------+-------------+--------+\n",
       "| 1  | War        | great 3D    | 8.9    |\n",
       "+----+------------+-------------+--------+\n",
       "| 2  | Science    | fiction     | 8.5    |\n",
       "+----+------------+-------------+--------+\n",
       "| 3  | irish      | boring      | 6.2    |\n",
       "+----+------------+-------------+--------+\n",
       "| 4  | Ice song   | Fantacy     | 8.6    |\n",
       "+----+------------+-------------+--------+\n",
       "| 5  | House card | Interesting | 9.1    |\n",
       "+----+------------+-------------+--------+"
      ]
     },
     "execution_count": null,
     "metadata": {},
     "output_type": "execute_result"
    }
   ],
   "source": [
    "select * from cinema"
   ]
  },
  {
   "cell_type": "markdown",
   "id": "bd53e9f8-675c-4f2d-a0d1-cb83da8cc04d",
   "metadata": {},
   "source": [
    "## Write a solution to report the movies with an odd-numbered ID and a description that is not \"boring\".\n",
    "\n",
    "Return the result table ordered by rating in descending order."
   ]
  },
  {
   "cell_type": "code",
   "execution_count": null,
   "id": "a359677c-1e5b-45e8-90e4-6d8f267d8b06",
   "metadata": {},
   "outputs": [
    {
     "data": {
      "text/html": [
       "<table>\n",
       "<tr>\n",
       "<th>id</th>\n",
       "<th>movie</th>\n",
       "<th>description</th>\n",
       "<th>rating</th>\n",
       "</tr>\n",
       "<tr>\n",
       "<td>5</td>\n",
       "<td>House card</td>\n",
       "<td>Interesting</td>\n",
       "<td>9.1</td>\n",
       "</tr>\n",
       "<tr>\n",
       "<td>1</td>\n",
       "<td>War</td>\n",
       "<td>great 3D</td>\n",
       "<td>8.9</td>\n",
       "</tr>\n",
       "</table>"
      ],
      "text/plain": [
       "+----+------------+-------------+--------+\n",
       "| id | movie      | description | rating |\n",
       "+----+------------+-------------+--------+\n",
       "| 5  | House card | Interesting | 9.1    |\n",
       "+----+------------+-------------+--------+\n",
       "| 1  | War        | great 3D    | 8.9    |\n",
       "+----+------------+-------------+--------+"
      ]
     },
     "execution_count": null,
     "metadata": {},
     "output_type": "execute_result"
    }
   ],
   "source": [
    "select * from cinema where mod(id,2)=1 and description not like \"boring\" order by rating desc"
   ]
  },
  {
   "cell_type": "code",
   "execution_count": null,
   "id": "35037557-6c11-4c9c-b051-81610de087b7",
   "metadata": {},
   "outputs": [],
   "source": []
  }
 ],
 "metadata": {
  "kernelspec": {
   "display_name": "xsqlite",
   "language": "sqlite",
   "name": "xsqlite"
  }
 },
 "nbformat": 4,
 "nbformat_minor": 5
}
