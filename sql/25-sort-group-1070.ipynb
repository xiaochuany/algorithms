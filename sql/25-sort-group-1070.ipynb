{
 "cells": [
  {
   "cell_type": "code",
   "execution_count": null,
   "id": "93a0a5a9-6f61-4791-bfe9-7c605b13f987",
   "metadata": {},
   "outputs": [],
   "source": [
    "%load tutorial.db [rw]"
   ]
  },
  {
   "cell_type": "code",
   "execution_count": null,
   "id": "b4d7bcd6-7e3b-4ba1-ad14-f98789c76d65",
   "metadata": {},
   "outputs": [
    {
     "data": {
      "text/html": [
       "<table>\n",
       "<tr>\n",
       "<th>sale_id</th>\n",
       "<th>product_id</th>\n",
       "<th>year</th>\n",
       "<th>quantity</th>\n",
       "<th>price</th>\n",
       "</tr>\n",
       "<tr>\n",
       "<td>1</td>\n",
       "<td>100</td>\n",
       "<td>2008</td>\n",
       "<td>10</td>\n",
       "<td>5000</td>\n",
       "</tr>\n",
       "<tr>\n",
       "<td>2</td>\n",
       "<td>100</td>\n",
       "<td>2009</td>\n",
       "<td>12</td>\n",
       "<td>5000</td>\n",
       "</tr>\n",
       "<tr>\n",
       "<td>7</td>\n",
       "<td>200</td>\n",
       "<td>2011</td>\n",
       "<td>15</td>\n",
       "<td>9000</td>\n",
       "</tr>\n",
       "</table>"
      ],
      "text/plain": [
       "+---------+------------+------+----------+-------+\n",
       "| sale_id | product_id | year | quantity | price |\n",
       "+---------+------------+------+----------+-------+\n",
       "| 1       | 100        | 2008 | 10       | 5000  |\n",
       "+---------+------------+------+----------+-------+\n",
       "| 2       | 100        | 2009 | 12       | 5000  |\n",
       "+---------+------------+------+----------+-------+\n",
       "| 7       | 200        | 2011 | 15       | 9000  |\n",
       "+---------+------------+------+----------+-------+"
      ]
     },
     "execution_count": null,
     "metadata": {},
     "output_type": "execute_result"
    }
   ],
   "source": [
    "select * from sales"
   ]
  },
  {
   "cell_type": "code",
   "execution_count": null,
   "id": "e294e73f-91c8-4c90-9672-a4201524644b",
   "metadata": {},
   "outputs": [
    {
     "data": {
      "text/html": [
       "<table>\n",
       "<tr>\n",
       "<th>product_id</th>\n",
       "<th>product_name</th>\n",
       "</tr>\n",
       "<tr>\n",
       "<td>100</td>\n",
       "<td>Nokia</td>\n",
       "</tr>\n",
       "<tr>\n",
       "<td>200</td>\n",
       "<td>Apple</td>\n",
       "</tr>\n",
       "<tr>\n",
       "<td>300</td>\n",
       "<td>Samsung</td>\n",
       "</tr>\n",
       "</table>"
      ],
      "text/plain": [
       "+------------+--------------+\n",
       "| product_id | product_name |\n",
       "+------------+--------------+\n",
       "| 100        | Nokia        |\n",
       "+------------+--------------+\n",
       "| 200        | Apple        |\n",
       "+------------+--------------+\n",
       "| 300        | Samsung      |\n",
       "+------------+--------------+"
      ]
     },
     "execution_count": null,
     "metadata": {},
     "output_type": "execute_result"
    }
   ],
   "source": [
    "select * from product"
   ]
  },
  {
   "cell_type": "markdown",
   "id": "464fd441-0ad9-42bd-8b2f-a0c7de564682",
   "metadata": {},
   "source": [
    "## Write a solution to select the product id, year, quantity, and price for the first year of every product sold."
   ]
  },
  {
   "cell_type": "code",
   "execution_count": null,
   "id": "67ba2bdb-12fa-4b90-8985-ff36e7323894",
   "metadata": {},
   "outputs": [
    {
     "data": {
      "text/html": [
       "<table>\n",
       "<tr>\n",
       "<th>product_id</th>\n",
       "<th>first_year</th>\n",
       "<th>quantity</th>\n",
       "<th>price</th>\n",
       "</tr>\n",
       "<tr>\n",
       "<td>100</td>\n",
       "<td>2008</td>\n",
       "<td>10</td>\n",
       "<td>5000</td>\n",
       "</tr>\n",
       "<tr>\n",
       "<td>200</td>\n",
       "<td>2011</td>\n",
       "<td>15</td>\n",
       "<td>9000</td>\n",
       "</tr>\n",
       "</table>"
      ],
      "text/plain": [
       "+------------+------------+----------+-------+\n",
       "| product_id | first_year | quantity | price |\n",
       "+------------+------------+----------+-------+\n",
       "| 100        | 2008       | 10       | 5000  |\n",
       "+------------+------------+----------+-------+\n",
       "| 200        | 2011       | 15       | 9000  |\n",
       "+------------+------------+----------+-------+"
      ]
     },
     "execution_count": null,
     "metadata": {},
     "output_type": "execute_result"
    }
   ],
   "source": [
    "select product_id, min(year) first_year, quantity, price from sales group by product_id"
   ]
  },
  {
   "cell_type": "markdown",
   "id": "ccfa4174-fd35-4ed4-82df-e775ca8d1b65",
   "metadata": {},
   "source": [
    "this will hit ORA-979 error because quantity has 2 rows and product_id has one after groupby. can use group function as what is done for the year column to avoid this error. "
   ]
  },
  {
   "cell_type": "code",
   "execution_count": null,
   "id": "c6ce94e6-6bf6-4881-87ad-49db3f20f496",
   "metadata": {},
   "outputs": [
    {
     "data": {
      "text/html": [
       "<table>\n",
       "<tr>\n",
       "<th>first_year</th>\n",
       "</tr>\n",
       "<tr>\n",
       "<td>2008</td>\n",
       "</tr>\n",
       "<tr>\n",
       "<td>2011</td>\n",
       "</tr>\n",
       "</table>"
      ],
      "text/plain": [
       "+------------+\n",
       "| first_year |\n",
       "+------------+\n",
       "| 2008       |\n",
       "+------------+\n",
       "| 2011       |\n",
       "+------------+"
      ]
     },
     "execution_count": null,
     "metadata": {},
     "output_type": "execute_result"
    }
   ],
   "source": [
    "select min(year) first_year from sales group by product_id"
   ]
  },
  {
   "cell_type": "code",
   "execution_count": null,
   "id": "c75f0c78-6325-4a9a-a8dc-f0dbc7854297",
   "metadata": {},
   "outputs": [
    {
     "data": {
      "text/html": [
       "<table>\n",
       "<tr>\n",
       "<th>product_id</th>\n",
       "<th>first_year</th>\n",
       "<th>quantity</th>\n",
       "<th>price</th>\n",
       "</tr>\n",
       "<tr>\n",
       "<td>100</td>\n",
       "<td>2008</td>\n",
       "<td>10</td>\n",
       "<td>5000</td>\n",
       "</tr>\n",
       "<tr>\n",
       "<td>200</td>\n",
       "<td>2011</td>\n",
       "<td>15</td>\n",
       "<td>9000</td>\n",
       "</tr>\n",
       "</table>"
      ],
      "text/plain": [
       "+------------+------------+----------+-------+\n",
       "| product_id | first_year | quantity | price |\n",
       "+------------+------------+----------+-------+\n",
       "| 100        | 2008       | 10       | 5000  |\n",
       "+------------+------------+----------+-------+\n",
       "| 200        | 2011       | 15       | 9000  |\n",
       "+------------+------------+----------+-------+"
      ]
     },
     "execution_count": null,
     "metadata": {},
     "output_type": "execute_result"
    }
   ],
   "source": [
    "with t as (\n",
    "    select product_id, min(year) first_year from sales group by product_id\n",
    ")\n",
    "\n",
    "select s.product_id, s.year first_year, s.quantity, s.price\n",
    "from sales s, t\n",
    "where s.product_id=t.product_id and s.year=t.first_year"
   ]
  },
  {
   "cell_type": "code",
   "execution_count": null,
   "id": "d75f6210-fbbb-4e72-9f28-a536d9085c6d",
   "metadata": {},
   "outputs": [],
   "source": []
  }
 ],
 "metadata": {
  "kernelspec": {
   "display_name": "xsqlite",
   "language": "sqlite",
   "name": "xsqlite"
  }
 },
 "nbformat": 4,
 "nbformat_minor": 5
}
