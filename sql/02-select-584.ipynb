{
 "cells": [
  {
   "cell_type": "code",
   "execution_count": 1,
   "id": "f38942f8-de03-49d3-a7ac-1fe2ec802326",
   "metadata": {},
   "outputs": [],
   "source": [
    "%load tutorial.db [rw]"
   ]
  },
  {
   "cell_type": "code",
   "execution_count": 2,
   "id": "8c37fb62-5143-496a-849e-4fe7122b7647",
   "metadata": {},
   "outputs": [],
   "source": [
    "Create table If Not Exists Customer (id int, name varchar(25), referee_id int)"
   ]
  },
  {
   "cell_type": "code",
   "execution_count": 3,
   "id": "c82172c7-e971-4d94-9fce-cecba119aced",
   "metadata": {},
   "outputs": [],
   "source": [
    "insert into Customer (id, name, referee_id) values ('1', 'Will', 'None')"
   ]
  },
  {
   "cell_type": "code",
   "execution_count": 4,
   "id": "e80695a1-5856-4f08-b82b-73d25c414c6a",
   "metadata": {},
   "outputs": [],
   "source": [
    "insert into Customer (id, name, referee_id) values ('2', 'Jane', 'None')"
   ]
  },
  {
   "cell_type": "code",
   "execution_count": 5,
   "id": "fe5e498a-11e3-4b29-b39e-4534f1e446b0",
   "metadata": {},
   "outputs": [],
   "source": [
    "insert into Customer (id, name, referee_id) values ('3', 'Alex', '2')"
   ]
  },
  {
   "cell_type": "code",
   "execution_count": 6,
   "id": "76e98cb8-efde-412f-945e-c8340846ae83",
   "metadata": {},
   "outputs": [],
   "source": [
    "insert into Customer (id, name, referee_id) values ('4', 'Bill', 'None')"
   ]
  },
  {
   "cell_type": "code",
   "execution_count": 7,
   "id": "04990d6c-b0ab-46b9-962b-228b05261df3",
   "metadata": {},
   "outputs": [],
   "source": [
    "insert into Customer (id, name, referee_id) values ('5', 'Zack', '1')"
   ]
  },
  {
   "cell_type": "code",
   "execution_count": 8,
   "id": "e3c93daf-c4a7-4511-93e4-47d7f4c8c1d2",
   "metadata": {},
   "outputs": [],
   "source": [
    "insert into Customer (id, name, referee_id) values ('6', 'Mark', '2')"
   ]
  },
  {
   "cell_type": "code",
   "execution_count": 9,
   "id": "ec698581-1c71-48cf-a2cb-a3a82badb786",
   "metadata": {},
   "outputs": [
    {
     "data": {
      "text/html": [
       "<table>\n",
       "<tr>\n",
       "<th>id</th>\n",
       "<th>name</th>\n",
       "<th>referee_id</th>\n",
       "</tr>\n",
       "<tr>\n",
       "<td>1</td>\n",
       "<td>Will</td>\n",
       "<td>None</td>\n",
       "</tr>\n",
       "<tr>\n",
       "<td>2</td>\n",
       "<td>Jane</td>\n",
       "<td>None</td>\n",
       "</tr>\n",
       "<tr>\n",
       "<td>3</td>\n",
       "<td>Alex</td>\n",
       "<td>2</td>\n",
       "</tr>\n",
       "<tr>\n",
       "<td>4</td>\n",
       "<td>Bill</td>\n",
       "<td>None</td>\n",
       "</tr>\n",
       "<tr>\n",
       "<td>5</td>\n",
       "<td>Zack</td>\n",
       "<td>1</td>\n",
       "</tr>\n",
       "<tr>\n",
       "<td>6</td>\n",
       "<td>Mark</td>\n",
       "<td>2</td>\n",
       "</tr>\n",
       "</table>"
      ],
      "text/plain": [
       "+----+------+------------+\n",
       "| id | name | referee_id |\n",
       "+----+------+------------+\n",
       "| 1  | Will | None       |\n",
       "+----+------+------------+\n",
       "| 2  | Jane | None       |\n",
       "+----+------+------------+\n",
       "| 3  | Alex | 2          |\n",
       "+----+------+------------+\n",
       "| 4  | Bill | None       |\n",
       "+----+------+------------+\n",
       "| 5  | Zack | 1          |\n",
       "+----+------+------------+\n",
       "| 6  | Mark | 2          |\n",
       "+----+------+------------+"
      ]
     },
     "execution_count": 9,
     "metadata": {},
     "output_type": "execute_result"
    }
   ],
   "source": [
    "select * from Customer"
   ]
  },
  {
   "cell_type": "markdown",
   "id": "ecedc64f-21c0-4444-ac58-7ebe1ff75b62",
   "metadata": {},
   "source": [
    "## Find the names of the customer that are not referred by the customer with id = 2"
   ]
  },
  {
   "cell_type": "code",
   "execution_count": 10,
   "id": "a47bc72a-dbbe-4c9f-978f-e36cb198b011",
   "metadata": {},
   "outputs": [
    {
     "data": {
      "text/html": [
       "<table>\n",
       "<tr>\n",
       "<th>name</th>\n",
       "</tr>\n",
       "<tr>\n",
       "<td>Will</td>\n",
       "</tr>\n",
       "<tr>\n",
       "<td>Jane</td>\n",
       "</tr>\n",
       "<tr>\n",
       "<td>Bill</td>\n",
       "</tr>\n",
       "<tr>\n",
       "<td>Zack</td>\n",
       "</tr>\n",
       "</table>"
      ],
      "text/plain": [
       "+------+\n",
       "| name |\n",
       "+------+\n",
       "| Will |\n",
       "+------+\n",
       "| Jane |\n",
       "+------+\n",
       "| Bill |\n",
       "+------+\n",
       "| Zack |\n",
       "+------+"
      ]
     },
     "execution_count": 10,
     "metadata": {},
     "output_type": "execute_result"
    }
   ],
   "source": [
    "select name from Customer where referee_id!=2"
   ]
  },
  {
   "cell_type": "code",
   "execution_count": null,
   "id": "1cf7bf42-cc97-4e62-bfd2-d88fe61edf2c",
   "metadata": {},
   "outputs": [],
   "source": []
  }
 ],
 "metadata": {
  "kernelspec": {
   "display_name": "xsqlite",
   "language": "sqlite",
   "name": "xsqlite"
  },
  "language_info": {
   "codemirror_mode": "sql",
   "file_extension": "",
   "mimetype": "",
   "name": "sql",
   "version": "3.42.0"
  }
 },
 "nbformat": 4,
 "nbformat_minor": 5
}
