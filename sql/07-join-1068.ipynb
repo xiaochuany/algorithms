{
 "cells": [
  {
   "cell_type": "code",
   "execution_count": 1,
   "id": "d172e3fd-4b6b-4950-973a-e5a093a063d4",
   "metadata": {},
   "outputs": [],
   "source": [
    "%load tutorial.db [rw]"
   ]
  },
  {
   "cell_type": "code",
   "execution_count": 2,
   "id": "c133a9ca-b1cf-4307-a384-92c472fdc0d8",
   "metadata": {},
   "outputs": [],
   "source": [
    "Create table If Not Exists Sales (sale_id int, product_id int, year int, quantity int, price int)"
   ]
  },
  {
   "cell_type": "code",
   "execution_count": 3,
   "id": "2b79d7d1-5322-4aee-84df-3190e2211719",
   "metadata": {},
   "outputs": [],
   "source": [
    "Create table If Not Exists Product (product_id int, product_name varchar(10))"
   ]
  },
  {
   "cell_type": "code",
   "execution_count": 4,
   "id": "4c3e0d73-1777-4ea1-a357-cf63b154b100",
   "metadata": {},
   "outputs": [],
   "source": [
    "insert into Sales (sale_id, product_id, year, quantity, price) values ('1', '100', '2008', '10', '5000')"
   ]
  },
  {
   "cell_type": "code",
   "execution_count": 5,
   "id": "253758ef-cb57-46b1-9b3a-0230a55426cb",
   "metadata": {},
   "outputs": [],
   "source": [
    "insert into Sales (sale_id, product_id, year, quantity, price) values ('2', '100', '2009', '12', '5000')"
   ]
  },
  {
   "cell_type": "code",
   "execution_count": 6,
   "id": "807dbb85-b6b8-46eb-b5b1-185f0ca9b69f",
   "metadata": {},
   "outputs": [],
   "source": [
    "insert into Sales (sale_id, product_id, year, quantity, price) values ('7', '200', '2011', '15', '9000')"
   ]
  },
  {
   "cell_type": "code",
   "execution_count": 7,
   "id": "7aba3b9e-b3de-4b77-a055-f27737c3d361",
   "metadata": {},
   "outputs": [],
   "source": [
    "insert into Product (product_id, product_name) values ('100', 'Nokia')"
   ]
  },
  {
   "cell_type": "code",
   "execution_count": 8,
   "id": "c0a35f3f-a894-41cf-9d72-fc7b1b66aa3b",
   "metadata": {},
   "outputs": [],
   "source": [
    "insert into Product (product_id, product_name) values ('200', 'Apple')"
   ]
  },
  {
   "cell_type": "code",
   "execution_count": 9,
   "id": "fd078ccb-cd68-4920-acdf-81dbd5d8d4ce",
   "metadata": {},
   "outputs": [],
   "source": [
    "insert into Product (product_id, product_name) values ('300', 'Samsung')"
   ]
  },
  {
   "cell_type": "code",
   "execution_count": 10,
   "id": "50386b16-f6cd-459c-ab48-c0e850091a7d",
   "metadata": {},
   "outputs": [
    {
     "data": {
      "text/html": [
       "<table>\n",
       "<tr>\n",
       "<th>sale_id</th>\n",
       "<th>product_id</th>\n",
       "<th>year</th>\n",
       "<th>quantity</th>\n",
       "<th>price</th>\n",
       "</tr>\n",
       "<tr>\n",
       "<td>1</td>\n",
       "<td>100</td>\n",
       "<td>2008</td>\n",
       "<td>10</td>\n",
       "<td>5000</td>\n",
       "</tr>\n",
       "<tr>\n",
       "<td>2</td>\n",
       "<td>100</td>\n",
       "<td>2009</td>\n",
       "<td>12</td>\n",
       "<td>5000</td>\n",
       "</tr>\n",
       "<tr>\n",
       "<td>7</td>\n",
       "<td>200</td>\n",
       "<td>2011</td>\n",
       "<td>15</td>\n",
       "<td>9000</td>\n",
       "</tr>\n",
       "</table>"
      ],
      "text/plain": [
       "+---------+------------+------+----------+-------+\n",
       "| sale_id | product_id | year | quantity | price |\n",
       "+---------+------------+------+----------+-------+\n",
       "| 1       | 100        | 2008 | 10       | 5000  |\n",
       "+---------+------------+------+----------+-------+\n",
       "| 2       | 100        | 2009 | 12       | 5000  |\n",
       "+---------+------------+------+----------+-------+\n",
       "| 7       | 200        | 2011 | 15       | 9000  |\n",
       "+---------+------------+------+----------+-------+"
      ]
     },
     "execution_count": 10,
     "metadata": {},
     "output_type": "execute_result"
    }
   ],
   "source": [
    "select * from Sales"
   ]
  },
  {
   "cell_type": "code",
   "execution_count": 11,
   "id": "39d23ce7-a7fd-45d0-a349-b218824c273d",
   "metadata": {},
   "outputs": [
    {
     "data": {
      "text/html": [
       "<table>\n",
       "<tr>\n",
       "<th>product_id</th>\n",
       "<th>product_name</th>\n",
       "</tr>\n",
       "<tr>\n",
       "<td>100</td>\n",
       "<td>Nokia</td>\n",
       "</tr>\n",
       "<tr>\n",
       "<td>200</td>\n",
       "<td>Apple</td>\n",
       "</tr>\n",
       "<tr>\n",
       "<td>300</td>\n",
       "<td>Samsung</td>\n",
       "</tr>\n",
       "</table>"
      ],
      "text/plain": [
       "+------------+--------------+\n",
       "| product_id | product_name |\n",
       "+------------+--------------+\n",
       "| 100        | Nokia        |\n",
       "+------------+--------------+\n",
       "| 200        | Apple        |\n",
       "+------------+--------------+\n",
       "| 300        | Samsung      |\n",
       "+------------+--------------+"
      ]
     },
     "execution_count": 11,
     "metadata": {},
     "output_type": "execute_result"
    }
   ],
   "source": [
    "select * from Product"
   ]
  },
  {
   "cell_type": "markdown",
   "id": "18e2a098-a34b-40b1-8b55-dd8c76ff89a7",
   "metadata": {},
   "source": [
    "## Write a solution to report the product_name, year, and price for each sale_id in the Sales table.\r\n",
    "\r\n",
    "Return the resulting table in any order."
   ]
  },
  {
   "cell_type": "code",
   "execution_count": 14,
   "id": "b40b277d-d963-442c-a017-70186fbd0d65",
   "metadata": {},
   "outputs": [
    {
     "data": {
      "text/html": [
       "<table>\n",
       "<tr>\n",
       "<th>product_name</th>\n",
       "<th>year</th>\n",
       "<th>price</th>\n",
       "</tr>\n",
       "<tr>\n",
       "<td>Nokia</td>\n",
       "<td>2008</td>\n",
       "<td>5000</td>\n",
       "</tr>\n",
       "<tr>\n",
       "<td>Nokia</td>\n",
       "<td>2009</td>\n",
       "<td>5000</td>\n",
       "</tr>\n",
       "<tr>\n",
       "<td>Apple</td>\n",
       "<td>2011</td>\n",
       "<td>9000</td>\n",
       "</tr>\n",
       "</table>"
      ],
      "text/plain": [
       "+--------------+------+-------+\n",
       "| product_name | year | price |\n",
       "+--------------+------+-------+\n",
       "| Nokia        | 2008 | 5000  |\n",
       "+--------------+------+-------+\n",
       "| Nokia        | 2009 | 5000  |\n",
       "+--------------+------+-------+\n",
       "| Apple        | 2011 | 9000  |\n",
       "+--------------+------+-------+"
      ]
     },
     "execution_count": 14,
     "metadata": {},
     "output_type": "execute_result"
    }
   ],
   "source": [
    "select P.product_name, year, price\n",
    "from Sales left join Product P\n",
    "using (product_id)"
   ]
  },
  {
   "cell_type": "code",
   "execution_count": null,
   "id": "e78be096-37ef-40f8-adb4-526c7cbd4bb6",
   "metadata": {},
   "outputs": [],
   "source": []
  }
 ],
 "metadata": {
  "kernelspec": {
   "display_name": "xsqlite",
   "language": "sqlite",
   "name": "xsqlite"
  },
  "language_info": {
   "codemirror_mode": "sql",
   "file_extension": "",
   "mimetype": "",
   "name": "sql",
   "version": "3.42.0"
  }
 },
 "nbformat": 4,
 "nbformat_minor": 5
}
