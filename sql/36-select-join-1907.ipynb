{
 "cells": [
  {
   "cell_type": "code",
   "execution_count": null,
   "id": "17c28e11-acca-4e5f-bbd0-521256148529",
   "metadata": {},
   "outputs": [],
   "source": [
    "%load tutorial.db [rw]"
   ]
  },
  {
   "cell_type": "code",
   "execution_count": null,
   "id": "c8cd0413-8c15-4dbd-8573-7736e876a3a6",
   "metadata": {},
   "outputs": [],
   "source": [
    "Create table If Not Exists Accounts (account_id int, income int)"
   ]
  },
  {
   "cell_type": "code",
   "execution_count": null,
   "id": "5e7c887e-85f1-4f95-8852-75a2f283af57",
   "metadata": {},
   "outputs": [],
   "source": [
    "insert into Accounts (account_id, income) values ('3', '108939')"
   ]
  },
  {
   "cell_type": "code",
   "execution_count": null,
   "id": "52bc1671-9abc-4591-87e8-23674e1ea024",
   "metadata": {},
   "outputs": [],
   "source": [
    "insert into Accounts (account_id, income) values ('2', '12747')"
   ]
  },
  {
   "cell_type": "code",
   "execution_count": null,
   "id": "2f363a94-3add-436b-a639-b66e07272012",
   "metadata": {},
   "outputs": [],
   "source": [
    "insert into Accounts (account_id, income) values ('8', '87709')"
   ]
  },
  {
   "cell_type": "code",
   "execution_count": null,
   "id": "1f2be209-33fe-4612-b7aa-985539e09273",
   "metadata": {},
   "outputs": [],
   "source": [
    "insert into Accounts (account_id, income) values ('6', '91796')"
   ]
  },
  {
   "cell_type": "code",
   "execution_count": null,
   "id": "87331e21-70db-45da-90ce-63b10b0d8408",
   "metadata": {},
   "outputs": [
    {
     "data": {
      "text/html": [
       "<table>\n",
       "<tr>\n",
       "<th>account_id</th>\n",
       "<th>income</th>\n",
       "</tr>\n",
       "<tr>\n",
       "<td>3</td>\n",
       "<td>108939</td>\n",
       "</tr>\n",
       "<tr>\n",
       "<td>2</td>\n",
       "<td>12747</td>\n",
       "</tr>\n",
       "<tr>\n",
       "<td>8</td>\n",
       "<td>87709</td>\n",
       "</tr>\n",
       "<tr>\n",
       "<td>6</td>\n",
       "<td>91796</td>\n",
       "</tr>\n",
       "</table>"
      ],
      "text/plain": [
       "+------------+--------+\n",
       "| account_id | income |\n",
       "+------------+--------+\n",
       "| 3          | 108939 |\n",
       "+------------+--------+\n",
       "| 2          | 12747  |\n",
       "+------------+--------+\n",
       "| 8          | 87709  |\n",
       "+------------+--------+\n",
       "| 6          | 91796  |\n",
       "+------------+--------+"
      ]
     },
     "execution_count": null,
     "metadata": {},
     "output_type": "execute_result"
    }
   ],
   "source": [
    "select * from accounts"
   ]
  },
  {
   "cell_type": "markdown",
   "id": "5d6cc347-a58d-49f1-a6f7-d863a5d7d9e5",
   "metadata": {},
   "source": [
    "## Write a solution to calculate the number of bank accounts for each salary category. "
   ]
  },
  {
   "cell_type": "code",
   "execution_count": null,
   "id": "7de6b856-994f-4db2-81df-dfa2f0ac6ee2",
   "metadata": {},
   "outputs": [
    {
     "data": {
      "text/html": [
       "<table>\n",
       "<tr>\n",
       "<th>category</th>\n",
       "</tr>\n",
       "<tr>\n",
       "<td>high</td>\n",
       "</tr>\n",
       "<tr>\n",
       "<td>low</td>\n",
       "</tr>\n",
       "<tr>\n",
       "<td>high</td>\n",
       "</tr>\n",
       "<tr>\n",
       "<td>high</td>\n",
       "</tr>\n",
       "</table>"
      ],
      "text/plain": [
       "+----------+\n",
       "| category |\n",
       "+----------+\n",
       "| high     |\n",
       "+----------+\n",
       "| low      |\n",
       "+----------+\n",
       "| high     |\n",
       "+----------+\n",
       "| high     |\n",
       "+----------+"
      ]
     },
     "execution_count": null,
     "metadata": {},
     "output_type": "execute_result"
    }
   ],
   "source": [
    "select (case\n",
    "    when income<20000 then 'low' \n",
    "    when income>50000 then 'high' \n",
    "    else 'med' end) category\n",
    "from accounts"
   ]
  },
  {
   "cell_type": "code",
   "execution_count": null,
   "id": "d2d1871f-4d8b-477e-bf37-454fce33340d",
   "metadata": {},
   "outputs": [
    {
     "data": {
      "text/html": [
       "<table>\n",
       "<tr>\n",
       "<th>count(*)</th>\n",
       "<th>category</th>\n",
       "</tr>\n",
       "<tr>\n",
       "<td>3</td>\n",
       "<td>high</td>\n",
       "</tr>\n",
       "<tr>\n",
       "<td>1</td>\n",
       "<td>low</td>\n",
       "</tr>\n",
       "</table>"
      ],
      "text/plain": [
       "+----------+----------+\n",
       "| count(*) | category |\n",
       "+----------+----------+\n",
       "| 3        | high     |\n",
       "+----------+----------+\n",
       "| 1        | low      |\n",
       "+----------+----------+"
      ]
     },
     "execution_count": null,
     "metadata": {},
     "output_type": "execute_result"
    }
   ],
   "source": [
    "select count(*), (case\n",
    "    when income<20000 then 'low' \n",
    "    when income>50000 then 'high' \n",
    "    else 'med' end) category\n",
    "from accounts\n",
    "group by category"
   ]
  },
  {
   "cell_type": "markdown",
   "id": "e2a1b84e-052f-4ba5-b8f6-3a3f536642af",
   "metadata": {},
   "source": [
    "## Union"
   ]
  },
  {
   "cell_type": "code",
   "execution_count": null,
   "id": "f9b81d92-ab3f-4201-91b4-65d4f779d7e0",
   "metadata": {},
   "outputs": [
    {
     "data": {
      "text/html": [
       "<table>\n",
       "<tr>\n",
       "<th>category</th>\n",
       "<th>cnt</th>\n",
       "</tr>\n",
       "<tr>\n",
       "<td>high</td>\n",
       "<td>3</td>\n",
       "</tr>\n",
       "<tr>\n",
       "<td>low</td>\n",
       "<td>1</td>\n",
       "</tr>\n",
       "<tr>\n",
       "<td>med</td>\n",
       "<td>0</td>\n",
       "</tr>\n",
       "</table>"
      ],
      "text/plain": [
       "+----------+-----+\n",
       "| category | cnt |\n",
       "+----------+-----+\n",
       "| high     | 3   |\n",
       "+----------+-----+\n",
       "| low      | 1   |\n",
       "+----------+-----+\n",
       "| med      | 0   |\n",
       "+----------+-----+"
      ]
     },
     "execution_count": null,
     "metadata": {},
     "output_type": "execute_result"
    }
   ],
   "source": [
    "select 'low' category, sum(case when income<20000 then 1 else 0 end) cnt\n",
    "from accounts \n",
    "union \n",
    "select 'med', sum(case when income<=50000 and income>=20000 then 1 else 0 end)\n",
    "from accounts \n",
    "union\n",
    "select 'high', sum(case when income>50000 then 1 else 0 end)\n",
    "from accounts "
   ]
  },
  {
   "cell_type": "markdown",
   "id": "fe40f938-785e-4dec-8277-12f7e34778c4",
   "metadata": {},
   "source": [
    "## another idea: \"create\" intermediate table"
   ]
  },
  {
   "cell_type": "code",
   "execution_count": null,
   "id": "50249153-22bf-4f2b-8270-221bcfbec76c",
   "metadata": {},
   "outputs": [
    {
     "data": {
      "text/html": [
       "<table>\n",
       "<tr>\n",
       "<th>ifnull(cnt,0)</th>\n",
       "<th>category</th>\n",
       "</tr>\n",
       "<tr>\n",
       "<td>3</td>\n",
       "<td>high</td>\n",
       "</tr>\n",
       "<tr>\n",
       "<td>1</td>\n",
       "<td>low</td>\n",
       "</tr>\n",
       "<tr>\n",
       "<td>0</td>\n",
       "<td>med</td>\n",
       "</tr>\n",
       "</table>"
      ],
      "text/plain": [
       "+---------------+----------+\n",
       "| ifnull(cnt,0) | category |\n",
       "+---------------+----------+\n",
       "| 3             | high     |\n",
       "+---------------+----------+\n",
       "| 1             | low      |\n",
       "+---------------+----------+\n",
       "| 0             | med      |\n",
       "+---------------+----------+"
      ]
     },
     "execution_count": null,
     "metadata": {},
     "output_type": "execute_result"
    }
   ],
   "source": [
    "with cat_list(category) as (select 'high' union select 'med' union select 'low'),\n",
    "t as (select count(*) cnt, (case\n",
    "    when income<20000 then 'low' \n",
    "    when income>50000 then 'high' \n",
    "    else 'med' end) category\n",
    "from accounts\n",
    "group by category)\n",
    "\n",
    "select ifnull(cnt,0), category from t right join cat_list using (category)"
   ]
  },
  {
   "cell_type": "code",
   "execution_count": null,
   "id": "028f0845-1164-4d53-aec4-cf612d4985a5",
   "metadata": {},
   "outputs": [],
   "source": []
  }
 ],
 "metadata": {
  "kernelspec": {
   "display_name": "xsqlite",
   "language": "sqlite",
   "name": "xsqlite"
  }
 },
 "nbformat": 4,
 "nbformat_minor": 5
}
