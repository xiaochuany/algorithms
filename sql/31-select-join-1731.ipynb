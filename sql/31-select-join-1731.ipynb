{
 "cells": [
  {
   "cell_type": "code",
   "execution_count": null,
   "id": "14fee46a-6fa1-4213-84b2-cc5319e4f363",
   "metadata": {},
   "outputs": [],
   "source": [
    "%load tutorial.db [rw]"
   ]
  },
  {
   "cell_type": "code",
   "execution_count": null,
   "id": "71df2df3-828f-4024-ba47-afd57db6c3b9",
   "metadata": {},
   "outputs": [],
   "source": [
    "Create table If Not Exists Employee4 (employee_id int, department_id int, primary_flag text)"
   ]
  },
  {
   "cell_type": "code",
   "execution_count": null,
   "id": "85e21f8e-e2ea-4051-8135-9fc4e32c2617",
   "metadata": {},
   "outputs": [],
   "source": [
    "insert into Employee4 (employee_id, department_id, primary_flag) values ('1', '1', 'N')"
   ]
  },
  {
   "cell_type": "code",
   "execution_count": null,
   "id": "0753c24a-3465-47a7-90cb-342e2716c685",
   "metadata": {},
   "outputs": [],
   "source": [
    "insert into Employee4 (employee_id, department_id, primary_flag) values ('2', '1', 'Y')"
   ]
  },
  {
   "cell_type": "code",
   "execution_count": null,
   "id": "c7f0d603-cd0f-400b-8e26-37bf629de4dc",
   "metadata": {},
   "outputs": [],
   "source": [
    "insert into Employee4 (employee_id, department_id, primary_flag) values ('2', '2', 'N')"
   ]
  },
  {
   "cell_type": "code",
   "execution_count": null,
   "id": "9cc7ef1e-5610-473c-9e43-867990803364",
   "metadata": {},
   "outputs": [],
   "source": [
    "insert into Employee4 (employee_id, department_id, primary_flag) values ('3', '3', 'N')"
   ]
  },
  {
   "cell_type": "code",
   "execution_count": null,
   "id": "11357a14-66bc-4805-a5df-3fd89d31ca77",
   "metadata": {},
   "outputs": [],
   "source": [
    "insert into Employee4 (employee_id, department_id, primary_flag) values ('4', '2', 'N')"
   ]
  },
  {
   "cell_type": "code",
   "execution_count": null,
   "id": "706b1053-4cc3-4eb9-ae2b-185a3e9b45ce",
   "metadata": {},
   "outputs": [],
   "source": [
    "insert into Employee4 (employee_id, department_id, primary_flag) values ('4', '3', 'Y')"
   ]
  },
  {
   "cell_type": "code",
   "execution_count": null,
   "id": "92e9e621-8688-450a-a6b4-1efce6ee41b9",
   "metadata": {},
   "outputs": [],
   "source": [
    "insert into Employee4 (employee_id, department_id, primary_flag) values ('4', '4', 'N')"
   ]
  },
  {
   "cell_type": "code",
   "execution_count": null,
   "id": "559d98c7-e48d-4c50-9f43-16cc23563ce9",
   "metadata": {},
   "outputs": [
    {
     "data": {
      "text/html": [
       "<table>\n",
       "<tr>\n",
       "<th>employee_id</th>\n",
       "<th>department_id</th>\n",
       "<th>primary_flag</th>\n",
       "</tr>\n",
       "<tr>\n",
       "<td>1</td>\n",
       "<td>1</td>\n",
       "<td>N</td>\n",
       "</tr>\n",
       "<tr>\n",
       "<td>2</td>\n",
       "<td>1</td>\n",
       "<td>Y</td>\n",
       "</tr>\n",
       "<tr>\n",
       "<td>2</td>\n",
       "<td>2</td>\n",
       "<td>N</td>\n",
       "</tr>\n",
       "<tr>\n",
       "<td>3</td>\n",
       "<td>3</td>\n",
       "<td>N</td>\n",
       "</tr>\n",
       "<tr>\n",
       "<td>4</td>\n",
       "<td>2</td>\n",
       "<td>N</td>\n",
       "</tr>\n",
       "<tr>\n",
       "<td>4</td>\n",
       "<td>3</td>\n",
       "<td>Y</td>\n",
       "</tr>\n",
       "<tr>\n",
       "<td>4</td>\n",
       "<td>4</td>\n",
       "<td>N</td>\n",
       "</tr>\n",
       "</table>"
      ],
      "text/plain": [
       "+-------------+---------------+--------------+\n",
       "| employee_id | department_id | primary_flag |\n",
       "+-------------+---------------+--------------+\n",
       "| 1           | 1             | N            |\n",
       "+-------------+---------------+--------------+\n",
       "| 2           | 1             | Y            |\n",
       "+-------------+---------------+--------------+\n",
       "| 2           | 2             | N            |\n",
       "+-------------+---------------+--------------+\n",
       "| 3           | 3             | N            |\n",
       "+-------------+---------------+--------------+\n",
       "| 4           | 2             | N            |\n",
       "+-------------+---------------+--------------+\n",
       "| 4           | 3             | Y            |\n",
       "+-------------+---------------+--------------+\n",
       "| 4           | 4             | N            |\n",
       "+-------------+---------------+--------------+"
      ]
     },
     "execution_count": null,
     "metadata": {},
     "output_type": "execute_result"
    }
   ],
   "source": [
    "select * from employee4"
   ]
  },
  {
   "cell_type": "markdown",
   "id": "09fb11fb-a02a-4182-9814-40fad3f2e297",
   "metadata": {},
   "source": [
    "## Employees can belong to multiple departments. When the employee joins other departments, they need to decide which department is their primary department. Note that when an employee belongs to only one department, their primary column is 'N'.\r\n",
    "\r\n",
    "Write a solution to report all the employees with their primary department. For employees who belong to one department, report their only department."
   ]
  },
  {
   "cell_type": "code",
   "execution_count": null,
   "id": "13d82700-d739-48ba-b5ba-b65d9a3d9cf2",
   "metadata": {},
   "outputs": [
    {
     "data": {
      "text/html": [
       "<table>\n",
       "<tr>\n",
       "<th>employee_id</th>\n",
       "<th>department_id</th>\n",
       "</tr>\n",
       "<tr>\n",
       "<td>2</td>\n",
       "<td>1</td>\n",
       "</tr>\n",
       "<tr>\n",
       "<td>4</td>\n",
       "<td>3</td>\n",
       "</tr>\n",
       "</table>"
      ],
      "text/plain": [
       "+-------------+---------------+\n",
       "| employee_id | department_id |\n",
       "+-------------+---------------+\n",
       "| 2           | 1             |\n",
       "+-------------+---------------+\n",
       "| 4           | 3             |\n",
       "+-------------+---------------+"
      ]
     },
     "execution_count": null,
     "metadata": {},
     "output_type": "execute_result"
    }
   ],
   "source": [
    "select employee_id, department_id from employee4 where primary_flag='Y'"
   ]
  },
  {
   "cell_type": "code",
   "execution_count": null,
   "id": "fe23ee80-e2a0-4950-af3e-26ec2a66eb3c",
   "metadata": {},
   "outputs": [
    {
     "data": {
      "text/html": [
       "<table>\n",
       "<tr>\n",
       "<th>employee_id</th>\n",
       "<th>department_id</th>\n",
       "</tr>\n",
       "<tr>\n",
       "<td>1</td>\n",
       "<td>1</td>\n",
       "</tr>\n",
       "<tr>\n",
       "<td>3</td>\n",
       "<td>3</td>\n",
       "</tr>\n",
       "</table>"
      ],
      "text/plain": [
       "+-------------+---------------+\n",
       "| employee_id | department_id |\n",
       "+-------------+---------------+\n",
       "| 1           | 1             |\n",
       "+-------------+---------------+\n",
       "| 3           | 3             |\n",
       "+-------------+---------------+"
      ]
     },
     "execution_count": null,
     "metadata": {},
     "output_type": "execute_result"
    }
   ],
   "source": [
    "select employee_id, department_id\n",
    "from (select employee_id, min(department_id) department_id, count(*) cnt from employee4 group by employee_id) where cnt=1"
   ]
  },
  {
   "cell_type": "code",
   "execution_count": null,
   "id": "b754b1f9-5111-4f66-a419-d0e64547822a",
   "metadata": {},
   "outputs": [
    {
     "data": {
      "text/html": [
       "<table>\n",
       "<tr>\n",
       "<th>employee_id</th>\n",
       "<th>department_id</th>\n",
       "</tr>\n",
       "<tr>\n",
       "<td>1</td>\n",
       "<td>1</td>\n",
       "</tr>\n",
       "<tr>\n",
       "<td>2</td>\n",
       "<td>1</td>\n",
       "</tr>\n",
       "<tr>\n",
       "<td>3</td>\n",
       "<td>3</td>\n",
       "</tr>\n",
       "<tr>\n",
       "<td>4</td>\n",
       "<td>3</td>\n",
       "</tr>\n",
       "</table>"
      ],
      "text/plain": [
       "+-------------+---------------+\n",
       "| employee_id | department_id |\n",
       "+-------------+---------------+\n",
       "| 1           | 1             |\n",
       "+-------------+---------------+\n",
       "| 2           | 1             |\n",
       "+-------------+---------------+\n",
       "| 3           | 3             |\n",
       "+-------------+---------------+\n",
       "| 4           | 3             |\n",
       "+-------------+---------------+"
      ]
     },
     "execution_count": null,
     "metadata": {},
     "output_type": "execute_result"
    }
   ],
   "source": [
    "select employee_id, department_id from employee4 where primary_flag='Y' \n",
    "    union \n",
    "select employee_id, department_id\n",
    "from (select employee_id, min(department_id) department_id, count(*) cnt from employee4 group by employee_id) where cnt=1"
   ]
  },
  {
   "cell_type": "code",
   "execution_count": null,
   "id": "5a1c3930-a46b-455e-94dc-19c1b87f7948",
   "metadata": {},
   "outputs": [],
   "source": []
  }
 ],
 "metadata": {
  "kernelspec": {
   "display_name": "xsqlite",
   "language": "sqlite",
   "name": "xsqlite"
  }
 },
 "nbformat": 4,
 "nbformat_minor": 5
}
