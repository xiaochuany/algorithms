{
 "cells": [
  {
   "cell_type": "code",
   "execution_count": 1,
   "id": "0cd0923b-3429-43d2-b6da-3ffdd9f77506",
   "metadata": {},
   "outputs": [],
   "source": [
    "%load tutorial.db [rw]"
   ]
  },
  {
   "cell_type": "code",
   "execution_count": 5,
   "id": "0377d3cb-a9c8-4d2d-b960-4940326dd461",
   "metadata": {},
   "outputs": [],
   "source": [
    "Create table If Not Exists Activity (machine_id int, process_id int, activity_type TEXT CHECK( activity_type IN ('start', 'end')), timestamp float)"
   ]
  },
  {
   "cell_type": "code",
   "execution_count": 6,
   "id": "74bb8807-1489-4aee-b79d-961ec642e5b6",
   "metadata": {},
   "outputs": [],
   "source": [
    "insert into Activity (machine_id, process_id, activity_type, timestamp) values ('0', '0', 'start', '0.712')"
   ]
  },
  {
   "cell_type": "code",
   "execution_count": 7,
   "id": "f8bb91bc-1946-41af-82d7-be3a2b919ed7",
   "metadata": {},
   "outputs": [],
   "source": [
    "insert into Activity (machine_id, process_id, activity_type, timestamp) values ('0', '0', 'end', '1.52')"
   ]
  },
  {
   "cell_type": "code",
   "execution_count": 8,
   "id": "d063e58d-2c7b-4926-8e03-3163ea250aa8",
   "metadata": {},
   "outputs": [],
   "source": [
    "insert into Activity (machine_id, process_id, activity_type, timestamp) values ('0', '1', 'start', '3.14')"
   ]
  },
  {
   "cell_type": "code",
   "execution_count": 9,
   "id": "df42aedd-6753-4903-ba49-f36dce992cd6",
   "metadata": {},
   "outputs": [],
   "source": [
    "insert into Activity (machine_id, process_id, activity_type, timestamp) values ('0', '1', 'end', '4.12')"
   ]
  },
  {
   "cell_type": "code",
   "execution_count": 10,
   "id": "89dc6277-95d6-4752-afdf-feb5873cfa2e",
   "metadata": {},
   "outputs": [],
   "source": [
    "insert into Activity (machine_id, process_id, activity_type, timestamp) values ('1', '0', 'start', '0.55')"
   ]
  },
  {
   "cell_type": "code",
   "execution_count": 11,
   "id": "0c54cf1f-f610-476e-b32f-5ee16cc3f4c1",
   "metadata": {},
   "outputs": [],
   "source": [
    "insert into Activity (machine_id, process_id, activity_type, timestamp) values ('1', '0', 'end', '1.55')"
   ]
  },
  {
   "cell_type": "code",
   "execution_count": 12,
   "id": "50253716-bf1c-4cf5-b7f7-18f6a804d872",
   "metadata": {},
   "outputs": [],
   "source": [
    "insert into Activity (machine_id, process_id, activity_type, timestamp) values ('1', '1', 'start', '0.43')"
   ]
  },
  {
   "cell_type": "code",
   "execution_count": 13,
   "id": "f219babd-3db2-4a1d-9836-ef0cf8f8fd68",
   "metadata": {},
   "outputs": [],
   "source": [
    "insert into Activity (machine_id, process_id, activity_type, timestamp) values ('1', '1', 'end', '1.42')"
   ]
  },
  {
   "cell_type": "code",
   "execution_count": 14,
   "id": "4df1ccd8-1a52-42a3-85e1-2b7565fca82c",
   "metadata": {},
   "outputs": [],
   "source": [
    "insert into Activity (machine_id, process_id, activity_type, timestamp) values ('2', '0', 'start', '4.1')"
   ]
  },
  {
   "cell_type": "code",
   "execution_count": 15,
   "id": "500a6b1e-5874-4f7f-9663-a36f75ea424f",
   "metadata": {},
   "outputs": [],
   "source": [
    "insert into Activity (machine_id, process_id, activity_type, timestamp) values ('2', '0', 'end', '4.512')"
   ]
  },
  {
   "cell_type": "code",
   "execution_count": 16,
   "id": "2d399cc4-d82a-44e3-87dd-fe5121a0399d",
   "metadata": {},
   "outputs": [],
   "source": [
    "insert into Activity (machine_id, process_id, activity_type, timestamp) values ('2', '1', 'start', '2.5')"
   ]
  },
  {
   "cell_type": "code",
   "execution_count": 17,
   "id": "8dec5d1f-3288-4a0d-b19c-6149730bc784",
   "metadata": {},
   "outputs": [],
   "source": [
    "insert into Activity (machine_id, process_id, activity_type, timestamp) values ('2', '1', 'end', '5')"
   ]
  },
  {
   "cell_type": "markdown",
   "id": "3670de13-310a-4243-9513-bdb173c3dde7",
   "metadata": {},
   "source": [
    "## There is a factory website that has several machines each running the same number of processes. Write a solution to find the average time each machine takes to complete a process."
   ]
  },
  {
   "cell_type": "code",
   "execution_count": 18,
   "id": "afcf1f4e-a729-4392-8c41-b33f5be275b5",
   "metadata": {},
   "outputs": [
    {
     "data": {
      "text/html": [
       "<table>\n",
       "<tr>\n",
       "<th>machine_id</th>\n",
       "<th>process_id</th>\n",
       "<th>activity_type</th>\n",
       "<th>timestamp</th>\n",
       "</tr>\n",
       "<tr>\n",
       "<td>0</td>\n",
       "<td>0</td>\n",
       "<td>start</td>\n",
       "<td>0.712</td>\n",
       "</tr>\n",
       "<tr>\n",
       "<td>0</td>\n",
       "<td>0</td>\n",
       "<td>end</td>\n",
       "<td>1.52</td>\n",
       "</tr>\n",
       "<tr>\n",
       "<td>0</td>\n",
       "<td>1</td>\n",
       "<td>start</td>\n",
       "<td>3.14</td>\n",
       "</tr>\n",
       "<tr>\n",
       "<td>0</td>\n",
       "<td>1</td>\n",
       "<td>end</td>\n",
       "<td>4.12</td>\n",
       "</tr>\n",
       "<tr>\n",
       "<td>1</td>\n",
       "<td>0</td>\n",
       "<td>start</td>\n",
       "<td>0.55</td>\n",
       "</tr>\n",
       "<tr>\n",
       "<td>1</td>\n",
       "<td>0</td>\n",
       "<td>end</td>\n",
       "<td>1.55</td>\n",
       "</tr>\n",
       "<tr>\n",
       "<td>1</td>\n",
       "<td>1</td>\n",
       "<td>start</td>\n",
       "<td>0.43</td>\n",
       "</tr>\n",
       "<tr>\n",
       "<td>1</td>\n",
       "<td>1</td>\n",
       "<td>end</td>\n",
       "<td>1.42</td>\n",
       "</tr>\n",
       "<tr>\n",
       "<td>2</td>\n",
       "<td>0</td>\n",
       "<td>start</td>\n",
       "<td>4.1</td>\n",
       "</tr>\n",
       "<tr>\n",
       "<td>2</td>\n",
       "<td>0</td>\n",
       "<td>end</td>\n",
       "<td>4.512</td>\n",
       "</tr>\n",
       "<tr>\n",
       "<td>2</td>\n",
       "<td>1</td>\n",
       "<td>start</td>\n",
       "<td>2.5</td>\n",
       "</tr>\n",
       "<tr>\n",
       "<td>2</td>\n",
       "<td>1</td>\n",
       "<td>end</td>\n",
       "<td>5.0</td>\n",
       "</tr>\n",
       "</table>"
      ],
      "text/plain": [
       "+------------+------------+---------------+-----------+\n",
       "| machine_id | process_id | activity_type | timestamp |\n",
       "+------------+------------+---------------+-----------+\n",
       "| 0          | 0          | start         | 0.712     |\n",
       "+------------+------------+---------------+-----------+\n",
       "| 0          | 0          | end           | 1.52      |\n",
       "+------------+------------+---------------+-----------+\n",
       "| 0          | 1          | start         | 3.14      |\n",
       "+------------+------------+---------------+-----------+\n",
       "| 0          | 1          | end           | 4.12      |\n",
       "+------------+------------+---------------+-----------+\n",
       "| 1          | 0          | start         | 0.55      |\n",
       "+------------+------------+---------------+-----------+\n",
       "| 1          | 0          | end           | 1.55      |\n",
       "+------------+------------+---------------+-----------+\n",
       "| 1          | 1          | start         | 0.43      |\n",
       "+------------+------------+---------------+-----------+\n",
       "| 1          | 1          | end           | 1.42      |\n",
       "+------------+------------+---------------+-----------+\n",
       "| 2          | 0          | start         | 4.1       |\n",
       "+------------+------------+---------------+-----------+\n",
       "| 2          | 0          | end           | 4.512     |\n",
       "+------------+------------+---------------+-----------+\n",
       "| 2          | 1          | start         | 2.5       |\n",
       "+------------+------------+---------------+-----------+\n",
       "| 2          | 1          | end           | 5.0       |\n",
       "+------------+------------+---------------+-----------+"
      ]
     },
     "execution_count": 18,
     "metadata": {},
     "output_type": "execute_result"
    }
   ],
   "source": [
    "select *from activity "
   ]
  },
  {
   "cell_type": "markdown",
   "id": "97a89511-7617-4c02-9bca-7eb5058c7533",
   "metadata": {},
   "source": [
    "expected output\n",
    "\n",
    "+------------+-----------------+\r\n",
    "| machine_id | processing_time |\r\n",
    "+------------+-----------------+\r\n",
    "| 0          | 0.894           |\r\n",
    "| 1          | 0.995           |\r\n",
    "| 2          | 1.456           |\r\n",
    "+------------+-----------------+"
   ]
  },
  {
   "cell_type": "markdown",
   "id": "d50e8442-a612-4706-bcf4-1fb592759d3c",
   "metadata": {},
   "source": [
    "## first approach: groupby and case when"
   ]
  },
  {
   "cell_type": "code",
   "execution_count": 21,
   "id": "2c90a54b-d82b-44b8-a7a9-a54e0b7649b0",
   "metadata": {},
   "outputs": [
    {
     "data": {
      "text/html": [
       "<table>\n",
       "<tr>\n",
       "<th>machine_id</th>\n",
       "<th>process_id</th>\n",
       "<th>activity_type</th>\n",
       "<th>timestamp</th>\n",
       "</tr>\n",
       "<tr>\n",
       "<td>0</td>\n",
       "<td>0</td>\n",
       "<td>start</td>\n",
       "<td>0.712</td>\n",
       "</tr>\n",
       "<tr>\n",
       "<td>0</td>\n",
       "<td>1</td>\n",
       "<td>start</td>\n",
       "<td>3.14</td>\n",
       "</tr>\n",
       "<tr>\n",
       "<td>1</td>\n",
       "<td>0</td>\n",
       "<td>start</td>\n",
       "<td>0.55</td>\n",
       "</tr>\n",
       "<tr>\n",
       "<td>1</td>\n",
       "<td>1</td>\n",
       "<td>start</td>\n",
       "<td>0.43</td>\n",
       "</tr>\n",
       "<tr>\n",
       "<td>2</td>\n",
       "<td>0</td>\n",
       "<td>start</td>\n",
       "<td>4.1</td>\n",
       "</tr>\n",
       "<tr>\n",
       "<td>2</td>\n",
       "<td>1</td>\n",
       "<td>start</td>\n",
       "<td>2.5</td>\n",
       "</tr>\n",
       "</table>"
      ],
      "text/plain": [
       "+------------+------------+---------------+-----------+\n",
       "| machine_id | process_id | activity_type | timestamp |\n",
       "+------------+------------+---------------+-----------+\n",
       "| 0          | 0          | start         | 0.712     |\n",
       "+------------+------------+---------------+-----------+\n",
       "| 0          | 1          | start         | 3.14      |\n",
       "+------------+------------+---------------+-----------+\n",
       "| 1          | 0          | start         | 0.55      |\n",
       "+------------+------------+---------------+-----------+\n",
       "| 1          | 1          | start         | 0.43      |\n",
       "+------------+------------+---------------+-----------+\n",
       "| 2          | 0          | start         | 4.1       |\n",
       "+------------+------------+---------------+-----------+\n",
       "| 2          | 1          | start         | 2.5       |\n",
       "+------------+------------+---------------+-----------+"
      ]
     },
     "execution_count": 21,
     "metadata": {},
     "output_type": "execute_result"
    }
   ],
   "source": [
    "select *\n",
    "from activity\n",
    "group by machine_id, process_id"
   ]
  },
  {
   "cell_type": "code",
   "execution_count": 24,
   "id": "dbb0c6f4-4ca6-4ddb-adc4-103c7a0ef9c6",
   "metadata": {},
   "outputs": [
    {
     "data": {
      "text/html": [
       "<table>\n",
       "<tr>\n",
       "<th>machine_id</th>\n",
       "<th>process_time</th>\n",
       "</tr>\n",
       "<tr>\n",
       "<td>0</td>\n",
       "<td>0.894</td>\n",
       "</tr>\n",
       "<tr>\n",
       "<td>1</td>\n",
       "<td>0.995</td>\n",
       "</tr>\n",
       "<tr>\n",
       "<td>2</td>\n",
       "<td>1.456</td>\n",
       "</tr>\n",
       "</table>"
      ],
      "text/plain": [
       "+------------+--------------+\n",
       "| machine_id | process_time |\n",
       "+------------+--------------+\n",
       "| 0          | 0.894        |\n",
       "+------------+--------------+\n",
       "| 1          | 0.995        |\n",
       "+------------+--------------+\n",
       "| 2          | 1.456        |\n",
       "+------------+--------------+"
      ]
     },
     "execution_count": 24,
     "metadata": {},
     "output_type": "execute_result"
    }
   ],
   "source": [
    "select machine_id, sum(case when activity_type='start' then timestamp*-1 else timestamp end)/count(distinct process_id) as process_time\n",
    "from activity\n",
    "group by machine_id"
   ]
  },
  {
   "cell_type": "markdown",
   "id": "3503f573-c3fb-42a9-9533-3185612b13ff",
   "metadata": {},
   "source": [
    "## second: join (manually with where) and groupby"
   ]
  },
  {
   "cell_type": "code",
   "execution_count": 25,
   "id": "dd6509a6-e3bc-4af0-b5f9-2e7fc159df13",
   "metadata": {},
   "outputs": [
    {
     "data": {
      "text/html": [
       "<table>\n",
       "<tr>\n",
       "<th>machine_id</th>\n",
       "<th>process_id</th>\n",
       "<th>activity_type</th>\n",
       "<th>timestamp</th>\n",
       "<th>machine_id</th>\n",
       "<th>process_id</th>\n",
       "<th>activity_type</th>\n",
       "<th>timestamp</th>\n",
       "</tr>\n",
       "<tr>\n",
       "<td>0</td>\n",
       "<td>0</td>\n",
       "<td>start</td>\n",
       "<td>0.712</td>\n",
       "<td>0</td>\n",
       "<td>0</td>\n",
       "<td>end</td>\n",
       "<td>1.52</td>\n",
       "</tr>\n",
       "<tr>\n",
       "<td>0</td>\n",
       "<td>1</td>\n",
       "<td>start</td>\n",
       "<td>3.14</td>\n",
       "<td>0</td>\n",
       "<td>1</td>\n",
       "<td>end</td>\n",
       "<td>4.12</td>\n",
       "</tr>\n",
       "<tr>\n",
       "<td>1</td>\n",
       "<td>0</td>\n",
       "<td>start</td>\n",
       "<td>0.55</td>\n",
       "<td>1</td>\n",
       "<td>0</td>\n",
       "<td>end</td>\n",
       "<td>1.55</td>\n",
       "</tr>\n",
       "<tr>\n",
       "<td>1</td>\n",
       "<td>1</td>\n",
       "<td>start</td>\n",
       "<td>0.43</td>\n",
       "<td>1</td>\n",
       "<td>1</td>\n",
       "<td>end</td>\n",
       "<td>1.42</td>\n",
       "</tr>\n",
       "<tr>\n",
       "<td>2</td>\n",
       "<td>0</td>\n",
       "<td>start</td>\n",
       "<td>4.1</td>\n",
       "<td>2</td>\n",
       "<td>0</td>\n",
       "<td>end</td>\n",
       "<td>4.512</td>\n",
       "</tr>\n",
       "<tr>\n",
       "<td>2</td>\n",
       "<td>1</td>\n",
       "<td>start</td>\n",
       "<td>2.5</td>\n",
       "<td>2</td>\n",
       "<td>1</td>\n",
       "<td>end</td>\n",
       "<td>5.0</td>\n",
       "</tr>\n",
       "</table>"
      ],
      "text/plain": [
       "+------------+------------+---------------+-----------+------------+------------+---------------+-----------+\n",
       "| machine_id | process_id | activity_type | timestamp | machine_id | process_id | activity_type | timestamp |\n",
       "+------------+------------+---------------+-----------+------------+------------+---------------+-----------+\n",
       "| 0          | 0          | start         | 0.712     | 0          | 0          | end           | 1.52      |\n",
       "+------------+------------+---------------+-----------+------------+------------+---------------+-----------+\n",
       "| 0          | 1          | start         | 3.14      | 0          | 1          | end           | 4.12      |\n",
       "+------------+------------+---------------+-----------+------------+------------+---------------+-----------+\n",
       "| 1          | 0          | start         | 0.55      | 1          | 0          | end           | 1.55      |\n",
       "+------------+------------+---------------+-----------+------------+------------+---------------+-----------+\n",
       "| 1          | 1          | start         | 0.43      | 1          | 1          | end           | 1.42      |\n",
       "+------------+------------+---------------+-----------+------------+------------+---------------+-----------+\n",
       "| 2          | 0          | start         | 4.1       | 2          | 0          | end           | 4.512     |\n",
       "+------------+------------+---------------+-----------+------------+------------+---------------+-----------+\n",
       "| 2          | 1          | start         | 2.5       | 2          | 1          | end           | 5.0       |\n",
       "+------------+------------+---------------+-----------+------------+------------+---------------+-----------+"
      ]
     },
     "execution_count": 25,
     "metadata": {},
     "output_type": "execute_result"
    }
   ],
   "source": [
    "SELECT *\n",
    "FROM Activity a, \n",
    "     Activity b\n",
    "WHERE \n",
    "    a.machine_id = b.machine_id\n",
    "AND \n",
    "    a.process_id = b.process_id\n",
    "AND \n",
    "    a.activity_type = 'start'\n",
    "AND \n",
    "    b.activity_type = 'end'"
   ]
  },
  {
   "cell_type": "code",
   "execution_count": 29,
   "id": "ff421c43-d44a-449d-b612-1345b1f6fc86",
   "metadata": {},
   "outputs": [
    {
     "data": {
      "text/html": [
       "<table>\n",
       "<tr>\n",
       "<th>machine_id</th>\n",
       "<th>process_time</th>\n",
       "</tr>\n",
       "<tr>\n",
       "<td>0</td>\n",
       "<td>0.894</td>\n",
       "</tr>\n",
       "<tr>\n",
       "<td>1</td>\n",
       "<td>0.995</td>\n",
       "</tr>\n",
       "<tr>\n",
       "<td>2</td>\n",
       "<td>1.456</td>\n",
       "</tr>\n",
       "</table>"
      ],
      "text/plain": [
       "+------------+--------------+\n",
       "| machine_id | process_time |\n",
       "+------------+--------------+\n",
       "| 0          | 0.894        |\n",
       "+------------+--------------+\n",
       "| 1          | 0.995        |\n",
       "+------------+--------------+\n",
       "| 2          | 1.456        |\n",
       "+------------+--------------+"
      ]
     },
     "execution_count": 29,
     "metadata": {},
     "output_type": "execute_result"
    }
   ],
   "source": [
    "SELECT a.machine_id, avg(b.timestamp-a.timestamp) as process_time\n",
    "FROM Activity a, \n",
    "     Activity b\n",
    "WHERE \n",
    "    a.machine_id = b.machine_id\n",
    "AND \n",
    "    a.process_id = b.process_id\n",
    "AND \n",
    "    a.activity_type = 'start'\n",
    "AND \n",
    "    b.activity_type = 'end'\n",
    "group by a.machine_id"
   ]
  },
  {
   "cell_type": "code",
   "execution_count": null,
   "id": "c815a918-adeb-45bb-8f05-4fe695d7b7ff",
   "metadata": {},
   "outputs": [],
   "source": []
  }
 ],
 "metadata": {
  "kernelspec": {
   "display_name": "xsqlite",
   "language": "sqlite",
   "name": "xsqlite"
  },
  "language_info": {
   "codemirror_mode": "sql",
   "file_extension": "",
   "mimetype": "",
   "name": "sql",
   "version": "3.42.0"
  }
 },
 "nbformat": 4,
 "nbformat_minor": 5
}
