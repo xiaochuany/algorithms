{
 "cells": [
  {
   "cell_type": "code",
   "execution_count": null,
   "id": "22df4775-47d4-400f-b628-bd0f9cc555fe",
   "metadata": {},
   "outputs": [],
   "source": [
    "%load tutorial.db [rw]"
   ]
  },
  {
   "cell_type": "code",
   "execution_count": null,
   "id": "990cd47b-bd35-4d0f-9070-bcd84c23c6f6",
   "metadata": {},
   "outputs": [],
   "source": [
    "Create table If Not Exists Prices (product_id int, start_date date, end_date date, price int)"
   ]
  },
  {
   "cell_type": "code",
   "execution_count": null,
   "id": "e746efe4-7303-4f64-b25c-464ac56be106",
   "metadata": {},
   "outputs": [],
   "source": [
    "Create table If Not Exists UnitsSold (product_id int, purchase_date date, units int)"
   ]
  },
  {
   "cell_type": "code",
   "execution_count": null,
   "id": "12bac520-542e-430e-9f9b-d5bf69bc3ff9",
   "metadata": {},
   "outputs": [],
   "source": [
    "insert into Prices (product_id, start_date, end_date, price) values ('1', '2019-02-17', '2019-02-28', '5')"
   ]
  },
  {
   "cell_type": "code",
   "execution_count": null,
   "id": "63655930-8179-4f90-8454-34eb81194c97",
   "metadata": {},
   "outputs": [],
   "source": [
    "insert into Prices (product_id, start_date, end_date, price) values ('1', '2019-03-01', '2019-03-22', '20')"
   ]
  },
  {
   "cell_type": "code",
   "execution_count": null,
   "id": "cc339341-1a40-4393-b2aa-0a9379d57e95",
   "metadata": {},
   "outputs": [],
   "source": [
    "insert into Prices (product_id, start_date, end_date, price) values ('2', '2019-02-01', '2019-02-20', '15')"
   ]
  },
  {
   "cell_type": "code",
   "execution_count": null,
   "id": "76e03d0b-7356-4131-ac38-8572588415ae",
   "metadata": {},
   "outputs": [],
   "source": [
    "insert into Prices (product_id, start_date, end_date, price) values ('2', '2019-02-21', '2019-03-31', '30')"
   ]
  },
  {
   "cell_type": "code",
   "execution_count": null,
   "id": "cc24030b-5663-456a-83a3-59c15e35ca0a",
   "metadata": {},
   "outputs": [],
   "source": [
    "insert into UnitsSold (product_id, purchase_date, units) values ('1', '2019-02-25', '100')"
   ]
  },
  {
   "cell_type": "code",
   "execution_count": null,
   "id": "4701e52e-f6dd-430c-ad2f-b9a079a42d1b",
   "metadata": {},
   "outputs": [],
   "source": [
    "insert into UnitsSold (product_id, purchase_date, units) values ('1', '2019-03-01', '15')"
   ]
  },
  {
   "cell_type": "code",
   "execution_count": null,
   "id": "3136c023-b78a-4ed9-925c-570fa50d8525",
   "metadata": {},
   "outputs": [],
   "source": [
    "insert into UnitsSold (product_id, purchase_date, units) values ('2', '2019-02-10', '200')"
   ]
  },
  {
   "cell_type": "code",
   "execution_count": null,
   "id": "506c1f7c-f579-43aa-a7a2-cddb28ab7da1",
   "metadata": {},
   "outputs": [],
   "source": [
    "insert into UnitsSold (product_id, purchase_date, units) values ('2', '2019-03-22', '30')"
   ]
  },
  {
   "cell_type": "code",
   "execution_count": null,
   "id": "dbb65030-e115-4830-b51e-df3dcd856c04",
   "metadata": {},
   "outputs": [
    {
     "data": {
      "text/html": [
       "<table>\n",
       "<tr>\n",
       "<th>product_id</th>\n",
       "<th>start_date</th>\n",
       "<th>end_date</th>\n",
       "<th>price</th>\n",
       "</tr>\n",
       "<tr>\n",
       "<td>1</td>\n",
       "<td>2019-02-17</td>\n",
       "<td>2019-02-28</td>\n",
       "<td>5</td>\n",
       "</tr>\n",
       "<tr>\n",
       "<td>1</td>\n",
       "<td>2019-03-01</td>\n",
       "<td>2019-03-22</td>\n",
       "<td>20</td>\n",
       "</tr>\n",
       "<tr>\n",
       "<td>2</td>\n",
       "<td>2019-02-01</td>\n",
       "<td>2019-02-20</td>\n",
       "<td>15</td>\n",
       "</tr>\n",
       "<tr>\n",
       "<td>2</td>\n",
       "<td>2019-02-21</td>\n",
       "<td>2019-03-31</td>\n",
       "<td>30</td>\n",
       "</tr>\n",
       "</table>"
      ],
      "text/plain": [
       "+------------+------------+------------+-------+\n",
       "| product_id | start_date | end_date   | price |\n",
       "+------------+------------+------------+-------+\n",
       "| 1          | 2019-02-17 | 2019-02-28 | 5     |\n",
       "+------------+------------+------------+-------+\n",
       "| 1          | 2019-03-01 | 2019-03-22 | 20    |\n",
       "+------------+------------+------------+-------+\n",
       "| 2          | 2019-02-01 | 2019-02-20 | 15    |\n",
       "+------------+------------+------------+-------+\n",
       "| 2          | 2019-02-21 | 2019-03-31 | 30    |\n",
       "+------------+------------+------------+-------+"
      ]
     },
     "execution_count": null,
     "metadata": {},
     "output_type": "execute_result"
    }
   ],
   "source": [
    "select * from prices"
   ]
  },
  {
   "cell_type": "code",
   "execution_count": null,
   "id": "bba0679e-6c89-4078-9ce8-9eb72148cc22",
   "metadata": {},
   "outputs": [
    {
     "data": {
      "text/html": [
       "<table>\n",
       "<tr>\n",
       "<th>product_id</th>\n",
       "<th>purchase_date</th>\n",
       "<th>units</th>\n",
       "</tr>\n",
       "<tr>\n",
       "<td>1</td>\n",
       "<td>2019-02-25</td>\n",
       "<td>100</td>\n",
       "</tr>\n",
       "<tr>\n",
       "<td>1</td>\n",
       "<td>2019-03-01</td>\n",
       "<td>15</td>\n",
       "</tr>\n",
       "<tr>\n",
       "<td>2</td>\n",
       "<td>2019-02-10</td>\n",
       "<td>200</td>\n",
       "</tr>\n",
       "<tr>\n",
       "<td>2</td>\n",
       "<td>2019-03-22</td>\n",
       "<td>30</td>\n",
       "</tr>\n",
       "</table>"
      ],
      "text/plain": [
       "+------------+---------------+-------+\n",
       "| product_id | purchase_date | units |\n",
       "+------------+---------------+-------+\n",
       "| 1          | 2019-02-25    | 100   |\n",
       "+------------+---------------+-------+\n",
       "| 1          | 2019-03-01    | 15    |\n",
       "+------------+---------------+-------+\n",
       "| 2          | 2019-02-10    | 200   |\n",
       "+------------+---------------+-------+\n",
       "| 2          | 2019-03-22    | 30    |\n",
       "+------------+---------------+-------+"
      ]
     },
     "execution_count": null,
     "metadata": {},
     "output_type": "execute_result"
    }
   ],
   "source": [
    "select * FROM unitssold"
   ]
  },
  {
   "cell_type": "markdown",
   "id": "6a5faaf4-e349-4838-b0ad-1586b4486247",
   "metadata": {},
   "source": [
    "## Write a solution to find the average selling price for each product"
   ]
  },
  {
   "cell_type": "code",
   "execution_count": null,
   "id": "a2307feb-2856-43d1-b0b0-bd53a8b15f6b",
   "metadata": {},
   "outputs": [
    {
     "data": {
      "text/html": [
       "<table>\n",
       "<tr>\n",
       "<th>product_id</th>\n",
       "<th>start_date</th>\n",
       "<th>end_date</th>\n",
       "<th>price</th>\n",
       "<th>product_id</th>\n",
       "<th>purchase_date</th>\n",
       "<th>units</th>\n",
       "</tr>\n",
       "<tr>\n",
       "<td>1</td>\n",
       "<td>2019-02-17</td>\n",
       "<td>2019-02-28</td>\n",
       "<td>5</td>\n",
       "<td>1</td>\n",
       "<td>2019-02-25</td>\n",
       "<td>100</td>\n",
       "</tr>\n",
       "<tr>\n",
       "<td>1</td>\n",
       "<td>2019-03-01</td>\n",
       "<td>2019-03-22</td>\n",
       "<td>20</td>\n",
       "<td>1</td>\n",
       "<td>2019-03-01</td>\n",
       "<td>15</td>\n",
       "</tr>\n",
       "<tr>\n",
       "<td>2</td>\n",
       "<td>2019-02-01</td>\n",
       "<td>2019-02-20</td>\n",
       "<td>15</td>\n",
       "<td>2</td>\n",
       "<td>2019-02-10</td>\n",
       "<td>200</td>\n",
       "</tr>\n",
       "<tr>\n",
       "<td>2</td>\n",
       "<td>2019-02-21</td>\n",
       "<td>2019-03-31</td>\n",
       "<td>30</td>\n",
       "<td>2</td>\n",
       "<td>2019-03-22</td>\n",
       "<td>30</td>\n",
       "</tr>\n",
       "</table>"
      ],
      "text/plain": [
       "+------------+------------+------------+-------+------------+---------------+-------+\n",
       "| product_id | start_date | end_date   | price | product_id | purchase_date | units |\n",
       "+------------+------------+------------+-------+------------+---------------+-------+\n",
       "| 1          | 2019-02-17 | 2019-02-28 | 5     | 1          | 2019-02-25    | 100   |\n",
       "+------------+------------+------------+-------+------------+---------------+-------+\n",
       "| 1          | 2019-03-01 | 2019-03-22 | 20    | 1          | 2019-03-01    | 15    |\n",
       "+------------+------------+------------+-------+------------+---------------+-------+\n",
       "| 2          | 2019-02-01 | 2019-02-20 | 15    | 2          | 2019-02-10    | 200   |\n",
       "+------------+------------+------------+-------+------------+---------------+-------+\n",
       "| 2          | 2019-02-21 | 2019-03-31 | 30    | 2          | 2019-03-22    | 30    |\n",
       "+------------+------------+------------+-------+------------+---------------+-------+"
      ]
     },
     "execution_count": null,
     "metadata": {},
     "output_type": "execute_result"
    }
   ],
   "source": [
    "select * from prices p, unitssold u\n",
    "where p.product_id=u.product_id and p.start_date<=u.purchase_date  and u.purchase_date<=p.end_date"
   ]
  },
  {
   "cell_type": "code",
   "execution_count": null,
   "id": "3094c1b9-9ab5-4f76-9963-b02559922e3b",
   "metadata": {},
   "outputs": [
    {
     "data": {
      "text/html": [
       "<table>\n",
       "<tr>\n",
       "<th>product_id</th>\n",
       "<th>average_price</th>\n",
       "</tr>\n",
       "<tr>\n",
       "<td>1</td>\n",
       "<td>6.96</td>\n",
       "</tr>\n",
       "<tr>\n",
       "<td>2</td>\n",
       "<td>16.96</td>\n",
       "</tr>\n",
       "</table>"
      ],
      "text/plain": [
       "+------------+---------------+\n",
       "| product_id | average_price |\n",
       "+------------+---------------+\n",
       "| 1          | 6.96          |\n",
       "+------------+---------------+\n",
       "| 2          | 16.96         |\n",
       "+------------+---------------+"
      ]
     },
     "execution_count": null,
     "metadata": {},
     "output_type": "execute_result"
    }
   ],
   "source": [
    "select product_id, COALESCE(round(cast(sum(price*units) as real)/sum(units),2),0) as average_price\n",
    "from (\n",
    "    select * from (\n",
    "        select p.product_id, p.price, u.units from prices p, unitssold u\n",
    "        where u.product_id=p.product_id and p.start_date<=u.purchase_date  and u.purchase_date<=p.end_date\n",
    "    )\n",
    "    right join (select distinct product_id from prices) using (product_id)\n",
    ")\n",
    "group by product_id"
   ]
  },
  {
   "cell_type": "code",
   "execution_count": null,
   "id": "96439caa-a56c-4738-8005-ce1adbc4375a",
   "metadata": {},
   "outputs": [],
   "source": []
  }
 ],
 "metadata": {
  "kernelspec": {
   "display_name": "xsqlite",
   "language": "sqlite",
   "name": "xsqlite"
  }
 },
 "nbformat": 4,
 "nbformat_minor": 5
}
