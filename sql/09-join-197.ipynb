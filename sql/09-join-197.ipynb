{
 "cells": [
  {
   "cell_type": "code",
   "execution_count": 3,
   "id": "0f0ab551-fe19-476a-8b08-294c6d895d2c",
   "metadata": {},
   "outputs": [],
   "source": [
    "%load tutorial.db [rw]"
   ]
  },
  {
   "cell_type": "code",
   "execution_count": 4,
   "id": "12b04e28-80e3-4d4c-a84c-55b2b8c20df6",
   "metadata": {},
   "outputs": [],
   "source": [
    "Create table If Not Exists Weather (id int, recordDate date, temperature int)"
   ]
  },
  {
   "cell_type": "code",
   "execution_count": 5,
   "id": "6174d3cd-042e-4ab5-b93a-686bc1fdae90",
   "metadata": {},
   "outputs": [],
   "source": [
    "insert into Weather (id, recordDate, temperature) values ('1', '2015-01-01', '10')"
   ]
  },
  {
   "cell_type": "code",
   "execution_count": 6,
   "id": "85b45114-f220-4a3f-b2b1-f4d066d50cc2",
   "metadata": {},
   "outputs": [],
   "source": [
    "insert into Weather (id, recordDate, temperature) values ('2', '2015-01-02', '25')"
   ]
  },
  {
   "cell_type": "code",
   "execution_count": 7,
   "id": "69216191-05bb-4986-beca-3ad0c1bbfa2b",
   "metadata": {},
   "outputs": [],
   "source": [
    "insert into Weather (id, recordDate, temperature) values ('3', '2015-01-03', '20')"
   ]
  },
  {
   "cell_type": "code",
   "execution_count": 8,
   "id": "68bbd937-e1f8-4bef-85f2-274f559d8051",
   "metadata": {},
   "outputs": [],
   "source": [
    "insert into Weather (id, recordDate, temperature) values ('4', '2015-01-04', '30')"
   ]
  },
  {
   "cell_type": "code",
   "execution_count": 9,
   "id": "be49da8e-8b75-4c2f-825d-26e4879ce86a",
   "metadata": {},
   "outputs": [
    {
     "data": {
      "text/html": [
       "<table>\n",
       "<tr>\n",
       "<th>id</th>\n",
       "<th>recordDate</th>\n",
       "<th>temperature</th>\n",
       "</tr>\n",
       "<tr>\n",
       "<td>1</td>\n",
       "<td>2015-01-01</td>\n",
       "<td>10</td>\n",
       "</tr>\n",
       "<tr>\n",
       "<td>2</td>\n",
       "<td>2015-01-02</td>\n",
       "<td>25</td>\n",
       "</tr>\n",
       "<tr>\n",
       "<td>3</td>\n",
       "<td>2015-01-03</td>\n",
       "<td>20</td>\n",
       "</tr>\n",
       "<tr>\n",
       "<td>4</td>\n",
       "<td>2015-01-04</td>\n",
       "<td>30</td>\n",
       "</tr>\n",
       "</table>"
      ],
      "text/plain": [
       "+----+------------+-------------+\n",
       "| id | recordDate | temperature |\n",
       "+----+------------+-------------+\n",
       "| 1  | 2015-01-01 | 10          |\n",
       "+----+------------+-------------+\n",
       "| 2  | 2015-01-02 | 25          |\n",
       "+----+------------+-------------+\n",
       "| 3  | 2015-01-03 | 20          |\n",
       "+----+------------+-------------+\n",
       "| 4  | 2015-01-04 | 30          |\n",
       "+----+------------+-------------+"
      ]
     },
     "execution_count": 9,
     "metadata": {},
     "output_type": "execute_result"
    }
   ],
   "source": [
    "select * from weather"
   ]
  },
  {
   "cell_type": "markdown",
   "id": "a1243290-526d-416e-91ee-7a655fb43dcf",
   "metadata": {},
   "source": [
    "## Write a solution to find all dates' Id with higher temperatures compared to its previous dates (yesterday).\r\n",
    "\r\n",
    "Return the result table in any order.\r\n",
    "\r\n",
    "The result format is in the following example."
   ]
  },
  {
   "cell_type": "code",
   "execution_count": 22,
   "id": "df9706be-01ae-4d17-b05d-ef8bdeffd7e2",
   "metadata": {},
   "outputs": [
    {
     "data": {
      "text/html": [
       "<table>\n",
       "<tr>\n",
       "<th>id</th>\n",
       "<th>recordDate</th>\n",
       "<th>temperature</th>\n",
       "<th>id</th>\n",
       "<th>recordDate</th>\n",
       "<th>temperature</th>\n",
       "</tr>\n",
       "<tr>\n",
       "<td>1</td>\n",
       "<td>2015-01-01</td>\n",
       "<td>10</td>\n",
       "<td></td>\n",
       "<td></td>\n",
       "<td></td>\n",
       "</tr>\n",
       "<tr>\n",
       "<td>2</td>\n",
       "<td>2015-01-02</td>\n",
       "<td>25</td>\n",
       "<td>1</td>\n",
       "<td>2015-01-01</td>\n",
       "<td>10</td>\n",
       "</tr>\n",
       "<tr>\n",
       "<td>3</td>\n",
       "<td>2015-01-03</td>\n",
       "<td>20</td>\n",
       "<td>2</td>\n",
       "<td>2015-01-02</td>\n",
       "<td>25</td>\n",
       "</tr>\n",
       "<tr>\n",
       "<td>4</td>\n",
       "<td>2015-01-04</td>\n",
       "<td>30</td>\n",
       "<td>3</td>\n",
       "<td>2015-01-03</td>\n",
       "<td>20</td>\n",
       "</tr>\n",
       "</table>"
      ],
      "text/plain": [
       "+----+------------+-------------+----+------------+-------------+\n",
       "| id | recordDate | temperature | id | recordDate | temperature |\n",
       "+----+------------+-------------+----+------------+-------------+\n",
       "| 1  | 2015-01-01 | 10          |    |            |             |\n",
       "+----+------------+-------------+----+------------+-------------+\n",
       "| 2  | 2015-01-02 | 25          | 1  | 2015-01-01 | 10          |\n",
       "+----+------------+-------------+----+------------+-------------+\n",
       "| 3  | 2015-01-03 | 20          | 2  | 2015-01-02 | 25          |\n",
       "+----+------------+-------------+----+------------+-------------+\n",
       "| 4  | 2015-01-04 | 30          | 3  | 2015-01-03 | 20          |\n",
       "+----+------------+-------------+----+------------+-------------+"
      ]
     },
     "execution_count": 22,
     "metadata": {},
     "output_type": "execute_result"
    }
   ],
   "source": [
    "select *\n",
    "from weather W1 left join weather W2\n",
    "on W1.recordDate = Date(W2.recordDate, '+1 day')"
   ]
  },
  {
   "cell_type": "code",
   "execution_count": 23,
   "id": "0ea1308c-b7d1-40e2-bfba-c0dd6cdd3d50",
   "metadata": {},
   "outputs": [
    {
     "data": {
      "text/html": [
       "<table>\n",
       "<tr>\n",
       "<th>id</th>\n",
       "<th>recordDate</th>\n",
       "<th>temperature</th>\n",
       "<th>id</th>\n",
       "<th>recordDate</th>\n",
       "<th>temperature</th>\n",
       "</tr>\n",
       "<tr>\n",
       "<td>2</td>\n",
       "<td>2015-01-02</td>\n",
       "<td>25</td>\n",
       "<td>1</td>\n",
       "<td>2015-01-01</td>\n",
       "<td>10</td>\n",
       "</tr>\n",
       "<tr>\n",
       "<td>4</td>\n",
       "<td>2015-01-04</td>\n",
       "<td>30</td>\n",
       "<td>3</td>\n",
       "<td>2015-01-03</td>\n",
       "<td>20</td>\n",
       "</tr>\n",
       "</table>"
      ],
      "text/plain": [
       "+----+------------+-------------+----+------------+-------------+\n",
       "| id | recordDate | temperature | id | recordDate | temperature |\n",
       "+----+------------+-------------+----+------------+-------------+\n",
       "| 2  | 2015-01-02 | 25          | 1  | 2015-01-01 | 10          |\n",
       "+----+------------+-------------+----+------------+-------------+\n",
       "| 4  | 2015-01-04 | 30          | 3  | 2015-01-03 | 20          |\n",
       "+----+------------+-------------+----+------------+-------------+"
      ]
     },
     "execution_count": 23,
     "metadata": {},
     "output_type": "execute_result"
    }
   ],
   "source": [
    "select *\n",
    "from weather W1 left join weather W2\n",
    "on W1.recordDate = Date(W2.recordDate, '+1 day')\n",
    "where W1.temperature > W2.temperature"
   ]
  },
  {
   "cell_type": "code",
   "execution_count": 24,
   "id": "9bd2f737-a8ce-4639-b932-3a46fb7feb7c",
   "metadata": {},
   "outputs": [
    {
     "data": {
      "text/html": [
       "<table>\n",
       "<tr>\n",
       "<th>id</th>\n",
       "</tr>\n",
       "<tr>\n",
       "<td>2</td>\n",
       "</tr>\n",
       "<tr>\n",
       "<td>4</td>\n",
       "</tr>\n",
       "</table>"
      ],
      "text/plain": [
       "+----+\n",
       "| id |\n",
       "+----+\n",
       "| 2  |\n",
       "+----+\n",
       "| 4  |\n",
       "+----+"
      ]
     },
     "execution_count": 24,
     "metadata": {},
     "output_type": "execute_result"
    }
   ],
   "source": [
    "select W1.id\n",
    "from weather W1 left join weather W2\n",
    "on W1.recordDate = Date(W2.recordDate, '+1 day')\n",
    "where W1.temperature > W2.temperature"
   ]
  },
  {
   "cell_type": "code",
   "execution_count": null,
   "id": "4db85c7d-fc71-485d-b972-d7b661482d78",
   "metadata": {},
   "outputs": [],
   "source": []
  }
 ],
 "metadata": {
  "kernelspec": {
   "display_name": "xsqlite",
   "language": "sqlite",
   "name": "xsqlite"
  },
  "language_info": {
   "codemirror_mode": "sql",
   "file_extension": "",
   "mimetype": "",
   "name": "sql",
   "version": "3.42.0"
  }
 },
 "nbformat": 4,
 "nbformat_minor": 5
}
