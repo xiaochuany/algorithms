{
 "cells": [
  {
   "cell_type": "code",
   "execution_count": 1,
   "id": "287490ea-508d-4b5e-9b7c-2364456bbeb4",
   "metadata": {},
   "outputs": [],
   "source": [
    "%load tutorial.db [rw]"
   ]
  },
  {
   "cell_type": "code",
   "execution_count": 2,
   "id": "ea15702d-61f7-41ba-922a-9288a5c27329",
   "metadata": {},
   "outputs": [],
   "source": [
    "Create table If Not Exists Visits(visit_id int, customer_id int)"
   ]
  },
  {
   "cell_type": "code",
   "execution_count": 3,
   "id": "012a4239-927e-4025-aced-f14f551f3bef",
   "metadata": {},
   "outputs": [],
   "source": [
    "Create table If Not Exists Transactions(transaction_id int, visit_id int, amount int)"
   ]
  },
  {
   "cell_type": "code",
   "execution_count": 4,
   "id": "c2da0012-52ae-4623-9b31-2217624657e9",
   "metadata": {},
   "outputs": [],
   "source": [
    "insert into Visits (visit_id, customer_id) values ('1', '23')"
   ]
  },
  {
   "cell_type": "code",
   "execution_count": 5,
   "id": "d8498daa-ac36-40fe-8872-b31c746fc2b5",
   "metadata": {},
   "outputs": [],
   "source": [
    "insert into Visits (visit_id, customer_id) values ('2', '9')"
   ]
  },
  {
   "cell_type": "code",
   "execution_count": 6,
   "id": "4a371f32-943f-4da6-aacc-0c3202e524ed",
   "metadata": {},
   "outputs": [],
   "source": [
    "insert into Visits (visit_id, customer_id) values ('4', '30')"
   ]
  },
  {
   "cell_type": "code",
   "execution_count": 7,
   "id": "9f6e07ba-e27c-4b9d-91b4-be8aadf29eb7",
   "metadata": {},
   "outputs": [],
   "source": [
    "insert into Visits (visit_id, customer_id) values ('5', '54')"
   ]
  },
  {
   "cell_type": "code",
   "execution_count": 8,
   "id": "5cf84b02-3f3e-4076-a065-3738984bfc0e",
   "metadata": {},
   "outputs": [],
   "source": [
    "insert into Visits (visit_id, customer_id) values ('6', '96')"
   ]
  },
  {
   "cell_type": "code",
   "execution_count": 9,
   "id": "8e828de4-68cf-4e8e-8f43-646a22f98446",
   "metadata": {},
   "outputs": [],
   "source": [
    "insert into Visits (visit_id, customer_id) values ('7', '54')"
   ]
  },
  {
   "cell_type": "code",
   "execution_count": 10,
   "id": "03d12940-5e44-4afe-9180-537111fb6f64",
   "metadata": {},
   "outputs": [],
   "source": [
    "insert into Visits (visit_id, customer_id) values ('8', '54')"
   ]
  },
  {
   "cell_type": "code",
   "execution_count": 11,
   "id": "737cf2df-5249-4dd5-b02a-2685fafd8ad0",
   "metadata": {},
   "outputs": [],
   "source": [
    "insert into Transactions (transaction_id, visit_id, amount) values ('2', '5', '310')"
   ]
  },
  {
   "cell_type": "code",
   "execution_count": 12,
   "id": "eabe03a1-d1e6-4cd4-82b9-3324f4497bfa",
   "metadata": {},
   "outputs": [],
   "source": [
    "insert into Transactions (transaction_id, visit_id, amount) values ('3', '5', '300')"
   ]
  },
  {
   "cell_type": "code",
   "execution_count": 13,
   "id": "289f48ef-95c9-4fa1-9853-35af73c703a5",
   "metadata": {},
   "outputs": [],
   "source": [
    "insert into Transactions (transaction_id, visit_id, amount) values ('9', '5', '200')"
   ]
  },
  {
   "cell_type": "code",
   "execution_count": 14,
   "id": "f00996f2-3590-4457-b4be-f68eb4efb056",
   "metadata": {},
   "outputs": [],
   "source": [
    "insert into Transactions (transaction_id, visit_id, amount) values ('12', '1', '910')"
   ]
  },
  {
   "cell_type": "code",
   "execution_count": 15,
   "id": "69d76420-5802-446b-83ac-d3bc43e82bae",
   "metadata": {},
   "outputs": [],
   "source": [
    "insert into Transactions (transaction_id, visit_id, amount) values ('13', '2', '970')"
   ]
  },
  {
   "cell_type": "code",
   "execution_count": 16,
   "id": "6e8a2fde-70d2-4d12-afac-771d0357ebec",
   "metadata": {},
   "outputs": [
    {
     "data": {
      "text/html": [
       "<table>\n",
       "<tr>\n",
       "<th>visit_id</th>\n",
       "<th>customer_id</th>\n",
       "</tr>\n",
       "<tr>\n",
       "<td>1</td>\n",
       "<td>23</td>\n",
       "</tr>\n",
       "<tr>\n",
       "<td>2</td>\n",
       "<td>9</td>\n",
       "</tr>\n",
       "<tr>\n",
       "<td>4</td>\n",
       "<td>30</td>\n",
       "</tr>\n",
       "<tr>\n",
       "<td>5</td>\n",
       "<td>54</td>\n",
       "</tr>\n",
       "<tr>\n",
       "<td>6</td>\n",
       "<td>96</td>\n",
       "</tr>\n",
       "<tr>\n",
       "<td>7</td>\n",
       "<td>54</td>\n",
       "</tr>\n",
       "<tr>\n",
       "<td>8</td>\n",
       "<td>54</td>\n",
       "</tr>\n",
       "</table>"
      ],
      "text/plain": [
       "+----------+-------------+\n",
       "| visit_id | customer_id |\n",
       "+----------+-------------+\n",
       "| 1        | 23          |\n",
       "+----------+-------------+\n",
       "| 2        | 9           |\n",
       "+----------+-------------+\n",
       "| 4        | 30          |\n",
       "+----------+-------------+\n",
       "| 5        | 54          |\n",
       "+----------+-------------+\n",
       "| 6        | 96          |\n",
       "+----------+-------------+\n",
       "| 7        | 54          |\n",
       "+----------+-------------+\n",
       "| 8        | 54          |\n",
       "+----------+-------------+"
      ]
     },
     "execution_count": 16,
     "metadata": {},
     "output_type": "execute_result"
    }
   ],
   "source": [
    "select * from visits"
   ]
  },
  {
   "cell_type": "code",
   "execution_count": 17,
   "id": "264f1386-ce4e-4a0b-a0dc-99bcea7bbe48",
   "metadata": {},
   "outputs": [
    {
     "data": {
      "text/html": [
       "<table>\n",
       "<tr>\n",
       "<th>transaction_id</th>\n",
       "<th>visit_id</th>\n",
       "<th>amount</th>\n",
       "</tr>\n",
       "<tr>\n",
       "<td>2</td>\n",
       "<td>5</td>\n",
       "<td>310</td>\n",
       "</tr>\n",
       "<tr>\n",
       "<td>3</td>\n",
       "<td>5</td>\n",
       "<td>300</td>\n",
       "</tr>\n",
       "<tr>\n",
       "<td>9</td>\n",
       "<td>5</td>\n",
       "<td>200</td>\n",
       "</tr>\n",
       "<tr>\n",
       "<td>12</td>\n",
       "<td>1</td>\n",
       "<td>910</td>\n",
       "</tr>\n",
       "<tr>\n",
       "<td>13</td>\n",
       "<td>2</td>\n",
       "<td>970</td>\n",
       "</tr>\n",
       "</table>"
      ],
      "text/plain": [
       "+----------------+----------+--------+\n",
       "| transaction_id | visit_id | amount |\n",
       "+----------------+----------+--------+\n",
       "| 2              | 5        | 310    |\n",
       "+----------------+----------+--------+\n",
       "| 3              | 5        | 300    |\n",
       "+----------------+----------+--------+\n",
       "| 9              | 5        | 200    |\n",
       "+----------------+----------+--------+\n",
       "| 12             | 1        | 910    |\n",
       "+----------------+----------+--------+\n",
       "| 13             | 2        | 970    |\n",
       "+----------------+----------+--------+"
      ]
     },
     "execution_count": 17,
     "metadata": {},
     "output_type": "execute_result"
    }
   ],
   "source": [
    "select * from transactions"
   ]
  },
  {
   "cell_type": "markdown",
   "id": "18779473-a778-4b70-b01b-402805e3b187",
   "metadata": {},
   "source": [
    "## Write a solution to find the IDs of the users who visited without making any transactions and the number of times they made these types of visits.\r\n",
    "\r\n",
    "Return the result table sorted in any order."
   ]
  },
  {
   "cell_type": "code",
   "execution_count": null,
   "id": "1338b922-3aaf-4f11-8fab-6c48f5bd2799",
   "metadata": {},
   "outputs": [],
   "source": []
  }
 ],
 "metadata": {
  "kernelspec": {
   "display_name": "xsqlite",
   "language": "sqlite",
   "name": "xsqlite"
  },
  "language_info": {
   "codemirror_mode": "sql",
   "file_extension": "",
   "mimetype": "",
   "name": "sql",
   "version": "3.42.0"
  }
 },
 "nbformat": 4,
 "nbformat_minor": 5
}
