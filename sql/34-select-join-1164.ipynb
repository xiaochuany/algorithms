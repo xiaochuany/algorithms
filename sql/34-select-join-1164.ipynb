{
 "cells": [
  {
   "cell_type": "code",
   "execution_count": null,
   "id": "97192a2b-a167-4b44-9910-5c284e0658b7",
   "metadata": {},
   "outputs": [],
   "source": [
    "%load tutorial.db [rw]"
   ]
  },
  {
   "cell_type": "code",
   "execution_count": null,
   "id": "3ffbc1be-c35d-496b-9a32-0dd865107207",
   "metadata": {},
   "outputs": [],
   "source": [
    "Create table If Not Exists Productss (product_id int, new_price int, change_date date)"
   ]
  },
  {
   "cell_type": "code",
   "execution_count": null,
   "id": "d9c17e23-1004-43ff-9ad0-7949b5d621c1",
   "metadata": {},
   "outputs": [],
   "source": [
    "insert into Productss (product_id, new_price, change_date) values ('1', '20', '2019-08-14')"
   ]
  },
  {
   "cell_type": "code",
   "execution_count": null,
   "id": "c5160196-c41e-4e30-b5a9-2a6d6c3e13cb",
   "metadata": {},
   "outputs": [],
   "source": [
    "insert into Productss (product_id, new_price, change_date) values ('2', '50', '2019-08-14')"
   ]
  },
  {
   "cell_type": "code",
   "execution_count": null,
   "id": "b3236c30-8489-4489-a982-e291d6e67685",
   "metadata": {},
   "outputs": [],
   "source": [
    "insert into Productss (product_id, new_price, change_date) values ('1', '30', '2019-08-15')"
   ]
  },
  {
   "cell_type": "code",
   "execution_count": null,
   "id": "3c4c06bf-2128-4239-b6f4-16992d15a658",
   "metadata": {},
   "outputs": [],
   "source": [
    "insert into Productss (product_id, new_price, change_date) values ('1', '35', '2019-08-16')"
   ]
  },
  {
   "cell_type": "code",
   "execution_count": null,
   "id": "0486c212-9dfe-46e8-a057-4ed22d93cd67",
   "metadata": {},
   "outputs": [],
   "source": [
    "insert into Productss (product_id, new_price, change_date) values ('2', '65', '2019-08-17')"
   ]
  },
  {
   "cell_type": "code",
   "execution_count": null,
   "id": "5ef73137-20b0-4597-bfd9-948861112ee7",
   "metadata": {},
   "outputs": [],
   "source": [
    "insert into Productss (product_id, new_price, change_date) values ('3', '20', '2019-08-18')"
   ]
  },
  {
   "cell_type": "code",
   "execution_count": null,
   "id": "97db407b-d24c-49c9-98d0-928fbd0dd69c",
   "metadata": {},
   "outputs": [
    {
     "data": {
      "text/html": [
       "<table>\n",
       "<tr>\n",
       "<th>product_id</th>\n",
       "<th>new_price</th>\n",
       "<th>change_date</th>\n",
       "</tr>\n",
       "<tr>\n",
       "<td>1</td>\n",
       "<td>20</td>\n",
       "<td>2019-08-14</td>\n",
       "</tr>\n",
       "<tr>\n",
       "<td>2</td>\n",
       "<td>50</td>\n",
       "<td>2019-08-14</td>\n",
       "</tr>\n",
       "<tr>\n",
       "<td>1</td>\n",
       "<td>30</td>\n",
       "<td>2019-08-15</td>\n",
       "</tr>\n",
       "<tr>\n",
       "<td>1</td>\n",
       "<td>35</td>\n",
       "<td>2019-08-16</td>\n",
       "</tr>\n",
       "<tr>\n",
       "<td>2</td>\n",
       "<td>65</td>\n",
       "<td>2019-08-17</td>\n",
       "</tr>\n",
       "<tr>\n",
       "<td>3</td>\n",
       "<td>20</td>\n",
       "<td>2019-08-18</td>\n",
       "</tr>\n",
       "</table>"
      ],
      "text/plain": [
       "+------------+-----------+-------------+\n",
       "| product_id | new_price | change_date |\n",
       "+------------+-----------+-------------+\n",
       "| 1          | 20        | 2019-08-14  |\n",
       "+------------+-----------+-------------+\n",
       "| 2          | 50        | 2019-08-14  |\n",
       "+------------+-----------+-------------+\n",
       "| 1          | 30        | 2019-08-15  |\n",
       "+------------+-----------+-------------+\n",
       "| 1          | 35        | 2019-08-16  |\n",
       "+------------+-----------+-------------+\n",
       "| 2          | 65        | 2019-08-17  |\n",
       "+------------+-----------+-------------+\n",
       "| 3          | 20        | 2019-08-18  |\n",
       "+------------+-----------+-------------+"
      ]
     },
     "execution_count": null,
     "metadata": {},
     "output_type": "execute_result"
    }
   ],
   "source": [
    "select * from productss"
   ]
  },
  {
   "cell_type": "code",
   "execution_count": null,
   "id": "e8497769-e1b0-442f-a14d-c40119881aa2",
   "metadata": {},
   "outputs": [
    {
     "data": {
      "text/html": [
       "<table>\n",
       "<tr>\n",
       "<th>product_id</th>\n",
       "<th>price</th>\n",
       "</tr>\n",
       "<tr>\n",
       "<td>3</td>\n",
       "<td>10</td>\n",
       "</tr>\n",
       "</table>"
      ],
      "text/plain": [
       "+------------+-------+\n",
       "| product_id | price |\n",
       "+------------+-------+\n",
       "| 3          | 10    |\n",
       "+------------+-------+"
      ]
     },
     "execution_count": null,
     "metadata": {},
     "output_type": "execute_result"
    }
   ],
   "source": [
    "select product_id, 10 price from (\n",
    "    select product_id, min(change_date) min_change from productss group by product_id\n",
    "    ) \n",
    "where min_change>'2019-08-16'"
   ]
  },
  {
   "cell_type": "code",
   "execution_count": null,
   "id": "9262c7b0-c611-4576-893c-7a58b328296f",
   "metadata": {},
   "outputs": [
    {
     "data": {
      "text/html": [
       "<table>\n",
       "<tr>\n",
       "<th>product_id</th>\n",
       "<th>change_date</th>\n",
       "</tr>\n",
       "<tr>\n",
       "<td>1</td>\n",
       "<td>2019-08-16</td>\n",
       "</tr>\n",
       "<tr>\n",
       "<td>2</td>\n",
       "<td>2019-08-14</td>\n",
       "</tr>\n",
       "</table>"
      ],
      "text/plain": [
       "+------------+-------------+\n",
       "| product_id | change_date |\n",
       "+------------+-------------+\n",
       "| 1          | 2019-08-16  |\n",
       "+------------+-------------+\n",
       "| 2          | 2019-08-14  |\n",
       "+------------+-------------+"
      ]
     },
     "execution_count": null,
     "metadata": {},
     "output_type": "execute_result"
    }
   ],
   "source": [
    "select product_id, max(change_date) change_date from productss\n",
    "where change_date<='2019-08-16'\n",
    "group by product_id"
   ]
  },
  {
   "cell_type": "code",
   "execution_count": null,
   "id": "a996c063-c237-4517-ab7e-a48924e32874",
   "metadata": {},
   "outputs": [
    {
     "data": {
      "text/html": [
       "<table>\n",
       "<tr>\n",
       "<th>product_id</th>\n",
       "<th>price</th>\n",
       "</tr>\n",
       "<tr>\n",
       "<td>1</td>\n",
       "<td>35</td>\n",
       "</tr>\n",
       "<tr>\n",
       "<td>2</td>\n",
       "<td>50</td>\n",
       "</tr>\n",
       "<tr>\n",
       "<td>3</td>\n",
       "<td>10</td>\n",
       "</tr>\n",
       "</table>"
      ],
      "text/plain": [
       "+------------+-------+\n",
       "| product_id | price |\n",
       "+------------+-------+\n",
       "| 1          | 35    |\n",
       "+------------+-------+\n",
       "| 2          | 50    |\n",
       "+------------+-------+\n",
       "| 3          | 10    |\n",
       "+------------+-------+"
      ]
     },
     "execution_count": null,
     "metadata": {},
     "output_type": "execute_result"
    }
   ],
   "source": [
    "select product_id, 10 price from (\n",
    "    select product_id, min(change_date) min_change from productss group by product_id\n",
    "    ) \n",
    "where min_change>'2019-08-16'\n",
    "union\n",
    "select product_id, new_price price from productss where (product_id, change_date) in \n",
    "(\n",
    "    select product_id, max(change_date) change_date from productss\n",
    "    where change_date<='2019-08-16'\n",
    "    group by product_id\n",
    ")"
   ]
  },
  {
   "cell_type": "code",
   "execution_count": null,
   "id": "b6a43a4a-67e6-4355-8803-a396098cd8df",
   "metadata": {},
   "outputs": [],
   "source": []
  }
 ],
 "metadata": {
  "kernelspec": {
   "display_name": "xsqlite",
   "language": "sqlite",
   "name": "xsqlite"
  }
 },
 "nbformat": 4,
 "nbformat_minor": 5
}
