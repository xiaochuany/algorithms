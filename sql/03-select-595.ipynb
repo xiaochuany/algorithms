{
 "cells": [
  {
   "cell_type": "code",
   "execution_count": 1,
   "id": "49368991-3b71-4e92-93ea-fbb79a8646a8",
   "metadata": {},
   "outputs": [],
   "source": [
    "%load tutorial.db [rw]"
   ]
  },
  {
   "cell_type": "code",
   "execution_count": 2,
   "id": "be51555a-b9f7-4ab7-86d9-cc8e397373ac",
   "metadata": {},
   "outputs": [],
   "source": [
    "Create table If Not Exists World (name varchar(255), continent varchar(255), area int, population int, gdp bigint)"
   ]
  },
  {
   "cell_type": "code",
   "execution_count": 3,
   "id": "fe1d948f-c663-4020-b402-72044ba4bb64",
   "metadata": {},
   "outputs": [],
   "source": [
    "insert into World (name, continent, area, population, gdp) values ('Afghanistan', 'Asia', '652230', '25500100', '20343000000')"
   ]
  },
  {
   "cell_type": "code",
   "execution_count": 4,
   "id": "16e3d9b2-5873-43b2-b2b4-b2f2e7fb3c12",
   "metadata": {},
   "outputs": [],
   "source": [
    "insert into World (name, continent, area, population, gdp) values ('Albania', 'Europe', '28748', '2831741', '12960000000')"
   ]
  },
  {
   "cell_type": "code",
   "execution_count": 5,
   "id": "2afd0567-524f-46a7-8555-bf7bd1c195db",
   "metadata": {},
   "outputs": [],
   "source": [
    "insert into World (name, continent, area, population, gdp) values ('Algeria', 'Africa', '2381741', '37100000', '188681000000')"
   ]
  },
  {
   "cell_type": "code",
   "execution_count": 6,
   "id": "51a659ae-7fa3-4e3b-a065-1dcdaa732b94",
   "metadata": {},
   "outputs": [],
   "source": [
    "insert into World (name, continent, area, population, gdp) values ('Andorra', 'Europe', '468', '78115', '3712000000')"
   ]
  },
  {
   "cell_type": "code",
   "execution_count": 7,
   "id": "7e7eb9ab-0455-44a6-97d8-ff97746183cd",
   "metadata": {},
   "outputs": [],
   "source": [
    "insert into World (name, continent, area, population, gdp) values ('Angola', 'Africa', '1246700', '20609294', '100990000000')"
   ]
  },
  {
   "cell_type": "code",
   "execution_count": 8,
   "id": "e884247c-92d3-40dd-9ca2-71e95be09261",
   "metadata": {},
   "outputs": [
    {
     "data": {
      "text/html": [
       "<table>\n",
       "<tr>\n",
       "<th>name</th>\n",
       "<th>continent</th>\n",
       "<th>area</th>\n",
       "<th>population</th>\n",
       "<th>gdp</th>\n",
       "</tr>\n",
       "<tr>\n",
       "<td>Afghanistan</td>\n",
       "<td>Asia</td>\n",
       "<td>652230</td>\n",
       "<td>25500100</td>\n",
       "<td>20343000000</td>\n",
       "</tr>\n",
       "<tr>\n",
       "<td>Albania</td>\n",
       "<td>Europe</td>\n",
       "<td>28748</td>\n",
       "<td>2831741</td>\n",
       "<td>12960000000</td>\n",
       "</tr>\n",
       "<tr>\n",
       "<td>Algeria</td>\n",
       "<td>Africa</td>\n",
       "<td>2381741</td>\n",
       "<td>37100000</td>\n",
       "<td>188681000000</td>\n",
       "</tr>\n",
       "<tr>\n",
       "<td>Andorra</td>\n",
       "<td>Europe</td>\n",
       "<td>468</td>\n",
       "<td>78115</td>\n",
       "<td>3712000000</td>\n",
       "</tr>\n",
       "<tr>\n",
       "<td>Angola</td>\n",
       "<td>Africa</td>\n",
       "<td>1246700</td>\n",
       "<td>20609294</td>\n",
       "<td>100990000000</td>\n",
       "</tr>\n",
       "</table>"
      ],
      "text/plain": [
       "+-------------+-----------+---------+------------+--------------+\n",
       "| name        | continent | area    | population | gdp          |\n",
       "+-------------+-----------+---------+------------+--------------+\n",
       "| Afghanistan | Asia      | 652230  | 25500100   | 20343000000  |\n",
       "+-------------+-----------+---------+------------+--------------+\n",
       "| Albania     | Europe    | 28748   | 2831741    | 12960000000  |\n",
       "+-------------+-----------+---------+------------+--------------+\n",
       "| Algeria     | Africa    | 2381741 | 37100000   | 188681000000 |\n",
       "+-------------+-----------+---------+------------+--------------+\n",
       "| Andorra     | Europe    | 468     | 78115      | 3712000000   |\n",
       "+-------------+-----------+---------+------------+--------------+\n",
       "| Angola      | Africa    | 1246700 | 20609294   | 100990000000 |\n",
       "+-------------+-----------+---------+------------+--------------+"
      ]
     },
     "execution_count": 8,
     "metadata": {},
     "output_type": "execute_result"
    }
   ],
   "source": [
    "select * from World"
   ]
  },
  {
   "cell_type": "markdown",
   "id": "582e2aa3-091b-46d8-9f67-02dc41faea64",
   "metadata": {},
   "source": [
    "A country is big if:\n",
    "\n",
    "it has an area of at least three million (i.e., 3000000 km2), or\n",
    "it has a population of at least twenty-five million (i.e., 25000000).\n",
    "Write a solution to find the name, population, and area of the big countries."
   ]
  },
  {
   "cell_type": "code",
   "execution_count": 9,
   "id": "06e580a6-0670-4f64-84a2-7abad1bff205",
   "metadata": {},
   "outputs": [
    {
     "data": {
      "text/html": [
       "<table>\n",
       "<tr>\n",
       "<th>name</th>\n",
       "<th>population</th>\n",
       "<th>area</th>\n",
       "</tr>\n",
       "<tr>\n",
       "<td>Afghanistan</td>\n",
       "<td>25500100</td>\n",
       "<td>652230</td>\n",
       "</tr>\n",
       "<tr>\n",
       "<td>Algeria</td>\n",
       "<td>37100000</td>\n",
       "<td>2381741</td>\n",
       "</tr>\n",
       "</table>"
      ],
      "text/plain": [
       "+-------------+------------+---------+\n",
       "| name        | population | area    |\n",
       "+-------------+------------+---------+\n",
       "| Afghanistan | 25500100   | 652230  |\n",
       "+-------------+------------+---------+\n",
       "| Algeria     | 37100000   | 2381741 |\n",
       "+-------------+------------+---------+"
      ]
     },
     "execution_count": 9,
     "metadata": {},
     "output_type": "execute_result"
    }
   ],
   "source": [
    "select name, population, area from World where population >= 25e6 or area>= 3e6"
   ]
  },
  {
   "cell_type": "code",
   "execution_count": null,
   "id": "dc0f1daa-eff8-4956-938b-d09f6ba1df6e",
   "metadata": {},
   "outputs": [],
   "source": []
  }
 ],
 "metadata": {
  "kernelspec": {
   "display_name": "xsqlite",
   "language": "sqlite",
   "name": "xsqlite"
  },
  "language_info": {
   "codemirror_mode": "sql",
   "file_extension": "",
   "mimetype": "",
   "name": "sql",
   "version": "3.42.0"
  }
 },
 "nbformat": 4,
 "nbformat_minor": 5
}
