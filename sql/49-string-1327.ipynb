{
 "cells": [
  {
   "cell_type": "code",
   "execution_count": null,
   "id": "17d1a769-78c9-4b8b-8194-e7122496f689",
   "metadata": {},
   "outputs": [],
   "source": [
    "%load tutorial.db [rw]"
   ]
  },
  {
   "cell_type": "code",
   "execution_count": null,
   "id": "b9049ad8-4f06-4a25-ad24-2ead5829052c",
   "metadata": {},
   "outputs": [],
   "source": [
    "Create table If Not Exists Productsit (product_id int, product_name varchar(40), product_category varchar(40))"
   ]
  },
  {
   "cell_type": "code",
   "execution_count": null,
   "id": "836dc232-7166-450c-bcb6-6df96add1864",
   "metadata": {},
   "outputs": [],
   "source": [
    "Create table If Not Exists Orders (product_id int, order_date date, unit int)"
   ]
  },
  {
   "cell_type": "code",
   "execution_count": null,
   "id": "521fc1a8-2698-40e5-bb83-71c4c11cadac",
   "metadata": {},
   "outputs": [],
   "source": [
    "insert into Productsit (product_id, product_name, product_category) values ('1', 'Leetcode Solutions', 'Book')"
   ]
  },
  {
   "cell_type": "code",
   "execution_count": null,
   "id": "daad951f-e19d-4b1b-bd14-c3ab6947ebf6",
   "metadata": {},
   "outputs": [],
   "source": [
    "insert into Productsit (product_id, product_name, product_category) values ('2', 'Jewels of Stringology', 'Book')"
   ]
  },
  {
   "cell_type": "code",
   "execution_count": null,
   "id": "20d9f8ff-a652-4d54-8321-3a3f9bf5dfcc",
   "metadata": {},
   "outputs": [],
   "source": [
    "insert into Productsit (product_id, product_name, product_category) values ('3', 'HP', 'Laptop')"
   ]
  },
  {
   "cell_type": "code",
   "execution_count": null,
   "id": "00961237-4a20-4b3b-b115-03a13ea6ca0e",
   "metadata": {},
   "outputs": [],
   "source": [
    "insert into Productsit (product_id, product_name, product_category) values ('4', 'Lenovo', 'Laptop')"
   ]
  },
  {
   "cell_type": "code",
   "execution_count": null,
   "id": "a3972a63-1513-42bf-b6dd-42731be3f285",
   "metadata": {},
   "outputs": [],
   "source": [
    "insert into Productsit (product_id, product_name, product_category) values ('5', 'Leetcode Kit', 'T-shirt')"
   ]
  },
  {
   "cell_type": "code",
   "execution_count": null,
   "id": "7592ac03-1984-401c-9605-abab8c31da95",
   "metadata": {},
   "outputs": [],
   "source": [
    "insert into Orders (product_id, order_date, unit) values ('1', '2020-02-05', '60')"
   ]
  },
  {
   "cell_type": "code",
   "execution_count": null,
   "id": "92b11744-c3d6-4eb4-8c71-e730afe416dd",
   "metadata": {},
   "outputs": [],
   "source": [
    "insert into Orders (product_id, order_date, unit) values ('1', '2020-02-10', '70')"
   ]
  },
  {
   "cell_type": "code",
   "execution_count": null,
   "id": "6e674def-28d9-49f6-9bb0-77ad936f0657",
   "metadata": {},
   "outputs": [],
   "source": [
    "insert into Orders (product_id, order_date, unit) values ('2', '2020-01-18', '30')"
   ]
  },
  {
   "cell_type": "code",
   "execution_count": null,
   "id": "377ffc84-ddcc-4516-a69f-1e97f1e61850",
   "metadata": {},
   "outputs": [],
   "source": [
    "insert into Orders (product_id, order_date, unit) values ('2', '2020-02-11', '80')"
   ]
  },
  {
   "cell_type": "code",
   "execution_count": null,
   "id": "3d78d933-d7fb-459b-bf20-03e58991cfe5",
   "metadata": {},
   "outputs": [],
   "source": [
    "insert into Orders (product_id, order_date, unit) values ('3', '2020-02-17', '2')"
   ]
  },
  {
   "cell_type": "code",
   "execution_count": null,
   "id": "0daabab5-a26a-416a-8640-224b6317424d",
   "metadata": {},
   "outputs": [],
   "source": [
    "insert into Orders (product_id, order_date, unit) values ('3', '2020-02-24', '3')"
   ]
  },
  {
   "cell_type": "code",
   "execution_count": null,
   "id": "380852d2-155c-4d12-88b1-a3e65984e563",
   "metadata": {},
   "outputs": [],
   "source": [
    "insert into Orders (product_id, order_date, unit) values ('4', '2020-03-01', '20')"
   ]
  },
  {
   "cell_type": "code",
   "execution_count": null,
   "id": "f9bc38c2-d7a2-457b-a8e5-55f0e1852caa",
   "metadata": {},
   "outputs": [],
   "source": [
    "insert into Orders (product_id, order_date, unit) values ('4', '2020-03-04', '30')"
   ]
  },
  {
   "cell_type": "code",
   "execution_count": null,
   "id": "3e0c5ef2-5110-4924-a0c1-dfcf29cc6685",
   "metadata": {},
   "outputs": [],
   "source": [
    "insert into Orders (product_id, order_date, unit) values ('4', '2020-03-04', '60')"
   ]
  },
  {
   "cell_type": "code",
   "execution_count": null,
   "id": "52cf7a5a-d5e4-48b8-a564-9c6fbd31fe01",
   "metadata": {},
   "outputs": [],
   "source": [
    "insert into Orders (product_id, order_date, unit) values ('5', '2020-02-25', '50')"
   ]
  },
  {
   "cell_type": "code",
   "execution_count": null,
   "id": "2078e955-3b49-4a49-ab86-e64dc88d8df3",
   "metadata": {},
   "outputs": [],
   "source": [
    "insert into Orders (product_id, order_date, unit) values ('5', '2020-02-27', '50')"
   ]
  },
  {
   "cell_type": "code",
   "execution_count": null,
   "id": "03feb149-88ab-48bb-842c-4a03eb294199",
   "metadata": {},
   "outputs": [],
   "source": [
    "insert into Orders (product_id, order_date, unit) values ('5', '2020-03-01', '50')"
   ]
  },
  {
   "cell_type": "code",
   "execution_count": null,
   "id": "1cea5be6-7063-436e-ab5c-da183d6c4652",
   "metadata": {},
   "outputs": [
    {
     "data": {
      "text/html": [
       "<table>\n",
       "<tr>\n",
       "<th>product_id</th>\n",
       "<th>order_date</th>\n",
       "<th>unit</th>\n",
       "</tr>\n",
       "<tr>\n",
       "<td>1</td>\n",
       "<td>2020-02-05</td>\n",
       "<td>60</td>\n",
       "</tr>\n",
       "<tr>\n",
       "<td>1</td>\n",
       "<td>2020-02-10</td>\n",
       "<td>70</td>\n",
       "</tr>\n",
       "<tr>\n",
       "<td>2</td>\n",
       "<td>2020-01-18</td>\n",
       "<td>30</td>\n",
       "</tr>\n",
       "<tr>\n",
       "<td>2</td>\n",
       "<td>2020-02-11</td>\n",
       "<td>80</td>\n",
       "</tr>\n",
       "<tr>\n",
       "<td>3</td>\n",
       "<td>2020-02-17</td>\n",
       "<td>2</td>\n",
       "</tr>\n",
       "<tr>\n",
       "<td>3</td>\n",
       "<td>2020-02-24</td>\n",
       "<td>3</td>\n",
       "</tr>\n",
       "<tr>\n",
       "<td>4</td>\n",
       "<td>2020-03-01</td>\n",
       "<td>20</td>\n",
       "</tr>\n",
       "<tr>\n",
       "<td>4</td>\n",
       "<td>2020-03-04</td>\n",
       "<td>30</td>\n",
       "</tr>\n",
       "<tr>\n",
       "<td>4</td>\n",
       "<td>2020-03-04</td>\n",
       "<td>60</td>\n",
       "</tr>\n",
       "<tr>\n",
       "<td>5</td>\n",
       "<td>2020-02-25</td>\n",
       "<td>50</td>\n",
       "</tr>\n",
       "<tr>\n",
       "<td>5</td>\n",
       "<td>2020-02-27</td>\n",
       "<td>50</td>\n",
       "</tr>\n",
       "<tr>\n",
       "<td>5</td>\n",
       "<td>2020-03-01</td>\n",
       "<td>50</td>\n",
       "</tr>\n",
       "</table>"
      ],
      "text/plain": [
       "+------------+------------+------+\n",
       "| product_id | order_date | unit |\n",
       "+------------+------------+------+\n",
       "| 1          | 2020-02-05 | 60   |\n",
       "+------------+------------+------+\n",
       "| 1          | 2020-02-10 | 70   |\n",
       "+------------+------------+------+\n",
       "| 2          | 2020-01-18 | 30   |\n",
       "+------------+------------+------+\n",
       "| 2          | 2020-02-11 | 80   |\n",
       "+------------+------------+------+\n",
       "| 3          | 2020-02-17 | 2    |\n",
       "+------------+------------+------+\n",
       "| 3          | 2020-02-24 | 3    |\n",
       "+------------+------------+------+\n",
       "| 4          | 2020-03-01 | 20   |\n",
       "+------------+------------+------+\n",
       "| 4          | 2020-03-04 | 30   |\n",
       "+------------+------------+------+\n",
       "| 4          | 2020-03-04 | 60   |\n",
       "+------------+------------+------+\n",
       "| 5          | 2020-02-25 | 50   |\n",
       "+------------+------------+------+\n",
       "| 5          | 2020-02-27 | 50   |\n",
       "+------------+------------+------+\n",
       "| 5          | 2020-03-01 | 50   |\n",
       "+------------+------------+------+"
      ]
     },
     "execution_count": null,
     "metadata": {},
     "output_type": "execute_result"
    }
   ],
   "source": [
    "select * from orders"
   ]
  },
  {
   "cell_type": "code",
   "execution_count": null,
   "id": "45bc8f0b-fe2a-4890-9f87-e3a81251f8eb",
   "metadata": {},
   "outputs": [
    {
     "data": {
      "text/html": [
       "<table>\n",
       "<tr>\n",
       "<th>product_id</th>\n",
       "<th>product_name</th>\n",
       "<th>product_category</th>\n",
       "</tr>\n",
       "<tr>\n",
       "<td>1</td>\n",
       "<td>Leetcode Solutions</td>\n",
       "<td>Book</td>\n",
       "</tr>\n",
       "<tr>\n",
       "<td>2</td>\n",
       "<td>Jewels of Stringology</td>\n",
       "<td>Book</td>\n",
       "</tr>\n",
       "<tr>\n",
       "<td>3</td>\n",
       "<td>HP</td>\n",
       "<td>Laptop</td>\n",
       "</tr>\n",
       "<tr>\n",
       "<td>4</td>\n",
       "<td>Lenovo</td>\n",
       "<td>Laptop</td>\n",
       "</tr>\n",
       "<tr>\n",
       "<td>5</td>\n",
       "<td>Leetcode Kit</td>\n",
       "<td>T-shirt</td>\n",
       "</tr>\n",
       "</table>"
      ],
      "text/plain": [
       "+------------+-----------------------+------------------+\n",
       "| product_id | product_name          | product_category |\n",
       "+------------+-----------------------+------------------+\n",
       "| 1          | Leetcode Solutions    | Book             |\n",
       "+------------+-----------------------+------------------+\n",
       "| 2          | Jewels of Stringology | Book             |\n",
       "+------------+-----------------------+------------------+\n",
       "| 3          | HP                    | Laptop           |\n",
       "+------------+-----------------------+------------------+\n",
       "| 4          | Lenovo                | Laptop           |\n",
       "+------------+-----------------------+------------------+\n",
       "| 5          | Leetcode Kit          | T-shirt          |\n",
       "+------------+-----------------------+------------------+"
      ]
     },
     "execution_count": null,
     "metadata": {},
     "output_type": "execute_result"
    }
   ],
   "source": [
    "select * from productsit"
   ]
  },
  {
   "cell_type": "markdown",
   "id": "805f9cdd-a156-4ab9-b94f-91cf712861fe",
   "metadata": {},
   "source": [
    "## Write a solution to get the names of products that have at least 100 units ordered in February 2020 and their amount."
   ]
  },
  {
   "cell_type": "code",
   "execution_count": null,
   "id": "6b2e593f-e044-4466-adb9-76ab9b4a8a90",
   "metadata": {},
   "outputs": [
    {
     "data": {
      "text/html": [
       "<table>\n",
       "<tr>\n",
       "<th>product_id</th>\n",
       "<th>unit</th>\n",
       "</tr>\n",
       "<tr>\n",
       "<td>1</td>\n",
       "<td>130</td>\n",
       "</tr>\n",
       "<tr>\n",
       "<td>2</td>\n",
       "<td>80</td>\n",
       "</tr>\n",
       "<tr>\n",
       "<td>3</td>\n",
       "<td>5</td>\n",
       "</tr>\n",
       "<tr>\n",
       "<td>5</td>\n",
       "<td>100</td>\n",
       "</tr>\n",
       "</table>"
      ],
      "text/plain": [
       "+------------+------+\n",
       "| product_id | unit |\n",
       "+------------+------+\n",
       "| 1          | 130  |\n",
       "+------------+------+\n",
       "| 2          | 80   |\n",
       "+------------+------+\n",
       "| 3          | 5    |\n",
       "+------------+------+\n",
       "| 5          | 100  |\n",
       "+------------+------+"
      ]
     },
     "execution_count": null,
     "metadata": {},
     "output_type": "execute_result"
    }
   ],
   "source": [
    "select product_id, sum(unit) unit from orders where strftime('%Y-%m', order_date)='2020-02'\n",
    "group by product_id"
   ]
  },
  {
   "cell_type": "code",
   "execution_count": null,
   "id": "34a1fec1-285e-4e76-8449-9b00d4210ed6",
   "metadata": {},
   "outputs": [
    {
     "data": {
      "text/html": [
       "<table>\n",
       "<tr>\n",
       "<th>product_name</th>\n",
       "<th>unit</th>\n",
       "</tr>\n",
       "<tr>\n",
       "<td>Leetcode Solutions</td>\n",
       "<td>130</td>\n",
       "</tr>\n",
       "<tr>\n",
       "<td>Leetcode Kit</td>\n",
       "<td>100</td>\n",
       "</tr>\n",
       "</table>"
      ],
      "text/plain": [
       "+--------------------+------+\n",
       "| product_name       | unit |\n",
       "+--------------------+------+\n",
       "| Leetcode Solutions | 130  |\n",
       "+--------------------+------+\n",
       "| Leetcode Kit       | 100  |\n",
       "+--------------------+------+"
      ]
     },
     "execution_count": null,
     "metadata": {},
     "output_type": "execute_result"
    }
   ],
   "source": [
    "with t as (\n",
    "    select product_id, sum(unit) unit from orders where strftime('%Y-%m', order_date)='2020-02'\n",
    "    group by product_id\n",
    ")\n",
    "\n",
    "select product_name, unit from t,productsit where t.unit>=100 and t.product_id=productsit.product_id"
   ]
  },
  {
   "cell_type": "code",
   "execution_count": null,
   "id": "057e9fa5-0df2-4613-b126-567876a64e41",
   "metadata": {},
   "outputs": [],
   "source": []
  }
 ],
 "metadata": {
  "kernelspec": {
   "display_name": "xsqlite",
   "language": "sqlite",
   "name": "xsqlite"
  }
 },
 "nbformat": 4,
 "nbformat_minor": 5
}
