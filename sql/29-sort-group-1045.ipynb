{
 "cells": [
  {
   "cell_type": "code",
   "execution_count": null,
   "id": "6a2da623-c6b2-4ace-80b9-783ab89b762d",
   "metadata": {},
   "outputs": [],
   "source": [
    "%load tutorial.db [rw]"
   ]
  },
  {
   "cell_type": "code",
   "execution_count": null,
   "id": "e7d2f998-ca51-43c5-b380-f4407a582df7",
   "metadata": {},
   "outputs": [],
   "source": [
    "Create table If Not Exists Customerc (customer_id int, product_key int)"
   ]
  },
  {
   "cell_type": "code",
   "execution_count": null,
   "id": "612eb694-5a2a-4a2c-b642-2acff6973fd0",
   "metadata": {},
   "outputs": [],
   "source": [
    "Create table Productk (product_key int)"
   ]
  },
  {
   "cell_type": "code",
   "execution_count": null,
   "id": "0fd1d8c1-51a3-4cdd-9427-d966b5b3a56f",
   "metadata": {},
   "outputs": [],
   "source": [
    "insert into Customerc (customer_id, product_key) values ('1', '5')"
   ]
  },
  {
   "cell_type": "code",
   "execution_count": null,
   "id": "837a9e4d-db3a-43b3-9360-418b422e5889",
   "metadata": {},
   "outputs": [],
   "source": [
    "insert into Customerc (customer_id, product_key) values ('2', '6')"
   ]
  },
  {
   "cell_type": "code",
   "execution_count": null,
   "id": "9b17e9e2-fc99-4dad-96a9-f947b6fad418",
   "metadata": {},
   "outputs": [],
   "source": [
    "insert into Customerc (customer_id, product_key) values ('3', '5')"
   ]
  },
  {
   "cell_type": "code",
   "execution_count": null,
   "id": "abf52dd0-165f-4f13-b0f2-fd81beb1a885",
   "metadata": {},
   "outputs": [],
   "source": [
    "insert into Customerc (customer_id, product_key) values ('3', '6')"
   ]
  },
  {
   "cell_type": "code",
   "execution_count": null,
   "id": "290dab5e-49ed-49fa-8642-f09c37db830c",
   "metadata": {},
   "outputs": [],
   "source": [
    "insert into Customerc (customer_id, product_key) values ('1', '6')"
   ]
  },
  {
   "cell_type": "code",
   "execution_count": null,
   "id": "eab7e46c-e6fe-4508-a36a-999546fe78df",
   "metadata": {},
   "outputs": [],
   "source": [
    "insert into Productk (product_key) values ('5')"
   ]
  },
  {
   "cell_type": "code",
   "execution_count": null,
   "id": "516d3fc2-a37b-488f-ae1e-35ec18a9a7f9",
   "metadata": {},
   "outputs": [],
   "source": [
    "insert into Productk (product_key) values ('6')"
   ]
  },
  {
   "cell_type": "code",
   "execution_count": null,
   "id": "97511a75-1c65-4fe6-8eca-3d20cc366208",
   "metadata": {},
   "outputs": [
    {
     "data": {
      "text/html": [
       "<table>\n",
       "<tr>\n",
       "<th>customer_id</th>\n",
       "<th>product_key</th>\n",
       "</tr>\n",
       "<tr>\n",
       "<td>1</td>\n",
       "<td>5</td>\n",
       "</tr>\n",
       "<tr>\n",
       "<td>2</td>\n",
       "<td>6</td>\n",
       "</tr>\n",
       "<tr>\n",
       "<td>3</td>\n",
       "<td>5</td>\n",
       "</tr>\n",
       "<tr>\n",
       "<td>3</td>\n",
       "<td>6</td>\n",
       "</tr>\n",
       "<tr>\n",
       "<td>1</td>\n",
       "<td>6</td>\n",
       "</tr>\n",
       "</table>"
      ],
      "text/plain": [
       "+-------------+-------------+\n",
       "| customer_id | product_key |\n",
       "+-------------+-------------+\n",
       "| 1           | 5           |\n",
       "+-------------+-------------+\n",
       "| 2           | 6           |\n",
       "+-------------+-------------+\n",
       "| 3           | 5           |\n",
       "+-------------+-------------+\n",
       "| 3           | 6           |\n",
       "+-------------+-------------+\n",
       "| 1           | 6           |\n",
       "+-------------+-------------+"
      ]
     },
     "execution_count": null,
     "metadata": {},
     "output_type": "execute_result"
    }
   ],
   "source": [
    "select * from customerc"
   ]
  },
  {
   "cell_type": "code",
   "execution_count": null,
   "id": "79be8cea-8df1-4e00-94e2-fa177c2d3495",
   "metadata": {},
   "outputs": [
    {
     "data": {
      "text/html": [
       "<table>\n",
       "<tr>\n",
       "<th>product_key</th>\n",
       "</tr>\n",
       "<tr>\n",
       "<td>5</td>\n",
       "</tr>\n",
       "<tr>\n",
       "<td>6</td>\n",
       "</tr>\n",
       "</table>"
      ],
      "text/plain": [
       "+-------------+\n",
       "| product_key |\n",
       "+-------------+\n",
       "| 5           |\n",
       "+-------------+\n",
       "| 6           |\n",
       "+-------------+"
      ]
     },
     "execution_count": null,
     "metadata": {},
     "output_type": "execute_result"
    }
   ],
   "source": [
    "select * from productk"
   ]
  },
  {
   "cell_type": "markdown",
   "id": "a99542b1-fa5d-487a-a5a0-e238ff98e659",
   "metadata": {},
   "source": [
    "## Write a solution to report the customer ids from the Customer table that bought all the products in the Product table."
   ]
  },
  {
   "cell_type": "code",
   "execution_count": null,
   "id": "7100b042-1648-4fa3-aca1-be31f97ddf49",
   "metadata": {},
   "outputs": [
    {
     "data": {
      "text/html": [
       "<table>\n",
       "<tr>\n",
       "<th>customer_id</th>\n",
       "</tr>\n",
       "<tr>\n",
       "<td>1</td>\n",
       "</tr>\n",
       "<tr>\n",
       "<td>3</td>\n",
       "</tr>\n",
       "</table>"
      ],
      "text/plain": [
       "+-------------+\n",
       "| customer_id |\n",
       "+-------------+\n",
       "| 1           |\n",
       "+-------------+\n",
       "| 3           |\n",
       "+-------------+"
      ]
     },
     "execution_count": null,
     "metadata": {},
     "output_type": "execute_result"
    }
   ],
   "source": [
    "with t as (\n",
    "    select customer_id, count(distinct product_key) cnt from customerc group by customer_id\n",
    "),\n",
    "p as (select count(product_key) cnt from productk)\n",
    "\n",
    "select customer_id from t, p where t.cnt= p.cnt"
   ]
  },
  {
   "cell_type": "code",
   "execution_count": null,
   "id": "2ef9ae8e-a058-451b-a9e3-eb10b6042b58",
   "metadata": {},
   "outputs": [],
   "source": []
  }
 ],
 "metadata": {
  "kernelspec": {
   "display_name": "xsqlite",
   "language": "sqlite",
   "name": "xsqlite"
  }
 },
 "nbformat": 4,
 "nbformat_minor": 5
}
