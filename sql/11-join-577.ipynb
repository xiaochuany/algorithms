{
 "cells": [
  {
   "cell_type": "code",
   "execution_count": null,
   "id": "901817c5-72dc-4cc0-bc60-3f3551a2db54",
   "metadata": {},
   "outputs": [],
   "source": [
    "%load tutorial.db [rw]"
   ]
  },
  {
   "cell_type": "code",
   "execution_count": null,
   "id": "98e6a0b1-469e-4780-aae0-d7853300bf73",
   "metadata": {},
   "outputs": [],
   "source": [
    "Create table If Not Exists Employee (empId int, name varchar(255), supervisor int, salary int)"
   ]
  },
  {
   "cell_type": "code",
   "execution_count": null,
   "id": "2ffc8c4e-9434-4449-86f7-f35f699403cc",
   "metadata": {},
   "outputs": [],
   "source": [
    "Create table If Not Exists Bonus (empId int, bonus int)"
   ]
  },
  {
   "cell_type": "code",
   "execution_count": null,
   "id": "166e34d3-c200-4acd-96b5-2b3d3402c4ab",
   "metadata": {},
   "outputs": [],
   "source": [
    "insert into Employee (empId, name, supervisor, salary) values ('3', 'Brad', 'None', '4000')"
   ]
  },
  {
   "cell_type": "code",
   "execution_count": null,
   "id": "b5394313-0e59-468f-a9af-1a483a9918bc",
   "metadata": {},
   "outputs": [],
   "source": [
    "insert into Employee (empId, name, supervisor, salary) values ('1', 'John', '3', '1000')"
   ]
  },
  {
   "cell_type": "code",
   "execution_count": null,
   "id": "fb4c899e-6ded-49a4-b622-664178baf975",
   "metadata": {},
   "outputs": [],
   "source": [
    "insert into Employee (empId, name, supervisor, salary) values ('2', 'Dan', '3', '2000')"
   ]
  },
  {
   "cell_type": "code",
   "execution_count": null,
   "id": "5f9ce0f9-ebc1-4887-bcc7-e4d30c4b6c08",
   "metadata": {},
   "outputs": [],
   "source": [
    "insert into Employee (empId, name, supervisor, salary) values ('4', 'Thomas', '3', '4000')"
   ]
  },
  {
   "cell_type": "code",
   "execution_count": null,
   "id": "ace4127c-f386-4dd6-a48e-cec68c24dcbc",
   "metadata": {},
   "outputs": [],
   "source": [
    "insert into Bonus (empId, bonus) values ('2', '500')"
   ]
  },
  {
   "cell_type": "code",
   "execution_count": null,
   "id": "f92d6763-81c4-4227-becd-60820d85f138",
   "metadata": {},
   "outputs": [],
   "source": [
    "insert into Bonus (empId, bonus) values ('4', '2000')"
   ]
  },
  {
   "cell_type": "code",
   "execution_count": null,
   "id": "320b9cd5-d164-4bc4-b40b-bf181774cb5a",
   "metadata": {},
   "outputs": [
    {
     "data": {
      "text/html": [
       "<table>\n",
       "<tr>\n",
       "<th>empId</th>\n",
       "<th>name</th>\n",
       "<th>supervisor</th>\n",
       "<th>salary</th>\n",
       "</tr>\n",
       "<tr>\n",
       "<td>3</td>\n",
       "<td>Brad</td>\n",
       "<td>None</td>\n",
       "<td>4000</td>\n",
       "</tr>\n",
       "<tr>\n",
       "<td>1</td>\n",
       "<td>John</td>\n",
       "<td>3</td>\n",
       "<td>1000</td>\n",
       "</tr>\n",
       "<tr>\n",
       "<td>2</td>\n",
       "<td>Dan</td>\n",
       "<td>3</td>\n",
       "<td>2000</td>\n",
       "</tr>\n",
       "<tr>\n",
       "<td>4</td>\n",
       "<td>Thomas</td>\n",
       "<td>3</td>\n",
       "<td>4000</td>\n",
       "</tr>\n",
       "</table>"
      ],
      "text/plain": [
       "+-------+--------+------------+--------+\n",
       "| empId | name   | supervisor | salary |\n",
       "+-------+--------+------------+--------+\n",
       "| 3     | Brad   | None       | 4000   |\n",
       "+-------+--------+------------+--------+\n",
       "| 1     | John   | 3          | 1000   |\n",
       "+-------+--------+------------+--------+\n",
       "| 2     | Dan    | 3          | 2000   |\n",
       "+-------+--------+------------+--------+\n",
       "| 4     | Thomas | 3          | 4000   |\n",
       "+-------+--------+------------+--------+"
      ]
     },
     "execution_count": null,
     "metadata": {},
     "output_type": "execute_result"
    }
   ],
   "source": [
    "select * from employee"
   ]
  },
  {
   "cell_type": "code",
   "execution_count": null,
   "id": "479dab09-1667-4b03-b27f-4afcf787f5ef",
   "metadata": {},
   "outputs": [
    {
     "data": {
      "text/html": [
       "<table>\n",
       "<tr>\n",
       "<th>empId</th>\n",
       "<th>bonus</th>\n",
       "</tr>\n",
       "<tr>\n",
       "<td>2</td>\n",
       "<td>500</td>\n",
       "</tr>\n",
       "<tr>\n",
       "<td>4</td>\n",
       "<td>2000</td>\n",
       "</tr>\n",
       "</table>"
      ],
      "text/plain": [
       "+-------+-------+\n",
       "| empId | bonus |\n",
       "+-------+-------+\n",
       "| 2     | 500   |\n",
       "+-------+-------+\n",
       "| 4     | 2000  |\n",
       "+-------+-------+"
      ]
     },
     "execution_count": null,
     "metadata": {},
     "output_type": "execute_result"
    }
   ],
   "source": [
    "select * from bonus"
   ]
  },
  {
   "cell_type": "markdown",
   "id": "73c95aed-2166-415e-92d4-963d49fc6b95",
   "metadata": {},
   "source": [
    "## Write a solution to report the name and bonus amount of each employee with a bonus less than 1000.\r\n",
    "\r\n",
    "Return the result table in any order."
   ]
  },
  {
   "cell_type": "code",
   "execution_count": null,
   "id": "5ee81fdb-fa22-4b95-a965-1b5cdb323c45",
   "metadata": {},
   "outputs": [
    {
     "data": {
      "text/html": [
       "<table>\n",
       "<tr>\n",
       "<th>name</th>\n",
       "<th>bonus</th>\n",
       "</tr>\n",
       "<tr>\n",
       "<td>Brad</td>\n",
       "<td></td>\n",
       "</tr>\n",
       "<tr>\n",
       "<td>John</td>\n",
       "<td></td>\n",
       "</tr>\n",
       "<tr>\n",
       "<td>Dan</td>\n",
       "<td>500</td>\n",
       "</tr>\n",
       "</table>"
      ],
      "text/plain": [
       "+------+-------+\n",
       "| name | bonus |\n",
       "+------+-------+\n",
       "| Brad |       |\n",
       "+------+-------+\n",
       "| John |       |\n",
       "+------+-------+\n",
       "| Dan  | 500   |\n",
       "+------+-------+"
      ]
     },
     "execution_count": null,
     "metadata": {},
     "output_type": "execute_result"
    }
   ],
   "source": [
    "select name, bonus\n",
    "from employee left join bonus\n",
    "using (empId)\n",
    "where bonus < 1000 or bonus is null"
   ]
  },
  {
   "cell_type": "code",
   "execution_count": null,
   "id": "062c5f6b-2874-4ad5-b996-d0c2f219faac",
   "metadata": {},
   "outputs": [],
   "source": []
  }
 ],
 "metadata": {
  "kernelspec": {
   "display_name": "xsqlite",
   "language": "sqlite",
   "name": "xsqlite"
  }
 },
 "nbformat": 4,
 "nbformat_minor": 5
}
