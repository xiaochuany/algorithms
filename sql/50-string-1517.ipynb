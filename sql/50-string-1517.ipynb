{
 "cells": [
  {
   "cell_type": "code",
   "execution_count": null,
   "id": "5758cca1-511b-4c5f-b2a6-500208c5bcf5",
   "metadata": {},
   "outputs": [],
   "source": [
    "%load tutorial.db [rw]"
   ]
  },
  {
   "cell_type": "code",
   "execution_count": null,
   "id": "605186f0-131a-4ceb-8e71-cc6ee89bcfe5",
   "metadata": {},
   "outputs": [],
   "source": [
    "Create table If Not Exists Usersss (user_id int, name varchar(30), mail varchar(50))"
   ]
  },
  {
   "cell_type": "code",
   "execution_count": null,
   "id": "062474eb-fde5-4eaf-b958-8c699647e4cb",
   "metadata": {},
   "outputs": [],
   "source": [
    "insert into Usersss (user_id, name, mail) values ('1', 'Winston', 'winston@leetcode.com')"
   ]
  },
  {
   "cell_type": "code",
   "execution_count": null,
   "id": "f2fdd396-6dc2-4c93-9c4b-5b15528f9780",
   "metadata": {},
   "outputs": [],
   "source": [
    "insert into Usersss (user_id, name, mail) values ('2', 'Jonathan', 'jonathanisgreat')"
   ]
  },
  {
   "cell_type": "code",
   "execution_count": null,
   "id": "62f96e4a-d54b-4cac-8f39-e91e712a98d5",
   "metadata": {},
   "outputs": [],
   "source": [
    "insert into Usersss (user_id, name, mail) values ('3', 'Annabelle', 'bella-@leetcode.com')"
   ]
  },
  {
   "cell_type": "code",
   "execution_count": null,
   "id": "5d7322c6-579f-479d-907d-451f7eba56bd",
   "metadata": {},
   "outputs": [],
   "source": [
    "insert into Usersss (user_id, name, mail) values ('4', 'Sally', 'sally.come@leetcode.com')"
   ]
  },
  {
   "cell_type": "code",
   "execution_count": null,
   "id": "37c2b4ad-94d8-445d-ba6b-4fcedd726b08",
   "metadata": {},
   "outputs": [],
   "source": [
    "insert into Usersss (user_id, name, mail) values ('5', 'Marwan', 'quarz#2020@leetcode.com')"
   ]
  },
  {
   "cell_type": "code",
   "execution_count": null,
   "id": "7c20c53e-3bb4-41bb-bfe9-32fc14d6883d",
   "metadata": {},
   "outputs": [],
   "source": [
    "insert into Usersss (user_id, name, mail) values ('6', 'David', 'david69@gmail.com')"
   ]
  },
  {
   "cell_type": "code",
   "execution_count": null,
   "id": "99b231cb-97e1-4052-8296-ec6aa2e83ddd",
   "metadata": {},
   "outputs": [],
   "source": [
    "insert into Usersss (user_id, name, mail) values ('7', 'Shapiro', '.shapo@leetcode.com')"
   ]
  },
  {
   "cell_type": "code",
   "execution_count": null,
   "id": "ad5cf448-db06-447f-85dc-c6144cdd4507",
   "metadata": {},
   "outputs": [
    {
     "data": {
      "text/html": [
       "<table>\n",
       "<tr>\n",
       "<th>user_id</th>\n",
       "<th>name</th>\n",
       "<th>mail</th>\n",
       "</tr>\n",
       "<tr>\n",
       "<td>1</td>\n",
       "<td>Winston</td>\n",
       "<td>winston@leetcode.com</td>\n",
       "</tr>\n",
       "<tr>\n",
       "<td>2</td>\n",
       "<td>Jonathan</td>\n",
       "<td>jonathanisgreat</td>\n",
       "</tr>\n",
       "<tr>\n",
       "<td>3</td>\n",
       "<td>Annabelle</td>\n",
       "<td>bella-@leetcode.com</td>\n",
       "</tr>\n",
       "<tr>\n",
       "<td>4</td>\n",
       "<td>Sally</td>\n",
       "<td>sally.come@leetcode.com</td>\n",
       "</tr>\n",
       "<tr>\n",
       "<td>5</td>\n",
       "<td>Marwan</td>\n",
       "<td>quarz#2020@leetcode.com</td>\n",
       "</tr>\n",
       "<tr>\n",
       "<td>6</td>\n",
       "<td>David</td>\n",
       "<td>david69@gmail.com</td>\n",
       "</tr>\n",
       "<tr>\n",
       "<td>7</td>\n",
       "<td>Shapiro</td>\n",
       "<td>.shapo@leetcode.com</td>\n",
       "</tr>\n",
       "</table>"
      ],
      "text/plain": [
       "+---------+-----------+-------------------------+\n",
       "| user_id | name      | mail                    |\n",
       "+---------+-----------+-------------------------+\n",
       "| 1       | Winston   | winston@leetcode.com    |\n",
       "+---------+-----------+-------------------------+\n",
       "| 2       | Jonathan  | jonathanisgreat         |\n",
       "+---------+-----------+-------------------------+\n",
       "| 3       | Annabelle | bella-@leetcode.com     |\n",
       "+---------+-----------+-------------------------+\n",
       "| 4       | Sally     | sally.come@leetcode.com |\n",
       "+---------+-----------+-------------------------+\n",
       "| 5       | Marwan    | quarz#2020@leetcode.com |\n",
       "+---------+-----------+-------------------------+\n",
       "| 6       | David     | david69@gmail.com       |\n",
       "+---------+-----------+-------------------------+\n",
       "| 7       | Shapiro   | .shapo@leetcode.com     |\n",
       "+---------+-----------+-------------------------+"
      ]
     },
     "execution_count": null,
     "metadata": {},
     "output_type": "execute_result"
    }
   ],
   "source": [
    "select * from usersss order by user_id"
   ]
  },
  {
   "cell_type": "markdown",
   "id": "0230d851-d8cb-42ff-8d22-25420daff307",
   "metadata": {},
   "source": [
    "## Write a solution to find the users who have valid emails.\n",
    "\n",
    "- The prefix name is a string that may contain letters (upper or lower case), digits, underscore `_`, period `.`, and/or dash `-`. The prefix name must start with a letter.\n",
    "-  The domain is `@leetcode.com`"
   ]
  },
  {
   "cell_type": "raw",
   "id": "6223ec04-86b1-4425-a783-100993511a2e",
   "metadata": {},
   "source": [
    "RegEx provides various functionality, here are a few relevant ones:\n",
    "\n",
    "^: This represents the start of a string or line.\n",
    "\n",
    "[a-z]: This represents a character range, matching any character from a to z.\n",
    "\n",
    "[0-9]: This represents a character range, matching any character from 0 to 9.\n",
    "\n",
    "[a-zA-Z]: This variant matches any character from a to z or A to Z. Note that there is no limit to the number of character ranges you can specify inside the square brackets -- you can add additional characters or ranges you want to match.\n",
    "\n",
    "[^a-z]: This variant matches any character that is not from a to z. Note that the ^ character is used to negate the character range, which means it has a different meaning inside the square brackets than outside where it means the start.\n",
    "\n",
    "[a-z]*: This represents a character range, matching any character from a to z zero or more times.\n",
    "\n",
    "[a-z]+: This represents a character range, matching any character from a to z one or more times.\n",
    "\n",
    ".: This matches exactly one of any character.\n",
    "\n",
    "\\.: This represents a period character. Note that the backslash is used to escape the period character, as the period character has a special meaning in regular expressions. Also note that in many languages, you need to escape the backslash itself, so you need to use \\\\..\n",
    "\n",
    "The dollar sign: This represents the end of a string or lineof a string or line."
   ]
  },
  {
   "cell_type": "raw",
   "id": "cef5675b-e26e-4b53-8b28-b50f0e355710",
   "metadata": {},
   "source": [
    "```{oracle}\n",
    "select *  from usersss\n",
    "where \n",
    "regexp_like(mail, '^[a-zA-Z][a-zA-Z0-9._-]*\\@leetcode\\.com')\n",
    "```"
   ]
  },
  {
   "cell_type": "code",
   "execution_count": null,
   "id": "26ca04c5-d021-46a3-8ed5-7884bb3eb512",
   "metadata": {},
   "outputs": [],
   "source": []
  }
 ],
 "metadata": {
  "kernelspec": {
   "display_name": "xsqlite",
   "language": "sqlite",
   "name": "xsqlite"
  }
 },
 "nbformat": 4,
 "nbformat_minor": 5
}
