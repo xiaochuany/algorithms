{
 "cells": [
  {
   "cell_type": "code",
   "execution_count": null,
   "id": "70bdb21a-1a66-4695-9ed1-35519f420d61",
   "metadata": {},
   "outputs": [],
   "source": [
    "%load tutorial.db [rw]"
   ]
  },
  {
   "cell_type": "code",
   "execution_count": null,
   "id": "7b12a871-b3fe-49bf-be53-bcc6ca953dc0",
   "metadata": {},
   "outputs": [],
   "source": [
    "Create table If Not Exists Users (user_id int, user_name varchar(20))"
   ]
  },
  {
   "cell_type": "code",
   "execution_count": null,
   "id": "2c921aae-744c-426c-a368-43e11db8d614",
   "metadata": {},
   "outputs": [],
   "source": [
    "Create table If Not Exists Register (contest_id int, user_id int)"
   ]
  },
  {
   "cell_type": "code",
   "execution_count": null,
   "id": "b283887b-306e-4084-93d1-99a2f6da9dca",
   "metadata": {},
   "outputs": [],
   "source": [
    "insert into Users (user_id, user_name) values ('6', 'Alice')"
   ]
  },
  {
   "cell_type": "code",
   "execution_count": null,
   "id": "2ad97807-6030-4a64-b402-7fbee331f43a",
   "metadata": {},
   "outputs": [],
   "source": [
    "insert into Users (user_id, user_name) values ('2', 'Bob')"
   ]
  },
  {
   "cell_type": "code",
   "execution_count": null,
   "id": "9fa6b2e2-bf1c-4735-82df-f664d6910812",
   "metadata": {},
   "outputs": [],
   "source": [
    "insert into Users (user_id, user_name) values ('7', 'Alex')"
   ]
  },
  {
   "cell_type": "code",
   "execution_count": null,
   "id": "534d466a-4faa-440e-8463-c90e3c933e4e",
   "metadata": {},
   "outputs": [],
   "source": [
    "insert into Register (contest_id, user_id) values ('215', '6')"
   ]
  },
  {
   "cell_type": "code",
   "execution_count": null,
   "id": "539c629f-7d6e-45d0-a11a-aa0e61b49235",
   "metadata": {},
   "outputs": [],
   "source": [
    "insert into Register (contest_id, user_id) values ('209', '2')"
   ]
  },
  {
   "cell_type": "code",
   "execution_count": null,
   "id": "af96100a-114b-44ce-af96-c96bf22567a4",
   "metadata": {},
   "outputs": [],
   "source": [
    "insert into Register (contest_id, user_id) values ('208', '2')"
   ]
  },
  {
   "cell_type": "code",
   "execution_count": null,
   "id": "aaf13251-d1b8-4fec-ae2d-16e9dbe0a070",
   "metadata": {},
   "outputs": [],
   "source": [
    "insert into Register (contest_id, user_id) values ('210', '6')"
   ]
  },
  {
   "cell_type": "code",
   "execution_count": null,
   "id": "e522d9f4-59c3-478b-a459-e8614af09db0",
   "metadata": {},
   "outputs": [],
   "source": [
    "insert into Register (contest_id, user_id) values ('208', '6')"
   ]
  },
  {
   "cell_type": "code",
   "execution_count": null,
   "id": "96b9b6ef-d4c4-42c2-a975-be72436efe8a",
   "metadata": {},
   "outputs": [],
   "source": [
    "insert into Register (contest_id, user_id) values ('209', '7')"
   ]
  },
  {
   "cell_type": "code",
   "execution_count": null,
   "id": "0abdbcb2-76b6-463d-b324-e9dc1a273772",
   "metadata": {},
   "outputs": [],
   "source": [
    "insert into Register (contest_id, user_id) values ('209', '6')"
   ]
  },
  {
   "cell_type": "code",
   "execution_count": null,
   "id": "cd9b99a6-b676-4c8d-9a11-7bcc0bf6135c",
   "metadata": {},
   "outputs": [],
   "source": [
    "insert into Register (contest_id, user_id) values ('215', '7')"
   ]
  },
  {
   "cell_type": "code",
   "execution_count": null,
   "id": "548ede78-d874-4899-b774-a2b30cd0de8b",
   "metadata": {},
   "outputs": [],
   "source": [
    "insert into Register (contest_id, user_id) values ('208', '7')"
   ]
  },
  {
   "cell_type": "code",
   "execution_count": null,
   "id": "bcc11899-1abc-43b6-80bd-99b9b93df021",
   "metadata": {},
   "outputs": [],
   "source": [
    "insert into Register (contest_id, user_id) values ('210', '2')"
   ]
  },
  {
   "cell_type": "code",
   "execution_count": null,
   "id": "b804e606-1d83-4118-9dc9-8b2e47ad7d3c",
   "metadata": {},
   "outputs": [],
   "source": [
    "insert into Register (contest_id, user_id) values ('207', '2')"
   ]
  },
  {
   "cell_type": "code",
   "execution_count": null,
   "id": "8427d994-7905-4fc0-aa00-c16475de2789",
   "metadata": {},
   "outputs": [],
   "source": [
    "insert into Register (contest_id, user_id) values ('210', '7')"
   ]
  },
  {
   "cell_type": "code",
   "execution_count": null,
   "id": "57607f58-dc50-415b-8060-d4211e620488",
   "metadata": {},
   "outputs": [
    {
     "data": {
      "text/html": [
       "<table>\n",
       "<tr>\n",
       "<th>contest_id</th>\n",
       "<th>user_id</th>\n",
       "</tr>\n",
       "<tr>\n",
       "<td>215</td>\n",
       "<td>6</td>\n",
       "</tr>\n",
       "<tr>\n",
       "<td>209</td>\n",
       "<td>2</td>\n",
       "</tr>\n",
       "<tr>\n",
       "<td>208</td>\n",
       "<td>2</td>\n",
       "</tr>\n",
       "<tr>\n",
       "<td>210</td>\n",
       "<td>6</td>\n",
       "</tr>\n",
       "<tr>\n",
       "<td>208</td>\n",
       "<td>6</td>\n",
       "</tr>\n",
       "<tr>\n",
       "<td>209</td>\n",
       "<td>7</td>\n",
       "</tr>\n",
       "<tr>\n",
       "<td>209</td>\n",
       "<td>6</td>\n",
       "</tr>\n",
       "<tr>\n",
       "<td>215</td>\n",
       "<td>7</td>\n",
       "</tr>\n",
       "<tr>\n",
       "<td>208</td>\n",
       "<td>7</td>\n",
       "</tr>\n",
       "<tr>\n",
       "<td>210</td>\n",
       "<td>2</td>\n",
       "</tr>\n",
       "<tr>\n",
       "<td>207</td>\n",
       "<td>2</td>\n",
       "</tr>\n",
       "<tr>\n",
       "<td>210</td>\n",
       "<td>7</td>\n",
       "</tr>\n",
       "</table>"
      ],
      "text/plain": [
       "+------------+---------+\n",
       "| contest_id | user_id |\n",
       "+------------+---------+\n",
       "| 215        | 6       |\n",
       "+------------+---------+\n",
       "| 209        | 2       |\n",
       "+------------+---------+\n",
       "| 208        | 2       |\n",
       "+------------+---------+\n",
       "| 210        | 6       |\n",
       "+------------+---------+\n",
       "| 208        | 6       |\n",
       "+------------+---------+\n",
       "| 209        | 7       |\n",
       "+------------+---------+\n",
       "| 209        | 6       |\n",
       "+------------+---------+\n",
       "| 215        | 7       |\n",
       "+------------+---------+\n",
       "| 208        | 7       |\n",
       "+------------+---------+\n",
       "| 210        | 2       |\n",
       "+------------+---------+\n",
       "| 207        | 2       |\n",
       "+------------+---------+\n",
       "| 210        | 7       |\n",
       "+------------+---------+"
      ]
     },
     "execution_count": null,
     "metadata": {},
     "output_type": "execute_result"
    }
   ],
   "source": [
    "select * from register"
   ]
  },
  {
   "cell_type": "code",
   "execution_count": null,
   "id": "38af163d-8b12-4b02-a284-739507d3a32c",
   "metadata": {},
   "outputs": [
    {
     "data": {
      "text/html": [
       "<table>\n",
       "<tr>\n",
       "<th>user_id</th>\n",
       "<th>user_name</th>\n",
       "</tr>\n",
       "<tr>\n",
       "<td>6</td>\n",
       "<td>Alice</td>\n",
       "</tr>\n",
       "<tr>\n",
       "<td>2</td>\n",
       "<td>Bob</td>\n",
       "</tr>\n",
       "<tr>\n",
       "<td>7</td>\n",
       "<td>Alex</td>\n",
       "</tr>\n",
       "</table>"
      ],
      "text/plain": [
       "+---------+-----------+\n",
       "| user_id | user_name |\n",
       "+---------+-----------+\n",
       "| 6       | Alice     |\n",
       "+---------+-----------+\n",
       "| 2       | Bob       |\n",
       "+---------+-----------+\n",
       "| 7       | Alex      |\n",
       "+---------+-----------+"
      ]
     },
     "execution_count": null,
     "metadata": {},
     "output_type": "execute_result"
    }
   ],
   "source": [
    "select * from users"
   ]
  },
  {
   "cell_type": "markdown",
   "id": "922d7f9f-9b86-4466-8bfc-ae4a2166c56f",
   "metadata": {},
   "source": [
    "## Write a solution to find the percentage of the users registered in each contest\r\n",
    "\r\n",
    "Return the result table ordered by percentage in descending order. In case of a tie, order it by contest_id in ascending order."
   ]
  },
  {
   "cell_type": "code",
   "execution_count": null,
   "id": "fb3a0cc7-8800-4e4a-8b48-70f0cd5d1c81",
   "metadata": {},
   "outputs": [
    {
     "data": {
      "text/html": [
       "<table>\n",
       "<tr>\n",
       "<th>count(distinct user_id)</th>\n",
       "</tr>\n",
       "<tr>\n",
       "<td>3</td>\n",
       "</tr>\n",
       "</table>"
      ],
      "text/plain": [
       "+-------------------------+\n",
       "| count(distinct user_id) |\n",
       "+-------------------------+\n",
       "| 3                       |\n",
       "+-------------------------+"
      ]
     },
     "execution_count": null,
     "metadata": {},
     "output_type": "execute_result"
    }
   ],
   "source": [
    "select count(distinct user_id) from users"
   ]
  },
  {
   "cell_type": "code",
   "execution_count": null,
   "id": "122e113b-20bf-4ccf-91d8-e2db39c838a3",
   "metadata": {},
   "outputs": [
    {
     "data": {
      "text/html": [
       "<table>\n",
       "<tr>\n",
       "<th>contest_id</th>\n",
       "<th>perc</th>\n",
       "</tr>\n",
       "<tr>\n",
       "<td>208</td>\n",
       "<td>100.0</td>\n",
       "</tr>\n",
       "<tr>\n",
       "<td>209</td>\n",
       "<td>100.0</td>\n",
       "</tr>\n",
       "<tr>\n",
       "<td>210</td>\n",
       "<td>100.0</td>\n",
       "</tr>\n",
       "<tr>\n",
       "<td>215</td>\n",
       "<td>66.6666666666667</td>\n",
       "</tr>\n",
       "<tr>\n",
       "<td>207</td>\n",
       "<td>33.3333333333333</td>\n",
       "</tr>\n",
       "</table>"
      ],
      "text/plain": [
       "+------------+------------------+\n",
       "| contest_id | perc             |\n",
       "+------------+------------------+\n",
       "| 208        | 100.0            |\n",
       "+------------+------------------+\n",
       "| 209        | 100.0            |\n",
       "+------------+------------------+\n",
       "| 210        | 100.0            |\n",
       "+------------+------------------+\n",
       "| 215        | 66.6666666666667 |\n",
       "+------------+------------------+\n",
       "| 207        | 33.3333333333333 |\n",
       "+------------+------------------+"
      ]
     },
     "execution_count": null,
     "metadata": {},
     "output_type": "execute_result"
    }
   ],
   "source": [
    "select contest_id, cast(count(*) as real)*100/(select count(distinct user_id) from users) as perc \n",
    "from register group by contest_id\n",
    "order by perc desc, contest_id asc"
   ]
  },
  {
   "cell_type": "code",
   "execution_count": null,
   "id": "1c744a7d-7fc2-4298-b6d4-d297ddd95068",
   "metadata": {},
   "outputs": [],
   "source": []
  }
 ],
 "metadata": {
  "kernelspec": {
   "display_name": "xsqlite",
   "language": "sqlite",
   "name": "xsqlite"
  }
 },
 "nbformat": 4,
 "nbformat_minor": 5
}
