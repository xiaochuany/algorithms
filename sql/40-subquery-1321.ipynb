{
 "cells": [
  {
   "cell_type": "code",
   "execution_count": null,
   "id": "ca85b577-74b5-413b-8aab-d14d3de075d7",
   "metadata": {},
   "outputs": [],
   "source": [
    "%load tutorial.db [rw]"
   ]
  },
  {
   "cell_type": "code",
   "execution_count": null,
   "id": "8b22f6e7-f1f1-4d68-8c17-7bb077e7e95a",
   "metadata": {},
   "outputs": [],
   "source": [
    "Create table If Not Exists Customers (customer_id int, name varchar(20), visited_on date, amount int)"
   ]
  },
  {
   "cell_type": "code",
   "execution_count": null,
   "id": "85926692-2c0d-418f-9331-c1bdd8fbec35",
   "metadata": {},
   "outputs": [],
   "source": [
    "insert into Customers (customer_id, name, visited_on, amount) values ('1', 'Jhon', '2019-01-01', '100')"
   ]
  },
  {
   "cell_type": "code",
   "execution_count": null,
   "id": "c1f9e295-7f0f-4c7c-a233-aecd98ff1ace",
   "metadata": {},
   "outputs": [],
   "source": [
    "insert into Customers (customer_id, name, visited_on, amount) values ('2', 'Daniel', '2019-01-02', '110')"
   ]
  },
  {
   "cell_type": "code",
   "execution_count": null,
   "id": "3b4221c6-da8c-4048-b798-cd3a38511a28",
   "metadata": {},
   "outputs": [],
   "source": [
    "insert into Customers (customer_id, name, visited_on, amount) values ('3', 'Jade', '2019-01-03', '120')"
   ]
  },
  {
   "cell_type": "code",
   "execution_count": null,
   "id": "d4295673-b7c9-4ada-8f6e-3d1273517b21",
   "metadata": {},
   "outputs": [],
   "source": [
    "insert into Customers (customer_id, name, visited_on, amount) values ('4', 'Khaled', '2019-01-04', '130')"
   ]
  },
  {
   "cell_type": "code",
   "execution_count": null,
   "id": "b11e2ac2-e025-42cc-ad09-b5ed3288dbfa",
   "metadata": {},
   "outputs": [],
   "source": [
    "insert into Customers (customer_id, name, visited_on, amount) values ('5', 'Winston', '2019-01-05', '110')"
   ]
  },
  {
   "cell_type": "code",
   "execution_count": null,
   "id": "f52bf582-026c-460c-8978-87f3f5550320",
   "metadata": {},
   "outputs": [],
   "source": [
    "insert into Customers (customer_id, name, visited_on, amount) values ('6', 'Elvis', '2019-01-06', '140')"
   ]
  },
  {
   "cell_type": "code",
   "execution_count": null,
   "id": "f332b27a-2d8b-4384-9b79-eb8b3ceabfcc",
   "metadata": {},
   "outputs": [],
   "source": [
    "insert into Customers (customer_id, name, visited_on, amount) values ('7', 'Anna', '2019-01-07', '150')"
   ]
  },
  {
   "cell_type": "code",
   "execution_count": null,
   "id": "13166195-4cf6-4533-8e22-e81fb9e634e5",
   "metadata": {},
   "outputs": [],
   "source": [
    "insert into Customers (customer_id, name, visited_on, amount) values ('8', 'Maria', '2019-01-08', '80')"
   ]
  },
  {
   "cell_type": "code",
   "execution_count": null,
   "id": "307fd382-9ef2-4ec2-b336-c31a7074a968",
   "metadata": {},
   "outputs": [],
   "source": [
    "insert into Customers (customer_id, name, visited_on, amount) values ('9', 'Jaze', '2019-01-09', '110')"
   ]
  },
  {
   "cell_type": "code",
   "execution_count": null,
   "id": "ba9b2d0f-1cf5-4d80-b3bd-428e4de7d1dc",
   "metadata": {},
   "outputs": [],
   "source": [
    "insert into Customers (customer_id, name, visited_on, amount) values ('1', 'Jhon', '2019-01-10', '130')"
   ]
  },
  {
   "cell_type": "code",
   "execution_count": null,
   "id": "baa70c2e-4dc8-4e93-a281-726ef5dfaa7e",
   "metadata": {},
   "outputs": [],
   "source": [
    "insert into Customers (customer_id, name, visited_on, amount) values ('3', 'Jade', '2019-01-10', '150')"
   ]
  },
  {
   "cell_type": "code",
   "execution_count": null,
   "id": "4256c73b-c479-4178-b302-6e78ed31ca2c",
   "metadata": {},
   "outputs": [
    {
     "data": {
      "text/html": [
       "<table>\n",
       "<tr>\n",
       "<th>customer_id</th>\n",
       "<th>name</th>\n",
       "<th>visited_on</th>\n",
       "<th>amount</th>\n",
       "</tr>\n",
       "<tr>\n",
       "<td>1</td>\n",
       "<td>Jhon</td>\n",
       "<td>2019-01-01</td>\n",
       "<td>100</td>\n",
       "</tr>\n",
       "<tr>\n",
       "<td>2</td>\n",
       "<td>Daniel</td>\n",
       "<td>2019-01-02</td>\n",
       "<td>110</td>\n",
       "</tr>\n",
       "<tr>\n",
       "<td>3</td>\n",
       "<td>Jade</td>\n",
       "<td>2019-01-03</td>\n",
       "<td>120</td>\n",
       "</tr>\n",
       "<tr>\n",
       "<td>4</td>\n",
       "<td>Khaled</td>\n",
       "<td>2019-01-04</td>\n",
       "<td>130</td>\n",
       "</tr>\n",
       "<tr>\n",
       "<td>5</td>\n",
       "<td>Winston</td>\n",
       "<td>2019-01-05</td>\n",
       "<td>110</td>\n",
       "</tr>\n",
       "<tr>\n",
       "<td>6</td>\n",
       "<td>Elvis</td>\n",
       "<td>2019-01-06</td>\n",
       "<td>140</td>\n",
       "</tr>\n",
       "<tr>\n",
       "<td>7</td>\n",
       "<td>Anna</td>\n",
       "<td>2019-01-07</td>\n",
       "<td>150</td>\n",
       "</tr>\n",
       "<tr>\n",
       "<td>8</td>\n",
       "<td>Maria</td>\n",
       "<td>2019-01-08</td>\n",
       "<td>80</td>\n",
       "</tr>\n",
       "<tr>\n",
       "<td>9</td>\n",
       "<td>Jaze</td>\n",
       "<td>2019-01-09</td>\n",
       "<td>110</td>\n",
       "</tr>\n",
       "<tr>\n",
       "<td>1</td>\n",
       "<td>Jhon</td>\n",
       "<td>2019-01-10</td>\n",
       "<td>130</td>\n",
       "</tr>\n",
       "<tr>\n",
       "<td>3</td>\n",
       "<td>Jade</td>\n",
       "<td>2019-01-10</td>\n",
       "<td>150</td>\n",
       "</tr>\n",
       "</table>"
      ],
      "text/plain": [
       "+-------------+---------+------------+--------+\n",
       "| customer_id | name    | visited_on | amount |\n",
       "+-------------+---------+------------+--------+\n",
       "| 1           | Jhon    | 2019-01-01 | 100    |\n",
       "+-------------+---------+------------+--------+\n",
       "| 2           | Daniel  | 2019-01-02 | 110    |\n",
       "+-------------+---------+------------+--------+\n",
       "| 3           | Jade    | 2019-01-03 | 120    |\n",
       "+-------------+---------+------------+--------+\n",
       "| 4           | Khaled  | 2019-01-04 | 130    |\n",
       "+-------------+---------+------------+--------+\n",
       "| 5           | Winston | 2019-01-05 | 110    |\n",
       "+-------------+---------+------------+--------+\n",
       "| 6           | Elvis   | 2019-01-06 | 140    |\n",
       "+-------------+---------+------------+--------+\n",
       "| 7           | Anna    | 2019-01-07 | 150    |\n",
       "+-------------+---------+------------+--------+\n",
       "| 8           | Maria   | 2019-01-08 | 80     |\n",
       "+-------------+---------+------------+--------+\n",
       "| 9           | Jaze    | 2019-01-09 | 110    |\n",
       "+-------------+---------+------------+--------+\n",
       "| 1           | Jhon    | 2019-01-10 | 130    |\n",
       "+-------------+---------+------------+--------+\n",
       "| 3           | Jade    | 2019-01-10 | 150    |\n",
       "+-------------+---------+------------+--------+"
      ]
     },
     "execution_count": null,
     "metadata": {},
     "output_type": "execute_result"
    }
   ],
   "source": [
    "select * from customers"
   ]
  },
  {
   "cell_type": "markdown",
   "id": "362ada16-c44f-4bf2-ac75-453c5bbcd62e",
   "metadata": {},
   "source": [
    "## Compute the moving average of how much the customer paid in a seven days window (i.e., current day + 6 days before). average_amount should be rounded to two decimal places."
   ]
  },
  {
   "cell_type": "code",
   "execution_count": null,
   "id": "d83e1c86-93c9-481b-8755-5a2fb77e9d0f",
   "metadata": {},
   "outputs": [
    {
     "data": {
      "text/html": [
       "<table>\n",
       "<tr>\n",
       "<th>visited_on</th>\n",
       "<th>sum(amount)</th>\n",
       "</tr>\n",
       "<tr>\n",
       "<td>2019-01-01</td>\n",
       "<td>100</td>\n",
       "</tr>\n",
       "<tr>\n",
       "<td>2019-01-02</td>\n",
       "<td>110</td>\n",
       "</tr>\n",
       "<tr>\n",
       "<td>2019-01-03</td>\n",
       "<td>120</td>\n",
       "</tr>\n",
       "<tr>\n",
       "<td>2019-01-04</td>\n",
       "<td>130</td>\n",
       "</tr>\n",
       "<tr>\n",
       "<td>2019-01-05</td>\n",
       "<td>110</td>\n",
       "</tr>\n",
       "<tr>\n",
       "<td>2019-01-06</td>\n",
       "<td>140</td>\n",
       "</tr>\n",
       "<tr>\n",
       "<td>2019-01-07</td>\n",
       "<td>150</td>\n",
       "</tr>\n",
       "<tr>\n",
       "<td>2019-01-08</td>\n",
       "<td>80</td>\n",
       "</tr>\n",
       "<tr>\n",
       "<td>2019-01-09</td>\n",
       "<td>110</td>\n",
       "</tr>\n",
       "<tr>\n",
       "<td>2019-01-10</td>\n",
       "<td>280</td>\n",
       "</tr>\n",
       "</table>"
      ],
      "text/plain": [
       "+------------+-------------+\n",
       "| visited_on | sum(amount) |\n",
       "+------------+-------------+\n",
       "| 2019-01-01 | 100         |\n",
       "+------------+-------------+\n",
       "| 2019-01-02 | 110         |\n",
       "+------------+-------------+\n",
       "| 2019-01-03 | 120         |\n",
       "+------------+-------------+\n",
       "| 2019-01-04 | 130         |\n",
       "+------------+-------------+\n",
       "| 2019-01-05 | 110         |\n",
       "+------------+-------------+\n",
       "| 2019-01-06 | 140         |\n",
       "+------------+-------------+\n",
       "| 2019-01-07 | 150         |\n",
       "+------------+-------------+\n",
       "| 2019-01-08 | 80          |\n",
       "+------------+-------------+\n",
       "| 2019-01-09 | 110         |\n",
       "+------------+-------------+\n",
       "| 2019-01-10 | 280         |\n",
       "+------------+-------------+"
      ]
     },
     "execution_count": null,
     "metadata": {},
     "output_type": "execute_result"
    }
   ],
   "source": [
    "select visited_on, sum(amount) from customers group by visited_on"
   ]
  },
  {
   "cell_type": "code",
   "execution_count": null,
   "id": "79418624-ad98-4acf-9540-dc49f6648a7e",
   "metadata": {},
   "outputs": [
    {
     "data": {
      "text/html": [
       "<table>\n",
       "<tr>\n",
       "<th>visited_on</th>\n",
       "<th>cumsum</th>\n",
       "</tr>\n",
       "<tr>\n",
       "<td>2019-01-01</td>\n",
       "<td>100</td>\n",
       "</tr>\n",
       "<tr>\n",
       "<td>2019-01-02</td>\n",
       "<td>210</td>\n",
       "</tr>\n",
       "<tr>\n",
       "<td>2019-01-03</td>\n",
       "<td>330</td>\n",
       "</tr>\n",
       "<tr>\n",
       "<td>2019-01-04</td>\n",
       "<td>460</td>\n",
       "</tr>\n",
       "<tr>\n",
       "<td>2019-01-05</td>\n",
       "<td>570</td>\n",
       "</tr>\n",
       "<tr>\n",
       "<td>2019-01-06</td>\n",
       "<td>710</td>\n",
       "</tr>\n",
       "<tr>\n",
       "<td>2019-01-07</td>\n",
       "<td>860</td>\n",
       "</tr>\n",
       "<tr>\n",
       "<td>2019-01-08</td>\n",
       "<td>940</td>\n",
       "</tr>\n",
       "<tr>\n",
       "<td>2019-01-09</td>\n",
       "<td>1050</td>\n",
       "</tr>\n",
       "<tr>\n",
       "<td>2019-01-10</td>\n",
       "<td>1330</td>\n",
       "</tr>\n",
       "</table>"
      ],
      "text/plain": [
       "+------------+--------+\n",
       "| visited_on | cumsum |\n",
       "+------------+--------+\n",
       "| 2019-01-01 | 100    |\n",
       "+------------+--------+\n",
       "| 2019-01-02 | 210    |\n",
       "+------------+--------+\n",
       "| 2019-01-03 | 330    |\n",
       "+------------+--------+\n",
       "| 2019-01-04 | 460    |\n",
       "+------------+--------+\n",
       "| 2019-01-05 | 570    |\n",
       "+------------+--------+\n",
       "| 2019-01-06 | 710    |\n",
       "+------------+--------+\n",
       "| 2019-01-07 | 860    |\n",
       "+------------+--------+\n",
       "| 2019-01-08 | 940    |\n",
       "+------------+--------+\n",
       "| 2019-01-09 | 1050   |\n",
       "+------------+--------+\n",
       "| 2019-01-10 | 1330   |\n",
       "+------------+--------+"
      ]
     },
     "execution_count": null,
     "metadata": {},
     "output_type": "execute_result"
    }
   ],
   "source": [
    "select visited_on, sum(amount) over (order by visited_on) cumsum\n",
    "    from (select visited_on, sum(amount) amount from customers group by visited_on)"
   ]
  },
  {
   "cell_type": "code",
   "execution_count": null,
   "id": "7726ac83-5b4a-4ea6-9aed-f466867f40b2",
   "metadata": {},
   "outputs": [
    {
     "data": {
      "text/html": [
       "<table>\n",
       "<tr>\n",
       "<th>visited_on</th>\n",
       "<th>cumsum</th>\n",
       "</tr>\n",
       "<tr>\n",
       "<td>2018-12-31</td>\n",
       "<td>0</td>\n",
       "</tr>\n",
       "<tr>\n",
       "<td>2019-01-01</td>\n",
       "<td>100</td>\n",
       "</tr>\n",
       "<tr>\n",
       "<td>2019-01-02</td>\n",
       "<td>210</td>\n",
       "</tr>\n",
       "<tr>\n",
       "<td>2019-01-03</td>\n",
       "<td>330</td>\n",
       "</tr>\n",
       "<tr>\n",
       "<td>2019-01-04</td>\n",
       "<td>460</td>\n",
       "</tr>\n",
       "<tr>\n",
       "<td>2019-01-05</td>\n",
       "<td>570</td>\n",
       "</tr>\n",
       "<tr>\n",
       "<td>2019-01-06</td>\n",
       "<td>710</td>\n",
       "</tr>\n",
       "<tr>\n",
       "<td>2019-01-07</td>\n",
       "<td>860</td>\n",
       "</tr>\n",
       "<tr>\n",
       "<td>2019-01-08</td>\n",
       "<td>940</td>\n",
       "</tr>\n",
       "<tr>\n",
       "<td>2019-01-09</td>\n",
       "<td>1050</td>\n",
       "</tr>\n",
       "<tr>\n",
       "<td>2019-01-10</td>\n",
       "<td>1330</td>\n",
       "</tr>\n",
       "</table>"
      ],
      "text/plain": [
       "+------------+--------+\n",
       "| visited_on | cumsum |\n",
       "+------------+--------+\n",
       "| 2018-12-31 | 0      |\n",
       "+------------+--------+\n",
       "| 2019-01-01 | 100    |\n",
       "+------------+--------+\n",
       "| 2019-01-02 | 210    |\n",
       "+------------+--------+\n",
       "| 2019-01-03 | 330    |\n",
       "+------------+--------+\n",
       "| 2019-01-04 | 460    |\n",
       "+------------+--------+\n",
       "| 2019-01-05 | 570    |\n",
       "+------------+--------+\n",
       "| 2019-01-06 | 710    |\n",
       "+------------+--------+\n",
       "| 2019-01-07 | 860    |\n",
       "+------------+--------+\n",
       "| 2019-01-08 | 940    |\n",
       "+------------+--------+\n",
       "| 2019-01-09 | 1050   |\n",
       "+------------+--------+\n",
       "| 2019-01-10 | 1330   |\n",
       "+------------+--------+"
      ]
     },
     "execution_count": null,
     "metadata": {},
     "output_type": "execute_result"
    }
   ],
   "source": [
    "select date(min(visited_on),'-1 day') as visited_on, 0 as cumsum from customers\n",
    "    union\n",
    "select visited_on, sum(amount) over (order by visited_on) cumsum\n",
    "    from (select visited_on, sum(amount) amount from customers group by visited_on)"
   ]
  },
  {
   "cell_type": "code",
   "execution_count": null,
   "id": "10d3b437-918f-4f94-9ef2-ea39cfb6a776",
   "metadata": {},
   "outputs": [
    {
     "data": {
      "text/html": [
       "<table>\n",
       "<tr>\n",
       "<th>visited_on</th>\n",
       "<th>amount</th>\n",
       "<th>average_amount</th>\n",
       "</tr>\n",
       "<tr>\n",
       "<td>2019-01-07</td>\n",
       "<td>860</td>\n",
       "<td>122.86</td>\n",
       "</tr>\n",
       "<tr>\n",
       "<td>2019-01-08</td>\n",
       "<td>840</td>\n",
       "<td>120.0</td>\n",
       "</tr>\n",
       "<tr>\n",
       "<td>2019-01-09</td>\n",
       "<td>840</td>\n",
       "<td>120.0</td>\n",
       "</tr>\n",
       "<tr>\n",
       "<td>2019-01-10</td>\n",
       "<td>1000</td>\n",
       "<td>142.86</td>\n",
       "</tr>\n",
       "</table>"
      ],
      "text/plain": [
       "+------------+--------+----------------+\n",
       "| visited_on | amount | average_amount |\n",
       "+------------+--------+----------------+\n",
       "| 2019-01-07 | 860    | 122.86         |\n",
       "+------------+--------+----------------+\n",
       "| 2019-01-08 | 840    | 120.0          |\n",
       "+------------+--------+----------------+\n",
       "| 2019-01-09 | 840    | 120.0          |\n",
       "+------------+--------+----------------+\n",
       "| 2019-01-10 | 1000   | 142.86         |\n",
       "+------------+--------+----------------+"
      ]
     },
     "execution_count": null,
     "metadata": {},
     "output_type": "execute_result"
    }
   ],
   "source": [
    "with t as (\n",
    "    select date(min(visited_on),'-1 day') as visited_on, 0 as cumsum from customers\n",
    "    union\n",
    "    select visited_on, sum(amount) over (order by visited_on) cumsum\n",
    "    from (select visited_on, sum(amount) amount from customers group by visited_on)\n",
    ")\n",
    "\n",
    "select t1.visited_on, (t1.cumsum-t2.cumsum) amount, round(1.*(t1.cumsum-t2.cumsum)/7,2) average_amount\n",
    "    from t t1 join t t2 on t1.visited_on=date(t2.visited_on,'+7 days') "
   ]
  },
  {
   "cell_type": "code",
   "execution_count": null,
   "id": "556c99fd-9d22-4094-9d52-e7239029a1b5",
   "metadata": {},
   "outputs": [],
   "source": []
  }
 ],
 "metadata": {
  "kernelspec": {
   "display_name": "xsqlite",
   "language": "sqlite",
   "name": "xsqlite"
  }
 },
 "nbformat": 4,
 "nbformat_minor": 5
}
