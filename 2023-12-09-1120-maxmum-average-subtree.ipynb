{
 "cells": [
  {
   "cell_type": "code",
   "execution_count": 1,
   "id": "7b8e9151-5b60-47a9-bdfb-79437dab3963",
   "metadata": {},
   "outputs": [],
   "source": [
    "import pdb\n",
    "from typing import *"
   ]
  },
  {
   "cell_type": "code",
   "execution_count": 2,
   "id": "35920529-edf2-4560-be54-ed7a8b1c3a44",
   "metadata": {},
   "outputs": [],
   "source": [
    "class TreeNode:\n",
    "    def __init__(self, val=0, left=None, right=None):\n",
    "        self.val = val\n",
    "        self.left = left\n",
    "        self.right = right\n",
    "\n",
    "def maximumAverageSubtree(root: Optional[TreeNode]) -> float:\n",
    "        ma = -1\n",
    "        \n",
    "        def max_avg(s):\n",
    "            if s is None: return 0, 0\n",
    "            sum_left, cnt_left = max_avg(s.left)\n",
    "            sum_right, cnt_right = max_avg(s.right)\n",
    "            sum_total, cnt_total = sum_left+sum_right+s.val, cnt_left+cnt_right+1\n",
    "            nonlocal ma  # since int is immutable, nonlocal keyword is necessary, otherwise got \"referenced before assignmemt' error\n",
    "            ma = max(ma, sum_total/cnt_total)\n",
    "            return sum_total, cnt_total\n",
    "        \n",
    "        max_avg(root)\n",
    "        return ma"
   ]
  }
 ],
 "metadata": {
  "kernelspec": {
   "display_name": "Python 3 (ipykernel)",
   "language": "python",
   "name": "python3"
  },
  "language_info": {
   "codemirror_mode": {
    "name": "ipython",
    "version": 3
   },
   "file_extension": ".py",
   "mimetype": "text/x-python",
   "name": "python",
   "nbconvert_exporter": "python",
   "pygments_lexer": "ipython3",
   "version": "3.10.12"
  }
 },
 "nbformat": 4,
 "nbformat_minor": 5
}
