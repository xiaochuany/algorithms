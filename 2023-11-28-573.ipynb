{
 "cells": [
  {
   "cell_type": "code",
   "execution_count": 1,
   "id": "8b686101-e542-4602-b252-8fdfea4398bb",
   "metadata": {},
   "outputs": [],
   "source": [
    "from typing import *\n",
    "\n",
    "def minDistance(height: int, width: int, tree: List[int], squirrel: List[int], nuts: List[List[int]]) -> int:\n",
    "    minimum=float('inf')\n",
    "    idx, dt,ds = [None]*3 # store idx of the \"optimal\" nut and its distance to the tree and the sqr\n",
    "    res = 0\n",
    "    for i, (nx,ny) in enumerate(nuts):\n",
    "        d2tree = (abs(nx-tree[0]) + abs(ny-tree[1]))\n",
    "        d2sqr= abs(squirrel[0]-nx) + abs(squirrel[1]-ny)\n",
    "        res += d2tree*2\n",
    "        if d2sqr-d2tree<minimum: minimum=d2sqr-d2tree; idx=i; dt=d2tree; ds=d2sqr\n",
    "    return res-dt+ds # we want this to be as small as possible, so (ds-dt) as small as possible, hence the 'if' logic above"
   ]
  },
  {
   "cell_type": "code",
   "execution_count": 2,
   "id": "09839b44-7b98-41a9-be6e-82b8c28d23c2",
   "metadata": {},
   "outputs": [],
   "source": [
    "def test():\n",
    "    assert minDistance(5, 7, [2, 2], [4, 4], [[3, 0], [2, 5]]) == 12\n",
    "    assert minDistance(5, 5, [3, 2], [0, 1],\n",
    "                       [[2, 0], [4, 1], [0, 4], [1, 3], [1, 0],\n",
    "                        [3, 4], [3, 0], [2, 3], [0, 2], [0, 0],\n",
    "                        [2, 2], [4, 2], [3, 3], [4, 4], [4, 0],\n",
    "                        [4, 3], [3, 1], [2, 1], [1, 4], [2, 4]]) == 100\n",
    "    assert minDistance(7, 6, [5, 4], [3, 4],\n",
    "                       [[1, 4], [3, 0], [5, 0], [6, 1], [1, 3],\n",
    "                        [1, 1], [0, 3], [2, 2], [6, 3], [4, 1],\n",
    "                        [2, 4], [2, 1], [1, 0], [3, 2], [4, 2],\n",
    "                        [2, 5], [0, 2], [1, 2], [3, 3], [6, 2],\n",
    "                        [2, 0], [5, 1], [4, 5], [5, 2], [0, 1],\n",
    "                        [4, 0], [5, 3], [3, 5], [0, 5], [6, 4],\n",
    "                        [5, 5], [2, 3], [3, 1], [4, 4], [4, 3]]) == 288\n",
    "\n",
    "test()"
   ]
  }
 ],
 "metadata": {
  "kernelspec": {
   "display_name": "Python 3 (ipykernel)",
   "language": "python",
   "name": "python3"
  },
  "language_info": {
   "codemirror_mode": {
    "name": "ipython",
    "version": 3
   },
   "file_extension": ".py",
   "mimetype": "text/x-python",
   "name": "python",
   "nbconvert_exporter": "python",
   "pygments_lexer": "ipython3",
   "version": "3.10.12"
  }
 },
 "nbformat": 4,
 "nbformat_minor": 5
}
