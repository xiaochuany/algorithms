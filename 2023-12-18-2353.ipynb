{
 "cells": [
  {
   "cell_type": "code",
   "execution_count": null,
   "id": "1fb9afd2-72a5-4fe4-a0ee-5eb2b3b2fd44",
   "metadata": {},
   "outputs": [],
   "source": [
    "from heapq import *\n",
    "from typing import *\n",
    "from collections import defaultdict\n",
    "from dataclasses import dataclass"
   ]
  },
  {
   "cell_type": "markdown",
   "id": "e44372c3-319f-4dd4-aec9-4e0ff732a750",
   "metadata": {},
   "source": [
    "a heap queue is a dynamic list interface where the 0th position is maintained to be the mininum.  "
   ]
  },
  {
   "cell_type": "code",
   "execution_count": null,
   "id": "669404f0-644c-408c-9c88-7c9872d4447e",
   "metadata": {},
   "outputs": [
    {
     "name": "stdout",
     "output_type": "stream",
     "text": [
      "[0, 2, 1, 2, 4, 5]\n",
      "[-1, 2, 0, 2, 4, 5, 1]\n",
      "-1\n",
      "[0, 2, 1, 2, 4, 5]\n"
     ]
    }
   ],
   "source": [
    "a = [2,4,5,2,0,1]\n",
    "heapify(a) # linear time\n",
    "print(a)\n",
    "heappush(a,-1) # log n \n",
    "print(a)\n",
    "print(heappop(a)) # log n\n",
    "print(a)"
   ]
  },
  {
   "cell_type": "code",
   "execution_count": null,
   "id": "65101311-4fa4-4f5d-b090-fe9e8589edc1",
   "metadata": {},
   "outputs": [],
   "source": [
    "@dataclass\n",
    "class Food:\n",
    "    name:str\n",
    "    rating:int\n",
    "    def __lt__(self,other): return (-self.rating, self.name)<(-other.rating, other.name)"
   ]
  },
  {
   "cell_type": "code",
   "execution_count": null,
   "id": "64e867df-9687-4f1a-8431-76b3069e1a81",
   "metadata": {},
   "outputs": [],
   "source": [
    "assert Food('a', 12) < Food('z', 12) # if same rating then lexicographical order\n",
    "assert Food('a', 12) < Food('a', 10) # higher rating listed first in the heap"
   ]
  },
  {
   "cell_type": "code",
   "execution_count": null,
   "id": "641410de-136b-41c6-9d35-af85f130343d",
   "metadata": {},
   "outputs": [],
   "source": [
    "class FoodRatings:\n",
    "\n",
    "    def __init__(self, foods: List[str], cuisines: List[str], ratings: List[int]):\n",
    "        self.C = self.build(foods, cuisines, ratings)\n",
    "        self.f2c = {f:c for f,c in zip(foods,cuisines)}\n",
    "        self.f2r = {f:r for f,r in zip(foods,ratings)}\n",
    "\n",
    "    def changeRating(self, food: str, newRating: int) -> None:\n",
    "        self.f2r[food]=newRating\n",
    "        heappush(self.C[self.f2c[food]], Food(food,newRating))\n",
    "        \n",
    "    def highestRated(self, cuisine: str) -> str:\n",
    "        while self.f2r[self.C[cuisine][0].name]!= self.C[cuisine][0].rating: heappop(self.C[cuisine])\n",
    "        return self.C[cuisine][0].name\n",
    "\n",
    "    def build(self,foods,cuisines,ratings):\n",
    "        C = defaultdict(list)\n",
    "        for f,c,r in zip(foods,cuisines,ratings):\n",
    "            heappush(C[c],Food(f,r))\n",
    "        return C"
   ]
  },
  {
   "cell_type": "code",
   "execution_count": null,
   "id": "c2ffe3da-bdad-4113-8129-83a1b36697fc",
   "metadata": {},
   "outputs": [],
   "source": [
    "fr=FoodRatings(*[\n",
    "    [\"A1\",\"A2\",\"A3\",\"B1\",\"B2\"],\n",
    "    [\"A\",\"A\",\"A\",\"B\",\"B\"],\n",
    "    [2,6,18,6,5]\n",
    "])\n",
    "assert fr.highestRated('A') == 'A3'\n",
    "fr.changeRating('A3',6)\n",
    "assert fr.highestRated('A')=='A2'\n",
    "assert fr.highestRated('B')=='B1'\n",
    "fr.changeRating('B2',10)\n",
    "assert fr.highestRated('B') == 'B2'"
   ]
  },
  {
   "cell_type": "code",
   "execution_count": null,
   "id": "eb8ce68f-5b28-411a-83ea-9d189321f81b",
   "metadata": {},
   "outputs": [],
   "source": []
  }
 ],
 "metadata": {
  "kernelspec": {
   "display_name": "python3",
   "language": "python",
   "name": "python3"
  }
 },
 "nbformat": 4,
 "nbformat_minor": 5
}
