{
 "cells": [
  {
   "cell_type": "code",
   "execution_count": null,
   "id": "e9e01c5b-54d5-4bcd-b598-064166c7c52b",
   "metadata": {},
   "outputs": [],
   "source": [
    "from dataclasses import dataclass\n",
    "\n",
    "import torch\n",
    "import torch.nn as nn\n",
    "import torch.nn.functional as F\n",
    "from torch.utils.data import Dataset, DataLoader "
   ]
  },
  {
   "cell_type": "code",
   "execution_count": null,
   "id": "2330852c-31ec-4a26-a4e9-1bb47fc7382b",
   "metadata": {},
   "outputs": [],
   "source": [
    "class Regression(nn.Module):\n",
    "    def __init__(self, config):\n",
    "        super().__init__()\n",
    "        self.n_in = config.n_in\n",
    "        self.n_out = config.n_out\n",
    "        self.lin = nn.Linear(self.n_in,self.n_out)\n",
    "\n",
    "    def forward(self,X,Y=None):\n",
    "        out = self.lin(X)\n",
    "        if Y is not None:\n",
    "            loss = torch.mean(torch.sum( (out-Y)**2,dim=-1) )\n",
    "        else: \n",
    "            loss = None\n",
    "        return out, loss"
   ]
  },
  {
   "cell_type": "code",
   "execution_count": null,
   "id": "bb3d9e49-0451-44e9-88be-42b4472424f5",
   "metadata": {},
   "outputs": [],
   "source": [
    "@dataclass\n",
    "class Config():\n",
    "    n_in: int = 4\n",
    "    n_out: int = 6\n",
    "    N: int = 10"
   ]
  },
  {
   "cell_type": "code",
   "execution_count": null,
   "id": "1f9949d7-2fbb-4fef-955c-efc585d429b3",
   "metadata": {},
   "outputs": [],
   "source": [
    "class TensorData(Dataset):\n",
    "    def __init__(self, X,Y=None):\n",
    "        super().__init__()\n",
    "        self.X = X\n",
    "        self.Y = Y\n",
    "\n",
    "    def __len__(self):\n",
    "        if self.Y is not None:\n",
    "            assert self.X.size(0)==self.Y.size(0), 'number of input does not match number of output'\n",
    "        return self.X.size(0)\n",
    "\n",
    "    def __getitem__(self,idx):\n",
    "        if self.Y is not None: \n",
    "            return self.X[idx], self.Y[idx]\n",
    "        else: \n",
    "            return self.X[idx]"
   ]
  },
  {
   "cell_type": "code",
   "execution_count": null,
   "id": "5d894284-f3dc-446c-9ad1-65e813f0629a",
   "metadata": {},
   "outputs": [],
   "source": [
    "config = Config()\n",
    "reg = Regression(config)\n",
    "dataset = TensorData(torch.randn(config.N, config.n_in), torch.randn(config.N,config.n_out))\n",
    "dataloader = DataLoader(dataset,batch_size=2, shuffle=True)\n",
    "optimizer = torch.optim.SGD(reg.parameters(), lr=0.001, momentum=0.9)"
   ]
  },
  {
   "cell_type": "code",
   "execution_count": null,
   "id": "13874853-0f1a-4650-a4a4-0338ebe1a462",
   "metadata": {},
   "outputs": [
    {
     "name": "stdout",
     "output_type": "stream",
     "text": [
      "5.8237\n",
      "13.6167\n",
      "9.5706\n",
      "10.6715\n",
      "9.8730\n"
     ]
    }
   ],
   "source": [
    "for i, batch in enumerate(dataloader):\n",
    "    X,Y = batch\n",
    "    optimizer.zero_grad()\n",
    "    pred, loss = reg(X,Y)\n",
    "    loss.backward()\n",
    "    optimizer.step()\n",
    "    print(f'{loss.item():.4f}')"
   ]
  },
  {
   "cell_type": "code",
   "execution_count": null,
   "id": "d1ce4db6-9b66-45a9-9092-46dc99320db6",
   "metadata": {},
   "outputs": [],
   "source": []
  },
  {
   "cell_type": "code",
   "execution_count": null,
   "id": "fb740498-f4e1-42bb-aa19-f9d570d38f63",
   "metadata": {},
   "outputs": [],
   "source": []
  }
 ],
 "metadata": {
  "kernelspec": {
   "display_name": "python3",
   "language": "python",
   "name": "python3"
  }
 },
 "nbformat": 4,
 "nbformat_minor": 5
}
