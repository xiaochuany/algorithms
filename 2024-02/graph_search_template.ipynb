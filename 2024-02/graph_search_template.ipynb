{
 "cells": [
  {
   "cell_type": "markdown",
   "id": "22c54659-6be0-4868-a010-fe1ee780a205",
   "metadata": {},
   "source": [
    "## reference: MIT 6.006\n",
    "[recording on BFS](https://www.youtube.com/watch?v=s-CYnVz-uh4&list=PLUl4u3cNGP61Oq3tWYp6V_F-5jb5L2iHb&index=13)  \n",
    "[recording on DFS](https://www.youtube.com/watch?v=AfSk24UTFS8&t=629s)\n"
   ]
  },
  {
   "cell_type": "code",
   "execution_count": null,
   "id": "78852ce1-10e1-4c9f-9f90-e64437e868bc",
   "metadata": {},
   "outputs": [],
   "source": [
    "def bfs(adj,s):\n",
    "    level={s:0}\n",
    "    parent={s:None}\n",
    "    i=1\n",
    "    frontier=[s] # level i-1\n",
    "    while frontier: \n",
    "        next=[] # level i\n",
    "        for u in frontier:\n",
    "            for v in adj[u]:\n",
    "                if v not in level:\n",
    "                    level[v]=i\n",
    "                    parent[v]=u\n",
    "                    next.append(v)\n",
    "        frontier=next\n",
    "        i+=1\n",
    "    return parent"
   ]
  },
  {
   "cell_type": "code",
   "execution_count": null,
   "id": "790bd90d-8cbc-472c-b337-e9329a31585d",
   "metadata": {},
   "outputs": [],
   "source": [
    "def shortest_path(adj,s,t):\n",
    "    parent = bfs(adj,s)\n",
    "    if t not in parent:\n",
    "        return \n",
    "    path = [t]\n",
    "    i=t\n",
    "    while i!=s:\n",
    "        i=parent[i]\n",
    "        path.append(i)\n",
    "    return path[::-1]"
   ]
  },
  {
   "cell_type": "code",
   "execution_count": null,
   "id": "4e9d49cf-5f3e-41be-b350-f44c7b9eb07c",
   "metadata": {},
   "outputs": [
    {
     "data": {
      "text/plain": [
       "{0: None, 1: 0, 2: 0, 3: 2}"
      ]
     },
     "execution_count": null,
     "metadata": {},
     "output_type": "execute_result"
    }
   ],
   "source": [
    "s = 0\n",
    "adj = {0:{1,2}, 1:{2,0},2:{3,1},3:{2}}\n",
    "bfs(adj,s)"
   ]
  },
  {
   "cell_type": "code",
   "execution_count": null,
   "id": "0991a81a-82d5-4c1d-98e3-0845a1160fce",
   "metadata": {},
   "outputs": [
    {
     "data": {
      "text/plain": [
       "[0, 2, 3]"
      ]
     },
     "execution_count": null,
     "metadata": {},
     "output_type": "execute_result"
    }
   ],
   "source": [
    "shortest_path(adj,0,3)"
   ]
  },
  {
   "cell_type": "code",
   "execution_count": 7,
   "id": "8d19bd14",
   "metadata": {},
   "outputs": [],
   "source": [
    "def full_dfs(adj:dict[int,list]):\n",
    "    def dfs(adj, s):\n",
    "        for v in adj[s]:\n",
    "            if v not in parent:\n",
    "                parent[v]=s\n",
    "                dfs(adj,v)\n",
    "                topo.append(v)\n",
    "    parent={}\n",
    "    topo = []\n",
    "    for s in adj:\n",
    "        if s not in parent:\n",
    "            parent[s]=None\n",
    "            dfs(adj,s)\n",
    "            topo.append(s)\n",
    "    return parent, topo[::-1]"
   ]
  },
  {
   "cell_type": "code",
   "execution_count": 8,
   "id": "4ad05ee4",
   "metadata": {},
   "outputs": [
    {
     "data": {
      "text/plain": [
       "({1: None, 2: 1, 3: 2, 4: 3, 5: 3}, [1, 2, 3, 5, 4])"
      ]
     },
     "execution_count": 8,
     "metadata": {},
     "output_type": "execute_result"
    }
   ],
   "source": [
    "full_dfs({1:[2,3], 2:[3], 3:[4,5,1], 4:[], 5:[]})"
   ]
  },
  {
   "cell_type": "code",
   "execution_count": null,
   "id": "eb77fd14-fe63-41cd-8b7d-cf4ceeb2b90b",
   "metadata": {},
   "outputs": [],
   "source": []
  }
 ],
 "metadata": {
  "kernelspec": {
   "display_name": "python3",
   "language": "python",
   "name": "python3"
  },
  "language_info": {
   "codemirror_mode": {
    "name": "ipython",
    "version": 3
   },
   "file_extension": ".py",
   "mimetype": "text/x-python",
   "name": "python",
   "nbconvert_exporter": "python",
   "pygments_lexer": "ipython3",
   "version": "3.10.12"
  }
 },
 "nbformat": 4,
 "nbformat_minor": 5
}
