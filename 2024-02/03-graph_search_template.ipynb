{
 "cells": [
  {
   "cell_type": "markdown",
   "id": "22c54659-6be0-4868-a010-fe1ee780a205",
   "metadata": {},
   "source": [
    "## reference: MIT 6.006\n",
    "[recording of the section BFS](https://www.youtube.com/watch?v=s-CYnVz-uh4&list=PLUl4u3cNGP61Oq3tWYp6V_F-5jb5L2iHb&index=13)"
   ]
  },
  {
   "cell_type": "code",
   "execution_count": null,
   "id": "78852ce1-10e1-4c9f-9f90-e64437e868bc",
   "metadata": {},
   "outputs": [],
   "source": [
    "def bfs(adj,s):\n",
    "    level={s:0}\n",
    "    parent={s:None}\n",
    "    i=1\n",
    "    frontier=[s] # level i-1\n",
    "    while frontier: \n",
    "        next=[] # level i\n",
    "        for u in frontier:\n",
    "            for v in adj[u]:\n",
    "                if v not in level:\n",
    "                    level[v]=i\n",
    "                    parent[v]=u\n",
    "                    next.append(v)\n",
    "        frontier=next\n",
    "        i+=1\n",
    "    return parent"
   ]
  },
  {
   "cell_type": "code",
   "execution_count": null,
   "id": "790bd90d-8cbc-472c-b337-e9329a31585d",
   "metadata": {},
   "outputs": [],
   "source": [
    "def shortest_path(adj,s,t):\n",
    "    parent = bfs(adj,s)\n",
    "    if t not in parent:\n",
    "        return \n",
    "    path = [t]\n",
    "    i=t\n",
    "    while i!=s:\n",
    "        i=parent[i]\n",
    "        path.append(i)\n",
    "    return path[::-1]"
   ]
  },
  {
   "cell_type": "code",
   "execution_count": null,
   "id": "4e9d49cf-5f3e-41be-b350-f44c7b9eb07c",
   "metadata": {},
   "outputs": [
    {
     "data": {
      "text/plain": [
       "{0: None, 1: 0, 2: 0, 3: 2}"
      ]
     },
     "execution_count": null,
     "metadata": {},
     "output_type": "execute_result"
    }
   ],
   "source": [
    "s = 0\n",
    "adj = {0:{1,2}, 1:{2,0},2:{3,1},3:{2}}\n",
    "bfs(adj,s)"
   ]
  },
  {
   "cell_type": "code",
   "execution_count": null,
   "id": "0991a81a-82d5-4c1d-98e3-0845a1160fce",
   "metadata": {},
   "outputs": [
    {
     "data": {
      "text/plain": [
       "[0, 2, 3]"
      ]
     },
     "execution_count": null,
     "metadata": {},
     "output_type": "execute_result"
    }
   ],
   "source": [
    "shortest_path(adj,0,3)"
   ]
  },
  {
   "cell_type": "code",
   "execution_count": null,
   "id": "453e96ae-13d4-4b82-a5ec-370c997d4e05",
   "metadata": {},
   "outputs": [],
   "source": [
    "def dfs(adj,s,parent=None,order=None):\n",
    "    if parent is None: \n",
    "        parent = {v:None for v in adj}\n",
    "        parent[s]=s\n",
    "        order =[]\n",
    "    for v in adj[s]:\n",
    "        if parent[v] is None:\n",
    "            parent[v]=s\n",
    "            dfs(adj,v,parent,order)\n",
    "    order.append(s)\n",
    "    return parent, order"
   ]
  },
  {
   "cell_type": "code",
   "execution_count": null,
   "id": "0d6e935b-4c68-40be-bbae-6b349ea2131f",
   "metadata": {},
   "outputs": [
    {
     "data": {
      "text/plain": [
       "({0: 0, 1: 0, 2: 1, 3: None}, [2, 1, 0])"
      ]
     },
     "execution_count": null,
     "metadata": {},
     "output_type": "execute_result"
    }
   ],
   "source": [
    "dfs(adj,s)"
   ]
  },
  {
   "cell_type": "code",
   "execution_count": null,
   "id": "3272e291-9a3e-4114-a4c1-7daa37879d24",
   "metadata": {},
   "outputs": [],
   "source": [
    "def full_dfs(adj):\n",
    "    parent = {v:None for v in adj}\n",
    "    order = []\n",
    "    for v in range(len(adj)):\n",
    "        if parent[v] is None:\n",
    "            parent[v]=v\n",
    "            dfs(adj,v,parent,order)\n",
    "    return parent, order"
   ]
  },
  {
   "cell_type": "code",
   "execution_count": null,
   "id": "2b5462f6-7b21-46c4-a97f-e0460b924244",
   "metadata": {},
   "outputs": [
    {
     "data": {
      "text/plain": [
       "({0: 0, 1: 0, 2: 1, 3: 3}, [2, 1, 0, 3])"
      ]
     },
     "execution_count": null,
     "metadata": {},
     "output_type": "execute_result"
    }
   ],
   "source": [
    "full_dfs(adj)"
   ]
  },
  {
   "cell_type": "code",
   "execution_count": null,
   "id": "eb77fd14-fe63-41cd-8b7d-cf4ceeb2b90b",
   "metadata": {},
   "outputs": [],
   "source": []
  }
 ],
 "metadata": {
  "kernelspec": {
   "display_name": "python3",
   "language": "python",
   "name": "python3"
  }
 },
 "nbformat": 4,
 "nbformat_minor": 5
}
