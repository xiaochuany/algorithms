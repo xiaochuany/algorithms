{
 "cells": [
  {
   "cell_type": "code",
   "execution_count": 1,
   "id": "3536ab5a-0f97-435f-a846-32ea2e0eb1af",
   "metadata": {},
   "outputs": [],
   "source": [
    "from typing import *\n",
    "\n",
    "def maxDistance(arrays: List[List[int]]) -> int:\n",
    "        # max\n",
    "        highs = [arr[-1] for arr in arrays]\n",
    "        cnt = Counter(highs)\n",
    "        cnt_sort = sorted(cnt.items(),reverse=True)\n",
    "        idx = highs.index(cnt_sort[0][0])\n",
    "        maxx = [None]*len(arrays)\n",
    "        if cnt_sort[0][1]>1:\n",
    "            maxx = [cnt_sort[0][0]]*len(arrays)\n",
    "        else:        \n",
    "            for i in range(len(arrays)):\n",
    "                if i != idx: maxx[i]=cnt_sort[0][0]  # largest on all but idx\n",
    "                else:  maxx[i]=cnt_sort[1][0]  # second largest on spot idx\n",
    "        # min\n",
    "        lows = [arr[0] for arr in arrays]\n",
    "        cnt = Counter(lows)\n",
    "        cnt_sort = sorted(cnt.items())   \n",
    "        idx = lows.index(cnt_sort[0][0]) \n",
    "        minx = [None]*len(arrays)\n",
    "        if cnt_sort[0][1]>1:\n",
    "            minx = [cnt_sort[0][0]]*len(arrays)\n",
    "        else: \n",
    "            for i in range(len(arrays)):\n",
    "                if i != idx: minx[i]=cnt_sort[0][0] # smallest on all but idx\n",
    "                else:  minx[i]=cnt_sort[1][0] # second smallest on spot idx\n",
    "        # compute extreme\n",
    "        a = max([mx-lo for mx, lo in zip(maxx,lows)])\n",
    "        b = max([hi-mi for mi, hi in zip(minx,highs)])\n",
    "        return max(a,b)"
   ]
  },
  {
   "cell_type": "code",
   "execution_count": 2,
   "id": "c1e25525-2c37-43bd-a833-7cd192005c54",
   "metadata": {},
   "outputs": [],
   "source": [
    "def test():\n",
    "    assert maxDistance([[1,2], [6,7]])==6\n",
    "    assert maxDistance([[2,2,2,2,2,2,2], [2]])==0\n",
    "\n",
    "test()"
   ]
  }
 ],
 "metadata": {
  "kernelspec": {
   "display_name": "Python 3 (ipykernel)",
   "language": "python",
   "name": "python3"
  },
  "language_info": {
   "codemirror_mode": {
    "name": "ipython",
    "version": 3
   },
   "file_extension": ".py",
   "mimetype": "text/x-python",
   "name": "python",
   "nbconvert_exporter": "python",
   "pygments_lexer": "ipython3",
   "version": "3.10.12"
  }
 },
 "nbformat": 4,
 "nbformat_minor": 5
}
