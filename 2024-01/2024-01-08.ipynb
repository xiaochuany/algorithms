{
 "cells": [
  {
   "cell_type": "code",
   "execution_count": null,
   "id": "9445faad-57c5-4847-ae31-529070b7c466",
   "metadata": {},
   "outputs": [],
   "source": [
    "from typing import List, Optional\n",
    "import matplotlib.pyplot as plt\n",
    "import networkx as nx\n",
    "from networkx.drawing.nx_agraph import graphviz_layout"
   ]
  },
  {
   "cell_type": "code",
   "execution_count": null,
   "id": "2eaf792b-6e74-44de-84be-e88089584690",
   "metadata": {},
   "outputs": [],
   "source": [
    "class TreeNode:\n",
    "    def __init__(self, val=0, left=None, right=None):\n",
    "        self.val = val\n",
    "        self.left = left\n",
    "        self.right = right"
   ]
  },
  {
   "cell_type": "code",
   "execution_count": null,
   "id": "56eef4d3-2ff1-4781-adfd-d6ad97f29370",
   "metadata": {},
   "outputs": [],
   "source": [
    "def range_sum_BST(root: Optional[TreeNode], low: int, high: int) -> int:\n",
    "        \"\"\"traverse tree and accumulate values satisfying condition\"\"\"\n",
    "        res = root.val if root.val <=high and root.val>=low else 0\n",
    "        def dfs_visit(s,parent):\n",
    "            for v in (s.left,s.right):\n",
    "                if v and v not in parent:\n",
    "                    parent[v]=s\n",
    "                    nonlocal res\n",
    "                    if v.val <= high and v.val>=low: res+=v.val\n",
    "                    dfs_visit(v,parent)\n",
    "        dfs_visit(root,{root:None})\n",
    "        return res"
   ]
  },
  {
   "cell_type": "markdown",
   "id": "2e415ef2-27a3-4948-a775-a04f3b340189",
   "metadata": {},
   "source": [
    "## Helper functions for creating BST from a list"
   ]
  },
  {
   "cell_type": "code",
   "execution_count": null,
   "id": "d3c9c4b9-e3b8-49f9-894b-22b322fed765",
   "metadata": {},
   "outputs": [],
   "source": [
    "def insert_into_bst(root, val):\n",
    "    if root is None:  return TreeNode(val)\n",
    "    if val<root.val:  \n",
    "        root.left = insert_into_bst(root.left, val)\n",
    "    else: \n",
    "        root.right = insert_into_bst(root.right, val)\n",
    "    return root\n",
    "\n",
    "def create_bst(entries:List[int])-> TreeNode:\n",
    "    bst_root = None\n",
    "    for entry in entries:\n",
    "        if entry is not None:\n",
    "            bst_root = insert_into_bst(bst_root, entry)\n",
    "    return bst_root"
   ]
  },
  {
   "cell_type": "markdown",
   "id": "3396bbc5-ec00-4f22-9d53-7e5fd7202578",
   "metadata": {},
   "source": [
    "## Test"
   ]
  },
  {
   "cell_type": "code",
   "execution_count": null,
   "id": "cff83892-622f-4e52-8efe-2ecc27e862cf",
   "metadata": {},
   "outputs": [],
   "source": [
    "def test():\n",
    "    entries = [10, 5, 15, 3, 7, 13, 18, 1, None, 6]\n",
    "    root=create_bst(entries)\n",
    "    assert range_sum_BST(root, 6,10) ==23\n",
    "    entries =[10,5,15,3,7,None,18]\n",
    "    root=create_bst(entries)\n",
    "    assert range_sum_BST(root, 7,15) == 32"
   ]
  },
  {
   "cell_type": "code",
   "execution_count": null,
   "id": "b6bf9d2d-569f-441a-9d66-627403f0600c",
   "metadata": {},
   "outputs": [],
   "source": [
    "test()"
   ]
  },
  {
   "cell_type": "markdown",
   "id": "9c283288-a654-4e28-bbf6-50db3851860e",
   "metadata": {},
   "source": [
    "## Visualisation"
   ]
  },
  {
   "cell_type": "code",
   "execution_count": null,
   "id": "3c53bdcb-b766-4cca-8e05-4209fae9f0cc",
   "metadata": {},
   "outputs": [],
   "source": [
    "def add_edges(graph, node):\n",
    "    if node is not None:\n",
    "        if node.left is not None:\n",
    "            graph.add_edge(node.val, node.left.val)\n",
    "            add_edges(graph, node.left)\n",
    "        if node.right is not None:\n",
    "            graph.add_edge(node.val, node.right.val)\n",
    "            add_edges(graph, node.right)\n",
    "\n",
    "def plot_tree(root):\n",
    "    graph = nx.DiGraph()\n",
    "    add_edges(graph, root)\n",
    "    pos = graphviz_layout(graph, prog='dot')\n",
    "    nx.draw(graph, pos, with_labels=True, arrows=False)\n",
    "    plt.show()"
   ]
  },
  {
   "cell_type": "code",
   "execution_count": null,
   "id": "7169b298-b9d2-44c1-aa6a-ea52842b65fc",
   "metadata": {},
   "outputs": [
    {
     "data": {
      "image/png": "[encoded data removed]",
      "text/plain": [
       "<Figure size 640x480 with 1 Axes>"
      ]
     },
     "metadata": {},
     "output_type": "display_data"
    }
   ],
   "source": [
    "entries = [10, 5, 15, 3, 7, 13, 18, 1, None, 6]\n",
    "root=create_bst(entries)\n",
    "plot_tree(root)"
   ]
  },
  {
   "cell_type": "code",
   "execution_count": null,
   "id": "8de4df44-cfa3-4373-bca4-d43b0fde5ced",
   "metadata": {},
   "outputs": [
    {
     "data": {
      "image/png": "[encoded data removed]",
      "text/plain": [
       "<Figure size 640x480 with 1 Axes>"
      ]
     },
     "metadata": {},
     "output_type": "display_data"
    }
   ],
   "source": [
    "entries =[10,5,15,3,7,None,18]\n",
    "root=create_bst(entries)\n",
    "plot_tree(root)"
   ]
  },
  {
   "cell_type": "code",
   "execution_count": null,
   "id": "fcac6a19-e520-423d-814a-514157a9f512",
   "metadata": {},
   "outputs": [],
   "source": []
  }
 ],
 "metadata": {
  "kernelspec": {
   "display_name": "python3",
   "language": "python",
   "name": "python3"
  }
 },
 "nbformat": 4,
 "nbformat_minor": 5
}
