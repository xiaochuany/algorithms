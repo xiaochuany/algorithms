{
 "cells": [
  {
   "cell_type": "code",
   "execution_count": null,
   "id": "bf586198-416c-4a37-8668-9b97e8ea8e7a",
   "metadata": {},
   "outputs": [],
   "source": [
    "from typing import List\n",
    "from collections import Counter"
   ]
  },
  {
   "cell_type": "code",
   "execution_count": null,
   "id": "086bab1f-836b-4866-b63c-8d436735ed49",
   "metadata": {},
   "outputs": [],
   "source": [
    "def minTotalDistance(grid: List[List[int]]) -> int:\n",
    "    # find coordinates of friends, sort\n",
    "    xs = []\n",
    "    ys = []\n",
    "    for i,row in enumerate(grid):\n",
    "        for j, value in enumerate(row):\n",
    "            if value==1: xs.append(i); ys.append(j)\n",
    "    xs.sort(); ys.sort()\n",
    "\n",
    "    # prep for x\n",
    "    x_range = list(range(xs[0], xs[-1]+1))\n",
    "    x_set = Counter(xs)\n",
    "    \n",
    "    # loop through x_range: O(1) time to update the total distance, need to know the number of x to the left and to the right\n",
    "    l = list(x_set.items())[0][1]\n",
    "    r = len(xs)-l\n",
    "    optimal_i = 0\n",
    "    s_x =  sum([x-xs[0] for x in xs])\n",
    "    min_x = s_x\n",
    "\n",
    "    for i,x in enumerate(x_range):\n",
    "        if i==0: continue\n",
    "        s_x += (l-r)\n",
    "        if s_x < min_x: min_x, optimal_i = s_x, i\n",
    "        if x in x_set:  l+=x_set[x]; r-= x_set[x]\n",
    "\n",
    "    # same for y\n",
    "    y_range = list(range(ys[0], ys[-1]+1))\n",
    "    y_set = Counter(ys)\n",
    "    l = list(y_set.items())[0][1]\n",
    "    r = len(ys)-l\n",
    "    optimal_j = 0\n",
    "    s_y =  sum([y-ys[0] for y in ys])\n",
    "    min_y = s_y\n",
    "\n",
    "    for i,y in enumerate(y_range):\n",
    "        if i==0: continue\n",
    "        s_y += (l-r)\n",
    "        if s_y < min_y: min_y, optimal_j = s_y, i\n",
    "        if y in y_set:  l+=y_set[y]; r-=y_set[y]\n",
    "    return min_x+min_y"
   ]
  },
  {
   "cell_type": "code",
   "execution_count": null,
   "id": "a0b4c9b7-194a-4e91-ae96-68e7993d9ac9",
   "metadata": {},
   "outputs": [],
   "source": [
    "def test_mindist():\n",
    "    assert minTotalDistance([[0,0,0,0,0,0,0,0,0],[0,0,0,0,1,0,0,1,0],[1,1,0,0,0,0,1,0,0],[0,0,0,1,1,1,0,0,0]])==19\n",
    "    assert minTotalDistance([[1,1]])==1"
   ]
  },
  {
   "cell_type": "code",
   "execution_count": null,
   "id": "074d20fe-3636-4288-81bf-bd2986fcdfaa",
   "metadata": {},
   "outputs": [],
   "source": [
    "test_mindist()"
   ]
  },
  {
   "cell_type": "code",
   "execution_count": null,
   "id": "31c7e6be-a72e-4f41-ba07-12644f3e81f4",
   "metadata": {},
   "outputs": [],
   "source": []
  }
 ],
 "metadata": {
  "kernelspec": {
   "display_name": "python3",
   "language": "python",
   "name": "python3"
  }
 },
 "nbformat": 4,
 "nbformat_minor": 5
}
