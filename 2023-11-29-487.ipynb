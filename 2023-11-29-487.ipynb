{
 "cells": [
  {
   "cell_type": "code",
   "execution_count": 1,
   "id": "508b0c80-eeec-42bc-8c24-da9d172e8159",
   "metadata": {},
   "outputs": [],
   "source": [
    "from typing import *\n",
    "\n",
    "def findMaxConsecutiveOnes(nums: List[int]) -> int:\n",
    "    # all ones\n",
    "    if sum(nums)==len(nums): return len(nums)\n",
    "    # cluster sizes without flipping: relevant if there are no isolated zeros\n",
    "    curr_clst=0\n",
    "    sz = []\n",
    "    for n in nums+[0]:    # +[0] to recore the last cluster as well \n",
    "        if n==1: curr_clst+=1\n",
    "        if n==0 and curr_clst!=0: sz.append(curr_clst); curr_clst=0\n",
    "    # find isolated zeroes\n",
    "    iso=[]\n",
    "    for i, (x,y,z) in enumerate(zip(nums,nums[1:],nums[2:])):\n",
    "        if (x,y,z)==(1,0,1): iso.append(i+1)\n",
    "    if nums[:2]==[0,1]: iso.append(0)  # start 01..\n",
    "    if nums[-2:]==[1,0]: iso.append(len(nums)-1) # end ..10\n",
    "    # find largest cluster after flipping one zero\n",
    "    run = 0\n",
    "    for i in iso:\n",
    "        idx=i-1\n",
    "        lco = 0\n",
    "        while idx>=0 and nums[idx]==1: idx-=1; lco+=1 \n",
    "        idx=i+1\n",
    "        rco=0\n",
    "        while idx<len(nums) and nums[idx]==1: idx+=1; rco+=1\n",
    "        run = max(run, lco+rco+1)\n",
    "    return max(run, max(sz)+1) if sz else max(run,1)"
   ]
  },
  {
   "cell_type": "code",
   "execution_count": 2,
   "id": "f67c4b67-e83e-4254-bf64-dc5e028fb7e8",
   "metadata": {},
   "outputs": [],
   "source": [
    "def test():\n",
    "    assert findMaxConsecutiveOnes([1,1,1])==3\n",
    "    assert findMaxConsecutiveOnes([0])==1\n",
    "    assert findMaxConsecutiveOnes([0,0,1,1,0,0])==3\n",
    "    assert findMaxConsecutiveOnes([1,0,1,0,0,1,1,0,0,1,1,1])==4    "
   ]
  },
  {
   "cell_type": "code",
   "execution_count": 3,
   "id": "1351c30e-e765-43c9-a1e0-3cdc9db1536d",
   "metadata": {},
   "outputs": [],
   "source": [
    "test()"
   ]
  }
 ],
 "metadata": {
  "kernelspec": {
   "display_name": "Python 3 (ipykernel)",
   "language": "python",
   "name": "python3"
  },
  "language_info": {
   "codemirror_mode": {
    "name": "ipython",
    "version": 3
   },
   "file_extension": ".py",
   "mimetype": "text/x-python",
   "name": "python",
   "nbconvert_exporter": "python",
   "pygments_lexer": "ipython3",
   "version": "3.10.12"
  }
 },
 "nbformat": 4,
 "nbformat_minor": 5
}
