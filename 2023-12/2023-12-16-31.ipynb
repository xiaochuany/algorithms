{
 "cells": [
  {
   "cell_type": "code",
   "execution_count": null,
   "id": "7e54565d-aa3d-49f5-a385-0dc99a12d398",
   "metadata": {},
   "outputs": [],
   "source": [
    "from typing import *"
   ]
  },
  {
   "cell_type": "code",
   "execution_count": null,
   "id": "113fd69a-6d99-42d1-a81e-e84c6e92a783",
   "metadata": {},
   "outputs": [],
   "source": [
    "def nextPermutation(nums: List[int]) -> None:\n",
    "    for i in reversed(range(len(nums))):\n",
    "        if i==0: nums[:]=nums[::-1]  # nums[:] instead of nums for in-place\n",
    "        if nums[i-1]<nums[i]: \n",
    "            j = len(nums)-1\n",
    "            while j>=i:\n",
    "                if nums[j]<=nums[i-1]: j-=1\n",
    "                else: nums[i-1], nums[j] = nums[j], nums[i-1]; break\n",
    "            nums[i:] = nums[:i-1:-1]\n",
    "            break"
   ]
  },
  {
   "cell_type": "code",
   "execution_count": null,
   "id": "83be8ec8-d1fd-4c10-a99e-55571e15ca13",
   "metadata": {},
   "outputs": [],
   "source": [
    "nums=[1,5,1]\n",
    "nextPermutation(nums)\n",
    "assert nums == [5,1,1]\n",
    "nextPermutation(nums)\n",
    "assert nums == [1,1,5]"
   ]
  }
 ],
 "metadata": {
  "kernelspec": {
   "display_name": "python3",
   "language": "python",
   "name": "python3"
  }
 },
 "nbformat": 4,
 "nbformat_minor": 5
}
