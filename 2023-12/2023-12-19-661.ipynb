{
 "cells": [
  {
   "cell_type": "code",
   "execution_count": null,
   "id": "f6da9257-343a-4377-891d-a45b1e44699c",
   "metadata": {},
   "outputs": [],
   "source": [
    "from typing import *\n",
    "from math import floor\n",
    "import pdb"
   ]
  },
  {
   "cell_type": "code",
   "execution_count": null,
   "id": "5b11de10-f03c-4cb9-8001-ff805b03ddb8",
   "metadata": {},
   "outputs": [],
   "source": [
    "def imageSmoother(img: List[List[int]]) -> List[List[int]]:\n",
    "    # pdb.set_trace()\n",
    "    m,n = len(img), len(img[0])\n",
    "    if (m,n)==(1,1): dim = 0\n",
    "    elif m==1 or n==1: dim=1\n",
    "    else: dim =2\n",
    "    vtx = {(0,0), (0,n-1), (m-1,0), (m-1,n-1)}\n",
    "    if dim==2:\n",
    "        factor = {'vtx':4, 'edg':6, 'bdy':9}\n",
    "    elif dim==1:\n",
    "        factor = {'vtx':2, 'edg':3, 'bdy':3}\n",
    "    else: \n",
    "        factor = {'vtx':1, 'edg':1, 'bdy':1}\n",
    "    pad = [[0]*(n+2), *[[0]+row+[0] for row in img], [0]*(n+2)]\n",
    "    for i in range(m): \n",
    "        for j in range(n):\n",
    "            box = [pad[k+1][j:j+3] for k in range(i-1,i+2)]\n",
    "            if (i,j) in vtx: f = factor['vtx']\n",
    "            elif i==0 or i==m-1 or j==0 or j==n-1: f = factor['edg']\n",
    "            else: f= factor['bdy']\n",
    "            img[i][j] = floor(sum_(box)/f)\n",
    "    return img\n",
    "\n",
    "def sum_(matrix:List[List[int]])-> int:\n",
    "    s = 0\n",
    "    for row in matrix:\n",
    "        s+= sum(row)\n",
    "    return s"
   ]
  },
  {
   "cell_type": "code",
   "execution_count": null,
   "id": "57467c74-cc60-495f-9e1b-de90b61a06a9",
   "metadata": {},
   "outputs": [],
   "source": [
    "def test():\n",
    "    assert sum_([[0,1],[1,0]]) == 2\n",
    "    assert imageSmoother([[1,1,1],[1,0,1],[1,1,1]]) == [[0, 0, 0], [0, 0, 0], [0, 0, 0]]\n",
    "    assert imageSmoother([[1]]) == [[1]]"
   ]
  },
  {
   "cell_type": "code",
   "execution_count": null,
   "id": "51536ef8-37b1-4b8b-88d5-4659a60a0682",
   "metadata": {},
   "outputs": [],
   "source": [
    "test()"
   ]
  },
  {
   "cell_type": "code",
   "execution_count": null,
   "id": "7f6c69fd-6964-4dcd-84be-32dbd1fc1c65",
   "metadata": {},
   "outputs": [],
   "source": []
  }
 ],
 "metadata": {
  "kernelspec": {
   "display_name": "python3",
   "language": "python",
   "name": "python3"
  }
 },
 "nbformat": 4,
 "nbformat_minor": 5
}
