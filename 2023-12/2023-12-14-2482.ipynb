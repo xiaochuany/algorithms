{
 "cells": [
  {
   "cell_type": "code",
   "execution_count": null,
   "id": "a3661257-0dac-4ecc-a221-49e8b048e301",
   "metadata": {},
   "outputs": [],
   "source": [
    "from typing import *"
   ]
  },
  {
   "cell_type": "markdown",
   "id": "2c79125f-4013-4cc6-baab-740643df6937",
   "metadata": {},
   "source": [
    "## warm up"
   ]
  },
  {
   "cell_type": "code",
   "execution_count": null,
   "id": "b36fa530-ef56-4dd1-9121-c47b662c60b8",
   "metadata": {},
   "outputs": [],
   "source": [
    "def findSpecialInteger(arr: List[int]) -> int:\n",
    "        multiset = Counter(arr)\n",
    "        return {k for k,v in multiset.items() if v>len(arr)/4.0}.pop()"
   ]
  },
  {
   "cell_type": "code",
   "execution_count": null,
   "id": "f833d200-02c6-4bbd-9a7b-47011b737669",
   "metadata": {},
   "outputs": [],
   "source": [
    "assert findSpecialInteger([1,2,2,6,6,6,6,7,10])==6"
   ]
  },
  {
   "cell_type": "markdown",
   "id": "8d5eb03b-0ab3-42a2-b50f-0c443430610a",
   "metadata": {},
   "source": [
    "## the question"
   ]
  },
  {
   "cell_type": "code",
   "execution_count": null,
   "id": "611fa7dc-f823-47b2-860e-5b6a0e232eb2",
   "metadata": {},
   "outputs": [],
   "source": [
    "def onesMinusZeros(grid: List[List[int]]) -> List[List[int]]:\n",
    "        diffs_row = [2*sum(row)-len(grid[0]) for row in grid]\n",
    "        diffs_col = [2*sum(col)-len(grid) for col in zip(*grid)]\n",
    "        res = [[None]*len(grid[0]) for _ in range(len(grid))]\n",
    "        for i in range(len(grid)):\n",
    "            for j in range(len(grid[0])):\n",
    "                res[i][j] = diffs_row[i] + diffs_col[j]\n",
    "        return res"
   ]
  },
  {
   "cell_type": "code",
   "execution_count": null,
   "id": "98db4eb4-76ed-4cc7-922c-cae74fe9cdfd",
   "metadata": {},
   "outputs": [],
   "source": [
    "def test():\n",
    "    assert onesMinusZeros([[0,1,1],[1,0,1],[0,0,1]])==[[0,0,4],[0,0,4],[-2,-2,2]]\n",
    "    assert onesMinusZeros([[1,1,1],[1,1,1]])==[[5,5,5],[5,5,5]]"
   ]
  },
  {
   "cell_type": "code",
   "execution_count": null,
   "id": "6a6b7b5c-132d-4769-a412-c1b64ad01097",
   "metadata": {},
   "outputs": [],
   "source": [
    "test()"
   ]
  }
 ],
 "metadata": {
  "kernelspec": {
   "display_name": "python3",
   "language": "python",
   "name": "python3"
  }
 },
 "nbformat": 4,
 "nbformat_minor": 5
}
