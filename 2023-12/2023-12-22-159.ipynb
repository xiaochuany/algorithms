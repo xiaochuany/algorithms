{
 "cells": [
  {
   "cell_type": "markdown",
   "id": "fbe93c9f-85d9-45c3-9708-fc3967058d43",
   "metadata": {},
   "source": [
    "## a few methods for manipulating dict"
   ]
  },
  {
   "cell_type": "code",
   "execution_count": null,
   "id": "1f1ea0cf-20e3-4da5-99da-844b468e5bc1",
   "metadata": {},
   "outputs": [],
   "source": [
    "d = {1:'a', 2:'b',3:'c'}\n",
    "assert d.get(1) == 'a'\n",
    "assert d.pop(1) == 'a'\n",
    "assert d.popitem() == (3,'c')\n",
    "assert d == {2:'b'}"
   ]
  },
  {
   "cell_type": "markdown",
   "id": "13bacf15-16ff-4c2b-b153-da2ae703e3c8",
   "metadata": {},
   "source": [
    "## problem"
   ]
  },
  {
   "cell_type": "code",
   "execution_count": null,
   "id": "9b4a0292-3637-4142-b8bc-be42212f3377",
   "metadata": {},
   "outputs": [],
   "source": [
    "def lengthOfLongestSubstringTwoDistinct(s:str)->int:\n",
    "    if (N:=len(s))<=2: return N\n",
    "    res = 2\n",
    "    hm = {}\n",
    "    left = right =0\n",
    "    while right<N:\n",
    "        hm[s[right]]=right\n",
    "        if len(hm)<=2: \n",
    "            res = max(res, right+1-left); \n",
    "            right+=1\n",
    "        else: \n",
    "            key = min(hm, key=hm.get)\n",
    "            left = hm.pop(key) + 1\n",
    "    return res"
   ]
  },
  {
   "cell_type": "code",
   "execution_count": null,
   "id": "2125afc1-7bb8-4aa1-91de-240c70be4ea3",
   "metadata": {},
   "outputs": [],
   "source": [
    "def test():\n",
    "    assert lengthOfLongestSubstringTwoDistinct('abaabba')==7\n",
    "    assert lengthOfLongestSubstringTwoDistinct('b')==1\n",
    "    assert lengthOfLongestSubstringTwoDistinct('abbccc')==5"
   ]
  },
  {
   "cell_type": "code",
   "execution_count": null,
   "id": "ff043415-ec94-4f88-ae0b-c2d6a38baea6",
   "metadata": {},
   "outputs": [],
   "source": [
    "test()"
   ]
  }
 ],
 "metadata": {
  "kernelspec": {
   "display_name": "python3",
   "language": "python",
   "name": "python3"
  }
 },
 "nbformat": 4,
 "nbformat_minor": 5
}
