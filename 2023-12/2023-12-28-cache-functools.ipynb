{
 "cells": [
  {
   "cell_type": "markdown",
   "id": "7951f3dd-a166-4c5b-aec1-7db0a49f1671",
   "metadata": {},
   "source": [
    "# caching with functools"
   ]
  },
  {
   "cell_type": "code",
   "execution_count": null,
   "id": "8c22298b-4f7b-4f9c-b1c3-5bc30042ac0f",
   "metadata": {},
   "outputs": [],
   "source": [
    "from functools import *\n",
    "import numpy as np\n",
    "import urllib"
   ]
  },
  {
   "cell_type": "markdown",
   "id": "47cefb66-8a72-4dd1-9967-29e7f9af5c19",
   "metadata": {},
   "source": [
    "## @cache"
   ]
  },
  {
   "cell_type": "code",
   "execution_count": null,
   "id": "95cb3cbe-09c0-401d-8833-d3d9a82ef9d8",
   "metadata": {},
   "outputs": [],
   "source": [
    "def factorial(n):\n",
    "    return n * factorial(n-1) if n else 1"
   ]
  },
  {
   "cell_type": "code",
   "execution_count": null,
   "id": "f41c20c9-a088-4ea3-b9e6-545c7759761d",
   "metadata": {},
   "outputs": [],
   "source": [
    "def run():\n",
    "    factorial(200)\n",
    "    for _ in range(100):\n",
    "        factorial(100)"
   ]
  },
  {
   "cell_type": "code",
   "execution_count": null,
   "id": "7f2bdc9a-cc10-452e-bd00-0a4cc8f06689",
   "metadata": {},
   "outputs": [
    {
     "name": "stdout",
     "output_type": "stream",
     "text": [
      "2.06 ms ± 539 µs per loop (mean ± std. dev. of 5 runs, 10 loops each)\n"
     ]
    }
   ],
   "source": [
    "%%timeit -r 5 -n 10\n",
    "run()"
   ]
  },
  {
   "cell_type": "code",
   "execution_count": null,
   "id": "dedb2aa1-ff0b-49d9-9056-ca56ebed9ed0",
   "metadata": {},
   "outputs": [],
   "source": [
    "@cache\n",
    "def run_c():\n",
    "    factorial(200)\n",
    "    for _ in range(100):\n",
    "        factorial(100)"
   ]
  },
  {
   "cell_type": "code",
   "execution_count": null,
   "id": "d07900ec-1a22-4725-8d89-1e6ab534df4d",
   "metadata": {},
   "outputs": [
    {
     "name": "stdout",
     "output_type": "stream",
     "text": [
      "The slowest run took 3142.82 times longer than the fastest. This could mean that an intermediate result is being cached.\n",
      "62.8 µs ± 125 µs per loop (mean ± std. dev. of 5 runs, 10 loops each)\n"
     ]
    }
   ],
   "source": [
    "%%timeit -r 5 -n 10\n",
    "run_c()"
   ]
  },
  {
   "cell_type": "markdown",
   "id": "bfe0c491-6a42-44fb-99a0-fabeda4987ba",
   "metadata": {},
   "source": [
    "## @cached_property"
   ]
  },
  {
   "cell_type": "code",
   "execution_count": null,
   "id": "067592f3-8379-4d03-95bf-4c4618d4f100",
   "metadata": {},
   "outputs": [],
   "source": [
    "class Data:\n",
    "    def __init__(self, *sequence):\n",
    "        self._data = tuple(sequence)\n",
    "\n",
    "    @property\n",
    "    def std(self):\n",
    "        return np.std(self._data)"
   ]
  },
  {
   "cell_type": "code",
   "execution_count": null,
   "id": "e496b344-29bb-4a8d-9b4e-2cf5ed972898",
   "metadata": {},
   "outputs": [],
   "source": [
    "data = Data(1,2,43,5,7,8,9,0)"
   ]
  },
  {
   "cell_type": "code",
   "execution_count": null,
   "id": "c7784487-74fe-483a-ac8f-fcda94d28683",
   "metadata": {},
   "outputs": [
    {
     "name": "stdout",
     "output_type": "stream",
     "text": [
      "16.8 µs ± 3.75 µs per loop (mean ± std. dev. of 7 runs, 10,000 loops each)\n"
     ]
    }
   ],
   "source": [
    "%%timeit -n 10000\n",
    "data.std"
   ]
  },
  {
   "cell_type": "code",
   "execution_count": null,
   "id": "bebf7ff1-24da-4cc9-ac40-5c80c6386af4",
   "metadata": {},
   "outputs": [],
   "source": [
    "class Data:\n",
    "    def __init__(self, *sequence):\n",
    "        self._data = tuple(sequence)\n",
    "\n",
    "    @cached_property\n",
    "    def std(self):\n",
    "        return np.std(self._data)"
   ]
  },
  {
   "cell_type": "code",
   "execution_count": null,
   "id": "fe81a0dd-7423-4ebb-bdf0-ef4de2978f77",
   "metadata": {},
   "outputs": [],
   "source": [
    "data = Data(1,2,43,5,7,8,9,0)"
   ]
  },
  {
   "cell_type": "code",
   "execution_count": null,
   "id": "8c740a9e-07db-473d-9ab7-2a63d0c789cd",
   "metadata": {},
   "outputs": [
    {
     "name": "stdout",
     "output_type": "stream",
     "text": [
      "65.9 ns ± 21.5 ns per loop (mean ± std. dev. of 7 runs, 10,000 loops each)\n"
     ]
    }
   ],
   "source": [
    "%%timeit -n 10000\n",
    "data.std"
   ]
  },
  {
   "cell_type": "markdown",
   "id": "c929a3ca-9c0e-4c5a-9370-079eea5e578f",
   "metadata": {},
   "source": [
    "## @lru_cache(maxsize, typed)"
   ]
  },
  {
   "cell_type": "code",
   "execution_count": null,
   "id": "2b37bdaf-c621-41a8-b17e-cbb485feee85",
   "metadata": {},
   "outputs": [],
   "source": [
    "@lru_cache(maxsize=32)\n",
    "def get_pep(num):\n",
    "    'Retrieve text of a Python Enhancement Proposal'\n",
    "    resource = f'https://peps.python.org/pep-{num:04d}'\n",
    "    try:\n",
    "        with urllib.request.urlopen(resource) as s:\n",
    "            return s.read()\n",
    "    except urllib.error.HTTPError:\n",
    "        return 'Not Found'"
   ]
  },
  {
   "cell_type": "code",
   "execution_count": null,
   "id": "9de4c5fc-7a78-4525-a8b3-a3c6bb8862be",
   "metadata": {},
   "outputs": [
    {
     "data": {
      "text/plain": [
       "CacheInfo(hits=294003, misses=8, maxsize=32, currsize=8)"
      ]
     },
     "execution_count": null,
     "metadata": {},
     "output_type": "execute_result"
    }
   ],
   "source": [
    "get_pep.cache_info()"
   ]
  },
  {
   "cell_type": "code",
   "execution_count": null,
   "id": "46171c29-24eb-4ed1-9ef7-c31a25f2ff17",
   "metadata": {},
   "outputs": [
    {
     "name": "stdout",
     "output_type": "stream",
     "text": [
      "8 119008\n",
      "290 53070\n",
      "308 41334\n",
      "320 21642\n",
      "8 119008\n",
      "218 20625\n",
      "320 21642\n",
      "279 20092\n",
      "289 30387\n",
      "320 21642\n",
      "9991 9\n"
     ]
    }
   ],
   "source": [
    "for n in 8, 290, 308, 320, 8, 218, 320, 279, 289, 320, 9991:\n",
    "    pep=get_pep(n)\n",
    "    print(n,len(pep))"
   ]
  },
  {
   "cell_type": "code",
   "execution_count": null,
   "id": "8a83a0aa-ccfb-48b9-b6a3-cbc2fa5518c4",
   "metadata": {},
   "outputs": [
    {
     "name": "stdout",
     "output_type": "stream",
     "text": [
      "408 ns ± 125 ns per loop (mean ± std. dev. of 7 runs, 1,000 loops each)\n"
     ]
    }
   ],
   "source": [
    "%%timeit -n 1000\n",
    "for _ in range(5):\n",
    "     get_pep(8)"
   ]
  },
  {
   "cell_type": "code",
   "execution_count": null,
   "id": "831e22c0-e0a0-4de8-82be-a62f4fd23737",
   "metadata": {},
   "outputs": [],
   "source": [
    "def get_pep_1(num):\n",
    "    'Retrieve text of a Python Enhancement Proposal'\n",
    "    resource = f'https://peps.python.org/pep-{num:04d}'\n",
    "    try:\n",
    "        with urllib.request.urlopen(resource) as s:\n",
    "            return s.read()\n",
    "    except urllib.error.HTTPError:\n",
    "        return 'Not Found'"
   ]
  },
  {
   "cell_type": "code",
   "execution_count": null,
   "id": "560161d0-ad21-4fff-bae1-fc1ee7175086",
   "metadata": {},
   "outputs": [
    {
     "name": "stdout",
     "output_type": "stream",
     "text": [
      "925 ms ± 28.1 ms per loop (mean ± std. dev. of 3 runs, 5 loops each)\n"
     ]
    }
   ],
   "source": [
    "%%timeit -n 5 -r 3\n",
    "for _ in range(5):\n",
    "     get_pep_1(8)"
   ]
  }
 ],
 "metadata": {
  "kernelspec": {
   "display_name": "python3",
   "language": "python",
   "name": "python3"
  }
 },
 "nbformat": 4,
 "nbformat_minor": 5
}
