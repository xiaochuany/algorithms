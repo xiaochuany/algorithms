{
 "cells": [
  {
   "cell_type": "code",
   "execution_count": null,
   "id": "ae9f8818-5a9c-4077-8156-a05b3a2c24a8",
   "metadata": {},
   "outputs": [],
   "source": [
    "from typing import List\n",
    "from collections import Counter\n",
    "import pdb"
   ]
  },
  {
   "cell_type": "code",
   "execution_count": null,
   "id": "6c8901f8-f5f5-4bd4-ba73-75ff449e7494",
   "metadata": {},
   "outputs": [],
   "source": [
    "def incremovableSubarrayCount(nums: List[int]) -> int:\n",
    "        count = 0\n",
    "        for i in range(1,len(nums)+1):\n",
    "            for j in range(len(nums)-i+1):\n",
    "                temp = nums[:j]+nums[j+i:]\n",
    "                if len(temp)==0 or (temp==sorted(temp) and max(Counter(temp).values())==1): count+=1\n",
    "        return count  "
   ]
  },
  {
   "cell_type": "code",
   "execution_count": null,
   "id": "03e47d31-e872-47a7-9f1f-ab60ac5fad1d",
   "metadata": {},
   "outputs": [],
   "source": [
    "def test():\n",
    "    assert incremovableSubarrayCount([1,2,3,4])==10\n",
    "    assert incremovableSubarrayCount([9,8,7,7])==3\n",
    "    assert incremovableSubarrayCount(nums = [6,5,7,8]) == 7"
   ]
  },
  {
   "cell_type": "code",
   "execution_count": null,
   "id": "9d28482a-7fe9-41a9-a8ef-2b8c798990e6",
   "metadata": {},
   "outputs": [],
   "source": [
    "test()"
   ]
  },
  {
   "cell_type": "code",
   "execution_count": null,
   "id": "8da72c1a-8122-47aa-9cb7-d48cadfdf80e",
   "metadata": {},
   "outputs": [],
   "source": []
  }
 ],
 "metadata": {
  "kernelspec": {
   "display_name": "python3",
   "language": "python",
   "name": "python3"
  }
 },
 "nbformat": 4,
 "nbformat_minor": 5
}
