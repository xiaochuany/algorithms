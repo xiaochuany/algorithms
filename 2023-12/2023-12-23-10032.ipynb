{
 "cells": [
  {
   "cell_type": "code",
   "execution_count": null,
   "id": "d204edf0-2863-47bc-ba2e-35d5b904b8b7",
   "metadata": {},
   "outputs": [],
   "source": [
    "from typing import List"
   ]
  },
  {
   "cell_type": "code",
   "execution_count": null,
   "id": "c9c84c65-0a8c-4dd8-a8fa-213171701354",
   "metadata": {},
   "outputs": [],
   "source": [
    "def largestPerimeter(nums: List[int]) -> int:\n",
    "        nums.sort()\n",
    "        cumsum = []\n",
    "        for i,n in enumerate(nums):\n",
    "            if cumsum: cumsum.append(cumsum[-1]+n)\n",
    "            else: cumsum.append(n)\n",
    "        j = len(nums)-1\n",
    "        while j>1:\n",
    "            if cumsum[j] >= 2*cumsum[j-1]: j-=1\n",
    "            else: break\n",
    "        return -1 if j==1 else cumsum[j]"
   ]
  },
  {
   "cell_type": "code",
   "execution_count": null,
   "id": "1483a2c9-193d-4d0b-9402-deb13fcdd4fe",
   "metadata": {},
   "outputs": [],
   "source": [
    "def test():\n",
    "    assert largestPerimeter([5,5,5])==15\n",
    "    assert largestPerimeter([5,5,500])==-1\n",
    "    assert largestPerimeter([1,12,1,2,5,50,3])==12"
   ]
  },
  {
   "cell_type": "code",
   "execution_count": null,
   "id": "bc99b10f-24d7-4ae5-ba5b-d0969e391c98",
   "metadata": {},
   "outputs": [],
   "source": [
    "test()"
   ]
  },
  {
   "cell_type": "code",
   "execution_count": null,
   "id": "78e96deb-d4a6-4dae-8532-0b384ae652eb",
   "metadata": {},
   "outputs": [],
   "source": []
  }
 ],
 "metadata": {
  "kernelspec": {
   "display_name": "python3",
   "language": "python",
   "name": "python3"
  }
 },
 "nbformat": 4,
 "nbformat_minor": 5
}
