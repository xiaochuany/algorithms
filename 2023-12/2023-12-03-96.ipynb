{
 "cells": [
  {
   "cell_type": "code",
   "execution_count": 1,
   "id": "73594723-3fab-4b36-9127-72a453575343",
   "metadata": {},
   "outputs": [],
   "source": [
    "from typing import *"
   ]
  },
  {
   "cell_type": "code",
   "execution_count": 2,
   "id": "00eb0e24-6ee9-4f60-8f2f-bee49b63b448",
   "metadata": {},
   "outputs": [],
   "source": [
    "def numTrees(n: int) -> int:\n",
    "        G = [1]*(n+1)\n",
    "        for idx in range(2,n+1):\n",
    "            G[idx] = sum([G[i-1]*G[idx-i] for i in range(1,idx+1)])\n",
    "        return G[-1]"
   ]
  },
  {
   "cell_type": "code",
   "execution_count": 3,
   "id": "bef63951-e30a-4b72-8e65-c5fbc228aae7",
   "metadata": {},
   "outputs": [],
   "source": [
    "def test():\n",
    "    assert numTrees(0)==1\n",
    "    assert numTrees(1)==1\n",
    "    assert numTrees(3)==5\n",
    "\n",
    "test()"
   ]
  },
  {
   "cell_type": "markdown",
   "id": "8831d18c-fadf-4409-a758-65cfede7d5b5",
   "metadata": {},
   "source": [
    "## Catalan number\n",
    "\n",
    "$$\n",
    "\\frac{1}{n+1} {2n \\choose n}\n",
    "$$"
   ]
  },
  {
   "cell_type": "code",
   "execution_count": 4,
   "id": "38eae6a2-bd62-42be-8919-861bac0e4469",
   "metadata": {},
   "outputs": [],
   "source": [
    "from math import factorial\n",
    "\n",
    "def numTrees(n):\n",
    "    return factorial(2*n)//factorial(n)//factorial(n+1)"
   ]
  },
  {
   "cell_type": "code",
   "execution_count": 5,
   "id": "39ee26ea-58e8-43a4-a1f7-aefa40d20f59",
   "metadata": {},
   "outputs": [],
   "source": [
    "def test():\n",
    "    assert numTrees(0)==1\n",
    "    assert numTrees(1)==1\n",
    "    assert numTrees(3)==5\n",
    "\n",
    "test()"
   ]
  }
 ],
 "metadata": {
  "kernelspec": {
   "display_name": "Python 3 (ipykernel)",
   "language": "python",
   "name": "python3"
  },
  "language_info": {
   "codemirror_mode": {
    "name": "ipython",
    "version": 3
   },
   "file_extension": ".py",
   "mimetype": "text/x-python",
   "name": "python",
   "nbconvert_exporter": "python",
   "pygments_lexer": "ipython3",
   "version": "3.10.12"
  }
 },
 "nbformat": 4,
 "nbformat_minor": 5
}
