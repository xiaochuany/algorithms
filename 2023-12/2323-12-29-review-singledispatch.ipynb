{
 "cells": [
  {
   "cell_type": "markdown",
   "id": "55ef2846-5e06-456e-875a-d591cfc454ea",
   "metadata": {},
   "source": [
    "## singledispatch"
   ]
  },
  {
   "cell_type": "code",
   "execution_count": null,
   "id": "3a9e895a-06e9-43e4-8b8f-4d5b3610abee",
   "metadata": {},
   "outputs": [],
   "source": [
    "from functools import singledispatch"
   ]
  },
  {
   "cell_type": "code",
   "execution_count": null,
   "id": "5725cb03-0bb3-4b57-b00a-a4080d1ad12e",
   "metadata": {},
   "outputs": [],
   "source": [
    "@singledispatch\n",
    "def fun(arg, verbose=False):\n",
    "    if verbose:\n",
    "        print(\"Let me just say,\", end=\" \")\n",
    "    print(arg)"
   ]
  },
  {
   "cell_type": "code",
   "execution_count": null,
   "id": "28334bdb-a493-49a5-bf99-b9889f8186d7",
   "metadata": {},
   "outputs": [
    {
     "name": "stdout",
     "output_type": "stream",
     "text": [
      "Let me just say, 1\n"
     ]
    }
   ],
   "source": [
    "fun(1,True)"
   ]
  },
  {
   "cell_type": "code",
   "execution_count": null,
   "id": "c1ae0b50-bcec-4981-a856-f29f9e6584b0",
   "metadata": {},
   "outputs": [],
   "source": [
    "@fun.register\n",
    "def _(arg: int, verbose=False):\n",
    "    if verbose:\n",
    "        print(\"Strength in numbers, eh?\", end=\" \")\n",
    "    print(arg)"
   ]
  },
  {
   "cell_type": "code",
   "execution_count": null,
   "id": "cc1bff51-5fef-4362-8765-8d9099bd9d7e",
   "metadata": {},
   "outputs": [
    {
     "name": "stdout",
     "output_type": "stream",
     "text": [
      "Strength in numbers, eh? 1\n"
     ]
    }
   ],
   "source": [
    "fun(1,True)"
   ]
  },
  {
   "cell_type": "code",
   "execution_count": null,
   "id": "728ee601-a470-4d23-9d05-9a5db43c4b5e",
   "metadata": {},
   "outputs": [
    {
     "name": "stdout",
     "output_type": "stream",
     "text": [
      "Let me just say, python\n"
     ]
    }
   ],
   "source": [
    "fun('python',True)"
   ]
  },
  {
   "cell_type": "code",
   "execution_count": null,
   "id": "9fbec828-8bda-4a05-85a6-8c314892dfc8",
   "metadata": {},
   "outputs": [],
   "source": [
    "@fun.register\n",
    "def _(arg: list, verbose=False):\n",
    "    if verbose:\n",
    "        print(\"Enumerate this:\")\n",
    "    for i, elem in enumerate(arg):\n",
    "        print(i, elem)"
   ]
  },
  {
   "cell_type": "code",
   "execution_count": null,
   "id": "3796b7e1-4c38-4529-9005-353166ebcd86",
   "metadata": {},
   "outputs": [
    {
     "name": "stdout",
     "output_type": "stream",
     "text": [
      "Enumerate this:\n",
      "0 p\n",
      "1 y\n",
      "2 t\n",
      "3 h\n",
      "4 o\n",
      "5 n\n"
     ]
    }
   ],
   "source": [
    "fun(list('python'),True)"
   ]
  },
  {
   "cell_type": "code",
   "execution_count": null,
   "id": "d859baed-cb91-44c7-800d-d10054fb0c63",
   "metadata": {},
   "outputs": [],
   "source": [
    "from typing import Union\n",
    "\n",
    "@fun.register\n",
    "def _(arg: set, verbose=False):\n",
    "    if verbose:\n",
    "        print(\"Enumerate this:\")\n",
    "    for i, elem in enumerate(arg):\n",
    "        print(i, elem)"
   ]
  },
  {
   "cell_type": "code",
   "execution_count": null,
   "id": "a256f89c-c1e6-4184-994b-c8b955158cdf",
   "metadata": {},
   "outputs": [
    {
     "data": {
      "text/plain": [
       "mappingproxy({object: <function __main__.fun(arg, verbose=False)>,\n",
       "              int: <function __main__._(arg: int, verbose=False)>,\n",
       "              list: <function __main__._(arg: list, verbose=False)>,\n",
       "              set: <function __main__._(arg: set, verbose=False)>})"
      ]
     },
     "execution_count": null,
     "metadata": {},
     "output_type": "execute_result"
    }
   ],
   "source": [
    "fun.registry"
   ]
  },
  {
   "cell_type": "markdown",
   "id": "23ad4c55-87b8-4551-8af7-3b24d36fd192",
   "metadata": {},
   "source": [
    "## "
   ]
  }
 ],
 "metadata": {
  "kernelspec": {
   "display_name": "python3",
   "language": "python",
   "name": "python3"
  }
 },
 "nbformat": 4,
 "nbformat_minor": 5
}
