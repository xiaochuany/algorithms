{
 "cells": [
  {
   "cell_type": "code",
   "execution_count": null,
   "id": "83e00265-5642-4697-a5c0-a0c76e890134",
   "metadata": {},
   "outputs": [],
   "source": [
    "import pandas as pd\n",
    "import numpy as np"
   ]
  },
  {
   "cell_type": "code",
   "execution_count": null,
   "id": "b53f93ef-a1ce-405c-becc-af2601a43abf",
   "metadata": {},
   "outputs": [],
   "source": [
    "with pd.ExcelWriter('dummy.xlsx') as w:\n",
    "    for i in range(5):\n",
    "        t = pd.DataFrame(np.arange(6).reshape(3,2))\n",
    "        t.to_excel(w,sheet_name=f'sheet {i}')"
   ]
  },
  {
   "cell_type": "code",
   "execution_count": null,
   "id": "cc944b20-0ea5-4183-a5c5-efc323c4c4f4",
   "metadata": {},
   "outputs": [],
   "source": []
  }
 ],
 "metadata": {
  "kernelspec": {
   "display_name": "python3",
   "language": "python",
   "name": "python3"
  }
 },
 "nbformat": 4,
 "nbformat_minor": 5
}
