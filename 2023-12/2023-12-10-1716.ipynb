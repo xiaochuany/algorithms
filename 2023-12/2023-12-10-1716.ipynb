{
 "cells": [
  {
   "cell_type": "code",
   "execution_count": 1,
   "id": "2465f57a-5074-4752-a0b1-0285c151455a",
   "metadata": {},
   "outputs": [],
   "source": [
    "import pdb"
   ]
  },
  {
   "cell_type": "code",
   "execution_count": 2,
   "id": "d6d17299-b458-4b41-8c0c-049340ede35c",
   "metadata": {},
   "outputs": [],
   "source": [
    "def total_money(n):\n",
    "    # pdb.set_trace()\n",
    "    res=0\n",
    "    for i in range(n):\n",
    "        day,week = i%7, i//7\n",
    "        res+=(day+1+week)\n",
    "    return res"
   ]
  },
  {
   "cell_type": "code",
   "execution_count": 3,
   "id": "ff063d78-f023-4023-a5af-bf29589dff32",
   "metadata": {},
   "outputs": [],
   "source": [
    "def test():\n",
    "    assert total_money(20)==96\n",
    "    assert total_money(10)==37"
   ]
  },
  {
   "cell_type": "code",
   "execution_count": 4,
   "id": "2f4acfce-9ad7-454d-94c1-de12a36957dc",
   "metadata": {},
   "outputs": [],
   "source": [
    "test()"
   ]
  }
 ],
 "metadata": {
  "kernelspec": {
   "display_name": "Python 3 (ipykernel)",
   "language": "python",
   "name": "python3"
  },
  "language_info": {
   "codemirror_mode": {
    "name": "ipython",
    "version": 3
   },
   "file_extension": ".py",
   "mimetype": "text/x-python",
   "name": "python",
   "nbconvert_exporter": "python",
   "pygments_lexer": "ipython3",
   "version": "3.10.12"
  }
 },
 "nbformat": 4,
 "nbformat_minor": 5
}
