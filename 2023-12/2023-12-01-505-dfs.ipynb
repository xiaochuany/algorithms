{
 "cells": [
  {
   "cell_type": "code",
   "execution_count": 1,
   "id": "302e6644-d059-4a87-a656-71ff3adafb0d",
   "metadata": {},
   "outputs": [],
   "source": [
    "from typing import *\n",
    "\n",
    "def shortestDistance(maze: List[List[int]], start: List[int], destination: List[int]) -> int:\n",
    "  nrow, ncol = len(maze),len(maze[0])\n",
    "  dist = [[float('inf')]*ncol for _ in range(nrow)]\n",
    "  dist[start[0]][start[1]] = 0\n",
    "  dfs(maze,start,dist) # python passes objects by referece, any change made to the mutable dist array in the subroutine will be reflected in the main routine.\n",
    "  res = dist[destination[0]][destination[1]]\n",
    "  return  -1 if res==float('inf') else res\n",
    "\n",
    "def dfs(maze,start,dist):\n",
    "  dirs = [[0,1],[0,-1],[1,0],[-1,0]]\n",
    "  for d in dirs:\n",
    "    x,y = start[0]+d[0], start[1]+d[1]\n",
    "    count = 0\n",
    "    while 0<=x< len(maze) and 0<=y<len(maze[0]) and maze[x][y]==0:\n",
    "      x+=d[0]; y+=d[1]; count+=1\n",
    "    if (new_min := dist[start[0]][start[1]]+count) < dist[x-d[0]][y-d[1]]: # guarantees finite recursion\n",
    "        dist[x-d[0]][y-d[1]] = new_min\n",
    "        dfs(maze,[x-d[0],y-d[1]],dist)"
   ]
  },
  {
   "cell_type": "code",
   "execution_count": 2,
   "id": "2a87afca-14bf-4b48-9b14-39ede17e2c11",
   "metadata": {},
   "outputs": [],
   "source": [
    "def test():\n",
    "    assert shortestDistance(\n",
    "        maze = [[0,0,1,0,0],[0,0,0,0,0],[0,0,0,1,0],[1,1,0,1,1],[0,0,0,0,0]],         \n",
    "        start = [0,4], destination = [3,2]) == -1\n",
    "    assert shortestDistance(\n",
    "        maze = [[0,0,1,0,0],[0,0,0,0,0],[0,0,0,1,0],[1,1,0,1,1],[0,0,0,0,0]], \n",
    "        start = [0,4], destination = [4,4]) == 12\n",
    "test()"
   ]
  },
  {
   "cell_type": "code",
   "execution_count": 3,
   "id": "299a78ea-4aac-4a78-8871-6778bc8fd5c4",
   "metadata": {},
   "outputs": [
    {
     "name": "stdout",
     "output_type": "stream",
     "text": [
      "140172915978688 140172915977472in func2\n",
      "[999, 2] {'python': 'monty'}\n",
      "140172915978688 140172915977472\n"
     ]
    }
   ],
   "source": [
    "def fun1():\n",
    "    my_list=[1,2]\n",
    "    my_dict={'python':None}\n",
    "    fun2(my_list, my_dict)\n",
    "    print(my_list, my_dict)\n",
    "    print(id(my_list), id(my_dict))\n",
    "    \n",
    "def fun2(l,d):\n",
    "    l[0]=999\n",
    "    d['python']='monty'\n",
    "    print(f'{id(l)} {id(d)}in func2')\n",
    "\n",
    "fun1()"
   ]
  },
  {
   "cell_type": "markdown",
   "id": "e6224e73-c8c7-41eb-a33f-5088ef536233",
   "metadata": {},
   "source": [
    "## DFS "
   ]
  },
  {
   "cell_type": "code",
   "execution_count": 4,
   "id": "e00c9e7e-91b6-4bb6-80a0-c61f272230da",
   "metadata": {},
   "outputs": [],
   "source": [
    "import numpy as np\n",
    "V = np.arange(20)\n",
    "adj = {i: np.random.choice(V, (2,), replace=False) for i in V}"
   ]
  },
  {
   "cell_type": "code",
   "execution_count": 5,
   "id": "51d58a23-a5fc-44c4-91b4-a370ef6d75ae",
   "metadata": {},
   "outputs": [],
   "source": [
    "def dfs(V,adj):\n",
    "    parent={}\n",
    "    count=0\n",
    "    for s in V:\n",
    "        if s not in parent:\n",
    "            count+=1\n",
    "            parent[s]=None  \n",
    "            dfs_visit(s,adj,parent)\n",
    "    return count\n",
    "\n",
    "def dfs_visit(s,adj,parent):\n",
    "        for v in adj[s]:\n",
    "            if v not in parent: # guarantees finite recursion, parent becomes larger until equal to the whole cluster of s\n",
    "                parent[v]=s\n",
    "                dfs_visit(v,adj,parent)"
   ]
  },
  {
   "cell_type": "code",
   "execution_count": 6,
   "id": "3519d2b1-a82b-480c-a2ec-ab3ffbdc6d08",
   "metadata": {},
   "outputs": [
    {
     "data": {
      "text/plain": [
       "{0: array([12,  3]),\n",
       " 1: array([19, 10]),\n",
       " 2: array([0, 3]),\n",
       " 3: array([6, 4]),\n",
       " 4: array([19, 14]),\n",
       " 5: array([19,  2]),\n",
       " 6: array([11, 10]),\n",
       " 7: array([18,  3]),\n",
       " 8: array([17,  2]),\n",
       " 9: array([16,  7]),\n",
       " 10: array([ 7, 15]),\n",
       " 11: array([ 1, 11]),\n",
       " 12: array([13,  0]),\n",
       " 13: array([ 5, 19]),\n",
       " 14: array([14,  7]),\n",
       " 15: array([17,  4]),\n",
       " 16: array([17, 14]),\n",
       " 17: array([ 0, 13]),\n",
       " 18: array([13, 10]),\n",
       " 19: array([15,  4])}"
      ]
     },
     "execution_count": 6,
     "metadata": {},
     "output_type": "execute_result"
    }
   ],
   "source": [
    "adj"
   ]
  },
  {
   "cell_type": "code",
   "execution_count": 7,
   "id": "f1159c69-7da0-40f8-8cb3-4e95cd356d1e",
   "metadata": {},
   "outputs": [
    {
     "data": {
      "text/plain": [
       "3"
      ]
     },
     "execution_count": 7,
     "metadata": {},
     "output_type": "execute_result"
    }
   ],
   "source": [
    "dfs(V,adj)"
   ]
  }
 ],
 "metadata": {
  "kernelspec": {
   "display_name": "Python 3 (ipykernel)",
   "language": "python",
   "name": "python3"
  },
  "language_info": {
   "codemirror_mode": {
    "name": "ipython",
    "version": 3
   },
   "file_extension": ".py",
   "mimetype": "text/x-python",
   "name": "python",
   "nbconvert_exporter": "python",
   "pygments_lexer": "ipython3",
   "version": "3.10.12"
  }
 },
 "nbformat": 4,
 "nbformat_minor": 5
}
