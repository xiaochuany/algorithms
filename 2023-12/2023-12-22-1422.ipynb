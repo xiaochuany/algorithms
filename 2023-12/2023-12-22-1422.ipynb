{
 "cells": [
  {
   "cell_type": "code",
   "execution_count": null,
   "id": "a7aa8b46-4e4c-4238-9c02-6fe9f17d2300",
   "metadata": {},
   "outputs": [],
   "source": [
    "def maxScore(s: str) -> int:\n",
    "        nums = [int(c) for c in s]\n",
    "        O = sum(nums)\n",
    "        score = O\n",
    "        max_s=0\n",
    "        for i,n in enumerate(nums[:-1]):\n",
    "            score += (1-2*n)\n",
    "            max_s = max(max_s, score)\n",
    "        return max_s"
   ]
  },
  {
   "cell_type": "code",
   "execution_count": null,
   "id": "c783a5d8-8581-41b6-a114-b3e3c05aa101",
   "metadata": {},
   "outputs": [],
   "source": [
    "def test_ms():\n",
    "    assert maxScore('0')==0\n",
    "    assert maxScore('00')==1\n",
    "    assert maxScore('01010101')==5"
   ]
  },
  {
   "cell_type": "code",
   "execution_count": null,
   "id": "ea7097b3-037e-45fd-87de-0a7f23193403",
   "metadata": {},
   "outputs": [],
   "source": [
    "test_ms()"
   ]
  },
  {
   "cell_type": "code",
   "execution_count": null,
   "id": "0ca10549-f4b8-4bb8-8836-62d985bd4d3b",
   "metadata": {},
   "outputs": [],
   "source": []
  }
 ],
 "metadata": {
  "kernelspec": {
   "display_name": "python3",
   "language": "python",
   "name": "python3"
  }
 },
 "nbformat": 4,
 "nbformat_minor": 5
}
