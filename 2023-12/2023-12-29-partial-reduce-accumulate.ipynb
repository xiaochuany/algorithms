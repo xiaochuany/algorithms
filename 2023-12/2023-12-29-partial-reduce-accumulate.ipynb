{
 "cells": [
  {
   "cell_type": "code",
   "execution_count": null,
   "id": "0d5cc7d5-27ae-497d-8c28-f1954d2c9580",
   "metadata": {},
   "outputs": [],
   "source": [
    "import functools, itertools, operator\n",
    "import numpy as np"
   ]
  },
  {
   "cell_type": "markdown",
   "id": "ab82404e-e0bc-4139-b270-1523e3bb7006",
   "metadata": {},
   "source": [
    "## functools.partial"
   ]
  },
  {
   "cell_type": "code",
   "execution_count": null,
   "id": "7c98f346-0769-4015-8b91-7b2ab1893356",
   "metadata": {},
   "outputs": [],
   "source": [
    "def f(a,b):\n",
    "    return a+b\n",
    "\n",
    "add2 = functools.partial(f,b=2)"
   ]
  },
  {
   "cell_type": "code",
   "execution_count": null,
   "id": "b6ed275a-77bb-401c-b30b-b162b06440e5",
   "metadata": {},
   "outputs": [
    {
     "data": {
      "text/plain": [
       "8"
      ]
     },
     "execution_count": null,
     "metadata": {},
     "output_type": "execute_result"
    }
   ],
   "source": [
    "add2(6)"
   ]
  },
  {
   "cell_type": "code",
   "execution_count": null,
   "id": "b5e2969a-faeb-4921-80d9-de6f200bbcac",
   "metadata": {},
   "outputs": [
    {
     "data": {
      "text/plain": [
       "(<function __main__.f(a, b)>, (), {'b': 2})"
      ]
     },
     "execution_count": null,
     "metadata": {},
     "output_type": "execute_result"
    }
   ],
   "source": [
    "add2.func, add2.args, add2.keywords"
   ]
  },
  {
   "cell_type": "code",
   "execution_count": null,
   "id": "d844db18-601c-4d1a-bb1a-9b5779a1bee2",
   "metadata": {},
   "outputs": [],
   "source": [
    "add2.__doc__ = 'add 2 to a value'"
   ]
  },
  {
   "cell_type": "code",
   "execution_count": null,
   "id": "d8c16768-7d5a-40f3-b4e3-d3b65f85c363",
   "metadata": {},
   "outputs": [
    {
     "data": {
      "text/plain": [
       "\u001b[0;31mSignature:\u001b[0m       \u001b[0madd2\u001b[0m\u001b[0;34m(\u001b[0m\u001b[0ma\u001b[0m\u001b[0;34m,\u001b[0m \u001b[0;34m*\u001b[0m\u001b[0;34m,\u001b[0m \u001b[0mb\u001b[0m\u001b[0;34m=\u001b[0m\u001b[0;36m2\u001b[0m\u001b[0;34m)\u001b[0m\u001b[0;34m\u001b[0m\u001b[0;34m\u001b[0m\u001b[0m\n",
       "\u001b[0;31mCall signature:\u001b[0m  \u001b[0madd2\u001b[0m\u001b[0;34m(\u001b[0m\u001b[0;34m*\u001b[0m\u001b[0margs\u001b[0m\u001b[0;34m,\u001b[0m \u001b[0;34m**\u001b[0m\u001b[0mkwargs\u001b[0m\u001b[0;34m)\u001b[0m\u001b[0;34m\u001b[0m\u001b[0;34m\u001b[0m\u001b[0m\n",
       "\u001b[0;31mType:\u001b[0m            partial\n",
       "\u001b[0;31mString form:\u001b[0m     functools.partial(<function f>, b=2)\n",
       "\u001b[0;31mFile:\u001b[0m            ~/mambaforge/lib/python3.10/functools.py\n",
       "\u001b[0;31mDocstring:\u001b[0m       add 2 to a value\n",
       "\u001b[0;31mClass docstring:\u001b[0m\n",
       "partial(func, *args, **keywords) - new function with partial application\n",
       "of the given arguments and keywords."
      ]
     },
     "metadata": {},
     "output_type": "display_data"
    }
   ],
   "source": [
    "add2?"
   ]
  },
  {
   "cell_type": "markdown",
   "id": "4f68cf06-0fdd-42e6-8937-97e8d0d53ee8",
   "metadata": {},
   "source": [
    "## functools.reduce"
   ]
  },
  {
   "cell_type": "code",
   "execution_count": null,
   "id": "381cdaea-ed8b-4951-b35b-ff6cacfdd6fb",
   "metadata": {},
   "outputs": [],
   "source": [
    "assert np.sum([1,2,5,9]) == functools.reduce(operator.add, [1,2,5,9])\n",
    "assert np.max([1,2,-33,5,8]) == functools.reduce(max, [1,2,-33,5], 8)\n",
    "assert np.prod([1,2,-33,5]) == functools.reduce(operator.mul, [1,2,-33,5]) "
   ]
  },
  {
   "cell_type": "code",
   "execution_count": null,
   "id": "1403ed14-ce26-46f1-b9ea-80cf94b826b8",
   "metadata": {},
   "outputs": [],
   "source": [
    "a=np.arange(1000)"
   ]
  },
  {
   "cell_type": "code",
   "execution_count": null,
   "id": "d41f4f1a-6496-4879-ad13-cac53324f7ac",
   "metadata": {},
   "outputs": [
    {
     "name": "stdout",
     "output_type": "stream",
     "text": [
      "39.6 µs ± 4.76 µs per loop (mean ± std. dev. of 7 runs, 1,000 loops each)\n"
     ]
    }
   ],
   "source": [
    "%%timeit -n 1000\n",
    "sum(a)"
   ]
  },
  {
   "cell_type": "code",
   "execution_count": null,
   "id": "bd60a8b9-4c10-44f5-b1c4-1b3a03e84daf",
   "metadata": {},
   "outputs": [
    {
     "name": "stdout",
     "output_type": "stream",
     "text": [
      "2.88 µs ± 1.6 µs per loop (mean ± std. dev. of 7 runs, 1,000 loops each)\n"
     ]
    }
   ],
   "source": [
    "%%timeit -n 1000\n",
    "np.sum(a)"
   ]
  },
  {
   "cell_type": "code",
   "execution_count": null,
   "id": "05aa0691-9280-473b-adcc-b0617ab69a42",
   "metadata": {},
   "outputs": [
    {
     "name": "stdout",
     "output_type": "stream",
     "text": [
      "42.1 µs ± 2.27 µs per loop (mean ± std. dev. of 7 runs, 1,000 loops each)\n"
     ]
    }
   ],
   "source": [
    "%%timeit -n 1000\n",
    "functools.reduce(operator.add,a)"
   ]
  },
  {
   "cell_type": "markdown",
   "id": "984e78d0-f17a-4f85-abf7-d8509b14b8f5",
   "metadata": {},
   "source": [
    "## itertools.accumulate"
   ]
  },
  {
   "cell_type": "code",
   "execution_count": null,
   "id": "05781a35-3c72-4248-abc3-76f2a85df64c",
   "metadata": {},
   "outputs": [],
   "source": [
    "# itertools.accumulate([1,2,3,4], operator.add) \n",
    "# return generator"
   ]
  },
  {
   "cell_type": "code",
   "execution_count": null,
   "id": "c06b7f82-c975-437f-8ae4-3ae3a98c3949",
   "metadata": {},
   "outputs": [],
   "source": [
    "assert np.all(np.maximum.accumulate([1,2,3,4,3,2,1])== list(itertools.accumulate([1,2,3,4,3,2,1], max)))\n",
    "assert np.all(np.cumprod([1,2,3,4]) == list(itertools.accumulate([1,2,3,4], operator.mul)))"
   ]
  },
  {
   "cell_type": "code",
   "execution_count": null,
   "id": "56f0575a-a0b3-4393-9f69-fa8451753d08",
   "metadata": {},
   "outputs": [],
   "source": []
  }
 ],
 "metadata": {
  "kernelspec": {
   "display_name": "python3",
   "language": "python",
   "name": "python3"
  }
 },
 "nbformat": 4,
 "nbformat_minor": 5
}
