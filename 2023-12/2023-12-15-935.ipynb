{
 "cells": [
  {
   "cell_type": "code",
   "execution_count": null,
   "id": "957bc891-8175-486f-af39-91d37fc62ab7",
   "metadata": {},
   "outputs": [],
   "source": [
    "from typing import *\n",
    "import pdb"
   ]
  },
  {
   "cell_type": "markdown",
   "id": "c78d4917-5326-402c-ae19-684306c455a6",
   "metadata": {},
   "source": [
    "## Warm-up 1436"
   ]
  },
  {
   "cell_type": "code",
   "execution_count": null,
   "id": "91639753-e7c4-42ab-a144-130bc64fb835",
   "metadata": {},
   "outputs": [],
   "source": [
    "def destCity(paths: List[List[str]]) -> str:\n",
    "        starts = {A for A,B in paths}\n",
    "        ends = {B for A,B in paths}\n",
    "        return (ends - starts).pop()"
   ]
  },
  {
   "cell_type": "markdown",
   "id": "4d9c63f2-0f1d-4e6b-901a-aad4e27da86e",
   "metadata": {},
   "source": [
    "## 935 Knight Dialer"
   ]
  },
  {
   "cell_type": "code",
   "execution_count": null,
   "id": "dc1f3741-7883-4094-9281-78dcea8a5b76",
   "metadata": {},
   "outputs": [],
   "source": [
    "def knightDialer(n: int) -> int:\n",
    "        # pdb.set_trace()\n",
    "        mapping = {0:[4,6], 1:[6,8], 2:[7,9], 3:[4,8], 4:[0,9,3], 5:[], 6:[1,7,0], 7:[2,6], 8:[1,3], 9:[2,4]}\n",
    "        f=[[1]*n for _ in range(10)]\n",
    "        for m in range(1,n):\n",
    "            for j in range(10):\n",
    "                f[j][m]= sum([f[c][m-1] for c in mapping[j]])\n",
    "        return sum([e[-1] for e in f]) "
   ]
  },
  {
   "cell_type": "code",
   "execution_count": null,
   "id": "4de3e9bc-bda3-4cce-8a73-0a4cc378392b",
   "metadata": {},
   "outputs": [],
   "source": [
    "assert knightDialer(3)==46"
   ]
  }
 ],
 "metadata": {
  "kernelspec": {
   "display_name": "python3",
   "language": "python",
   "name": "python3"
  }
 },
 "nbformat": 4,
 "nbformat_minor": 5
}
