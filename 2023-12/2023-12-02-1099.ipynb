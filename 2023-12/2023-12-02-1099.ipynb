{
 "cells": [
  {
   "cell_type": "code",
   "execution_count": 1,
   "id": "a218ba55-9f17-416f-bf14-ac8f6122786a",
   "metadata": {},
   "outputs": [],
   "source": [
    "from typing import *"
   ]
  },
  {
   "cell_type": "markdown",
   "id": "c8ee5491-9210-4414-924b-e47debad24f4",
   "metadata": {},
   "source": [
    "## binary search"
   ]
  },
  {
   "cell_type": "code",
   "execution_count": 2,
   "id": "d7e5abe8-e944-457e-ade1-4091557e1339",
   "metadata": {},
   "outputs": [],
   "source": [
    "def binary_search(arr, k):\n",
    "        left, right = 0, len(arr) - 1\n",
    "        result = None\n",
    "        while left <= right:\n",
    "            mid = (left + right) // 2\n",
    "            if arr[mid] < k:  result = arr[mid]; left = mid + 1\n",
    "            else: right = mid - 1\n",
    "        return result"
   ]
  },
  {
   "cell_type": "code",
   "execution_count": 3,
   "id": "39618483-d4da-4786-aade-e71ab43bdf08",
   "metadata": {},
   "outputs": [],
   "source": [
    "def test_bns():\n",
    "    assert binary_search([1,2,3,4,5,7], 1) is None\n",
    "    assert binary_search([3,7,9,10], 8)==7\n",
    "\n",
    "test_bns()"
   ]
  },
  {
   "cell_type": "code",
   "execution_count": 4,
   "id": "f241913f-16b8-4236-95b3-95d860cbcf99",
   "metadata": {},
   "outputs": [],
   "source": [
    "def twoSumLessThanK(nums: List[int], k: int) -> int:\n",
    "        res = -1\n",
    "        for i,n in enumerate(sns[:-1]): \n",
    "            other = binary_search(sns[i+1:], k-n)\n",
    "            if not other: break\n",
    "            res = max(res, other+n)\n",
    "        return res"
   ]
  },
  {
   "cell_type": "code",
   "execution_count": 5,
   "id": "b2f66262-096d-43ec-90ff-31b526fe38d6",
   "metadata": {},
   "outputs": [],
   "source": [
    "def test_2sum():\n",
    "    assert twoSumLessThanK([34,23,1,24,75,33,54,8],60)==58\n",
    "    assert twoSumLessThanK([1],1)==-1"
   ]
  },
  {
   "cell_type": "markdown",
   "id": "72af848b-13df-43d8-99cb-bcb7ed465e6b",
   "metadata": {},
   "source": [
    "## two pointer"
   ]
  },
  {
   "cell_type": "code",
   "execution_count": 6,
   "id": "63b48473-de25-4163-8c3a-9f7c37ea3f94",
   "metadata": {},
   "outputs": [],
   "source": [
    "def twoSumLessThanK1(nums,k):\n",
    "    res=-1\n",
    "    s = sorted(nums)\n",
    "    l, r = 0, len(s)-1\n",
    "    while l<=r:\n",
    "        twosum = s[l]+s[r]\n",
    "        if twosum>=k: r-=1\n",
    "        else: res= max(res,twosum); l+=1\n",
    "    return res"
   ]
  },
  {
   "cell_type": "code",
   "execution_count": 7,
   "id": "5422469b-96be-4fa9-92ae-e041a30dab63",
   "metadata": {},
   "outputs": [],
   "source": [
    "def test_2sum1():\n",
    "    assert twoSumLessThanK1([34,23,1,24,75,33,54,8],60)==58\n",
    "    assert twoSumLessThanK1([1],1)==-1"
   ]
  }
 ],
 "metadata": {
  "kernelspec": {
   "display_name": "Python 3 (ipykernel)",
   "language": "python",
   "name": "python3"
  },
  "language_info": {
   "codemirror_mode": {
    "name": "ipython",
    "version": 3
   },
   "file_extension": ".py",
   "mimetype": "text/x-python",
   "name": "python",
   "nbconvert_exporter": "python",
   "pygments_lexer": "ipython3",
   "version": "3.10.12"
  }
 },
 "nbformat": 4,
 "nbformat_minor": 5
}
