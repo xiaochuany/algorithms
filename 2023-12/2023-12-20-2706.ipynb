{
 "cells": [
  {
   "cell_type": "code",
   "execution_count": null,
   "id": "c27c9c01-a945-42f6-9842-2fe9a5a04bde",
   "metadata": {},
   "outputs": [],
   "source": [
    "from typing import List"
   ]
  },
  {
   "cell_type": "code",
   "execution_count": null,
   "id": "8b74bbe6-4590-4013-9263-f31cd6aa29bf",
   "metadata": {},
   "outputs": [],
   "source": [
    "def buyChoco(prices: List[int], money: int) -> int:\n",
    "        queue = [float('inf'), float('inf')]\n",
    "        for p in prices:\n",
    "            if p<queue[0]: queue[0], queue[1] = p, queue[0]\n",
    "            elif p<queue[1]: queue[1] = p\n",
    "        return money-s if (s:=sum(queue))<=money else money"
   ]
  },
  {
   "cell_type": "code",
   "execution_count": null,
   "id": "f90eccba-f6d5-4acf-add7-8b0e97a8da02",
   "metadata": {},
   "outputs": [],
   "source": [
    "def test():\n",
    "    assert buyChoco([1,2,4,5], 10) == 7\n",
    "    assert buyChoco([100,200,400],120) == 120"
   ]
  },
  {
   "cell_type": "code",
   "execution_count": null,
   "id": "2b08dbd4-67af-4c49-8f7d-10883a89b865",
   "metadata": {},
   "outputs": [],
   "source": [
    "test()"
   ]
  }
 ],
 "metadata": {
  "kernelspec": {
   "display_name": "python3",
   "language": "python",
   "name": "python3"
  }
 },
 "nbformat": 4,
 "nbformat_minor": 5
}
