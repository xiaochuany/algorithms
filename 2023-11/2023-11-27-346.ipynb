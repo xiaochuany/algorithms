{
 "cells": [
  {
   "cell_type": "code",
   "execution_count": 1,
   "id": "fce5f0d8-33ad-4f19-80d8-3b0cce7ac08c",
   "metadata": {},
   "outputs": [],
   "source": [
    "class MovingAverage:\n",
    "\n",
    "    def __init__(self, size: int):\n",
    "        self.size=size\n",
    "        self.cumsum=[0]\n",
    "        self.counter=0\n",
    "\n",
    "    def next(self, val: int) -> float:\n",
    "        self.counter+=1\n",
    "        self.cumsum.append(self.cumsum[-1]+val)\n",
    "        if self.counter<=self.size:\n",
    "            return self.cumsum[-1]/self.counter\n",
    "        else: \n",
    "            return (self.cumsum[-1] - self.cumsum[-self.size-1])/self.size"
   ]
  },
  {
   "cell_type": "code",
   "execution_count": 2,
   "id": "4b650ebb-914a-4c86-b286-c3af39f1f070",
   "metadata": {},
   "outputs": [],
   "source": [
    "def test():\n",
    "    ma = MovingAverage(3)\n",
    "    assert ma.next(12) == 12\n",
    "    assert ma.next(4) == 8\n",
    "    assert ma.next(5) ==7\n",
    "    assert ma.next(6) == 5\n",
    "    ma = MovingAverage(1)\n",
    "    assert ma.next(0)==0\n",
    "    assert ma.next(1)==1\n",
    "    assert ma.next(2)==2\n",
    "test()"
   ]
  }
 ],
 "metadata": {
  "kernelspec": {
   "display_name": "Python 3 (ipykernel)",
   "language": "python",
   "name": "python3"
  },
  "language_info": {
   "codemirror_mode": {
    "name": "ipython",
    "version": 3
   },
   "file_extension": ".py",
   "mimetype": "text/x-python",
   "name": "python",
   "nbconvert_exporter": "python",
   "pygments_lexer": "ipython3",
   "version": "3.10.12"
  }
 },
 "nbformat": 4,
 "nbformat_minor": 5
}
