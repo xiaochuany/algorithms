{
 "cells": [
  {
   "cell_type": "code",
   "execution_count": 1,
   "id": "174c6088-f314-4c9b-9780-1a617e308948",
   "metadata": {},
   "outputs": [],
   "source": [
    "from typing import *"
   ]
  },
  {
   "cell_type": "code",
   "execution_count": 2,
   "id": "af47916c-8226-4254-b58e-42827b6c7bfd",
   "metadata": {},
   "outputs": [],
   "source": [
    "def assignBikes(workers: List[List[int]], bikes: List[List[int]]) -> List[int]:\n",
    "    \n",
    "    def distance(x,y): return abs(x[0]-y[0]) + abs(x[1]-y[1])\n",
    "    \n",
    "    dist_arr = [(distance(worker, bike), i,j)\n",
    "                    for i, worker in enumerate(workers) \n",
    "                    for j, bike in enumerate(bikes)]\n",
    "    dist_arr.sort()\n",
    "    itoj = {}\n",
    "    j_assigned = set()\n",
    "    for _,i,j in dist_arr:\n",
    "        if i not in itoj and j not in j_assigned:\n",
    "            itoj[i]=j; j_assigned.add(j)\n",
    "    return [j for i,j in sorted(itoj.items())]"
   ]
  },
  {
   "cell_type": "code",
   "execution_count": 3,
   "id": "8469b90a-71d5-410a-9e29-552d328d79eb",
   "metadata": {},
   "outputs": [],
   "source": [
    "def test():\n",
    "    assert assignBikes([[0,0],[2,1]], [[1,2],[3,3]])==[1,0]"
   ]
  },
  {
   "cell_type": "code",
   "execution_count": 4,
   "id": "0591223f-5587-4579-8cca-dcbc689a1263",
   "metadata": {},
   "outputs": [],
   "source": [
    "test()"
   ]
  },
  {
   "cell_type": "markdown",
   "id": "dbf77f07-fdb7-44c8-a793-346c8e8014a6",
   "metadata": {},
   "source": [
    "this is a greedy version of the minimal matching problem (NP hard)"
   ]
  }
 ],
 "metadata": {
  "kernelspec": {
   "display_name": "Python 3 (ipykernel)",
   "language": "python",
   "name": "python3"
  },
  "language_info": {
   "codemirror_mode": {
    "name": "ipython",
    "version": 3
   },
   "file_extension": ".py",
   "mimetype": "text/x-python",
   "name": "python",
   "nbconvert_exporter": "python",
   "pygments_lexer": "ipython3",
   "version": "3.10.12"
  }
 },
 "nbformat": 4,
 "nbformat_minor": 5
}
